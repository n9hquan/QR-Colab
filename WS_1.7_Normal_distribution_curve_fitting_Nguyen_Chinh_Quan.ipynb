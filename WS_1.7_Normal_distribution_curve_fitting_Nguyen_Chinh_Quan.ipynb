{
  "nbformat": 4,
  "nbformat_minor": 0,
  "metadata": {
    "colab": {
      "provenance": [],
      "include_colab_link": true
    },
    "kernelspec": {
      "name": "python3",
      "display_name": "Python 3"
    },
    "language_info": {
      "name": "python"
    }
  },
  "cells": [
    {
      "cell_type": "markdown",
      "metadata": {
        "id": "view-in-github",
        "colab_type": "text"
      },
      "source": [
        "<a href=\"https://colab.research.google.com/github/n9quan/QR_Colab/blob/main/WS_1.7_Normal_distribution_curve_fitting_Nguyen_Chinh_Quan.ipynb\" target=\"_parent\"><img src=\"https://colab.research.google.com/assets/colab-badge.svg\" alt=\"Open In Colab\"/></a>"
      ]
    },
    {
      "cell_type": "markdown",
      "metadata": {
        "id": "X0hCxKTwZx_U"
      },
      "source": [
        "##Learning objectives\n",
        "\n",
        "1. Understand distribution\n",
        "2. Recognize normal distribution by histogram\n",
        "4. Fit distribution curve to data\n",
        "5. Use distribution to calculate probability"
      ]
    },
    {
      "cell_type": "code",
      "metadata": {
        "id": "KeHm1FRUM5gL"
      },
      "source": [
        "import pandas as pd\n",
        "import matplotlib.pyplot as plt\n",
        "import numpy as np"
      ],
      "execution_count": null,
      "outputs": []
    },
    {
      "cell_type": "markdown",
      "metadata": {
        "id": "tgAfdjMppWgm"
      },
      "source": [
        "##Upload the data set\n",
        "\n",
        "We will use the cardio data set from the last worksheet. If you haven't done so, please download the file `cardio_train.csv` from this [link](https://www.kaggle.com/sulianova/cardiovascular-disease-dataset), then upload it and assign it to a variable named `cardio`. You may want to read the description on Kaggle and print out the data to see the columns and understand the data better. I put the file on Github to make the upload process easier."
      ]
    },
    {
      "cell_type": "code",
      "metadata": {
        "id": "yVClL6mNVdHU"
      },
      "source": [
        "data_url = \"https://github.com/lhprime/MATH105/blob/main/cardio_train.csv?raw=true\"\n",
        "cardio = pd.read_csv(data_url, sep = ';')"
      ],
      "execution_count": null,
      "outputs": []
    },
    {
      "cell_type": "code",
      "metadata": {
        "id": "ejFNPVWoePR9",
        "colab": {
          "base_uri": "https://localhost:8080/",
          "height": 423
        },
        "outputId": "45fb027c-4df6-4403-ad97-7293401626d3"
      },
      "source": [
        "cardio"
      ],
      "execution_count": null,
      "outputs": [
        {
          "output_type": "execute_result",
          "data": {
            "text/plain": [
              "          id    age  gender  height  weight  ap_hi  ap_lo  cholesterol  gluc  \\\n",
              "0          0  18393       2     168    62.0    110     80            1     1   \n",
              "1          1  20228       1     156    85.0    140     90            3     1   \n",
              "2          2  18857       1     165    64.0    130     70            3     1   \n",
              "3          3  17623       2     169    82.0    150    100            1     1   \n",
              "4          4  17474       1     156    56.0    100     60            1     1   \n",
              "...      ...    ...     ...     ...     ...    ...    ...          ...   ...   \n",
              "69995  99993  19240       2     168    76.0    120     80            1     1   \n",
              "69996  99995  22601       1     158   126.0    140     90            2     2   \n",
              "69997  99996  19066       2     183   105.0    180     90            3     1   \n",
              "69998  99998  22431       1     163    72.0    135     80            1     2   \n",
              "69999  99999  20540       1     170    72.0    120     80            2     1   \n",
              "\n",
              "       smoke  alco  active  cardio  \n",
              "0          0     0       1       0  \n",
              "1          0     0       1       1  \n",
              "2          0     0       0       1  \n",
              "3          0     0       1       1  \n",
              "4          0     0       0       0  \n",
              "...      ...   ...     ...     ...  \n",
              "69995      1     0       1       0  \n",
              "69996      0     0       1       1  \n",
              "69997      0     1       0       1  \n",
              "69998      0     0       0       1  \n",
              "69999      0     0       1       0  \n",
              "\n",
              "[70000 rows x 13 columns]"
            ],
            "text/html": [
              "\n",
              "  <div id=\"df-e1e6f004-b150-4419-8c41-c24cb43453f6\">\n",
              "    <div class=\"colab-df-container\">\n",
              "      <div>\n",
              "<style scoped>\n",
              "    .dataframe tbody tr th:only-of-type {\n",
              "        vertical-align: middle;\n",
              "    }\n",
              "\n",
              "    .dataframe tbody tr th {\n",
              "        vertical-align: top;\n",
              "    }\n",
              "\n",
              "    .dataframe thead th {\n",
              "        text-align: right;\n",
              "    }\n",
              "</style>\n",
              "<table border=\"1\" class=\"dataframe\">\n",
              "  <thead>\n",
              "    <tr style=\"text-align: right;\">\n",
              "      <th></th>\n",
              "      <th>id</th>\n",
              "      <th>age</th>\n",
              "      <th>gender</th>\n",
              "      <th>height</th>\n",
              "      <th>weight</th>\n",
              "      <th>ap_hi</th>\n",
              "      <th>ap_lo</th>\n",
              "      <th>cholesterol</th>\n",
              "      <th>gluc</th>\n",
              "      <th>smoke</th>\n",
              "      <th>alco</th>\n",
              "      <th>active</th>\n",
              "      <th>cardio</th>\n",
              "    </tr>\n",
              "  </thead>\n",
              "  <tbody>\n",
              "    <tr>\n",
              "      <th>0</th>\n",
              "      <td>0</td>\n",
              "      <td>18393</td>\n",
              "      <td>2</td>\n",
              "      <td>168</td>\n",
              "      <td>62.0</td>\n",
              "      <td>110</td>\n",
              "      <td>80</td>\n",
              "      <td>1</td>\n",
              "      <td>1</td>\n",
              "      <td>0</td>\n",
              "      <td>0</td>\n",
              "      <td>1</td>\n",
              "      <td>0</td>\n",
              "    </tr>\n",
              "    <tr>\n",
              "      <th>1</th>\n",
              "      <td>1</td>\n",
              "      <td>20228</td>\n",
              "      <td>1</td>\n",
              "      <td>156</td>\n",
              "      <td>85.0</td>\n",
              "      <td>140</td>\n",
              "      <td>90</td>\n",
              "      <td>3</td>\n",
              "      <td>1</td>\n",
              "      <td>0</td>\n",
              "      <td>0</td>\n",
              "      <td>1</td>\n",
              "      <td>1</td>\n",
              "    </tr>\n",
              "    <tr>\n",
              "      <th>2</th>\n",
              "      <td>2</td>\n",
              "      <td>18857</td>\n",
              "      <td>1</td>\n",
              "      <td>165</td>\n",
              "      <td>64.0</td>\n",
              "      <td>130</td>\n",
              "      <td>70</td>\n",
              "      <td>3</td>\n",
              "      <td>1</td>\n",
              "      <td>0</td>\n",
              "      <td>0</td>\n",
              "      <td>0</td>\n",
              "      <td>1</td>\n",
              "    </tr>\n",
              "    <tr>\n",
              "      <th>3</th>\n",
              "      <td>3</td>\n",
              "      <td>17623</td>\n",
              "      <td>2</td>\n",
              "      <td>169</td>\n",
              "      <td>82.0</td>\n",
              "      <td>150</td>\n",
              "      <td>100</td>\n",
              "      <td>1</td>\n",
              "      <td>1</td>\n",
              "      <td>0</td>\n",
              "      <td>0</td>\n",
              "      <td>1</td>\n",
              "      <td>1</td>\n",
              "    </tr>\n",
              "    <tr>\n",
              "      <th>4</th>\n",
              "      <td>4</td>\n",
              "      <td>17474</td>\n",
              "      <td>1</td>\n",
              "      <td>156</td>\n",
              "      <td>56.0</td>\n",
              "      <td>100</td>\n",
              "      <td>60</td>\n",
              "      <td>1</td>\n",
              "      <td>1</td>\n",
              "      <td>0</td>\n",
              "      <td>0</td>\n",
              "      <td>0</td>\n",
              "      <td>0</td>\n",
              "    </tr>\n",
              "    <tr>\n",
              "      <th>...</th>\n",
              "      <td>...</td>\n",
              "      <td>...</td>\n",
              "      <td>...</td>\n",
              "      <td>...</td>\n",
              "      <td>...</td>\n",
              "      <td>...</td>\n",
              "      <td>...</td>\n",
              "      <td>...</td>\n",
              "      <td>...</td>\n",
              "      <td>...</td>\n",
              "      <td>...</td>\n",
              "      <td>...</td>\n",
              "      <td>...</td>\n",
              "    </tr>\n",
              "    <tr>\n",
              "      <th>69995</th>\n",
              "      <td>99993</td>\n",
              "      <td>19240</td>\n",
              "      <td>2</td>\n",
              "      <td>168</td>\n",
              "      <td>76.0</td>\n",
              "      <td>120</td>\n",
              "      <td>80</td>\n",
              "      <td>1</td>\n",
              "      <td>1</td>\n",
              "      <td>1</td>\n",
              "      <td>0</td>\n",
              "      <td>1</td>\n",
              "      <td>0</td>\n",
              "    </tr>\n",
              "    <tr>\n",
              "      <th>69996</th>\n",
              "      <td>99995</td>\n",
              "      <td>22601</td>\n",
              "      <td>1</td>\n",
              "      <td>158</td>\n",
              "      <td>126.0</td>\n",
              "      <td>140</td>\n",
              "      <td>90</td>\n",
              "      <td>2</td>\n",
              "      <td>2</td>\n",
              "      <td>0</td>\n",
              "      <td>0</td>\n",
              "      <td>1</td>\n",
              "      <td>1</td>\n",
              "    </tr>\n",
              "    <tr>\n",
              "      <th>69997</th>\n",
              "      <td>99996</td>\n",
              "      <td>19066</td>\n",
              "      <td>2</td>\n",
              "      <td>183</td>\n",
              "      <td>105.0</td>\n",
              "      <td>180</td>\n",
              "      <td>90</td>\n",
              "      <td>3</td>\n",
              "      <td>1</td>\n",
              "      <td>0</td>\n",
              "      <td>1</td>\n",
              "      <td>0</td>\n",
              "      <td>1</td>\n",
              "    </tr>\n",
              "    <tr>\n",
              "      <th>69998</th>\n",
              "      <td>99998</td>\n",
              "      <td>22431</td>\n",
              "      <td>1</td>\n",
              "      <td>163</td>\n",
              "      <td>72.0</td>\n",
              "      <td>135</td>\n",
              "      <td>80</td>\n",
              "      <td>1</td>\n",
              "      <td>2</td>\n",
              "      <td>0</td>\n",
              "      <td>0</td>\n",
              "      <td>0</td>\n",
              "      <td>1</td>\n",
              "    </tr>\n",
              "    <tr>\n",
              "      <th>69999</th>\n",
              "      <td>99999</td>\n",
              "      <td>20540</td>\n",
              "      <td>1</td>\n",
              "      <td>170</td>\n",
              "      <td>72.0</td>\n",
              "      <td>120</td>\n",
              "      <td>80</td>\n",
              "      <td>2</td>\n",
              "      <td>1</td>\n",
              "      <td>0</td>\n",
              "      <td>0</td>\n",
              "      <td>1</td>\n",
              "      <td>0</td>\n",
              "    </tr>\n",
              "  </tbody>\n",
              "</table>\n",
              "<p>70000 rows × 13 columns</p>\n",
              "</div>\n",
              "      <button class=\"colab-df-convert\" onclick=\"convertToInteractive('df-e1e6f004-b150-4419-8c41-c24cb43453f6')\"\n",
              "              title=\"Convert this dataframe to an interactive table.\"\n",
              "              style=\"display:none;\">\n",
              "        \n",
              "  <svg xmlns=\"http://www.w3.org/2000/svg\" height=\"24px\"viewBox=\"0 0 24 24\"\n",
              "       width=\"24px\">\n",
              "    <path d=\"M0 0h24v24H0V0z\" fill=\"none\"/>\n",
              "    <path d=\"M18.56 5.44l.94 2.06.94-2.06 2.06-.94-2.06-.94-.94-2.06-.94 2.06-2.06.94zm-11 1L8.5 8.5l.94-2.06 2.06-.94-2.06-.94L8.5 2.5l-.94 2.06-2.06.94zm10 10l.94 2.06.94-2.06 2.06-.94-2.06-.94-.94-2.06-.94 2.06-2.06.94z\"/><path d=\"M17.41 7.96l-1.37-1.37c-.4-.4-.92-.59-1.43-.59-.52 0-1.04.2-1.43.59L10.3 9.45l-7.72 7.72c-.78.78-.78 2.05 0 2.83L4 21.41c.39.39.9.59 1.41.59.51 0 1.02-.2 1.41-.59l7.78-7.78 2.81-2.81c.8-.78.8-2.07 0-2.86zM5.41 20L4 18.59l7.72-7.72 1.47 1.35L5.41 20z\"/>\n",
              "  </svg>\n",
              "      </button>\n",
              "      \n",
              "  <style>\n",
              "    .colab-df-container {\n",
              "      display:flex;\n",
              "      flex-wrap:wrap;\n",
              "      gap: 12px;\n",
              "    }\n",
              "\n",
              "    .colab-df-convert {\n",
              "      background-color: #E8F0FE;\n",
              "      border: none;\n",
              "      border-radius: 50%;\n",
              "      cursor: pointer;\n",
              "      display: none;\n",
              "      fill: #1967D2;\n",
              "      height: 32px;\n",
              "      padding: 0 0 0 0;\n",
              "      width: 32px;\n",
              "    }\n",
              "\n",
              "    .colab-df-convert:hover {\n",
              "      background-color: #E2EBFA;\n",
              "      box-shadow: 0px 1px 2px rgba(60, 64, 67, 0.3), 0px 1px 3px 1px rgba(60, 64, 67, 0.15);\n",
              "      fill: #174EA6;\n",
              "    }\n",
              "\n",
              "    [theme=dark] .colab-df-convert {\n",
              "      background-color: #3B4455;\n",
              "      fill: #D2E3FC;\n",
              "    }\n",
              "\n",
              "    [theme=dark] .colab-df-convert:hover {\n",
              "      background-color: #434B5C;\n",
              "      box-shadow: 0px 1px 3px 1px rgba(0, 0, 0, 0.15);\n",
              "      filter: drop-shadow(0px 1px 2px rgba(0, 0, 0, 0.3));\n",
              "      fill: #FFFFFF;\n",
              "    }\n",
              "  </style>\n",
              "\n",
              "      <script>\n",
              "        const buttonEl =\n",
              "          document.querySelector('#df-e1e6f004-b150-4419-8c41-c24cb43453f6 button.colab-df-convert');\n",
              "        buttonEl.style.display =\n",
              "          google.colab.kernel.accessAllowed ? 'block' : 'none';\n",
              "\n",
              "        async function convertToInteractive(key) {\n",
              "          const element = document.querySelector('#df-e1e6f004-b150-4419-8c41-c24cb43453f6');\n",
              "          const dataTable =\n",
              "            await google.colab.kernel.invokeFunction('convertToInteractive',\n",
              "                                                     [key], {});\n",
              "          if (!dataTable) return;\n",
              "\n",
              "          const docLinkHtml = 'Like what you see? Visit the ' +\n",
              "            '<a target=\"_blank\" href=https://colab.research.google.com/notebooks/data_table.ipynb>data table notebook</a>'\n",
              "            + ' to learn more about interactive tables.';\n",
              "          element.innerHTML = '';\n",
              "          dataTable['output_type'] = 'display_data';\n",
              "          await google.colab.output.renderOutput(dataTable, element);\n",
              "          const docLink = document.createElement('div');\n",
              "          docLink.innerHTML = docLinkHtml;\n",
              "          element.appendChild(docLink);\n",
              "        }\n",
              "      </script>\n",
              "    </div>\n",
              "  </div>\n",
              "  "
            ]
          },
          "metadata": {},
          "execution_count": 3
        }
      ]
    },
    {
      "cell_type": "markdown",
      "metadata": {
        "id": "_4VKfcew58RR"
      },
      "source": [
        "#Creating histogram and fitting normal distribution curve\n",
        "\n",
        "The purpose of this section is to show you how to look at a data and find a suitable distribution to represent it. This is called \"fitting distribution\" to the data. The example that we will look at is quite simple and can be fitted by a normal distribution.\n",
        "\n",
        "**Exercise:** Create a histogram of the `height` column to look at the shape of the distribution. Start with 200 different bins and set the `density` parameter to `True`. Change the number of bins to find a good histogram."
      ]
    },
    {
      "cell_type": "code",
      "metadata": {
        "colab": {
          "base_uri": "https://localhost:8080/",
          "height": 265
        },
        "id": "rS7q76HPfzMD",
        "outputId": "06c4a4e6-32c8-43ee-9fd8-d1c0c56115c8"
      },
      "source": [
        "# Solution goes here"
      ],
      "execution_count": null,
      "outputs": [
        {
          "output_type": "display_data",
          "data": {
            "image/png": "[encoded data removed]",
            "text/plain": [
              "<Figure size 432x288 with 1 Axes>"
            ]
          },
          "metadata": {
            "needs_background": "light"
          }
        }
      ]
    },
    {
      "cell_type": "code",
      "source": [
        "plt.hist(cardio['height'],bins = 31, density = True)"
      ],
      "metadata": {
        "colab": {
          "base_uri": "https://localhost:8080/",
          "height": 560
        },
        "id": "TtgCw22owJBG",
        "outputId": "d7c8fc2a-a4af-40f3-a7af-c96844a005d7"
      },
      "execution_count": null,
      "outputs": [
        {
          "output_type": "execute_result",
          "data": {
            "text/plain": [
              "(array([9.08424908e-06, 1.58974359e-05, 1.58974359e-05, 1.13553114e-05,\n",
              "        2.27106227e-06, 2.27106227e-06, 9.08424908e-06, 1.58974359e-05,\n",
              "        2.49816850e-05, 9.08424908e-06, 8.17582418e-05, 3.86080586e-05,\n",
              "        4.99633700e-05, 3.86080586e-04, 2.81838828e-03, 1.61472527e-02,\n",
              "        3.77223443e-02, 5.43646886e-02, 3.05049084e-02, 1.34764835e-02,\n",
              "        2.84109890e-03, 3.47472527e-04, 7.26739927e-05, 2.27106227e-06,\n",
              "        2.27106227e-06, 0.00000000e+00, 0.00000000e+00, 0.00000000e+00,\n",
              "        0.00000000e+00, 0.00000000e+00, 2.27106227e-06]),\n",
              " array([ 55.        ,  61.29032258,  67.58064516,  73.87096774,\n",
              "         80.16129032,  86.4516129 ,  92.74193548,  99.03225806,\n",
              "        105.32258065, 111.61290323, 117.90322581, 124.19354839,\n",
              "        130.48387097, 136.77419355, 143.06451613, 149.35483871,\n",
              "        155.64516129, 161.93548387, 168.22580645, 174.51612903,\n",
              "        180.80645161, 187.09677419, 193.38709677, 199.67741935,\n",
              "        205.96774194, 212.25806452, 218.5483871 , 224.83870968,\n",
              "        231.12903226, 237.41935484, 243.70967742, 250.        ]),\n",
              " <BarContainer object of 31 artists>)"
            ]
          },
          "metadata": {},
          "execution_count": 17
        },
        {
          "output_type": "display_data",
          "data": {
            "text/plain": [
              "<Figure size 432x288 with 1 Axes>"
            ],
            "image/png": "[encoded data removed]"
          },
          "metadata": {
            "needs_background": "light"
          }
        }
      ]
    },
    {
      "cell_type": "markdown",
      "metadata": {
        "id": "bbje-DKUjMBK"
      },
      "source": [
        "**Exercise:** Create a vertical boxplot of the `height` column ( set the parameter `vert` to `False`)."
      ]
    },
    {
      "cell_type": "code",
      "metadata": {
        "colab": {
          "base_uri": "https://localhost:8080/",
          "height": 374
        },
        "id": "zcwfqzzOQy6V",
        "outputId": "996e9518-7fa2-4b8d-8997-7ef162cf0481"
      },
      "source": [
        "plt.figure(figsize=(10,6))\n",
        "plt.boxplot(cardio['height'], vert = False)\n",
        "plt.show()"
      ],
      "execution_count": null,
      "outputs": [
        {
          "output_type": "display_data",
          "data": {
            "text/plain": [
              "<Figure size 720x432 with 1 Axes>"
            ],
            "image/png": "[encoded data removed]"
          },
          "metadata": {
            "needs_background": "light"
          }
        }
      ]
    },
    {
      "cell_type": "markdown",
      "metadata": {
        "id": "YpO7kA9zfzpr"
      },
      "source": [
        "Look at the shape of the histogram and we can see that it is quite similar to a normal distribution. (Why?) One annoying thing is that our \"bell\" is too small and there are big gaps on both sides. This is caused by few very small or very large values which we call \"outliers\". From the boxplot we see that most of the data is between the lower and upper whiskers. Then we can eliminate the ouliers by restricting the value range from the lower to upper whisker.\n",
        "\n",
        "We will now calculate the whiskers as in the previous worksheet.\n",
        "\n",
        "**Exercise:** Calculate the value of the quantiles at 0.25 and 0.75 and assign them to the variables `q1` and `q3`, respectively."
      ]
    },
    {
      "cell_type": "code",
      "metadata": {
        "id": "GCgXySJskCIw"
      },
      "source": [
        "# Solution goes here\n",
        "q1 = cardio.quantile(0.25)\n",
        "q3 = cardio.quantile(0.75)"
      ],
      "execution_count": null,
      "outputs": []
    },
    {
      "cell_type": "markdown",
      "metadata": {
        "id": "tzXEULTiBXFh"
      },
      "source": [
        "**Exercise**: Use `q1` and `q3` to calculate `lower_whisker` and `upper_whisker` as in the previous worksheet."
      ]
    },
    {
      "cell_type": "code",
      "metadata": {
        "id": "v3QJ6ptdNBdN"
      },
      "source": [
        "lower_whisker = q1 - (1.5 * (q3-q1)) # calculate the lower whisker\n",
        "upper_whisker = q3 + (1.5 * (q3-q1)) # calculate the upper whisker"
      ],
      "execution_count": null,
      "outputs": []
    },
    {
      "cell_type": "markdown",
      "metadata": {
        "id": "Ap_KlpdvkaT-"
      },
      "source": [
        "**Exercise:** Use the same method as in the previous worksheets to select only the data from the `height` column that is smaller than `upper_whisker` and greater than `lower_whisker`. Assign this to a new variable called `data1`."
      ]
    },
    {
      "cell_type": "code",
      "metadata": {
        "id": "x__kOIKokb4w",
        "colab": {
          "base_uri": "https://localhost:8080/"
        },
        "outputId": "f97ece2b-652d-4a82-d9b8-9291688eb988"
      },
      "source": [
        "# Solution goes here\n",
        "data12 = cardio[(cardio['height'] >= lower_whisker['height']) & (cardio['height'] <= upper_whisker['height'])]\n",
        "data1 = data12['height']\n",
        "data1"
      ],
      "execution_count": null,
      "outputs": [
        {
          "output_type": "execute_result",
          "data": {
            "text/plain": [
              "0        168\n",
              "1        156\n",
              "2        165\n",
              "3        169\n",
              "4        156\n",
              "        ... \n",
              "69995    168\n",
              "69996    158\n",
              "69997    183\n",
              "69998    163\n",
              "69999    170\n",
              "Name: height, Length: 69481, dtype: int64"
            ]
          },
          "metadata": {},
          "execution_count": 46
        }
      ]
    },
    {
      "cell_type": "markdown",
      "metadata": {
        "id": "9xO4xkJrkfE5"
      },
      "source": [
        "We can now create a new histogram for the data without outliers."
      ]
    },
    {
      "cell_type": "code",
      "metadata": {
        "id": "1ti1eiTyepOU",
        "colab": {
          "base_uri": "https://localhost:8080/",
          "height": 265
        },
        "outputId": "07ed2ea9-ad9f-4d15-84c1-a7de779f6186"
      },
      "source": [
        "plt.hist(data1, bins = np.arange(data1.min(),data1.max(), 3), density = True);"
      ],
      "execution_count": null,
      "outputs": [
        {
          "output_type": "display_data",
          "data": {
            "text/plain": [
              "<Figure size 432x288 with 1 Axes>"
            ],
            "image/png": "[encoded data removed]"
          },
          "metadata": {
            "needs_background": "light"
          }
        }
      ]
    },
    {
      "cell_type": "markdown",
      "metadata": {
        "id": "uckaeYXjjGP5"
      },
      "source": [
        "Now the histogram looks more similar to a normal distribution and we can draw a normal distribution curve that \"fit\" the data. Remember that a normal curve is identified by 2 parameters: the mean and the standard deviation. First we calculate the sample mean `mu1` and sample standard deviation `sigma1`. "
      ]
    },
    {
      "cell_type": "code",
      "metadata": {
        "id": "4DFVv4CZGBMr"
      },
      "source": [
        "mu1 = data1.mean()\n",
        "sigma1 = data1.std()"
      ],
      "execution_count": null,
      "outputs": []
    },
    {
      "cell_type": "markdown",
      "metadata": {
        "id": "Eb9UILcKGEt-"
      },
      "source": [
        "The next task is to draw a \"bell curve\". This curve is actually a graph of a mathematic function called the probability density function (`pdf`). We don't have to worry about the formula of the function because we can call it from Python library \"scipy.stats\" (imported as \"st\" in our worksheet)."
      ]
    },
    {
      "cell_type": "code",
      "metadata": {
        "id": "w5sD9QD3lLlT"
      },
      "source": [
        "import scipy.stats as st"
      ],
      "execution_count": null,
      "outputs": []
    },
    {
      "cell_type": "markdown",
      "metadata": {
        "id": "o3wiWdhElMC-"
      },
      "source": [
        "From `st` first we call the normal distribution using `st.norm`. Think of `st` as a big box that contains many small boxes. Each small box is one distribution, and `norm` is the box with everything about normal distribution. Inside the `norm` box we have many functions, and `pdf` is one of them, so we call out the pdf by using `st.norm.pdf`.\n",
        "\n",
        "The two command lines generate a set `x1` of 100 numbers of equal distance in the range `(mu1 - 3sigma1, mu1 + 3sigma1)`. (Why do we want this range?) The `linspace` command behaves similarly to the `arange` command we have already seen, except that we specify the number of points we want, rather than the step size.\n",
        "\n",
        "Then we draw a plot of the normal curve on these points."
      ]
    },
    {
      "cell_type": "code",
      "metadata": {
        "colab": {
          "base_uri": "https://localhost:8080/",
          "height": 265
        },
        "id": "QDDifDwBUcS0",
        "outputId": "f83eaf1b-2bf1-413b-8038-516805013582"
      },
      "source": [
        "x1 = np.linspace(data1.min(),data1.max(), 100)\n",
        "plt.plot(x1, st.norm.pdf(x1, mu1, sigma1));\n",
        "plt.hist(data1, bins = np.arange(data1.min(),data1.max(), 3), density = True);"
      ],
      "execution_count": null,
      "outputs": [
        {
          "output_type": "display_data",
          "data": {
            "text/plain": [
              "<Figure size 432x288 with 1 Axes>"
            ],
            "image/png": "[encoded data removed]"
          },
          "metadata": {
            "needs_background": "light"
          }
        }
      ]
    },
    {
      "cell_type": "markdown",
      "metadata": {
        "id": "v2JJHOxznY8B"
      },
      "source": [
        "We have manually fitted the normal distribution curve to our data. This allowed us to assume that the real distribution of the height is normal with parameters `mu1` and `sigma1`, and use the formula of the normal distribution to calculate some probabilities. For example, let's calculate the probability of a randomly chosen person to be taller than 180 cm. To do this, we can use the function `cdf` (cumulative distribution function) from the box `st.norm` to calculate the \"right tail\" (the area under the curve and on the right of a point)."
      ]
    },
    {
      "cell_type": "code",
      "metadata": {
        "colab": {
          "base_uri": "https://localhost:8080/"
        },
        "id": "TPoTNl-vqU5t",
        "outputId": "e58a92d2-ca1a-48a8-d7c8-d06b03b6db4d"
      },
      "source": [
        "1 - st.norm.cdf(180, mu1, sigma1)"
      ],
      "execution_count": null,
      "outputs": [
        {
          "output_type": "execute_result",
          "data": {
            "text/plain": [
              "0.020336090236264037"
            ]
          },
          "metadata": {},
          "execution_count": 36
        }
      ]
    },
    {
      "cell_type": "markdown",
      "metadata": {
        "id": "ubGs9VNDmYhX"
      },
      "source": [
        "Before proceeding, convince yourself that the formula is correct.\n",
        "\n",
        "**Exercise**: Calculate the probability of a person to have height between 160 and 170 cm."
      ]
    },
    {
      "cell_type": "code",
      "metadata": {
        "id": "pSOiNfUEU2Sl",
        "colab": {
          "base_uri": "https://localhost:8080/"
        },
        "outputId": "46f710c8-edee-4041-c297-c65d5ad9c078"
      },
      "source": [
        "# Solution goes here"
      ],
      "execution_count": null,
      "outputs": [
        {
          "output_type": "execute_result",
          "data": {
            "text/plain": [
              "0.48691237134671495"
            ]
          },
          "metadata": {},
          "execution_count": 14
        }
      ]
    },
    {
      "cell_type": "code",
      "source": [
        "st.norm.cdf(170, mu1, sigma1) - st.norm.cdf(160, mu1, sigma1)"
      ],
      "metadata": {
        "colab": {
          "base_uri": "https://localhost:8080/"
        },
        "id": "kUPOnsln0G0-",
        "outputId": "d23390f4-87f4-4abf-916a-4823c57deeee"
      },
      "execution_count": null,
      "outputs": [
        {
          "output_type": "execute_result",
          "data": {
            "text/plain": [
              "0.4869123713467505"
            ]
          },
          "metadata": {},
          "execution_count": 42
        }
      ]
    },
    {
      "cell_type": "markdown",
      "metadata": {
        "id": "WdHajQbaAEBY"
      },
      "source": [
        "Python provides a better way to find a fit curve to a data by using the function `fit`. This function will output the parameters of the curve that provides the best fit. In the case of the normal distribution, the parameters are the mean and the standard deviation.\n",
        "\n",
        "Next, we will use the fit function and compare the outputs to the sample mean `mu1` and standard deviation `sigma1` that we used before."
      ]
    },
    {
      "cell_type": "code",
      "metadata": {
        "colab": {
          "base_uri": "https://localhost:8080/"
        },
        "id": "agAvxciK3iDD",
        "outputId": "587682fb-c309-4974-bcb0-1d0b4303be15"
      },
      "source": [
        "a1, b1 = st.norm.fit(data1)\n",
        "print(a1, b1, mu1, sigma1)"
      ],
      "execution_count": null,
      "outputs": [
        {
          "output_type": "stream",
          "name": "stdout",
          "text": [
            "164.4004691930168 7.6211590197835895 164.4004691930168 7.621213863850931\n"
          ]
        }
      ]
    },
    {
      "cell_type": "markdown",
      "metadata": {
        "id": "g4i0Ltc_6dj7"
      },
      "source": [
        "## Separate data by gender and fit curve \n",
        "In this section you will practice fitting normal curves. Your job is to separate the height by gender (1 means female, 2 means male) and then to perform a normal curve fit on each of the data sets."
      ]
    },
    {
      "cell_type": "code",
      "metadata": {
        "id": "vqS0jmzk1uzc"
      },
      "source": [
        "data2 = cardio[\"height\"][(cardio[\"gender\"] == 2) & (cardio[\"height\"] < upper_whisker['height']) & (cardio[\"height\"] > lower_whisker['height'])]"
      ],
      "execution_count": null,
      "outputs": []
    },
    {
      "cell_type": "markdown",
      "metadata": {
        "id": "90hwbQFVnnOB"
      },
      "source": [
        "This line selects only the data from the height column that's smaller than the upper whisker, greater than the lower whisker, and for which the gender is 2 (i.e. male).\n",
        "\n",
        "**Exercise:** Select the same data for women and assign it to the variable `data3`."
      ]
    },
    {
      "cell_type": "code",
      "metadata": {
        "id": "jItDX6-anw2w"
      },
      "source": [
        "data3 = cardio[\"height\"][(cardio[\"gender\"] == 1) & (cardio[\"height\"] < upper_whisker['height']) & (cardio[\"height\"] > lower_whisker['height'])]"
      ],
      "execution_count": null,
      "outputs": []
    },
    {
      "cell_type": "markdown",
      "metadata": {
        "id": "maMjT6o9Dikf"
      },
      "source": [
        "**Exercise**: Calculate the mean `mu2` and standard deviation `sigma2` for `data2`. Calculate the mean `mu3` and standard deviation `sigma3` for `data3`. Use them to create the ranges `x2` and `x3` for the density curves."
      ]
    },
    {
      "cell_type": "code",
      "metadata": {
        "id": "OL_GXud7D20v"
      },
      "source": [
        "mu2 = data2.mean()\n",
        "sigma2 = data2.std()\n",
        "mu3 = data3.mean()\n",
        "sigma3 = data3.std()"
      ],
      "execution_count": null,
      "outputs": []
    },
    {
      "cell_type": "markdown",
      "metadata": {
        "id": "O25boifpnM7X"
      },
      "source": [
        "**Exercise:** Produce the histograms and the distribution curves for both data sets on the same plot. Can we say that in general the men is taller than the women by look at the two density curves?"
      ]
    },
    {
      "cell_type": "code",
      "metadata": {
        "id": "_M9NyDh0nTvE",
        "colab": {
          "base_uri": "https://localhost:8080/",
          "height": 374
        },
        "outputId": "9e8fff7c-5140-4328-85cd-d14f22a9bb19"
      },
      "source": [
        "# Solution goes here\n"
      ],
      "execution_count": null,
      "outputs": [
        {
          "output_type": "display_data",
          "data": {
            "image/png": "[encoded data removed]",
            "text/plain": [
              "<Figure size 720x432 with 1 Axes>"
            ]
          },
          "metadata": {
            "needs_background": "light"
          }
        }
      ]
    },
    {
      "cell_type": "code",
      "source": [
        "plt.figure(figsize=(10,6))\n",
        "x2 = np.linspace(data2.min(),data2.max(), 100)\n",
        "plt.plot(x2, st.norm.pdf(x2, mu2, sigma2), label = \"men\");\n",
        "plt.hist(data2, bins = np.arange(data2.min(),data2.max(), 3), density = True);\n",
        "x3 = np.linspace(data3.min(),data3.max(), 100)\n",
        "plt.plot(x3, st.norm.pdf(x3, mu3, sigma3), label = \"women\");\n",
        "plt.hist(data3, bins = np.arange(data3.min(),data3.max(), 3), density = True);\n",
        "plt.legend()"
      ],
      "metadata": {
        "colab": {
          "base_uri": "https://localhost:8080/",
          "height": 391
        },
        "id": "scTU2JHD4iQa",
        "outputId": "0b13c3f8-bc04-4972-aae6-80dc1fd053c1"
      },
      "execution_count": null,
      "outputs": [
        {
          "output_type": "execute_result",
          "data": {
            "text/plain": [
              "<matplotlib.legend.Legend at 0x7fd563434bb0>"
            ]
          },
          "metadata": {},
          "execution_count": 86
        },
        {
          "output_type": "display_data",
          "data": {
            "text/plain": [
              "<Figure size 720x432 with 1 Axes>"
            ],
            "image/png": "[encoded data removed]"
          },
          "metadata": {
            "needs_background": "light"
          }
        }
      ]
    },
    {
      "cell_type": "markdown",
      "metadata": {
        "id": "7cRJwTph68ix"
      },
      "source": [
        "# Calculating BMI and checking if it is normal\n",
        "\n",
        "The BMI (Body Mass Index) is an important index that indicates body's fitness. BMI is calculated by the formula:\n",
        "\n",
        "$BMI=\\frac{weight}{height^2}\\times 1000$\n",
        "\n",
        "In this section we calculate BMI data from the data set and fit a distribution curve to it. First we calculate the BMI column from the height and weight.\n"
      ]
    },
    {
      "cell_type": "code",
      "metadata": {
        "id": "g8n8auVZYY79"
      },
      "source": [
        "bmi = (cardio.weight / (cardio.height * cardio.height)) * 10000"
      ],
      "execution_count": null,
      "outputs": []
    },
    {
      "cell_type": "code",
      "metadata": {
        "colab": {
          "base_uri": "https://localhost:8080/",
          "height": 374
        },
        "id": "YW34KOMdfiYr",
        "outputId": "cb0aa7f1-f933-4dda-979c-790a18abd75d"
      },
      "source": [
        "plt.figure(figsize=(10,6))\n",
        "plt.hist(bmi, bins = 50, density = True)\n",
        "plt.show()"
      ],
      "execution_count": null,
      "outputs": [
        {
          "output_type": "display_data",
          "data": {
            "text/plain": [
              "<Figure size 720x432 with 1 Axes>"
            ],
            "image/png": "[encoded data removed]"
          },
          "metadata": {
            "needs_background": "light"
          }
        }
      ]
    },
    {
      "cell_type": "code",
      "metadata": {
        "colab": {
          "base_uri": "https://localhost:8080/",
          "height": 374
        },
        "id": "cmvCPT4aZKTw",
        "outputId": "1680f082-f104-4394-a861-c98edf7936d9"
      },
      "source": [
        "plt.figure(figsize=(10,6))\n",
        "plt.boxplot(bmi, vert = False)\n",
        "plt.show()"
      ],
      "execution_count": null,
      "outputs": [
        {
          "output_type": "display_data",
          "data": {
            "text/plain": [
              "<Figure size 720x432 with 1 Axes>"
            ],
            "image/png": "[encoded data removed]"
          },
          "metadata": {
            "needs_background": "light"
          }
        }
      ]
    },
    {
      "cell_type": "markdown",
      "metadata": {
        "id": "y-GSEaECXyF8"
      },
      "source": [
        "The next step is to eliminate the outliers that are outside of the lower and upper whiskers.\n",
        "\n",
        "**Exercise:** As before, calculate the quantiles at 0.25 and 0.75 and assign them to the variables `q1_bmi` and `q3_bmi`, respectively, so that we can calculate the lower and upper whisker"
      ]
    },
    {
      "cell_type": "code",
      "metadata": {
        "id": "S5rATT1EX9D1"
      },
      "source": [
        "# Solution goes here\n",
        "q1_bmi = bmi.quantile(0.25)\n",
        "q3_bmi = bmi.quantile(0.75)"
      ],
      "execution_count": null,
      "outputs": []
    },
    {
      "cell_type": "markdown",
      "metadata": {
        "id": "FLmdeg0tFebF"
      },
      "source": [
        "Look at the boxplot we can see that there are many large values that are considered as outliers. If we keep the factor 1.5 for the upper whisker we may throw away too many data. Thus we may increase the factor to 2.5 to accomodate the long right tail"
      ]
    },
    {
      "cell_type": "code",
      "metadata": {
        "id": "gOHsGS81rD1l"
      },
      "source": [
        "lower_whisker_bmi = q1_bmi - (1.5 * (q3_bmi-q1_bmi)) # calculate the lower whisker\n",
        "upper_whisker_bmi = q3_bmi + (2.5 * (q3_bmi-q1_bmi)) # calculate the upper whisker"
      ],
      "execution_count": null,
      "outputs": []
    },
    {
      "cell_type": "markdown",
      "metadata": {
        "id": "r08Raa6Hlc8G"
      },
      "source": [
        "**Exercise:** As before, select only the parts of the `bmi` data that is smaller than the upper whisker and greater than the lower whisker and assign it to a new variable called `data`. Also calculate the mean and standard deviation and assign them to `mu` and `sigma`."
      ]
    },
    {
      "cell_type": "code",
      "metadata": {
        "id": "96zb2CgPrbNx"
      },
      "source": [
        "data = bmi[(bmi > lower_whisker_bmi) & (bmi < upper_whisker_bmi)]\n",
        "mu = data.mean()\n",
        "sigma = data.std()"
      ],
      "execution_count": null,
      "outputs": []
    },
    {
      "cell_type": "markdown",
      "metadata": {
        "id": "TzGimnIJHqDA"
      },
      "source": [
        "Let's check the histogram again"
      ]
    },
    {
      "cell_type": "code",
      "metadata": {
        "colab": {
          "base_uri": "https://localhost:8080/",
          "height": 265
        },
        "id": "AHejCRfUHssm",
        "outputId": "9fdbb266-c897-4a7e-df0f-fd56cf69d0b1"
      },
      "source": [
        "plt.hist(data, bins = np.arange(int(lower_whisker_bmi), int(upper_whisker_bmi) + 1, 3), density = True)\n",
        "plt.show()"
      ],
      "execution_count": null,
      "outputs": [
        {
          "output_type": "display_data",
          "data": {
            "text/plain": [
              "<Figure size 432x288 with 1 Axes>"
            ],
            "image/png": "[encoded data removed]"
          },
          "metadata": {
            "needs_background": "light"
          }
        }
      ]
    },
    {
      "cell_type": "markdown",
      "metadata": {
        "id": "dZMUYCEidLjW"
      },
      "source": [
        "**Question:** Looking at the results, do you think the data really follows the normal distribution?\n",
        "\n",
        "**Exercise:** Assuming that the BMI data follows the normal distribution, fit a normal density curve to the data."
      ]
    },
    {
      "cell_type": "code",
      "metadata": {
        "colab": {
          "base_uri": "https://localhost:8080/",
          "height": 374
        },
        "id": "rSszgm2FlIvp",
        "outputId": "82bf5b7f-2732-40bb-e971-a03f98c406e5"
      },
      "source": [
        "x = np.linspace(mu - 3*sigma, mu + 3*sigma, 100)\n",
        "plt.figure(figsize=(10,6))\n",
        "plt.plot(x, st.norm.pdf(x, mu, sigma));\n",
        "plt.hist(data, bins = np.arange(int(lower_whisker_bmi), int(upper_whisker_bmi) + 1), density = True)\n",
        "plt.show()"
      ],
      "execution_count": null,
      "outputs": [
        {
          "output_type": "display_data",
          "data": {
            "text/plain": [
              "<Figure size 720x432 with 1 Axes>"
            ],
            "image/png": "[encoded data removed]"
          },
          "metadata": {
            "needs_background": "light"
          }
        }
      ]
    },
    {
      "cell_type": "markdown",
      "metadata": {
        "id": "4IaA1agW7G2T"
      },
      "source": [
        "##Fitting skewed distribution to BMI data\n",
        "\n",
        "Now we see that the BMI data does not really follow the normal distribution. It has the bell shape, but it is not symmetric and has a longer right tail. This data can be fitted by a *skewed normal distribution*. It is similar to normal distribution with 2 parameters of the mean (location) and standard deviation, but it has an extra parameter that determines the *shape* of the distribution.\n",
        "\n",
        "It is quite complicated to compute these parameters by hand, but lucky for us, Python can find the parameters using the function `fit`. This time we use the distribution `skewnorm` instead of `norm`.\n"
      ]
    },
    {
      "cell_type": "code",
      "metadata": {
        "colab": {
          "base_uri": "https://localhost:8080/"
        },
        "id": "uuV3klWEm-U_",
        "outputId": "cba602c1-cc34-4b21-b0fc-be1ba81c0741"
      },
      "source": [
        "a1, loc1, scale1 = st.skewnorm.fit(data)\n",
        "a1, loc1, scale1"
      ],
      "execution_count": null,
      "outputs": [
        {
          "output_type": "execute_result",
          "data": {
            "text/plain": [
              "(3.6627122203080162, 21.557952915769327, 7.589284204438327)"
            ]
          },
          "metadata": {},
          "execution_count": 65
        }
      ]
    },
    {
      "cell_type": "markdown",
      "metadata": {
        "id": "o-mUsqOvd0fs"
      },
      "source": [
        "Now we put the parameters into the `pdf` of skew normal and draw the curve."
      ]
    },
    {
      "cell_type": "code",
      "metadata": {
        "colab": {
          "base_uri": "https://localhost:8080/",
          "height": 374
        },
        "id": "T9Zt5mfUbV2c",
        "outputId": "06970579-16a1-4b1e-e59f-7313f11d3145"
      },
      "source": [
        "plt.figure(figsize=(10,6))\n",
        "plt.plot(x, st.skewnorm.pdf(x, a1, loc = loc1, scale = scale1));\n",
        "plt.hist(data, bins = range(int(lower_whisker_bmi), int(upper_whisker_bmi) + 1,2), density = True)\n",
        "plt.show()"
      ],
      "execution_count": null,
      "outputs": [
        {
          "output_type": "display_data",
          "data": {
            "text/plain": [
              "<Figure size 720x432 with 1 Axes>"
            ],
            "image/png": "[encoded data removed]"
          },
          "metadata": {
            "needs_background": "light"
          }
        }
      ]
    },
    {
      "cell_type": "markdown",
      "metadata": {
        "id": "ioBA4JzJ_VTL"
      },
      "source": [
        "We now can use the skewed normal density function to calculate the probability of a person to be overweight (BMI > 30)."
      ]
    },
    {
      "cell_type": "code",
      "metadata": {
        "colab": {
          "base_uri": "https://localhost:8080/"
        },
        "id": "7jeJbfpXrJZy",
        "outputId": "ef608612-98c9-43fc-b40e-e606e37b28b2"
      },
      "source": [
        "1 - st.skewnorm.cdf(30, a1, loc = loc1, scale = scale1)"
      ],
      "execution_count": null,
      "outputs": [
        {
          "output_type": "execute_result",
          "data": {
            "text/plain": [
              "0.2659810820730517"
            ]
          },
          "metadata": {},
          "execution_count": 67
        }
      ]
    },
    {
      "cell_type": "markdown",
      "metadata": {
        "id": "P-DmoJMmYFrV"
      },
      "source": [
        "**Exercise**: Separate the men's and women's BMI data and find the density curve for each data. Can we make any conclusion by looking at the two curves (e.g. the men's BMI is higher than women's)?"
      ]
    },
    {
      "cell_type": "code",
      "metadata": {
        "id": "PwJe_QX3a4g7",
        "colab": {
          "base_uri": "https://localhost:8080/",
          "height": 394
        },
        "outputId": "263e700d-bec0-4f47-bca4-a6daebbdbb1a"
      },
      "source": [
        "plt.figure(figsize=(10,6))\n",
        "men_bmi = bmi[(cardio[\"gender\"] == 2)][(bmi > lower_whisker_bmi) & (bmi < upper_whisker_bmi)]\n",
        "women_bmi = bmi[(cardio[\"gender\"] == 1)][(bmi > lower_whisker_bmi) & (bmi < upper_whisker_bmi)]\n",
        "a_m, loc_m, scale_m = st.skewnorm.fit(men_bmi)\n",
        "a_f, loc_f, scale_f = st.skewnorm.fit(women_bmi)\n",
        "plt.plot(x, st.skewnorm.pdf(x, a_m, loc = loc_m, scale = scale_m), label = 'men');\n",
        "plt.hist(men_bmi, bins = range(int(lower_whisker_bmi), int(upper_whisker_bmi) + 1,2), density = True);\n",
        "plt.plot(x, st.skewnorm.pdf(x, a_f, loc = loc_f, scale = scale_f), label = 'women');\n",
        "plt.hist(women_bmi, bins = range(int(lower_whisker_bmi), int(upper_whisker_bmi) + 1,2), density = True);\n",
        "plt.legend()"
      ],
      "execution_count": null,
      "outputs": [
        {
          "output_type": "execute_result",
          "data": {
            "text/plain": [
              "<matplotlib.legend.Legend at 0x7fd56302c0a0>"
            ]
          },
          "metadata": {},
          "execution_count": 87
        },
        {
          "output_type": "display_data",
          "data": {
            "text/plain": [
              "<Figure size 720x432 with 1 Axes>"
            ],
            "image/png": "[encoded data removed]"
          },
          "metadata": {
            "needs_background": "light"
          }
        }
      ]
    },
    {
      "cell_type": "markdown",
      "metadata": {
        "id": "Xf4VR8fvCwa0"
      },
      "source": [
        "Calculate probability of having BMI larger than 30"
      ]
    },
    {
      "cell_type": "code",
      "metadata": {
        "colab": {
          "base_uri": "https://localhost:8080/"
        },
        "id": "QxYgl2Jb60VJ",
        "outputId": "4413b569-4253-47d4-f9bc-eee127c3b87f"
      },
      "source": [
        "1-st.skewnorm.cdf(30, a_f, loc_f, scale_f)"
      ],
      "execution_count": null,
      "outputs": [
        {
          "output_type": "execute_result",
          "data": {
            "text/plain": [
              "0.29493870341518524"
            ]
          },
          "metadata": {},
          "execution_count": 74
        }
      ]
    },
    {
      "cell_type": "code",
      "metadata": {
        "colab": {
          "base_uri": "https://localhost:8080/"
        },
        "id": "ZPdccq3E7Fa4",
        "outputId": "ab04e4b7-2a92-4f53-f1e2-b9a6d21bd6cc"
      },
      "source": [
        "1-st.skewnorm.cdf(30, a_m, loc_m, scale_m)"
      ],
      "execution_count": null,
      "outputs": [
        {
          "output_type": "execute_result",
          "data": {
            "text/plain": [
              "0.20111804505991815"
            ]
          },
          "metadata": {},
          "execution_count": 75
        }
      ]
    },
    {
      "cell_type": "markdown",
      "metadata": {
        "id": "M1_hPJjkC2vW"
      },
      "source": [
        "**Exercise:** Calculate probability of having BMI smaller than 20"
      ]
    },
    {
      "cell_type": "code",
      "metadata": {
        "colab": {
          "base_uri": "https://localhost:8080/"
        },
        "id": "RAdZSviw9ewx",
        "outputId": "7ed724fb-bbc4-44b3-a178-4c2283612045"
      },
      "source": [
        "#Solution goes here"
      ],
      "execution_count": null,
      "outputs": [
        {
          "output_type": "execute_result",
          "data": {
            "text/plain": [
              "0.02733486105186776"
            ]
          },
          "metadata": {},
          "execution_count": 52
        }
      ]
    },
    {
      "cell_type": "code",
      "source": [
        "st.skewnorm.cdf(20, a_f, loc_f, scale_f)"
      ],
      "metadata": {
        "colab": {
          "base_uri": "https://localhost:8080/"
        },
        "id": "O5a5HqYV9hgs",
        "outputId": "5cdf70fd-07f0-4a99-ad50-0a0856f6e80d"
      },
      "execution_count": null,
      "outputs": [
        {
          "output_type": "execute_result",
          "data": {
            "text/plain": [
              "0.027106239295310697"
            ]
          },
          "metadata": {},
          "execution_count": 76
        }
      ]
    },
    {
      "cell_type": "code",
      "source": [
        "st.skewnorm.cdf(20, a_m, loc_f, scale_f)"
      ],
      "metadata": {
        "colab": {
          "base_uri": "https://localhost:8080/"
        },
        "id": "GuWepBDz9o_B",
        "outputId": "9b256b2f-f67f-4aed-faf8-2bca48b87b85"
      },
      "execution_count": null,
      "outputs": [
        {
          "output_type": "execute_result",
          "data": {
            "text/plain": [
              "0.04646683316841882"
            ]
          },
          "metadata": {},
          "execution_count": 77
        }
      ]
    }
  ]
}