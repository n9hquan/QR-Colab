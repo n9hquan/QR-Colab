{
  "nbformat": 4,
  "nbformat_minor": 0,
  "metadata": {
    "colab": {
      "provenance": [],
      "toc_visible": true,
      "include_colab_link": true
    },
    "kernelspec": {
      "name": "python3",
      "display_name": "Python 3"
    }
  },
  "cells": [
    {
      "cell_type": "markdown",
      "metadata": {
        "id": "view-in-github",
        "colab_type": "text"
      },
      "source": [
        "<a href=\"https://colab.research.google.com/github/n9quan/QR_Colab/blob/main/WS_1_1_Introduction_to_Google_Colab_Nguyen_Chinh_Quan.ipynb\" target=\"_parent\"><img src=\"https://colab.research.google.com/assets/colab-badge.svg\" alt=\"Open In Colab\"/></a>"
      ]
    },
    {
      "cell_type": "markdown",
      "metadata": {
        "id": "Cd4UeW_FbAAo"
      },
      "source": [
        "# Python for Quantitative Reasoning\n",
        "\n",
        "Welcome to Google Colaboratory (Colab), i.e. the Python editor slash notebook app we are using throughout this semester! \n",
        "\n",
        "To many people, including experienced programmers, installing Python and the magical toolkits working with it on their personal computers can be quite confusing and frustrating. Furthermore, not all personal computers are powerful enough to run resource-hungry programs, and some of the tasks we will explore in this course can be quite resource-hungry.\n",
        "\n",
        "That's where Colab comes in! Think of it primarily as a Python code editor that comes pre-packed with everything you need in this course and — wait for it — **runs on the cloud**! Whenever you run a Python program on Colab, it is a powerful computer somewhere geographically far away from you that executes the code, not *your* computer.\n",
        "\n",
        "It also comes with these handy features:\n",
        "1. It can be connected to Google Drive. That means it can read files from and export files to your Google Drive.\n",
        "2. It can be shared like other Google productivity products, such as Docs, Spreadsheets, and Slides.\n",
        "3. **It can act secondarily as an interactive notebook** in which you can insert photos, videos, and widgets for visualizing and gaining insights into data (which will be super useful in the later stages of your final project).\n",
        "\n",
        "Please follow the instructions below to start exploring Colab."
      ]
    },
    {
      "cell_type": "markdown",
      "metadata": {
        "id": "fUIh62XwbD_G"
      },
      "source": [
        "\n",
        "#1. Copy and create new Colab files\n",
        "Look at the menu bar > choose **File** > select **Save a copy in Drive**. Your browser will create another tab, which contains a Colab file similar to this but with the name \"Copy of Week 2 - Python for QR.ipynb\". Another difference is that the newly copied file is stored in your Google Drive and is entirely owned by you.\n",
        "\n",
        "Indeed, once you make a copy, any additional changes you make will be saved automatically, so now you can continue without worrying about losing your work.\n",
        "\n",
        "Note: If you're unable to see the images below, you may need to temporarily disable the \"prevent cross-site tracking\" function in Safari (or similarly worded options in Chrome).\n",
        "\n",
        "<img src = \"https://drive.google.com/uc?export=view&id=1OKFHiO905h4VujOhyv8ip_ExrN7CKgPh\" width = \"300\">\n",
        "\n",
        "Wait, *but where is it exactly located in my Drive?*, you ask. If you are new to Colab, a folder named \"Colab Notebooks\" has just been magically created for you.\n",
        "\n",
        "<img src = \"https://drive.google.com/uc?export=view&id=162IUn4s2HWy3DEkWHYCdxec6qMMueDqy\" width = \"600\">\n",
        "\n",
        "If you go into that folder and click \"New\" at the top left corner, you can also choose to create a new Colab file.\n",
        "\n",
        "<img src = \"https://drive.google.com/uc?export=view&id=1ZrwBP7SUfD9jjdbGg9lHQfbaeZ1XTcKS\" width = \"600\">\n",
        "\n"
      ]
    },
    {
      "cell_type": "markdown",
      "metadata": {
        "id": "MY05IxNW5g9u"
      },
      "source": [
        "# 2. Write and execute code"
      ]
    },
    {
      "cell_type": "markdown",
      "metadata": {
        "id": "lIWBcLKz5pBp"
      },
      "source": [
        "\\An interesting thing about Colab is that you can write and run code in the middle of text blocks such as this. All you need to do is hover your mouse around the bottom or the top of a textbox and click \"+ Code\".\n",
        "\n",
        "<img src = \"https://drive.google.com/uc?export=view&id=1l4fzq2Q2jUh4FBycU7vg_kt7NXihGsIW\" width = \"250\">\n",
        "\n"
      ]
    },
    {
      "cell_type": "code",
      "metadata": {
        "id": "2p7wEQEu649s",
        "colab": {
          "base_uri": "https://localhost:8080/"
        },
        "outputId": "a2a2543e-7b4d-4938-8db7-e08765757dd2"
      },
      "source": [
        "# Here is a code cell. If you click the \"play\" button on the left, you can see\n",
        "# the phrase \"Hello world!\" appear underneath the cell, which indicates that the\n",
        "# line of Python code below has been executed.\n",
        "\n",
        "# Instead of clicking the \"Play\" button, you can also type Ctrl+Enter.\n",
        "\n",
        "# (By the way, these green lines are not \"executed\" because they are just\n",
        "# comments and not part of the code read by the computer.)\n",
        "\n",
        "print(\"Hello world!\")"
      ],
      "execution_count": null,
      "outputs": [
        {
          "output_type": "stream",
          "name": "stdout",
          "text": [
            "Hello world!\n"
          ]
        }
      ]
    },
    {
      "cell_type": "code",
      "source": [],
      "metadata": {
        "id": "UKntwYS1o8Xq"
      },
      "execution_count": null,
      "outputs": []
    },
    {
      "cell_type": "markdown",
      "metadata": {
        "id": "gskNg2Ryqiyg"
      },
      "source": [
        "**Exercise:** Can you write some code that tells Colab to print your name instead of \"Hello World!\"?"
      ]
    },
    {
      "cell_type": "code",
      "metadata": {
        "id": "MZnKzi68qiO4",
        "colab": {
          "base_uri": "https://localhost:8080/"
        },
        "outputId": "b9c1f14e-f2eb-4419-c431-3c5b45124be8"
      },
      "source": [
        "print(\"Nguyen Chinh Quan\")"
      ],
      "execution_count": null,
      "outputs": [
        {
          "output_type": "stream",
          "name": "stdout",
          "text": [
            "Nguyen Chinh Quan\n"
          ]
        }
      ]
    },
    {
      "cell_type": "markdown",
      "metadata": {
        "id": "PsU842FvwEWK"
      },
      "source": [
        "When you do this exercise, you should delete the comment and replace it with your solution."
      ]
    },
    {
      "cell_type": "markdown",
      "metadata": {
        "id": "sUWLUyFhwqXH"
      },
      "source": [
        "#3. Values & libraries in Python\n",
        "##3.1 A basic calculator\n",
        "There are many ways you can use Python as a makeshift calculator. Let's try a few examples."
      ]
    },
    {
      "cell_type": "code",
      "metadata": {
        "id": "a6DkB_abtG7S",
        "colab": {
          "base_uri": "https://localhost:8080/"
        },
        "outputId": "1ade885a-d790-4d2d-df3f-c6117df3eaeb"
      },
      "source": [
        "1 + 2"
      ],
      "execution_count": null,
      "outputs": [
        {
          "output_type": "execute_result",
          "data": {
            "text/plain": [
              "3"
            ]
          },
          "metadata": {},
          "execution_count": 2
        }
      ]
    },
    {
      "cell_type": "code",
      "metadata": {
        "id": "Jz2fLpj4zJiW",
        "colab": {
          "base_uri": "https://localhost:8080/"
        },
        "outputId": "9be3ce21-dd41-4b82-dc72-57fec6e2d980"
      },
      "source": [
        "2 - 1"
      ],
      "execution_count": null,
      "outputs": [
        {
          "output_type": "execute_result",
          "data": {
            "text/plain": [
              "1"
            ]
          },
          "metadata": {},
          "execution_count": 3
        }
      ]
    },
    {
      "cell_type": "markdown",
      "metadata": {
        "id": "FJYS2ANDxPI5"
      },
      "source": [
        "The operators that perform multiplication and division are `*` and `/`:"
      ]
    },
    {
      "cell_type": "code",
      "metadata": {
        "id": "i40mZGp4w6m_",
        "colab": {
          "base_uri": "https://localhost:8080/"
        },
        "outputId": "4e75fe88-f990-4a7f-ae96-bb0a53a0b5c5"
      },
      "source": [
        "2 * 3"
      ],
      "execution_count": null,
      "outputs": [
        {
          "output_type": "execute_result",
          "data": {
            "text/plain": [
              "6"
            ]
          },
          "metadata": {},
          "execution_count": 4
        }
      ]
    },
    {
      "cell_type": "code",
      "metadata": {
        "id": "itr7ARkGxWZ4",
        "colab": {
          "base_uri": "https://localhost:8080/"
        },
        "outputId": "50033e75-d72c-43da-934b-e0a16c1d7882"
      },
      "source": [
        "3 / 2"
      ],
      "execution_count": null,
      "outputs": [
        {
          "output_type": "execute_result",
          "data": {
            "text/plain": [
              "1.5"
            ]
          },
          "metadata": {},
          "execution_count": 5
        }
      ]
    },
    {
      "cell_type": "markdown",
      "metadata": {
        "id": "iI5vLxhaxi_c"
      },
      "source": [
        "Python can handle several types of numbers, but the two most common are:\n",
        "\n",
        "* `int`, which represents integer values like `2` or `6`, and\n",
        "* `float`, which represents numbers that have a fraction part, like `1.5`.\n",
        "\n",
        "Most often, we use `int` to represent counts and `float` to represent measurements. (`float` is short for \"floating-point\", which is the name for the way these numbers are stored.)\n",
        "\n",
        "In Python, the arithmetic operators follow the rules of precedence you might have learned before:\n",
        "\n",
        "* Parentheses before\n",
        "* Exponentiation before\n",
        "* Multiplication and division before\n",
        "* Addition and subtraction\n",
        "\n",
        "So in this expression:"
      ]
    },
    {
      "cell_type": "code",
      "metadata": {
        "id": "eB--sExNxVvi",
        "colab": {
          "base_uri": "https://localhost:8080/"
        },
        "outputId": "02fb0eae-5b2b-483b-e01e-6ce9f9e6d15b"
      },
      "source": [
        "1 + 2 * 3"
      ],
      "execution_count": null,
      "outputs": [
        {
          "output_type": "execute_result",
          "data": {
            "text/plain": [
              "7"
            ]
          },
          "metadata": {},
          "execution_count": 6
        }
      ]
    },
    {
      "cell_type": "markdown",
      "metadata": {
        "id": "r7vsMiTLyCKm"
      },
      "source": [
        "The multiplication happens first.  If that's not what you want, you can use parentheses to make the order of operations explicit:"
      ]
    },
    {
      "cell_type": "code",
      "metadata": {
        "id": "F8-EwIbRw6Za",
        "colab": {
          "base_uri": "https://localhost:8080/"
        },
        "outputId": "343e6fd7-3178-4264-dd4e-a7684893a11a"
      },
      "source": [
        "(1 + 2) * 3"
      ],
      "execution_count": null,
      "outputs": [
        {
          "output_type": "execute_result",
          "data": {
            "text/plain": [
              "9"
            ]
          },
          "metadata": {},
          "execution_count": 7
        }
      ]
    },
    {
      "cell_type": "markdown",
      "metadata": {
        "id": "DpPhLXtC2lCw"
      },
      "source": [
        "\n",
        "\n",
        "That's it for now! We'll return to Colab and Python in the next class."
      ]
    },
    {
      "cell_type": "markdown",
      "metadata": {
        "id": "Z2SCMumHroPC"
      },
      "source": [
        "# Credits\n",
        "\n",
        "This notebook contains materials created by Nguyen Cao Nghi, [Allen Downey](https://allendowney.github.io/ElementsOfDataScience/), and Sebastian Dziallas."
      ]
    }
  ]
}