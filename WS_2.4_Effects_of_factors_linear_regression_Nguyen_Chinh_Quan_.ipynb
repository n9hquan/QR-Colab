{
  "nbformat": 4,
  "nbformat_minor": 0,
  "metadata": {
    "colab": {
      "provenance": [],
      "include_colab_link": true
    },
    "kernelspec": {
      "name": "python3",
      "display_name": "Python 3"
    },
    "language_info": {
      "name": "python"
    }
  },
  "cells": [
    {
      "cell_type": "markdown",
      "metadata": {
        "id": "view-in-github",
        "colab_type": "text"
      },
      "source": [
        "<a href=\"https://colab.research.google.com/github/n9hquan/QR103/blob/main/WS_2.4_Effects_of_factors_linear_regression_Nguyen_Chinh_Quan_.ipynb\" target=\"_parent\"><img src=\"https://colab.research.google.com/assets/colab-badge.svg\" alt=\"Open In Colab\"/></a>"
      ]
    },
    {
      "cell_type": "markdown",
      "metadata": {
        "id": "UUJ0aC24jQ2r"
      },
      "source": [
        "# Introduction\n",
        "There has been a consensus that sex, age and education have an impact on income and wealth. Specifically, individuals earn higher income and accumulate more wealth when they are more experienced (older) and more educated. Also, men are supposed to earn higher income and hold more wealth than women. In this notebook we will look into the effect of these variables on income and wealth. In particular, we do the following tasks\n",
        "\n",
        "*      Understand the distributions of age and education in addition to those of income and wealth\n",
        "*     Run linear regression of income and wealth on sex, age and education\n",
        "*     Interpret the effect of sex, age and education on income and wealth\n",
        "\n",
        "We first import the usual packages as follows.\n",
        "\n"
      ]
    },
    {
      "cell_type": "code",
      "source": [
        "# import packages\n",
        "import numpy as np\n",
        "import pandas as pd\n",
        "import matplotlib.pyplot as plt\n",
        "from google.colab import files\n",
        "import io"
      ],
      "metadata": {
        "id": "BNiD6-NjQslK"
      },
      "execution_count": 5,
      "outputs": []
    },
    {
      "cell_type": "markdown",
      "source": [
        "# Import data\n",
        "\n",
        "As in the previous worksheets, we use the `read_excel` function from the `pandas` package to import Excel files. When you open the data file in Excel, you will see that sex, age, education, income and wealth are denoted by `HHSEX`, `AGE`, `EDUC`, `INCOME`, and `NETWORTH`, respectively."
      ],
      "metadata": {
        "id": "EAxPpiy_QpcB"
      }
    },
    {
      "cell_type": "code",
      "source": [
        "uploaded = files.upload()\n",
        "dataReg = pd.read_excel(io.BytesIO(uploaded[\"datareg.xlsx\"]))\n",
        "\n",
        "# for those who use Safari: upload the file to the working drive and use the following code line\n",
        "#dataReg = pd.read_excel('/content/datareg.xlsx')\n"
      ],
      "metadata": {
        "id": "M1qFFPOMQ9eX",
        "colab": {
          "base_uri": "https://localhost:8080/",
          "height": 73
        },
        "outputId": "ec832dc7-61ac-4005-ef07-66b8c197ed97"
      },
      "execution_count": 2,
      "outputs": [
        {
          "output_type": "display_data",
          "data": {
            "text/plain": [
              "<IPython.core.display.HTML object>"
            ],
            "text/html": [
              "\n",
              "     <input type=\"file\" id=\"files-31d1706b-e6ee-43b7-b81a-45e06aedf216\" name=\"files[]\" multiple disabled\n",
              "        style=\"border:none\" />\n",
              "     <output id=\"result-31d1706b-e6ee-43b7-b81a-45e06aedf216\">\n",
              "      Upload widget is only available when the cell has been executed in the\n",
              "      current browser session. Please rerun this cell to enable.\n",
              "      </output>\n",
              "      <script>// Copyright 2017 Google LLC\n",
              "//\n",
              "// Licensed under the Apache License, Version 2.0 (the \"License\");\n",
              "// you may not use this file except in compliance with the License.\n",
              "// You may obtain a copy of the License at\n",
              "//\n",
              "//      http://www.apache.org/licenses/LICENSE-2.0\n",
              "//\n",
              "// Unless required by applicable law or agreed to in writing, software\n",
              "// distributed under the License is distributed on an \"AS IS\" BASIS,\n",
              "// WITHOUT WARRANTIES OR CONDITIONS OF ANY KIND, either express or implied.\n",
              "// See the License for the specific language governing permissions and\n",
              "// limitations under the License.\n",
              "\n",
              "/**\n",
              " * @fileoverview Helpers for google.colab Python module.\n",
              " */\n",
              "(function(scope) {\n",
              "function span(text, styleAttributes = {}) {\n",
              "  const element = document.createElement('span');\n",
              "  element.textContent = text;\n",
              "  for (const key of Object.keys(styleAttributes)) {\n",
              "    element.style[key] = styleAttributes[key];\n",
              "  }\n",
              "  return element;\n",
              "}\n",
              "\n",
              "// Max number of bytes which will be uploaded at a time.\n",
              "const MAX_PAYLOAD_SIZE = 100 * 1024;\n",
              "\n",
              "function _uploadFiles(inputId, outputId) {\n",
              "  const steps = uploadFilesStep(inputId, outputId);\n",
              "  const outputElement = document.getElementById(outputId);\n",
              "  // Cache steps on the outputElement to make it available for the next call\n",
              "  // to uploadFilesContinue from Python.\n",
              "  outputElement.steps = steps;\n",
              "\n",
              "  return _uploadFilesContinue(outputId);\n",
              "}\n",
              "\n",
              "// This is roughly an async generator (not supported in the browser yet),\n",
              "// where there are multiple asynchronous steps and the Python side is going\n",
              "// to poll for completion of each step.\n",
              "// This uses a Promise to block the python side on completion of each step,\n",
              "// then passes the result of the previous step as the input to the next step.\n",
              "function _uploadFilesContinue(outputId) {\n",
              "  const outputElement = document.getElementById(outputId);\n",
              "  const steps = outputElement.steps;\n",
              "\n",
              "  const next = steps.next(outputElement.lastPromiseValue);\n",
              "  return Promise.resolve(next.value.promise).then((value) => {\n",
              "    // Cache the last promise value to make it available to the next\n",
              "    // step of the generator.\n",
              "    outputElement.lastPromiseValue = value;\n",
              "    return next.value.response;\n",
              "  });\n",
              "}\n",
              "\n",
              "/**\n",
              " * Generator function which is called between each async step of the upload\n",
              " * process.\n",
              " * @param {string} inputId Element ID of the input file picker element.\n",
              " * @param {string} outputId Element ID of the output display.\n",
              " * @return {!Iterable<!Object>} Iterable of next steps.\n",
              " */\n",
              "function* uploadFilesStep(inputId, outputId) {\n",
              "  const inputElement = document.getElementById(inputId);\n",
              "  inputElement.disabled = false;\n",
              "\n",
              "  const outputElement = document.getElementById(outputId);\n",
              "  outputElement.innerHTML = '';\n",
              "\n",
              "  const pickedPromise = new Promise((resolve) => {\n",
              "    inputElement.addEventListener('change', (e) => {\n",
              "      resolve(e.target.files);\n",
              "    });\n",
              "  });\n",
              "\n",
              "  const cancel = document.createElement('button');\n",
              "  inputElement.parentElement.appendChild(cancel);\n",
              "  cancel.textContent = 'Cancel upload';\n",
              "  const cancelPromise = new Promise((resolve) => {\n",
              "    cancel.onclick = () => {\n",
              "      resolve(null);\n",
              "    };\n",
              "  });\n",
              "\n",
              "  // Wait for the user to pick the files.\n",
              "  const files = yield {\n",
              "    promise: Promise.race([pickedPromise, cancelPromise]),\n",
              "    response: {\n",
              "      action: 'starting',\n",
              "    }\n",
              "  };\n",
              "\n",
              "  cancel.remove();\n",
              "\n",
              "  // Disable the input element since further picks are not allowed.\n",
              "  inputElement.disabled = true;\n",
              "\n",
              "  if (!files) {\n",
              "    return {\n",
              "      response: {\n",
              "        action: 'complete',\n",
              "      }\n",
              "    };\n",
              "  }\n",
              "\n",
              "  for (const file of files) {\n",
              "    const li = document.createElement('li');\n",
              "    li.append(span(file.name, {fontWeight: 'bold'}));\n",
              "    li.append(span(\n",
              "        `(${file.type || 'n/a'}) - ${file.size} bytes, ` +\n",
              "        `last modified: ${\n",
              "            file.lastModifiedDate ? file.lastModifiedDate.toLocaleDateString() :\n",
              "                                    'n/a'} - `));\n",
              "    const percent = span('0% done');\n",
              "    li.appendChild(percent);\n",
              "\n",
              "    outputElement.appendChild(li);\n",
              "\n",
              "    const fileDataPromise = new Promise((resolve) => {\n",
              "      const reader = new FileReader();\n",
              "      reader.onload = (e) => {\n",
              "        resolve(e.target.result);\n",
              "      };\n",
              "      reader.readAsArrayBuffer(file);\n",
              "    });\n",
              "    // Wait for the data to be ready.\n",
              "    let fileData = yield {\n",
              "      promise: fileDataPromise,\n",
              "      response: {\n",
              "        action: 'continue',\n",
              "      }\n",
              "    };\n",
              "\n",
              "    // Use a chunked sending to avoid message size limits. See b/62115660.\n",
              "    let position = 0;\n",
              "    do {\n",
              "      const length = Math.min(fileData.byteLength - position, MAX_PAYLOAD_SIZE);\n",
              "      const chunk = new Uint8Array(fileData, position, length);\n",
              "      position += length;\n",
              "\n",
              "      const base64 = btoa(String.fromCharCode.apply(null, chunk));\n",
              "      yield {\n",
              "        response: {\n",
              "          action: 'append',\n",
              "          file: file.name,\n",
              "          data: base64,\n",
              "        },\n",
              "      };\n",
              "\n",
              "      let percentDone = fileData.byteLength === 0 ?\n",
              "          100 :\n",
              "          Math.round((position / fileData.byteLength) * 100);\n",
              "      percent.textContent = `${percentDone}% done`;\n",
              "\n",
              "    } while (position < fileData.byteLength);\n",
              "  }\n",
              "\n",
              "  // All done.\n",
              "  yield {\n",
              "    response: {\n",
              "      action: 'complete',\n",
              "    }\n",
              "  };\n",
              "}\n",
              "\n",
              "scope.google = scope.google || {};\n",
              "scope.google.colab = scope.google.colab || {};\n",
              "scope.google.colab._files = {\n",
              "  _uploadFiles,\n",
              "  _uploadFilesContinue,\n",
              "};\n",
              "})(self);\n",
              "</script> "
            ]
          },
          "metadata": {}
        },
        {
          "output_type": "stream",
          "name": "stdout",
          "text": [
            "Saving datareg.xlsx to datareg.xlsx\n"
          ]
        }
      ]
    },
    {
      "cell_type": "markdown",
      "source": [
        "**Exercise:** As usual, please print the data to make sure that the data file was successfully imported."
      ],
      "metadata": {
        "id": "gIdUzsWRRzkC"
      }
    },
    {
      "cell_type": "code",
      "source": [
        "# Solution goes here\n",
        "dataReg"
      ],
      "metadata": {
        "id": "jf3DLfgvSDEU",
        "colab": {
          "base_uri": "https://localhost:8080/",
          "height": 423
        },
        "outputId": "48a7cf1c-e645-4657-82df-505c3d3ca41a"
      },
      "execution_count": 4,
      "outputs": [
        {
          "output_type": "execute_result",
          "data": {
            "text/plain": [
              "       HHSEX  AGE  EDUC        INCOME  NETWORTH\n",
              "0          1   54    11  20290.628707    -400.0\n",
              "1          1   54    11  20290.628707    -400.0\n",
              "2          1   54    11  20290.628707    -400.0\n",
              "3          1   54    11  20290.628707    -400.0\n",
              "4          1   54    11  20290.628707    -400.0\n",
              "...      ...  ...   ...           ...       ...\n",
              "30070      1   76    13  38552.194543 -110400.0\n",
              "30071      1   76    13  36523.131673 -101700.0\n",
              "30072      1   76    13  35508.600237 -120600.0\n",
              "30073      1   76    13  43624.851720 -130300.0\n",
              "30074      1   76    13  41595.788849 -133900.0\n",
              "\n",
              "[30075 rows x 5 columns]"
            ],
            "text/html": [
              "\n",
              "  <div id=\"df-1d310d95-b47d-485e-a28b-ea38ca661167\">\n",
              "    <div class=\"colab-df-container\">\n",
              "      <div>\n",
              "<style scoped>\n",
              "    .dataframe tbody tr th:only-of-type {\n",
              "        vertical-align: middle;\n",
              "    }\n",
              "\n",
              "    .dataframe tbody tr th {\n",
              "        vertical-align: top;\n",
              "    }\n",
              "\n",
              "    .dataframe thead th {\n",
              "        text-align: right;\n",
              "    }\n",
              "</style>\n",
              "<table border=\"1\" class=\"dataframe\">\n",
              "  <thead>\n",
              "    <tr style=\"text-align: right;\">\n",
              "      <th></th>\n",
              "      <th>HHSEX</th>\n",
              "      <th>AGE</th>\n",
              "      <th>EDUC</th>\n",
              "      <th>INCOME</th>\n",
              "      <th>NETWORTH</th>\n",
              "    </tr>\n",
              "  </thead>\n",
              "  <tbody>\n",
              "    <tr>\n",
              "      <th>0</th>\n",
              "      <td>1</td>\n",
              "      <td>54</td>\n",
              "      <td>11</td>\n",
              "      <td>20290.628707</td>\n",
              "      <td>-400.0</td>\n",
              "    </tr>\n",
              "    <tr>\n",
              "      <th>1</th>\n",
              "      <td>1</td>\n",
              "      <td>54</td>\n",
              "      <td>11</td>\n",
              "      <td>20290.628707</td>\n",
              "      <td>-400.0</td>\n",
              "    </tr>\n",
              "    <tr>\n",
              "      <th>2</th>\n",
              "      <td>1</td>\n",
              "      <td>54</td>\n",
              "      <td>11</td>\n",
              "      <td>20290.628707</td>\n",
              "      <td>-400.0</td>\n",
              "    </tr>\n",
              "    <tr>\n",
              "      <th>3</th>\n",
              "      <td>1</td>\n",
              "      <td>54</td>\n",
              "      <td>11</td>\n",
              "      <td>20290.628707</td>\n",
              "      <td>-400.0</td>\n",
              "    </tr>\n",
              "    <tr>\n",
              "      <th>4</th>\n",
              "      <td>1</td>\n",
              "      <td>54</td>\n",
              "      <td>11</td>\n",
              "      <td>20290.628707</td>\n",
              "      <td>-400.0</td>\n",
              "    </tr>\n",
              "    <tr>\n",
              "      <th>...</th>\n",
              "      <td>...</td>\n",
              "      <td>...</td>\n",
              "      <td>...</td>\n",
              "      <td>...</td>\n",
              "      <td>...</td>\n",
              "    </tr>\n",
              "    <tr>\n",
              "      <th>30070</th>\n",
              "      <td>1</td>\n",
              "      <td>76</td>\n",
              "      <td>13</td>\n",
              "      <td>38552.194543</td>\n",
              "      <td>-110400.0</td>\n",
              "    </tr>\n",
              "    <tr>\n",
              "      <th>30071</th>\n",
              "      <td>1</td>\n",
              "      <td>76</td>\n",
              "      <td>13</td>\n",
              "      <td>36523.131673</td>\n",
              "      <td>-101700.0</td>\n",
              "    </tr>\n",
              "    <tr>\n",
              "      <th>30072</th>\n",
              "      <td>1</td>\n",
              "      <td>76</td>\n",
              "      <td>13</td>\n",
              "      <td>35508.600237</td>\n",
              "      <td>-120600.0</td>\n",
              "    </tr>\n",
              "    <tr>\n",
              "      <th>30073</th>\n",
              "      <td>1</td>\n",
              "      <td>76</td>\n",
              "      <td>13</td>\n",
              "      <td>43624.851720</td>\n",
              "      <td>-130300.0</td>\n",
              "    </tr>\n",
              "    <tr>\n",
              "      <th>30074</th>\n",
              "      <td>1</td>\n",
              "      <td>76</td>\n",
              "      <td>13</td>\n",
              "      <td>41595.788849</td>\n",
              "      <td>-133900.0</td>\n",
              "    </tr>\n",
              "  </tbody>\n",
              "</table>\n",
              "<p>30075 rows × 5 columns</p>\n",
              "</div>\n",
              "      <button class=\"colab-df-convert\" onclick=\"convertToInteractive('df-1d310d95-b47d-485e-a28b-ea38ca661167')\"\n",
              "              title=\"Convert this dataframe to an interactive table.\"\n",
              "              style=\"display:none;\">\n",
              "        \n",
              "  <svg xmlns=\"http://www.w3.org/2000/svg\" height=\"24px\"viewBox=\"0 0 24 24\"\n",
              "       width=\"24px\">\n",
              "    <path d=\"M0 0h24v24H0V0z\" fill=\"none\"/>\n",
              "    <path d=\"M18.56 5.44l.94 2.06.94-2.06 2.06-.94-2.06-.94-.94-2.06-.94 2.06-2.06.94zm-11 1L8.5 8.5l.94-2.06 2.06-.94-2.06-.94L8.5 2.5l-.94 2.06-2.06.94zm10 10l.94 2.06.94-2.06 2.06-.94-2.06-.94-.94-2.06-.94 2.06-2.06.94z\"/><path d=\"M17.41 7.96l-1.37-1.37c-.4-.4-.92-.59-1.43-.59-.52 0-1.04.2-1.43.59L10.3 9.45l-7.72 7.72c-.78.78-.78 2.05 0 2.83L4 21.41c.39.39.9.59 1.41.59.51 0 1.02-.2 1.41-.59l7.78-7.78 2.81-2.81c.8-.78.8-2.07 0-2.86zM5.41 20L4 18.59l7.72-7.72 1.47 1.35L5.41 20z\"/>\n",
              "  </svg>\n",
              "      </button>\n",
              "      \n",
              "  <style>\n",
              "    .colab-df-container {\n",
              "      display:flex;\n",
              "      flex-wrap:wrap;\n",
              "      gap: 12px;\n",
              "    }\n",
              "\n",
              "    .colab-df-convert {\n",
              "      background-color: #E8F0FE;\n",
              "      border: none;\n",
              "      border-radius: 50%;\n",
              "      cursor: pointer;\n",
              "      display: none;\n",
              "      fill: #1967D2;\n",
              "      height: 32px;\n",
              "      padding: 0 0 0 0;\n",
              "      width: 32px;\n",
              "    }\n",
              "\n",
              "    .colab-df-convert:hover {\n",
              "      background-color: #E2EBFA;\n",
              "      box-shadow: 0px 1px 2px rgba(60, 64, 67, 0.3), 0px 1px 3px 1px rgba(60, 64, 67, 0.15);\n",
              "      fill: #174EA6;\n",
              "    }\n",
              "\n",
              "    [theme=dark] .colab-df-convert {\n",
              "      background-color: #3B4455;\n",
              "      fill: #D2E3FC;\n",
              "    }\n",
              "\n",
              "    [theme=dark] .colab-df-convert:hover {\n",
              "      background-color: #434B5C;\n",
              "      box-shadow: 0px 1px 3px 1px rgba(0, 0, 0, 0.15);\n",
              "      filter: drop-shadow(0px 1px 2px rgba(0, 0, 0, 0.3));\n",
              "      fill: #FFFFFF;\n",
              "    }\n",
              "  </style>\n",
              "\n",
              "      <script>\n",
              "        const buttonEl =\n",
              "          document.querySelector('#df-1d310d95-b47d-485e-a28b-ea38ca661167 button.colab-df-convert');\n",
              "        buttonEl.style.display =\n",
              "          google.colab.kernel.accessAllowed ? 'block' : 'none';\n",
              "\n",
              "        async function convertToInteractive(key) {\n",
              "          const element = document.querySelector('#df-1d310d95-b47d-485e-a28b-ea38ca661167');\n",
              "          const dataTable =\n",
              "            await google.colab.kernel.invokeFunction('convertToInteractive',\n",
              "                                                     [key], {});\n",
              "          if (!dataTable) return;\n",
              "\n",
              "          const docLinkHtml = 'Like what you see? Visit the ' +\n",
              "            '<a target=\"_blank\" href=https://colab.research.google.com/notebooks/data_table.ipynb>data table notebook</a>'\n",
              "            + ' to learn more about interactive tables.';\n",
              "          element.innerHTML = '';\n",
              "          dataTable['output_type'] = 'display_data';\n",
              "          await google.colab.output.renderOutput(dataTable, element);\n",
              "          const docLink = document.createElement('div');\n",
              "          docLink.innerHTML = docLinkHtml;\n",
              "          element.appendChild(docLink);\n",
              "        }\n",
              "      </script>\n",
              "    </div>\n",
              "  </div>\n",
              "  "
            ]
          },
          "metadata": {},
          "execution_count": 4
        }
      ]
    },
    {
      "cell_type": "markdown",
      "source": [
        "The value of income and wealth is quite large. Thus, it would be more convenient for later analysis if we changed the unit of income and wealth to $100,000. We now create new variables `sex`, `age`, `edu`, `income`, and `wealth` to store the data."
      ],
      "metadata": {
        "id": "h9DhTk8eVwe-"
      }
    },
    {
      "cell_type": "code",
      "source": [
        "sex = dataReg.HHSEX\n",
        "age = dataReg.AGE\n",
        "edu = dataReg.EDUC\n",
        "income = dataReg.INCOME/100000 # unit of income now is $100,000\n",
        "wealth = dataReg.NETWORTH/100000 # unit of wealth is $100,000"
      ],
      "metadata": {
        "id": "zfnSYpVTXnWk"
      },
      "execution_count": 6,
      "outputs": []
    },
    {
      "cell_type": "markdown",
      "metadata": {
        "id": "3NGAxktoCwKx"
      },
      "source": [
        "**Exercise:** Create boxplots of age, education, income and wealth. You may plot 4 different figures or 4 subplots in a figure (optional). Are these distributions skewed to the left or right?"
      ]
    },
    {
      "cell_type": "code",
      "source": [
        "# Solution goes here\n",
        "plt.figure(figsize=(10,6))\n",
        "plt.boxplot(age, vert = False)\n",
        "plt.show()\n",
        "plt.figure(figsize=(10,6))\n",
        "plt.boxplot(edu, vert = False)\n",
        "plt.show()\n",
        "plt.figure(figsize=(10,6))\n",
        "plt.boxplot(income, vert = False)\n",
        "plt.show()\n",
        "plt.figure(figsize=(10,6))\n",
        "plt.boxplot(wealth, vert = False)\n",
        "plt.show()"
      ],
      "metadata": {
        "id": "ah069ZAgTIX3",
        "colab": {
          "base_uri": "https://localhost:8080/",
          "height": 1000
        },
        "outputId": "e6177242-95eb-4ebb-8f3f-e4f11e7bc788"
      },
      "execution_count": 9,
      "outputs": [
        {
          "output_type": "display_data",
          "data": {
            "text/plain": [
              "<Figure size 1000x600 with 1 Axes>"
            ],
            "image/png": "[encoded data removed]"
          },
          "metadata": {}
        },
        {
          "output_type": "display_data",
          "data": {
            "text/plain": [
              "<Figure size 1000x600 with 1 Axes>"
            ],
            "image/png": "[encoded data removed]"
          },
          "metadata": {}
        },
        {
          "output_type": "display_data",
          "data": {
            "text/plain": [
              "<Figure size 1000x600 with 1 Axes>"
            ],
            "image/png": "[encoded data removed]"
          },
          "metadata": {}
        },
        {
          "output_type": "display_data",
          "data": {
            "text/plain": [
              "<Figure size 1000x600 with 1 Axes>"
            ],
            "image/png": "[encoded data removed]"
          },
          "metadata": {}
        }
      ]
    },
    {
      "cell_type": "markdown",
      "source": [
        "For our later analysis, it would be more convenient to express income and wealth in logarithmic scale. This can be easily done using the `log` function, which refers to the natural log. However, the `log` function does not accept non-positive values. One solution is to give everyone a certain amount of income and wealth so that their income and wealth become positive. The following code line increases everyone's income by $100,000 and computes the logarithm of the new income level."
      ],
      "metadata": {
        "id": "WtlruUbrb1Vx"
      }
    },
    {
      "cell_type": "code",
      "source": [
        "logincome = np.log(income+1) # note that 1 here is equivalent to $100,000 since we changed the unit of income\n",
        "logincome"
      ],
      "metadata": {
        "id": "K3E18DBzchv1",
        "colab": {
          "base_uri": "https://localhost:8080/"
        },
        "outputId": "6d964e28-bd80-443f-d1ed-e3e648028b59"
      },
      "execution_count": 10,
      "outputs": [
        {
          "output_type": "execute_result",
          "data": {
            "text/plain": [
              "0        0.184741\n",
              "1        0.184741\n",
              "2        0.184741\n",
              "3        0.184741\n",
              "4        0.184741\n",
              "           ...   \n",
              "30070    0.326077\n",
              "30071    0.311324\n",
              "30072    0.303865\n",
              "30073    0.362035\n",
              "30074    0.347806\n",
              "Name: INCOME, Length: 30075, dtype: float64"
            ]
          },
          "metadata": {},
          "execution_count": 10
        }
      ]
    },
    {
      "cell_type": "markdown",
      "source": [
        "**Exercise:** Compute the mean wealth."
      ],
      "metadata": {
        "id": "jAOAPdyAef2N"
      }
    },
    {
      "cell_type": "code",
      "source": [
        "# Solution goes here\n",
        "meanwealth = wealth.mean()\n",
        "meanwealth"
      ],
      "metadata": {
        "id": "4x-HeLId-t6U",
        "colab": {
          "base_uri": "https://localhost:8080/"
        },
        "outputId": "0983bddb-fa75-4cc5-bfff-ee885b473411"
      },
      "execution_count": 12,
      "outputs": [
        {
          "output_type": "execute_result",
          "data": {
            "text/plain": [
              "89.58095185677806"
            ]
          },
          "metadata": {},
          "execution_count": 12
        }
      ]
    },
    {
      "cell_type": "markdown",
      "source": [
        "**Exercise:** Increase everyone's wealth by 100 times of the value of the mean, and compute the logarithm of the new values. Name the logarithm `logwealth`."
      ],
      "metadata": {
        "id": "8r-ovwz--PWw"
      }
    },
    {
      "cell_type": "code",
      "source": [
        "# Solution goes here\n",
        "logwealth = np.log(wealth+meanwealth*100)"
      ],
      "metadata": {
        "id": "yAInQau2-wJD"
      },
      "execution_count": 23,
      "outputs": []
    },
    {
      "cell_type": "markdown",
      "source": [
        "**Exercise:** Print `logwealth` to make sure that the operation was successful."
      ],
      "metadata": {
        "id": "hstk-PeV-klq"
      }
    },
    {
      "cell_type": "code",
      "source": [
        "# Solution goes here\n",
        "logwealth"
      ],
      "metadata": {
        "id": "Xd2uoRtD-yZh",
        "colab": {
          "base_uri": "https://localhost:8080/"
        },
        "outputId": "0baef24d-db45-4147-b7c8-a66d764e8adf"
      },
      "execution_count": 24,
      "outputs": [
        {
          "output_type": "execute_result",
          "data": {
            "text/plain": [
              "0        9.100312\n",
              "1        9.100312\n",
              "2        9.100312\n",
              "3        9.100312\n",
              "4        9.100312\n",
              "           ...   \n",
              "30070    9.100190\n",
              "30071    9.100199\n",
              "30072    9.100178\n",
              "30073    9.100167\n",
              "30074    9.100163\n",
              "Name: NETWORTH, Length: 30075, dtype: float64"
            ]
          },
          "metadata": {},
          "execution_count": 24
        }
      ]
    },
    {
      "cell_type": "markdown",
      "source": [
        "# Ordinary Least Squares (OLS) regression\n",
        "We are now ready to analyze the effect of age and education on income and wealth. Suppose that the natural logs of income and wealth can be determined as\n",
        "\n",
        "$logincome_i$ = $\\alpha_0 + \\alpha_1 age_i + \\alpha_2 edu_i + e_i$  (**model 1**)\n",
        "\n",
        "$logwealth_i$ = $\\beta_0 + \\beta_1 age_i + \\beta_2 edu_i + u_i$ (**model 2**)\n",
        "\n",
        "where $logincome_i$, $logwealth_i$, $age_i$, and $edu_i$ represent the natural logs of income and wealth, age, and years of schooling of individual $i$, respectively.  The variables $e_i$ and $u_i$, called the error term or disturbance, contains unobserved factors that affect income and wealth, respectively. We are interested in the unknown parameters $\\alpha_j$ and $\\beta_j$, $j=1,2,3$. In particular, $\\alpha_1$ and $\\alpha_2$ capture the effect of age and education on income while $\\beta_1$ and $\\beta_2$ reflect the impact of age and education on wealth. $\\alpha_0$ and $\\beta_0$ are called the intercepts. To estimate the parameters $\\alpha_j$ and $\\beta_j$, we just need to import the package `statsmodels.api`, which provides many useful statistical tools for estimation of linear models.\n"
      ],
      "metadata": {
        "id": "-PxXK0T0ahyM"
      }
    },
    {
      "cell_type": "code",
      "metadata": {
        "id": "MxQzAPIcCFb6"
      },
      "source": [
        "# Import packages\n",
        "import statsmodels.api as sm"
      ],
      "execution_count": 17,
      "outputs": []
    },
    {
      "cell_type": "markdown",
      "source": [
        "Let us now focus on model 1, which explains the effect of age and education on income. To run the regression, we need to prepare a vector of the dependent variable (the natural log of income), and a matrix of independent variables (a constant, age and education). Note that the constant is associated with the parameter $\\alpha_0$ while age and education are associated with the parameters $\\alpha_1$ and $\\alpha_2$. We can use the `column_stack` function of the `numpy` package to combine two column vectors into a matrix. For example, the following code line creates a matrix $X$ from the column vectors $age$ and $edu$."
      ],
      "metadata": {
        "id": "oxwDryomHOFp"
      }
    },
    {
      "cell_type": "code",
      "source": [
        "X = np.column_stack((age,edu))\n",
        "X"
      ],
      "metadata": {
        "id": "1R1ko9sTJcNf",
        "colab": {
          "base_uri": "https://localhost:8080/"
        },
        "outputId": "1fbf308b-8c18-4ae0-9caf-3db83e4440ec"
      },
      "execution_count": 18,
      "outputs": [
        {
          "output_type": "execute_result",
          "data": {
            "text/plain": [
              "array([[54, 11],\n",
              "       [54, 11],\n",
              "       [54, 11],\n",
              "       ...,\n",
              "       [76, 13],\n",
              "       [76, 13],\n",
              "       [76, 13]])"
            ]
          },
          "metadata": {},
          "execution_count": 18
        }
      ]
    },
    {
      "cell_type": "markdown",
      "source": [
        "This matrix $X$ currently does not include a column of constants. To add such a column to $X$, we use the `add_constant` function of the package `statsmodels.api`."
      ],
      "metadata": {
        "id": "amtlDpFgJ6hc"
      }
    },
    {
      "cell_type": "code",
      "source": [
        "X = sm.add_constant(X) # add a column of 1s to X\n",
        "X"
      ],
      "metadata": {
        "id": "Ko-iFTOfLCTT",
        "colab": {
          "base_uri": "https://localhost:8080/"
        },
        "outputId": "a5e63bec-ff01-4966-b035-637b8649f2dd"
      },
      "execution_count": 19,
      "outputs": [
        {
          "output_type": "execute_result",
          "data": {
            "text/plain": [
              "array([[ 1., 54., 11.],\n",
              "       [ 1., 54., 11.],\n",
              "       [ 1., 54., 11.],\n",
              "       ...,\n",
              "       [ 1., 76., 13.],\n",
              "       [ 1., 76., 13.],\n",
              "       [ 1., 76., 13.]])"
            ]
          },
          "metadata": {},
          "execution_count": 19
        }
      ]
    },
    {
      "cell_type": "markdown",
      "source": [
        "We are now in the position to run an OLS regression of model 1. There is a straightforward function called `OLS(Y,X)`, where $X$ is the matrix of independent variables and $Y$ is the vector of the dependent variable. The following code lines estimate model 1"
      ],
      "metadata": {
        "id": "50S3aS_XLTBx"
      }
    },
    {
      "cell_type": "code",
      "source": [
        "model1 = sm.OLS(logincome,X) # model1 = sm.RLM(logincome,X) # robust model\n",
        "reg1 = model1.fit()"
      ],
      "metadata": {
        "id": "TRLzzn43Mydv"
      },
      "execution_count": 20,
      "outputs": []
    },
    {
      "cell_type": "markdown",
      "source": [
        "The `fit` function from above asks Python to save all results of the estimation to the variable `reg1`. When we would like to display the main results of the estimation, i.e. the parameters and statistics, we use the `summary` function as follows."
      ],
      "metadata": {
        "id": "rAetExJhN0na"
      }
    },
    {
      "cell_type": "code",
      "source": [
        "print(reg1.summary())"
      ],
      "metadata": {
        "id": "ydzzsR2MQGUQ",
        "colab": {
          "base_uri": "https://localhost:8080/"
        },
        "outputId": "3d552d59-b7bd-43b0-ffa9-c70b4aa24b4b"
      },
      "execution_count": 21,
      "outputs": [
        {
          "output_type": "stream",
          "name": "stdout",
          "text": [
            "                            OLS Regression Results                            \n",
            "==============================================================================\n",
            "Dep. Variable:                 INCOME   R-squared:                       0.196\n",
            "Model:                            OLS   Adj. R-squared:                  0.196\n",
            "Method:                 Least Squares   F-statistic:                     3669.\n",
            "Date:                Tue, 18 Apr 2023   Prob (F-statistic):               0.00\n",
            "Time:                        06:39:59   Log-Likelihood:                -40485.\n",
            "No. Observations:               30075   AIC:                         8.098e+04\n",
            "Df Residuals:                   30072   BIC:                         8.100e+04\n",
            "Df Model:                           2                                         \n",
            "Covariance Type:            nonrobust                                         \n",
            "==============================================================================\n",
            "                 coef    std err          t      P>|t|      [0.025      0.975]\n",
            "------------------------------------------------------------------------------\n",
            "const         -1.9545      0.033    -58.943      0.000      -2.020      -1.890\n",
            "x1             0.0128      0.000     38.511      0.000       0.012       0.013\n",
            "x2             0.1525      0.002     76.801      0.000       0.149       0.156\n",
            "==============================================================================\n",
            "Omnibus:                    15453.798   Durbin-Watson:                   0.399\n",
            "Prob(Omnibus):                  0.000   Jarque-Bera (JB):           106660.292\n",
            "Skew:                           2.422   Prob(JB):                         0.00\n",
            "Kurtosis:                      10.852   Cond. No.                         346.\n",
            "==============================================================================\n",
            "\n",
            "Notes:\n",
            "[1] Standard Errors assume that the covariance matrix of the errors is correctly specified.\n"
          ]
        }
      ]
    },
    {
      "cell_type": "markdown",
      "source": [
        "The parameters $\\alpha_j$ can be found in the middle block of the table above. Accordingly, we find that $\\alpha_0=-1.9545$, $\\alpha_1=0.0128$, and $\\alpha_2=0.1525$. The question now is: How do we interpret these parameters? $\\alpha_0$ is in fact trivial and can be ignored. $\\alpha_1$ and $\\alpha_2$ are positive, implying that older and more educated individuals earn higher income. When it comes the magnitude of the effect, $\\alpha_1=0.0128$ implies that when an individual is one-year older, other things equal, his/her income increases by $1.28\\%$ on average. Similarly, $\\alpha_2=0.1525$ implies that when an individual acquires an additional year of schooling, his/her income increases by $15.25\\%$ on average, ceteris paribus. Clearly, earning a degree helps people increase their income!"
      ],
      "metadata": {
        "id": "jYAQQIskQdiZ"
      }
    },
    {
      "cell_type": "markdown",
      "source": [
        "**Exercise:** Estimate model 2 of wealth and print the results."
      ],
      "metadata": {
        "id": "Zebx-UMUM_cV"
      }
    },
    {
      "cell_type": "code",
      "source": [
        "# Solution goes here\n",
        "model2 = sm.OLS(logwealth, X)\n",
        "reg2 = model2.fit()\n",
        "print(reg2.summary())"
      ],
      "metadata": {
        "id": "vwZb4lrxVKzu",
        "colab": {
          "base_uri": "https://localhost:8080/"
        },
        "outputId": "45bc73e2-4213-4109-8fd7-9407595bc015"
      },
      "execution_count": 25,
      "outputs": [
        {
          "output_type": "stream",
          "name": "stdout",
          "text": [
            "                            OLS Regression Results                            \n",
            "==============================================================================\n",
            "Dep. Variable:               NETWORTH   R-squared:                       0.038\n",
            "Model:                            OLS   Adj. R-squared:                  0.038\n",
            "Method:                 Least Squares   F-statistic:                     601.4\n",
            "Date:                Tue, 18 Apr 2023   Prob (F-statistic):          8.02e-257\n",
            "Time:                        06:47:28   Log-Likelihood:                 50766.\n",
            "No. Observations:               30075   AIC:                        -1.015e+05\n",
            "Df Residuals:                   30072   BIC:                        -1.015e+05\n",
            "Df Model:                           2                                         \n",
            "Covariance Type:            nonrobust                                         \n",
            "==============================================================================\n",
            "                 coef    std err          t      P>|t|      [0.025      0.975]\n",
            "------------------------------------------------------------------------------\n",
            "const          9.0552      0.002   5675.253      0.000       9.052       9.058\n",
            "x1             0.0004    1.6e-05     22.982      0.000       0.000       0.000\n",
            "x2             0.0025   9.56e-05     26.143      0.000       0.002       0.003\n",
            "==============================================================================\n",
            "Omnibus:                    46916.357   Durbin-Watson:                   0.408\n",
            "Prob(Omnibus):                  0.000   Jarque-Bera (JB):         22471069.589\n",
            "Skew:                          10.132   Prob(JB):                         0.00\n",
            "Kurtosis:                     135.368   Cond. No.                         346.\n",
            "==============================================================================\n",
            "\n",
            "Notes:\n",
            "[1] Standard Errors assume that the covariance matrix of the errors is correctly specified.\n"
          ]
        }
      ]
    },
    {
      "cell_type": "markdown",
      "source": [
        "Now we assume that the natural log of income can be determined as follows\n",
        "\n",
        "$logincome_i$ = $\\gamma_0 + \\gamma_1 age_i + \\gamma_2 edu_i + \\gamma_3 sex_i + \\epsilon_i.$  (**model 3**)\n",
        "\n",
        "Note that $sex=1$ implies male while $sex=2$ implies female. Thus, model 3 implies that the difference in income between male and female is $|100\\gamma_3|$ percent."
      ],
      "metadata": {
        "id": "F7t4S-o52isJ"
      }
    },
    {
      "cell_type": "markdown",
      "source": [
        "**Exercise:** Estimate model 3 using the OLS method. Is $\\gamma_3$ positive or negative? Provide an interpretation to $\\gamma_3$. Hint: You just need to create a new matrix of the independent variables before running the regression.\n",
        "\n"
      ],
      "metadata": {
        "id": "1OdGGVzg4-gp"
      }
    },
    {
      "cell_type": "code",
      "source": [
        "# Solution goes here\n",
        "Z = np.column_stack((age,edu,sex))\n",
        "Z = sm.add_constant(Z)\n",
        "model3 = sm.OLS(logincome,Z) # model1 = sm.RLM(logincome,X) # robust model\n",
        "reg3 = model3.fit()\n",
        "print(reg3.summary())"
      ],
      "metadata": {
        "id": "UfmCDfm25iCm",
        "colab": {
          "base_uri": "https://localhost:8080/"
        },
        "outputId": "8c52d8e5-8e87-4d74-c035-a69d81f79b27"
      },
      "execution_count": 26,
      "outputs": [
        {
          "output_type": "stream",
          "name": "stdout",
          "text": [
            "                            OLS Regression Results                            \n",
            "==============================================================================\n",
            "Dep. Variable:                 INCOME   R-squared:                       0.247\n",
            "Model:                            OLS   Adj. R-squared:                  0.247\n",
            "Method:                 Least Squares   F-statistic:                     3293.\n",
            "Date:                Tue, 18 Apr 2023   Prob (F-statistic):               0.00\n",
            "Time:                        06:49:39   Log-Likelihood:                -39496.\n",
            "No. Observations:               30075   AIC:                         7.900e+04\n",
            "Df Residuals:                   30071   BIC:                         7.903e+04\n",
            "Df Model:                           3                                         \n",
            "Covariance Type:            nonrobust                                         \n",
            "==============================================================================\n",
            "                 coef    std err          t      P>|t|      [0.025      0.975]\n",
            "------------------------------------------------------------------------------\n",
            "const         -1.1393      0.037    -30.954      0.000      -1.211      -1.067\n",
            "x1             0.0131      0.000     40.812      0.000       0.012       0.014\n",
            "x2             0.1422      0.002     73.452      0.000       0.138       0.146\n",
            "x3            -0.5559      0.012    -45.205      0.000      -0.580      -0.532\n",
            "==============================================================================\n",
            "Omnibus:                    15524.827   Durbin-Watson:                   0.398\n",
            "Prob(Omnibus):                  0.000   Jarque-Bera (JB):           111963.307\n",
            "Skew:                           2.416   Prob(JB):                         0.00\n",
            "Kurtosis:                      11.124   Cond. No.                         402.\n",
            "==============================================================================\n",
            "\n",
            "Notes:\n",
            "[1] Standard Errors assume that the covariance matrix of the errors is correctly specified.\n"
          ]
        }
      ]
    },
    {
      "cell_type": "markdown",
      "source": [
        "Congratulations! You have completed the worksheet. Now I would like to introduce to you another option to run a regression using Python. There is a widely used textbook by Jeffrey Wooldridge namely *Introductory Econometrics: A Modern Approach* and a built-in Python package associated with it. Let us install and then import the package "
      ],
      "metadata": {
        "id": "NeD1nmqfHhJ0"
      }
    },
    {
      "cell_type": "code",
      "source": [
        "pip install wooldridge\n"
      ],
      "metadata": {
        "id": "Ke4zzDuRZs57",
        "colab": {
          "base_uri": "https://localhost:8080/"
        },
        "outputId": "0b68e906-8b2f-45ce-c97c-de6534d5951c"
      },
      "execution_count": 27,
      "outputs": [
        {
          "output_type": "stream",
          "name": "stdout",
          "text": [
            "Looking in indexes: https://pypi.org/simple, https://us-python.pkg.dev/colab-wheels/public/simple/\n",
            "Collecting wooldridge\n",
            "  Downloading wooldridge-0.4.4-py3-none-any.whl (5.1 MB)\n",
            "\u001b[2K     \u001b[90m━━━━━━━━━━━━━━━━━━━━━━━━━━━━━━━━━━━━━━━━\u001b[0m \u001b[32m5.1/5.1 MB\u001b[0m \u001b[31m75.3 MB/s\u001b[0m eta \u001b[36m0:00:00\u001b[0m\n",
            "\u001b[?25hRequirement already satisfied: pandas in /usr/local/lib/python3.9/dist-packages (from wooldridge) (1.5.3)\n",
            "Requirement already satisfied: numpy>=1.20.3 in /usr/local/lib/python3.9/dist-packages (from pandas->wooldridge) (1.22.4)\n",
            "Requirement already satisfied: pytz>=2020.1 in /usr/local/lib/python3.9/dist-packages (from pandas->wooldridge) (2022.7.1)\n",
            "Requirement already satisfied: python-dateutil>=2.8.1 in /usr/local/lib/python3.9/dist-packages (from pandas->wooldridge) (2.8.2)\n",
            "Requirement already satisfied: six>=1.5 in /usr/local/lib/python3.9/dist-packages (from python-dateutil>=2.8.1->pandas->wooldridge) (1.16.0)\n",
            "Installing collected packages: wooldridge\n",
            "Successfully installed wooldridge-0.4.4\n"
          ]
        }
      ]
    },
    {
      "cell_type": "code",
      "source": [
        "import wooldridge as woo # import the Wooldridge package"
      ],
      "metadata": {
        "id": "hye-UlS7Z_VE"
      },
      "execution_count": 28,
      "outputs": []
    },
    {
      "cell_type": "markdown",
      "source": [
        "Now consider the following regression equation:\n",
        "\n",
        "$y_i$ = $\\alpha_0 + \\sum_{i=1}^n\\alpha_i x_i + e_i$ \n",
        "\n",
        "The following code lines will estimate the equation and print the results\n",
        "\n",
        "`reg = smf.ols(formula='y ~ x1 + x2 + ... +xn', data=dataset)`\n",
        "\n",
        "`results = reg.fit()`\n",
        "\n",
        "`print(results.summary())`\n",
        "\n",
        "where `x`, `y`, and `dataset` should be changed when you work with different variables and data sets. To import a data set from the Wooldridge package, you can run the code line\n",
        "\n",
        "`data_name = woo.dataWoo('data_set')`"
      ],
      "metadata": {
        "id": "fnhjD29yaJOD"
      }
    },
    {
      "cell_type": "markdown",
      "source": [
        "**Exercise**: Load the data set `wage1` and estimate the following model\n",
        "\n",
        "$ln(wage_i) = \\beta_0 + \\beta_1 educ_i + \\beta_2 exper_i + \\beta_3 exper^2_i + \\beta_4 tenure_i +u_i $.\n"
      ],
      "metadata": {
        "id": "zio2QssobJWB"
      }
    }
  ]
}