{
  "nbformat": 4,
  "nbformat_minor": 0,
  "metadata": {
    "colab": {
      "provenance": [],
      "include_colab_link": true
    },
    "kernelspec": {
      "name": "python3",
      "display_name": "Python 3"
    },
    "language_info": {
      "name": "python"
    }
  },
  "cells": [
    {
      "cell_type": "markdown",
      "metadata": {
        "id": "view-in-github",
        "colab_type": "text"
      },
      "source": [
        "<a href=\"https://colab.research.google.com/github/n9hquan/QR103/blob/main/WS_2.6_Confidence_intervals_Nguyen_Chinh_Quan.ipynb\" target=\"_parent\"><img src=\"https://colab.research.google.com/assets/colab-badge.svg\" alt=\"Open In Colab\"/></a>"
      ]
    },
    {
      "cell_type": "markdown",
      "source": [
        "# Introduction"
      ],
      "metadata": {
        "id": "ayhkfVkjaKX8"
      }
    },
    {
      "cell_type": "markdown",
      "source": [
        "In this notebook we will practice calculating and summarizing descriptive statistics to describe a single variable. The objectives are:\n",
        "\n",
        "1. Select values for variables from a pandas data frame.\n",
        "2. Clean the data\n",
        "3. Calculate confidence intervals for means of variables\n",
        "4. Calculate confidence intervals for medians of variables"
      ],
      "metadata": {
        "id": "Q_z7Ia7taQj4"
      }
    },
    {
      "cell_type": "markdown",
      "source": [
        "First we import the neccessary libraries. Today we use one new library for statistics tool `scipy.stats`."
      ],
      "metadata": {
        "id": "mW_zoH53gA0L"
      }
    },
    {
      "cell_type": "code",
      "metadata": {
        "id": "2OViG1nIv056"
      },
      "source": [
        "import pandas as pd\n",
        "import matplotlib.pyplot as plt\n",
        "import numpy as np\n",
        "import scipy.stats as st\n",
        "\n",
        "from google.colab import files\n",
        "import io"
      ],
      "execution_count": 1,
      "outputs": []
    },
    {
      "cell_type": "markdown",
      "source": [
        "Let's read the file 'datareg.xlsx' that we used in previous worksheets. I uploaded the file to my Github account for easier importing."
      ],
      "metadata": {
        "id": "_w8k7uwLd4qe"
      }
    },
    {
      "cell_type": "code",
      "metadata": {
        "id": "yVClL6mNVdHU"
      },
      "source": [
        "data_url = \"https://github.com/lhprime/MATH105/blob/main/datareg.xlsx?raw=true\"\n",
        "data = pd.read_excel(data_url)"
      ],
      "execution_count": 2,
      "outputs": []
    },
    {
      "cell_type": "code",
      "metadata": {
        "id": "ejFNPVWoePR9",
        "colab": {
          "base_uri": "https://localhost:8080/",
          "height": 423
        },
        "outputId": "b084dd56-980f-4900-b008-c84a007f6cc3"
      },
      "source": [
        "data"
      ],
      "execution_count": 3,
      "outputs": [
        {
          "output_type": "execute_result",
          "data": {
            "text/plain": [
              "       HHSEX  AGE  EDUC        INCOME  NETWORTH\n",
              "0          1   54    11  20290.628707    -400.0\n",
              "1          1   54    11  20290.628707    -400.0\n",
              "2          1   54    11  20290.628707    -400.0\n",
              "3          1   54    11  20290.628707    -400.0\n",
              "4          1   54    11  20290.628707    -400.0\n",
              "...      ...  ...   ...           ...       ...\n",
              "30070      1   76    13  38552.194543 -110400.0\n",
              "30071      1   76    13  36523.131673 -101700.0\n",
              "30072      1   76    13  35508.600237 -120600.0\n",
              "30073      1   76    13  43624.851720 -130300.0\n",
              "30074      1   76    13  41595.788849 -133900.0\n",
              "\n",
              "[30075 rows x 5 columns]"
            ],
            "text/html": [
              "\n",
              "  <div id=\"df-459fc2a1-ea0a-4556-b0ec-6821162b635b\">\n",
              "    <div class=\"colab-df-container\">\n",
              "      <div>\n",
              "<style scoped>\n",
              "    .dataframe tbody tr th:only-of-type {\n",
              "        vertical-align: middle;\n",
              "    }\n",
              "\n",
              "    .dataframe tbody tr th {\n",
              "        vertical-align: top;\n",
              "    }\n",
              "\n",
              "    .dataframe thead th {\n",
              "        text-align: right;\n",
              "    }\n",
              "</style>\n",
              "<table border=\"1\" class=\"dataframe\">\n",
              "  <thead>\n",
              "    <tr style=\"text-align: right;\">\n",
              "      <th></th>\n",
              "      <th>HHSEX</th>\n",
              "      <th>AGE</th>\n",
              "      <th>EDUC</th>\n",
              "      <th>INCOME</th>\n",
              "      <th>NETWORTH</th>\n",
              "    </tr>\n",
              "  </thead>\n",
              "  <tbody>\n",
              "    <tr>\n",
              "      <th>0</th>\n",
              "      <td>1</td>\n",
              "      <td>54</td>\n",
              "      <td>11</td>\n",
              "      <td>20290.628707</td>\n",
              "      <td>-400.0</td>\n",
              "    </tr>\n",
              "    <tr>\n",
              "      <th>1</th>\n",
              "      <td>1</td>\n",
              "      <td>54</td>\n",
              "      <td>11</td>\n",
              "      <td>20290.628707</td>\n",
              "      <td>-400.0</td>\n",
              "    </tr>\n",
              "    <tr>\n",
              "      <th>2</th>\n",
              "      <td>1</td>\n",
              "      <td>54</td>\n",
              "      <td>11</td>\n",
              "      <td>20290.628707</td>\n",
              "      <td>-400.0</td>\n",
              "    </tr>\n",
              "    <tr>\n",
              "      <th>3</th>\n",
              "      <td>1</td>\n",
              "      <td>54</td>\n",
              "      <td>11</td>\n",
              "      <td>20290.628707</td>\n",
              "      <td>-400.0</td>\n",
              "    </tr>\n",
              "    <tr>\n",
              "      <th>4</th>\n",
              "      <td>1</td>\n",
              "      <td>54</td>\n",
              "      <td>11</td>\n",
              "      <td>20290.628707</td>\n",
              "      <td>-400.0</td>\n",
              "    </tr>\n",
              "    <tr>\n",
              "      <th>...</th>\n",
              "      <td>...</td>\n",
              "      <td>...</td>\n",
              "      <td>...</td>\n",
              "      <td>...</td>\n",
              "      <td>...</td>\n",
              "    </tr>\n",
              "    <tr>\n",
              "      <th>30070</th>\n",
              "      <td>1</td>\n",
              "      <td>76</td>\n",
              "      <td>13</td>\n",
              "      <td>38552.194543</td>\n",
              "      <td>-110400.0</td>\n",
              "    </tr>\n",
              "    <tr>\n",
              "      <th>30071</th>\n",
              "      <td>1</td>\n",
              "      <td>76</td>\n",
              "      <td>13</td>\n",
              "      <td>36523.131673</td>\n",
              "      <td>-101700.0</td>\n",
              "    </tr>\n",
              "    <tr>\n",
              "      <th>30072</th>\n",
              "      <td>1</td>\n",
              "      <td>76</td>\n",
              "      <td>13</td>\n",
              "      <td>35508.600237</td>\n",
              "      <td>-120600.0</td>\n",
              "    </tr>\n",
              "    <tr>\n",
              "      <th>30073</th>\n",
              "      <td>1</td>\n",
              "      <td>76</td>\n",
              "      <td>13</td>\n",
              "      <td>43624.851720</td>\n",
              "      <td>-130300.0</td>\n",
              "    </tr>\n",
              "    <tr>\n",
              "      <th>30074</th>\n",
              "      <td>1</td>\n",
              "      <td>76</td>\n",
              "      <td>13</td>\n",
              "      <td>41595.788849</td>\n",
              "      <td>-133900.0</td>\n",
              "    </tr>\n",
              "  </tbody>\n",
              "</table>\n",
              "<p>30075 rows × 5 columns</p>\n",
              "</div>\n",
              "      <button class=\"colab-df-convert\" onclick=\"convertToInteractive('df-459fc2a1-ea0a-4556-b0ec-6821162b635b')\"\n",
              "              title=\"Convert this dataframe to an interactive table.\"\n",
              "              style=\"display:none;\">\n",
              "        \n",
              "  <svg xmlns=\"http://www.w3.org/2000/svg\" height=\"24px\"viewBox=\"0 0 24 24\"\n",
              "       width=\"24px\">\n",
              "    <path d=\"M0 0h24v24H0V0z\" fill=\"none\"/>\n",
              "    <path d=\"M18.56 5.44l.94 2.06.94-2.06 2.06-.94-2.06-.94-.94-2.06-.94 2.06-2.06.94zm-11 1L8.5 8.5l.94-2.06 2.06-.94-2.06-.94L8.5 2.5l-.94 2.06-2.06.94zm10 10l.94 2.06.94-2.06 2.06-.94-2.06-.94-.94-2.06-.94 2.06-2.06.94z\"/><path d=\"M17.41 7.96l-1.37-1.37c-.4-.4-.92-.59-1.43-.59-.52 0-1.04.2-1.43.59L10.3 9.45l-7.72 7.72c-.78.78-.78 2.05 0 2.83L4 21.41c.39.39.9.59 1.41.59.51 0 1.02-.2 1.41-.59l7.78-7.78 2.81-2.81c.8-.78.8-2.07 0-2.86zM5.41 20L4 18.59l7.72-7.72 1.47 1.35L5.41 20z\"/>\n",
              "  </svg>\n",
              "      </button>\n",
              "      \n",
              "  <style>\n",
              "    .colab-df-container {\n",
              "      display:flex;\n",
              "      flex-wrap:wrap;\n",
              "      gap: 12px;\n",
              "    }\n",
              "\n",
              "    .colab-df-convert {\n",
              "      background-color: #E8F0FE;\n",
              "      border: none;\n",
              "      border-radius: 50%;\n",
              "      cursor: pointer;\n",
              "      display: none;\n",
              "      fill: #1967D2;\n",
              "      height: 32px;\n",
              "      padding: 0 0 0 0;\n",
              "      width: 32px;\n",
              "    }\n",
              "\n",
              "    .colab-df-convert:hover {\n",
              "      background-color: #E2EBFA;\n",
              "      box-shadow: 0px 1px 2px rgba(60, 64, 67, 0.3), 0px 1px 3px 1px rgba(60, 64, 67, 0.15);\n",
              "      fill: #174EA6;\n",
              "    }\n",
              "\n",
              "    [theme=dark] .colab-df-convert {\n",
              "      background-color: #3B4455;\n",
              "      fill: #D2E3FC;\n",
              "    }\n",
              "\n",
              "    [theme=dark] .colab-df-convert:hover {\n",
              "      background-color: #434B5C;\n",
              "      box-shadow: 0px 1px 3px 1px rgba(0, 0, 0, 0.15);\n",
              "      filter: drop-shadow(0px 1px 2px rgba(0, 0, 0, 0.3));\n",
              "      fill: #FFFFFF;\n",
              "    }\n",
              "  </style>\n",
              "\n",
              "      <script>\n",
              "        const buttonEl =\n",
              "          document.querySelector('#df-459fc2a1-ea0a-4556-b0ec-6821162b635b button.colab-df-convert');\n",
              "        buttonEl.style.display =\n",
              "          google.colab.kernel.accessAllowed ? 'block' : 'none';\n",
              "\n",
              "        async function convertToInteractive(key) {\n",
              "          const element = document.querySelector('#df-459fc2a1-ea0a-4556-b0ec-6821162b635b');\n",
              "          const dataTable =\n",
              "            await google.colab.kernel.invokeFunction('convertToInteractive',\n",
              "                                                     [key], {});\n",
              "          if (!dataTable) return;\n",
              "\n",
              "          const docLinkHtml = 'Like what you see? Visit the ' +\n",
              "            '<a target=\"_blank\" href=https://colab.research.google.com/notebooks/data_table.ipynb>data table notebook</a>'\n",
              "            + ' to learn more about interactive tables.';\n",
              "          element.innerHTML = '';\n",
              "          dataTable['output_type'] = 'display_data';\n",
              "          await google.colab.output.renderOutput(dataTable, element);\n",
              "          const docLink = document.createElement('div');\n",
              "          docLink.innerHTML = docLinkHtml;\n",
              "          element.appendChild(docLink);\n",
              "        }\n",
              "      </script>\n",
              "    </div>\n",
              "  </div>\n",
              "  "
            ]
          },
          "metadata": {},
          "execution_count": 3
        }
      ]
    },
    {
      "cell_type": "markdown",
      "source": [
        "#Selecting and cleaning variables"
      ],
      "metadata": {
        "id": "1COUSL516bLh"
      }
    },
    {
      "cell_type": "markdown",
      "source": [
        "In this worksheet we will practice comparing two groups of income based on some factor. First let's explore how the factor \"AGE\" affect the income. We will look at the descriptive statistics of the \"AGE\" column to have a better view of the data."
      ],
      "metadata": {
        "id": "j9ZaeS6AzOqR"
      }
    },
    {
      "cell_type": "code",
      "source": [
        "data.AGE.describe()"
      ],
      "metadata": {
        "id": "N7pLxu8ePhAV",
        "colab": {
          "base_uri": "https://localhost:8080/"
        },
        "outputId": "7d78a971-2512-4f3c-b515-32b8dee00365"
      },
      "execution_count": 4,
      "outputs": [
        {
          "output_type": "execute_result",
          "data": {
            "text/plain": [
              "count    30075.000000\n",
              "mean        51.753283\n",
              "std         16.170621\n",
              "min         18.000000\n",
              "25%         39.000000\n",
              "50%         52.000000\n",
              "75%         63.000000\n",
              "max         95.000000\n",
              "Name: AGE, dtype: float64"
            ]
          },
          "metadata": {},
          "execution_count": 4
        }
      ]
    },
    {
      "cell_type": "markdown",
      "source": [
        "We can see that our data is quite large and contains values from 18 to 95. Let's say we want to see if older people have different income compared to young people. For example we can define young to have AGE less than 40 and old to have AGE more than 60 and extract the INCOME data into two corresponding variables `young_income` and `old_income`."
      ],
      "metadata": {
        "id": "vfr5Nk-lz6Oj"
      }
    },
    {
      "cell_type": "code",
      "source": [
        "young_income = data[data.AGE < 40].INCOME\n",
        "young_income"
      ],
      "metadata": {
        "id": "ejWJTy0LQRMr",
        "colab": {
          "base_uri": "https://localhost:8080/"
        },
        "outputId": "d67a72fd-837c-4daf-99a2-9ab124534519"
      },
      "execution_count": 39,
      "outputs": [
        {
          "output_type": "execute_result",
          "data": {
            "text/plain": [
              "5        22319.691578\n",
              "6        22319.691578\n",
              "7        22319.691578\n",
              "8        22319.691578\n",
              "9        22319.691578\n",
              "             ...     \n",
              "30065    16232.502966\n",
              "30066    16232.502966\n",
              "30067    19276.097272\n",
              "30068    18261.565836\n",
              "30069    17247.034401\n",
              "Name: INCOME, Length: 7535, dtype: float64"
            ]
          },
          "metadata": {},
          "execution_count": 39
        }
      ]
    },
    {
      "cell_type": "code",
      "source": [
        "old_income = data[data.AGE > 60].INCOME\n",
        "old_income"
      ],
      "metadata": {
        "id": "vslHpQ0sQmhp",
        "colab": {
          "base_uri": "https://localhost:8080/"
        },
        "outputId": "85eb2bc2-d3ac-45ff-b7e2-382064ab16a3"
      },
      "execution_count": 34,
      "outputs": [
        {
          "output_type": "execute_result",
          "data": {
            "text/plain": [
              "25       32465.005931\n",
              "26       48697.508897\n",
              "27       49712.040332\n",
              "28       32465.005931\n",
              "29       32465.005931\n",
              "             ...     \n",
              "30070    38552.194543\n",
              "30071    36523.131673\n",
              "30072    35508.600237\n",
              "30073    43624.851720\n",
              "30074    41595.788849\n",
              "Name: INCOME, Length: 9185, dtype: float64"
            ]
          },
          "metadata": {},
          "execution_count": 34
        }
      ]
    },
    {
      "cell_type": "markdown",
      "source": [
        "Now that we have our variables, let's clean them before comparing. The first step is to look at their boxplots to see if there is outlier."
      ],
      "metadata": {
        "id": "4laoo67A2qPB"
      }
    },
    {
      "cell_type": "code",
      "source": [
        "# produce the box plot of young_income here\n",
        "plt.figure(figsize=(10,6))\n",
        "plt.boxplot(young_income, vert = False)\n",
        "plt.show()"
      ],
      "metadata": {
        "id": "jjSatTW43zJU",
        "colab": {
          "base_uri": "https://localhost:8080/",
          "height": 540
        },
        "outputId": "124c8ddc-c5b0-4837-d0b9-1be1db74b9a2"
      },
      "execution_count": 40,
      "outputs": [
        {
          "output_type": "display_data",
          "data": {
            "text/plain": [
              "<Figure size 1000x600 with 1 Axes>"
            ],
            "image/png": "[encoded data removed]"
          },
          "metadata": {}
        }
      ]
    },
    {
      "cell_type": "markdown",
      "source": [
        "We can see that `young_income` has many outliers on the right. Let's clean them using the IQR. To support the long right tail we will use a larger coefficient of 2.5 on the right."
      ],
      "metadata": {
        "id": "mocZjr1Q5IUQ"
      }
    },
    {
      "cell_type": "code",
      "metadata": {
        "id": "nzZJjA15j7CD"
      },
      "source": [
        "# clean the outliers of young_income using 2.5 IQR for the upper wishker. Use the same variable young_income to store the cleaned data \n",
        "q1_low,q3_low = young_income.quantile([0.25,0.75])\n",
        "low_whisker_low = q1_low - 1.5*(q3_low - q1_low)\n",
        "upp_whisker_low = q3_low + 2.5*(q3_low - q1_low)\n",
        "young_income = young_income[(young_income<=upp_whisker_low)&(young_income>=low_whisker_low)]"
      ],
      "execution_count": 50,
      "outputs": []
    },
    {
      "cell_type": "markdown",
      "source": [
        "Let's look at the box plot of the cleaned variable."
      ],
      "metadata": {
        "id": "StQUKH-r5bXm"
      }
    },
    {
      "cell_type": "code",
      "source": [
        "# produce the box plot of the new variable here\n",
        "plt.figure(figsize=(10,6))\n",
        "plt.boxplot(young_income, vert = False)\n",
        "plt.show()"
      ],
      "metadata": {
        "id": "1PSOtswU4qVf",
        "colab": {
          "base_uri": "https://localhost:8080/",
          "height": 522
        },
        "outputId": "d34fdb2b-4479-43c9-d816-f1412defd5db"
      },
      "execution_count": 54,
      "outputs": [
        {
          "output_type": "display_data",
          "data": {
            "text/plain": [
              "<Figure size 1000x600 with 1 Axes>"
            ],
            "image/png": "[encoded data removed]"
          },
          "metadata": {}
        }
      ]
    },
    {
      "cell_type": "markdown",
      "source": [
        "**Exercise:** Clean the variable `old_income` using the same method."
      ],
      "metadata": {
        "id": "W3_vZ4F45ksV"
      }
    },
    {
      "cell_type": "code",
      "source": [
        "#Solution goes here\n",
        "q1_old,q3_old = old_income.quantile([0.25,0.75])\n",
        "low_whisker_old = q1_old - 1.5*(q3_old - q1_old)\n",
        "upp_whisker_old = q3_old + 2.5*(q3_old - q1_old)\n",
        "old_income = old_income[(old_income<=upp_whisker_old)&(old_income>=low_whisker_old)]"
      ],
      "metadata": {
        "id": "P2zRlfbW4x9P"
      },
      "execution_count": 57,
      "outputs": []
    },
    {
      "cell_type": "markdown",
      "source": [
        "Now that we have two variables cleaned, let's look at their histograms to see if there is any difference."
      ],
      "metadata": {
        "id": "eyVP8Ur46Cko"
      }
    },
    {
      "cell_type": "code",
      "source": [
        "plt.figure(figsize=(10,6))\n",
        "plt.hist(young_income, bins = 20, density = True)\n",
        "plt.hist(old_income, bins = 100, density = True)\n",
        "plt.show()"
      ],
      "metadata": {
        "id": "4IyvHORi26XM",
        "colab": {
          "base_uri": "https://localhost:8080/",
          "height": 537
        },
        "outputId": "cf7c4915-3e11-4323-aae8-1363fd02a761"
      },
      "execution_count": 61,
      "outputs": [
        {
          "output_type": "display_data",
          "data": {
            "text/plain": [
              "<Figure size 1000x600 with 1 Axes>"
            ],
            "image/png": "[encoded data removed]"
          },
          "metadata": {}
        }
      ]
    },
    {
      "cell_type": "markdown",
      "source": [
        "**Question:** By looking at the two histograms, can you conclude any thing about the two variables?"
      ],
      "metadata": {
        "id": "phC0DBtz6LdG"
      }
    },
    {
      "cell_type": "markdown",
      "source": [
        "#Comparing variables using confidence intervals of the means\n"
      ],
      "metadata": {
        "id": "0RzcncTs7mTI"
      }
    },
    {
      "cell_type": "markdown",
      "source": [
        "The easiest way to compare two variables is to look at their basic statistics. For measuring the centers we can use the sample mean or the median. Let's look at the sample means first."
      ],
      "metadata": {
        "id": "cb6nhjHH7uC8"
      }
    },
    {
      "cell_type": "code",
      "source": [
        "# calculate the means of young_income and old_income here\n",
        "mean_young = young_income.mean()\n",
        "mean_old = old_income.mean()\n",
        "mean_young, mean_old"
      ],
      "metadata": {
        "id": "MJTAzgiZVqcr",
        "colab": {
          "base_uri": "https://localhost:8080/"
        },
        "outputId": "b2dcf4ea-570a-4eb9-8e18-2b8c942988d2"
      },
      "execution_count": 63,
      "outputs": [
        {
          "output_type": "execute_result",
          "data": {
            "text/plain": [
              "(42264.229299926745, 62291.92243282546)"
            ]
          },
          "metadata": {},
          "execution_count": 63
        }
      ]
    },
    {
      "cell_type": "markdown",
      "source": [
        "We can see that the difference of two means a quite large. Remember that these are sample means, which means they are random and depend on the samples. We would want to know if this large difference could happen by chance or not. One way to do so is to calculate the Confidence intervals for the population means."
      ],
      "metadata": {
        "id": "CdMhTte78VkA"
      }
    },
    {
      "cell_type": "markdown",
      "source": [
        "To calculate the confidence interval, because of the Central limit theorem, we can use the  normal distribution `norm` from `scipy.stats` and the function `interval`. We need to input the following parameters: \n",
        "* the confidence level: 95%, 90%, etc.\n",
        "* `loc` = the sample mean  \n",
        "* `scale` = the sample standard error of the mean `.sem()` (this is actually the sample standard deviation divided by square root of sample size)\n",
        "\n",
        "The output will be a list of 2 numbers: the left end value and the right end value of the interval. We will use an array of length 2 named `ci_n_young` to store these two numbers."
      ],
      "metadata": {
        "id": "5UithX_J9iW9"
      }
    },
    {
      "cell_type": "code",
      "source": [
        "ci_n_young = st.norm.interval(0.95, loc=young_income.mean(),scale=young_income.sem())\n",
        "ci_n_young"
      ],
      "metadata": {
        "id": "6SwXf5csRJo-",
        "colab": {
          "base_uri": "https://localhost:8080/"
        },
        "outputId": "c13f2573-afc4-4963-c84a-d57dcd6fe852"
      },
      "execution_count": 64,
      "outputs": [
        {
          "output_type": "execute_result",
          "data": {
            "text/plain": [
              "(41581.686777397714, 42946.771822455776)"
            ]
          },
          "metadata": {},
          "execution_count": 64
        }
      ]
    },
    {
      "cell_type": "markdown",
      "source": [
        "**Exercise:** Calculate the confidence interval for the mean of `old_income` and store the values in an array named `ci_n_old`."
      ],
      "metadata": {
        "id": "IKftI91N-XUj"
      }
    },
    {
      "cell_type": "code",
      "source": [
        "#Solution goes here\n",
        "ci_n_old = st.norm.interval(0.95, loc=old_income.mean(),scale=old_income.sem())\n",
        "ci_n_old"
      ],
      "metadata": {
        "id": "nTnFdwpeRgf3",
        "colab": {
          "base_uri": "https://localhost:8080/"
        },
        "outputId": "edd9bd73-7ca1-4ea8-c886-c3c36f766d9d"
      },
      "execution_count": 65,
      "outputs": [
        {
          "output_type": "execute_result",
          "data": {
            "text/plain": [
              "(61030.0550715766, 63553.78979407431)"
            ]
          },
          "metadata": {},
          "execution_count": 65
        }
      ]
    },
    {
      "cell_type": "markdown",
      "source": [
        "We can graph the sample means with the confidence intervals showed as possible error. To do this, we need to add in 2 options for the `plt.bar` function: \n",
        "* `yerr` is the length of the \"whiskers\", here we set it to be half of the length of the confidence interval\n",
        "* `capsize` is the size of the caps at the two ends of the intervals"
      ],
      "metadata": {
        "id": "6kYdC-fIBg4x"
      }
    },
    {
      "cell_type": "code",
      "source": [
        "plt.bar(1, young_income.mean(), capsize=10,  yerr = (ci_n_young[1]-ci_n_young[0])/2)\n",
        "plt.bar(2, old_income.mean(), capsize=10,  yerr = (ci_n_old[1]-ci_n_old[0])/2)\n",
        "plt.show()"
      ],
      "metadata": {
        "id": "HGCYcSpGSY_e",
        "colab": {
          "base_uri": "https://localhost:8080/",
          "height": 430
        },
        "outputId": "d90a5431-3d7c-4c35-c0dd-26b67e81a5cb"
      },
      "execution_count": 66,
      "outputs": [
        {
          "output_type": "display_data",
          "data": {
            "text/plain": [
              "<Figure size 640x480 with 1 Axes>"
            ],
            "image/png": "[encoded data removed]"
          },
          "metadata": {}
        }
      ]
    },
    {
      "cell_type": "markdown",
      "source": [
        "Looking at the two confidence intervals we can safely conclude that the `old_income` is much larger than the `young_income`."
      ],
      "metadata": {
        "id": "gmXhHSf4BEDI"
      }
    }
  ]
}