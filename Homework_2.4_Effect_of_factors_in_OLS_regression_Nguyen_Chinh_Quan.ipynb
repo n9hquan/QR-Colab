{
  "nbformat": 4,
  "nbformat_minor": 0,
  "metadata": {
    "colab": {
      "provenance": [],
      "authorship_tag": "ABX9TyN8mmJQPXCjUNKNZZIKM9mx",
      "include_colab_link": true
    },
    "kernelspec": {
      "name": "python3",
      "display_name": "Python 3"
    },
    "language_info": {
      "name": "python"
    }
  },
  "cells": [
    {
      "cell_type": "markdown",
      "metadata": {
        "id": "view-in-github",
        "colab_type": "text"
      },
      "source": [
        "<a href=\"https://colab.research.google.com/github/n9hquan/QR103/blob/main/Homework_2.4_Effect_of_factors_in_OLS_regression_Nguyen_Chinh_Quan.ipynb\" target=\"_parent\"><img src=\"https://colab.research.google.com/assets/colab-badge.svg\" alt=\"Open In Colab\"/></a>"
      ]
    },
    {
      "cell_type": "code",
      "execution_count": 3,
      "metadata": {
        "id": "_Y5XTxHPSFUD"
      },
      "outputs": [],
      "source": [
        "import numpy as np\n",
        "import pandas as pd\n",
        "import matplotlib.pyplot as plt\n",
        "from google.colab import files\n",
        "import io\n",
        "import statsmodels.api as sm"
      ]
    },
    {
      "cell_type": "code",
      "source": [
        "uploaded = files.upload()\n",
        "dataReg = pd.read_excel(io.BytesIO(uploaded[\"datareg.xlsx\"]))"
      ],
      "metadata": {
        "colab": {
          "base_uri": "https://localhost:8080/",
          "height": 73
        },
        "id": "FTW3Y2czSd8E",
        "outputId": "b8ae94d6-f53a-4751-c888-5db94e329c8d"
      },
      "execution_count": 2,
      "outputs": [
        {
          "output_type": "display_data",
          "data": {
            "text/plain": [
              "<IPython.core.display.HTML object>"
            ],
            "text/html": [
              "\n",
              "     <input type=\"file\" id=\"files-26487bad-a34c-4cfb-b816-b3ece54e0030\" name=\"files[]\" multiple disabled\n",
              "        style=\"border:none\" />\n",
              "     <output id=\"result-26487bad-a34c-4cfb-b816-b3ece54e0030\">\n",
              "      Upload widget is only available when the cell has been executed in the\n",
              "      current browser session. Please rerun this cell to enable.\n",
              "      </output>\n",
              "      <script>// Copyright 2017 Google LLC\n",
              "//\n",
              "// Licensed under the Apache License, Version 2.0 (the \"License\");\n",
              "// you may not use this file except in compliance with the License.\n",
              "// You may obtain a copy of the License at\n",
              "//\n",
              "//      http://www.apache.org/licenses/LICENSE-2.0\n",
              "//\n",
              "// Unless required by applicable law or agreed to in writing, software\n",
              "// distributed under the License is distributed on an \"AS IS\" BASIS,\n",
              "// WITHOUT WARRANTIES OR CONDITIONS OF ANY KIND, either express or implied.\n",
              "// See the License for the specific language governing permissions and\n",
              "// limitations under the License.\n",
              "\n",
              "/**\n",
              " * @fileoverview Helpers for google.colab Python module.\n",
              " */\n",
              "(function(scope) {\n",
              "function span(text, styleAttributes = {}) {\n",
              "  const element = document.createElement('span');\n",
              "  element.textContent = text;\n",
              "  for (const key of Object.keys(styleAttributes)) {\n",
              "    element.style[key] = styleAttributes[key];\n",
              "  }\n",
              "  return element;\n",
              "}\n",
              "\n",
              "// Max number of bytes which will be uploaded at a time.\n",
              "const MAX_PAYLOAD_SIZE = 100 * 1024;\n",
              "\n",
              "function _uploadFiles(inputId, outputId) {\n",
              "  const steps = uploadFilesStep(inputId, outputId);\n",
              "  const outputElement = document.getElementById(outputId);\n",
              "  // Cache steps on the outputElement to make it available for the next call\n",
              "  // to uploadFilesContinue from Python.\n",
              "  outputElement.steps = steps;\n",
              "\n",
              "  return _uploadFilesContinue(outputId);\n",
              "}\n",
              "\n",
              "// This is roughly an async generator (not supported in the browser yet),\n",
              "// where there are multiple asynchronous steps and the Python side is going\n",
              "// to poll for completion of each step.\n",
              "// This uses a Promise to block the python side on completion of each step,\n",
              "// then passes the result of the previous step as the input to the next step.\n",
              "function _uploadFilesContinue(outputId) {\n",
              "  const outputElement = document.getElementById(outputId);\n",
              "  const steps = outputElement.steps;\n",
              "\n",
              "  const next = steps.next(outputElement.lastPromiseValue);\n",
              "  return Promise.resolve(next.value.promise).then((value) => {\n",
              "    // Cache the last promise value to make it available to the next\n",
              "    // step of the generator.\n",
              "    outputElement.lastPromiseValue = value;\n",
              "    return next.value.response;\n",
              "  });\n",
              "}\n",
              "\n",
              "/**\n",
              " * Generator function which is called between each async step of the upload\n",
              " * process.\n",
              " * @param {string} inputId Element ID of the input file picker element.\n",
              " * @param {string} outputId Element ID of the output display.\n",
              " * @return {!Iterable<!Object>} Iterable of next steps.\n",
              " */\n",
              "function* uploadFilesStep(inputId, outputId) {\n",
              "  const inputElement = document.getElementById(inputId);\n",
              "  inputElement.disabled = false;\n",
              "\n",
              "  const outputElement = document.getElementById(outputId);\n",
              "  outputElement.innerHTML = '';\n",
              "\n",
              "  const pickedPromise = new Promise((resolve) => {\n",
              "    inputElement.addEventListener('change', (e) => {\n",
              "      resolve(e.target.files);\n",
              "    });\n",
              "  });\n",
              "\n",
              "  const cancel = document.createElement('button');\n",
              "  inputElement.parentElement.appendChild(cancel);\n",
              "  cancel.textContent = 'Cancel upload';\n",
              "  const cancelPromise = new Promise((resolve) => {\n",
              "    cancel.onclick = () => {\n",
              "      resolve(null);\n",
              "    };\n",
              "  });\n",
              "\n",
              "  // Wait for the user to pick the files.\n",
              "  const files = yield {\n",
              "    promise: Promise.race([pickedPromise, cancelPromise]),\n",
              "    response: {\n",
              "      action: 'starting',\n",
              "    }\n",
              "  };\n",
              "\n",
              "  cancel.remove();\n",
              "\n",
              "  // Disable the input element since further picks are not allowed.\n",
              "  inputElement.disabled = true;\n",
              "\n",
              "  if (!files) {\n",
              "    return {\n",
              "      response: {\n",
              "        action: 'complete',\n",
              "      }\n",
              "    };\n",
              "  }\n",
              "\n",
              "  for (const file of files) {\n",
              "    const li = document.createElement('li');\n",
              "    li.append(span(file.name, {fontWeight: 'bold'}));\n",
              "    li.append(span(\n",
              "        `(${file.type || 'n/a'}) - ${file.size} bytes, ` +\n",
              "        `last modified: ${\n",
              "            file.lastModifiedDate ? file.lastModifiedDate.toLocaleDateString() :\n",
              "                                    'n/a'} - `));\n",
              "    const percent = span('0% done');\n",
              "    li.appendChild(percent);\n",
              "\n",
              "    outputElement.appendChild(li);\n",
              "\n",
              "    const fileDataPromise = new Promise((resolve) => {\n",
              "      const reader = new FileReader();\n",
              "      reader.onload = (e) => {\n",
              "        resolve(e.target.result);\n",
              "      };\n",
              "      reader.readAsArrayBuffer(file);\n",
              "    });\n",
              "    // Wait for the data to be ready.\n",
              "    let fileData = yield {\n",
              "      promise: fileDataPromise,\n",
              "      response: {\n",
              "        action: 'continue',\n",
              "      }\n",
              "    };\n",
              "\n",
              "    // Use a chunked sending to avoid message size limits. See b/62115660.\n",
              "    let position = 0;\n",
              "    do {\n",
              "      const length = Math.min(fileData.byteLength - position, MAX_PAYLOAD_SIZE);\n",
              "      const chunk = new Uint8Array(fileData, position, length);\n",
              "      position += length;\n",
              "\n",
              "      const base64 = btoa(String.fromCharCode.apply(null, chunk));\n",
              "      yield {\n",
              "        response: {\n",
              "          action: 'append',\n",
              "          file: file.name,\n",
              "          data: base64,\n",
              "        },\n",
              "      };\n",
              "\n",
              "      let percentDone = fileData.byteLength === 0 ?\n",
              "          100 :\n",
              "          Math.round((position / fileData.byteLength) * 100);\n",
              "      percent.textContent = `${percentDone}% done`;\n",
              "\n",
              "    } while (position < fileData.byteLength);\n",
              "  }\n",
              "\n",
              "  // All done.\n",
              "  yield {\n",
              "    response: {\n",
              "      action: 'complete',\n",
              "    }\n",
              "  };\n",
              "}\n",
              "\n",
              "scope.google = scope.google || {};\n",
              "scope.google.colab = scope.google.colab || {};\n",
              "scope.google.colab._files = {\n",
              "  _uploadFiles,\n",
              "  _uploadFilesContinue,\n",
              "};\n",
              "})(self);\n",
              "</script> "
            ]
          },
          "metadata": {}
        },
        {
          "output_type": "stream",
          "name": "stdout",
          "text": [
            "Saving datareg.xlsx to datareg.xlsx\n"
          ]
        }
      ]
    },
    {
      "cell_type": "code",
      "source": [
        "sex = dataReg.HHSEX\n",
        "age = dataReg.AGE\n",
        "edu = dataReg.EDUC\n",
        "income = dataReg.INCOME/100000 # unit of income now is $100,000\n",
        "wealth = dataReg.NETWORTH/100000 # unit of wealth is $100,000"
      ],
      "metadata": {
        "id": "WrFF5uPlSiWk"
      },
      "execution_count": 4,
      "outputs": []
    },
    {
      "cell_type": "code",
      "source": [
        "logincome = np.log(income+1) # note that 1 here is equivalent to $100,000 since we changed the unit of income\n",
        "logincome"
      ],
      "metadata": {
        "colab": {
          "base_uri": "https://localhost:8080/"
        },
        "id": "vOFDcuNZTDoA",
        "outputId": "5600a3e8-a665-4725-d427-2d968ec60b6b"
      },
      "execution_count": 8,
      "outputs": [
        {
          "output_type": "execute_result",
          "data": {
            "text/plain": [
              "0        0.184741\n",
              "1        0.184741\n",
              "2        0.184741\n",
              "3        0.184741\n",
              "4        0.184741\n",
              "           ...   \n",
              "30070    0.326077\n",
              "30071    0.311324\n",
              "30072    0.303865\n",
              "30073    0.362035\n",
              "30074    0.347806\n",
              "Name: INCOME, Length: 30075, dtype: float64"
            ]
          },
          "metadata": {},
          "execution_count": 8
        }
      ]
    },
    {
      "cell_type": "markdown",
      "source": [
        "![image.png](data:image/png;base64,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)"
      ],
      "metadata": {
        "id": "2_RthPCGSrIj"
      }
    },
    {
      "cell_type": "code",
      "source": [
        "X = np.column_stack((age,age**2,edu,sex))\n",
        "X"
      ],
      "metadata": {
        "colab": {
          "base_uri": "https://localhost:8080/"
        },
        "id": "yDPZ4K7ISuQL",
        "outputId": "6a7b8cce-5982-46c7-8c62-0c5a78ded1b7"
      },
      "execution_count": 6,
      "outputs": [
        {
          "output_type": "execute_result",
          "data": {
            "text/plain": [
              "array([[  54, 2916,   11,    1],\n",
              "       [  54, 2916,   11,    1],\n",
              "       [  54, 2916,   11,    1],\n",
              "       ...,\n",
              "       [  76, 5776,   13,    1],\n",
              "       [  76, 5776,   13,    1],\n",
              "       [  76, 5776,   13,    1]])"
            ]
          },
          "metadata": {},
          "execution_count": 6
        }
      ]
    },
    {
      "cell_type": "code",
      "source": [
        "X = sm.add_constant(X)"
      ],
      "metadata": {
        "id": "nfoLPvF-S8xM"
      },
      "execution_count": 7,
      "outputs": []
    },
    {
      "cell_type": "code",
      "source": [
        "model1 = sm.OLS(logincome,X) # model1 = sm.RLM(logincome,X) # robust model\n",
        "reg1 = model1.fit()"
      ],
      "metadata": {
        "id": "33mB5XVfTJTJ"
      },
      "execution_count": 9,
      "outputs": []
    },
    {
      "cell_type": "code",
      "source": [
        "print(reg1.summary())"
      ],
      "metadata": {
        "colab": {
          "base_uri": "https://localhost:8080/"
        },
        "id": "rUmqbaWATLLV",
        "outputId": "1a2e7e5a-0523-4261-a3cd-b85df64c9966"
      },
      "execution_count": 10,
      "outputs": [
        {
          "output_type": "stream",
          "name": "stdout",
          "text": [
            "                            OLS Regression Results                            \n",
            "==============================================================================\n",
            "Dep. Variable:                 INCOME   R-squared:                       0.254\n",
            "Model:                            OLS   Adj. R-squared:                  0.254\n",
            "Method:                 Least Squares   F-statistic:                     2566.\n",
            "Date:                Sun, 23 Apr 2023   Prob (F-statistic):               0.00\n",
            "Time:                        04:08:39   Log-Likelihood:                -39352.\n",
            "No. Observations:               30075   AIC:                         7.871e+04\n",
            "Df Residuals:                   30070   BIC:                         7.876e+04\n",
            "Df Model:                           4                                         \n",
            "Covariance Type:            nonrobust                                         \n",
            "==============================================================================\n",
            "                 coef    std err          t      P>|t|      [0.025      0.975]\n",
            "------------------------------------------------------------------------------\n",
            "const         -1.8584      0.056    -33.213      0.000      -1.968      -1.749\n",
            "x1             0.0437      0.002     23.901      0.000       0.040       0.047\n",
            "x2            -0.0003   1.71e-05    -17.001      0.000      -0.000      -0.000\n",
            "x3             0.1390      0.002     71.815      0.000       0.135       0.143\n",
            "x4            -0.5299      0.012    -42.955      0.000      -0.554      -0.506\n",
            "==============================================================================\n",
            "Omnibus:                    15601.096   Durbin-Watson:                   0.398\n",
            "Prob(Omnibus):                  0.000   Jarque-Bera (JB):           113222.581\n",
            "Skew:                           2.429   Prob(JB):                         0.00\n",
            "Kurtosis:                      11.170   Cond. No.                     3.72e+04\n",
            "==============================================================================\n",
            "\n",
            "Notes:\n",
            "[1] Standard Errors assume that the covariance matrix of the errors is correctly specified.\n",
            "[2] The condition number is large, 3.72e+04. This might indicate that there are\n",
            "strong multicollinearity or other numerical problems.\n"
          ]
        }
      ]
    }
  ]
}