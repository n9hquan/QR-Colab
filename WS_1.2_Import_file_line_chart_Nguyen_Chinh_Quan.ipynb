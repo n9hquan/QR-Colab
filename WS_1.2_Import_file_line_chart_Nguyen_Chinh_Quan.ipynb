{
  "nbformat": 4,
  "nbformat_minor": 0,
  "metadata": {
    "colab": {
      "provenance": [],
      "include_colab_link": true
    },
    "kernelspec": {
      "name": "python3",
      "display_name": "Python 3"
    },
    "language_info": {
      "name": "python"
    }
  },
  "cells": [
    {
      "cell_type": "markdown",
      "metadata": {
        "id": "view-in-github",
        "colab_type": "text"
      },
      "source": [
        "<a href=\"https://colab.research.google.com/github/n9quan/QR_Colab/blob/main/WS_1_2_Import_file_line_chart_Nguyen_Chinh_Quan.ipynb\" target=\"_parent\"><img src=\"https://colab.research.google.com/assets/colab-badge.svg\" alt=\"Open In Colab\"/></a>"
      ]
    },
    {
      "cell_type": "markdown",
      "metadata": {
        "id": "iP99I599l_z7"
      },
      "source": [
        "# The behaviour of average surface temperature over time\n",
        "\n",
        "In the questions below, we look at data from NASA about land–ocean temperature anomalies in the northern hemisphere. The figure below is constructed using this data, and shows temperatures in the northern hemisphere over the period 1880–2016, expressed as differences from the average temperature from 1951 to 1980. We start by creating charts similar to the figure in order to visualize the data and spot patterns more easily.\n",
        "\n",
        "![](https://www.core-econ.org/doing-economics/book/images/web/figure-01-01.jpg)\n",
        "\n",
        "**Figure:** Northern hemisphere temperatures (1880–2016).\n",
        "\n",
        "Before plotting any charts, download the data and make sure you understand how temperature is measured:\n",
        "\n",
        "* Go to NASA’s [Goddard Institute for Space Studies website](https://tinyco.re/2515719).\n",
        "* Under the subheading ‘Combined Land-Surface Air and Sea-Surface Water Temperature Anomalies’, select the CSV version of ‘Northern Hemisphere-mean monthly, seasonal, and annual means’ (right-click and select ‘Save Link As…’).\n",
        "* The default name of this file is NH.Ts+dSST.csv. Save it in an easily accessible location, such as a folder on your Desktop or in your personal folder.\n",
        "\n",
        "**Exercise:** In this dataset, temperature is measured as ‘anomalies’ rather than as absolute temperature. Using NASA’s [Frequently Asked Questions section](https://tinyco.re/8370199) as a reference, explain in your own words what temperature ‘anomalies’ means. Why have researchers chosen this particular measure over other measures (such as absolute temperature)?\n"
      ]
    },
    {
      "cell_type": "markdown",
      "source": [
        "**Answer**: I think temperature \"anomalies\" are the difference of the measured temperature and the baseline temperature. Researchers have chosen this particular measure over other measures (such as absolute temperature) because temperature \"anomalies\" are more easier to compare and show the temperature trends than the absolute temperature. \n"
      ],
      "metadata": {
        "id": "NLHh_JaKp9kZ"
      }
    },
    {
      "cell_type": "markdown",
      "metadata": {
        "id": "IgBymPs7pZt0"
      },
      "source": [
        "## Importing the datafile into Python\n",
        "\n",
        "First, we have to import the datafile called ‘NH.Ts+dSST.csv’ into Python. To do so, we will be using a Python library called [pandas](https://pandas.pydata.org). Before you can use a library, you have to \"import\" it."
      ]
    },
    {
      "cell_type": "code",
      "metadata": {
        "id": "LHbP4JnB3ZYO"
      },
      "source": [
        "import pandas as pd"
      ],
      "execution_count": null,
      "outputs": []
    },
    {
      "cell_type": "markdown",
      "metadata": {
        "id": "a2R2GRxZ3cS5"
      },
      "source": [
        "It is conventional to import `pandas` as `pd`, which means we can refer to it by the short name `pd` rather than the longer name `pandas`. This is also one of the few lines that will appear in almost every Python file you create for this course. Note that pretty much everything is case-sensitive, which means that `pandas` is not the same as `Pandas`.\n",
        "\n",
        "There are multiple ways to upload your .csv file into Colab. This notebook provides you with one way in which you load the data file directly from your local files. Run the following code then click on “Choose Files”, select the .csv file, and upload it. You can reuse this code in your project work."
      ]
    },
    {
      "cell_type": "code",
      "metadata": {
        "id": "6F5Nbgo5tHBk",
        "colab": {
          "base_uri": "https://localhost:8080/",
          "height": 73
        },
        "outputId": "3c85a2f1-35ad-45a6-e18e-7d4056f3009e"
      },
      "source": [
        "from google.colab import files\n",
        "uploaded = files.upload()"
      ],
      "execution_count": null,
      "outputs": [
        {
          "output_type": "display_data",
          "data": {
            "text/plain": [
              "<IPython.core.display.HTML object>"
            ],
            "text/html": [
              "\n",
              "     <input type=\"file\" id=\"files-975ad744-9d44-48ae-9798-7078dbc6052a\" name=\"files[]\" multiple disabled\n",
              "        style=\"border:none\" />\n",
              "     <output id=\"result-975ad744-9d44-48ae-9798-7078dbc6052a\">\n",
              "      Upload widget is only available when the cell has been executed in the\n",
              "      current browser session. Please rerun this cell to enable.\n",
              "      </output>\n",
              "      <script>// Copyright 2017 Google LLC\n",
              "//\n",
              "// Licensed under the Apache License, Version 2.0 (the \"License\");\n",
              "// you may not use this file except in compliance with the License.\n",
              "// You may obtain a copy of the License at\n",
              "//\n",
              "//      http://www.apache.org/licenses/LICENSE-2.0\n",
              "//\n",
              "// Unless required by applicable law or agreed to in writing, software\n",
              "// distributed under the License is distributed on an \"AS IS\" BASIS,\n",
              "// WITHOUT WARRANTIES OR CONDITIONS OF ANY KIND, either express or implied.\n",
              "// See the License for the specific language governing permissions and\n",
              "// limitations under the License.\n",
              "\n",
              "/**\n",
              " * @fileoverview Helpers for google.colab Python module.\n",
              " */\n",
              "(function(scope) {\n",
              "function span(text, styleAttributes = {}) {\n",
              "  const element = document.createElement('span');\n",
              "  element.textContent = text;\n",
              "  for (const key of Object.keys(styleAttributes)) {\n",
              "    element.style[key] = styleAttributes[key];\n",
              "  }\n",
              "  return element;\n",
              "}\n",
              "\n",
              "// Max number of bytes which will be uploaded at a time.\n",
              "const MAX_PAYLOAD_SIZE = 100 * 1024;\n",
              "\n",
              "function _uploadFiles(inputId, outputId) {\n",
              "  const steps = uploadFilesStep(inputId, outputId);\n",
              "  const outputElement = document.getElementById(outputId);\n",
              "  // Cache steps on the outputElement to make it available for the next call\n",
              "  // to uploadFilesContinue from Python.\n",
              "  outputElement.steps = steps;\n",
              "\n",
              "  return _uploadFilesContinue(outputId);\n",
              "}\n",
              "\n",
              "// This is roughly an async generator (not supported in the browser yet),\n",
              "// where there are multiple asynchronous steps and the Python side is going\n",
              "// to poll for completion of each step.\n",
              "// This uses a Promise to block the python side on completion of each step,\n",
              "// then passes the result of the previous step as the input to the next step.\n",
              "function _uploadFilesContinue(outputId) {\n",
              "  const outputElement = document.getElementById(outputId);\n",
              "  const steps = outputElement.steps;\n",
              "\n",
              "  const next = steps.next(outputElement.lastPromiseValue);\n",
              "  return Promise.resolve(next.value.promise).then((value) => {\n",
              "    // Cache the last promise value to make it available to the next\n",
              "    // step of the generator.\n",
              "    outputElement.lastPromiseValue = value;\n",
              "    return next.value.response;\n",
              "  });\n",
              "}\n",
              "\n",
              "/**\n",
              " * Generator function which is called between each async step of the upload\n",
              " * process.\n",
              " * @param {string} inputId Element ID of the input file picker element.\n",
              " * @param {string} outputId Element ID of the output display.\n",
              " * @return {!Iterable<!Object>} Iterable of next steps.\n",
              " */\n",
              "function* uploadFilesStep(inputId, outputId) {\n",
              "  const inputElement = document.getElementById(inputId);\n",
              "  inputElement.disabled = false;\n",
              "\n",
              "  const outputElement = document.getElementById(outputId);\n",
              "  outputElement.innerHTML = '';\n",
              "\n",
              "  const pickedPromise = new Promise((resolve) => {\n",
              "    inputElement.addEventListener('change', (e) => {\n",
              "      resolve(e.target.files);\n",
              "    });\n",
              "  });\n",
              "\n",
              "  const cancel = document.createElement('button');\n",
              "  inputElement.parentElement.appendChild(cancel);\n",
              "  cancel.textContent = 'Cancel upload';\n",
              "  const cancelPromise = new Promise((resolve) => {\n",
              "    cancel.onclick = () => {\n",
              "      resolve(null);\n",
              "    };\n",
              "  });\n",
              "\n",
              "  // Wait for the user to pick the files.\n",
              "  const files = yield {\n",
              "    promise: Promise.race([pickedPromise, cancelPromise]),\n",
              "    response: {\n",
              "      action: 'starting',\n",
              "    }\n",
              "  };\n",
              "\n",
              "  cancel.remove();\n",
              "\n",
              "  // Disable the input element since further picks are not allowed.\n",
              "  inputElement.disabled = true;\n",
              "\n",
              "  if (!files) {\n",
              "    return {\n",
              "      response: {\n",
              "        action: 'complete',\n",
              "      }\n",
              "    };\n",
              "  }\n",
              "\n",
              "  for (const file of files) {\n",
              "    const li = document.createElement('li');\n",
              "    li.append(span(file.name, {fontWeight: 'bold'}));\n",
              "    li.append(span(\n",
              "        `(${file.type || 'n/a'}) - ${file.size} bytes, ` +\n",
              "        `last modified: ${\n",
              "            file.lastModifiedDate ? file.lastModifiedDate.toLocaleDateString() :\n",
              "                                    'n/a'} - `));\n",
              "    const percent = span('0% done');\n",
              "    li.appendChild(percent);\n",
              "\n",
              "    outputElement.appendChild(li);\n",
              "\n",
              "    const fileDataPromise = new Promise((resolve) => {\n",
              "      const reader = new FileReader();\n",
              "      reader.onload = (e) => {\n",
              "        resolve(e.target.result);\n",
              "      };\n",
              "      reader.readAsArrayBuffer(file);\n",
              "    });\n",
              "    // Wait for the data to be ready.\n",
              "    let fileData = yield {\n",
              "      promise: fileDataPromise,\n",
              "      response: {\n",
              "        action: 'continue',\n",
              "      }\n",
              "    };\n",
              "\n",
              "    // Use a chunked sending to avoid message size limits. See b/62115660.\n",
              "    let position = 0;\n",
              "    do {\n",
              "      const length = Math.min(fileData.byteLength - position, MAX_PAYLOAD_SIZE);\n",
              "      const chunk = new Uint8Array(fileData, position, length);\n",
              "      position += length;\n",
              "\n",
              "      const base64 = btoa(String.fromCharCode.apply(null, chunk));\n",
              "      yield {\n",
              "        response: {\n",
              "          action: 'append',\n",
              "          file: file.name,\n",
              "          data: base64,\n",
              "        },\n",
              "      };\n",
              "\n",
              "      let percentDone = fileData.byteLength === 0 ?\n",
              "          100 :\n",
              "          Math.round((position / fileData.byteLength) * 100);\n",
              "      percent.textContent = `${percentDone}% done`;\n",
              "\n",
              "    } while (position < fileData.byteLength);\n",
              "  }\n",
              "\n",
              "  // All done.\n",
              "  yield {\n",
              "    response: {\n",
              "      action: 'complete',\n",
              "    }\n",
              "  };\n",
              "}\n",
              "\n",
              "scope.google = scope.google || {};\n",
              "scope.google.colab = scope.google.colab || {};\n",
              "scope.google.colab._files = {\n",
              "  _uploadFiles,\n",
              "  _uploadFilesContinue,\n",
              "};\n",
              "})(self);\n",
              "</script> "
            ]
          },
          "metadata": {}
        },
        {
          "output_type": "stream",
          "name": "stdout",
          "text": [
            "Saving NH.Ts+dSST.csv to NH.Ts+dSST.csv\n"
          ]
        }
      ]
    },
    {
      "cell_type": "markdown",
      "metadata": {
        "id": "lGklRvm-t9tw"
      },
      "source": [
        "Since our data is in csv format, we use the `read_csv` function to import the data into Python. Python uses `.` (a dot) to mean \"part of\". So to refer to the `read_csv` function, which is part of the `pandas` library, we say `pd.read_csv`. We will call our file `tempdata` (short for ‘temperature data’). If you use this code with any other data, you will need to adjust the file name accordingly."
      ]
    },
    {
      "cell_type": "code",
      "metadata": {
        "id": "Ndk7WoHTuCZb"
      },
      "source": [
        "import io\n",
        "tempdata = pd.read_csv(io.BytesIO(uploaded[\"NH.Ts+dSST.csv\"]), skiprows = 1, na_values = \"***\")"
      ],
      "execution_count": null,
      "outputs": []
    },
    {
      "cell_type": "markdown",
      "metadata": {
        "id": "xbHTx-vSuGg0"
      },
      "source": [
        "When using this function, we added two options. If you open the spreadsheet in Excel, you will see that the real data table only starts in Row 2, so we use the `skiprows = 1` option to skip the first row when importing the data. When looking at the spreadsheet, you can see that missing temperature data is coded as `\"***\"`. In order for Python to recognize the non-missing temperature data as numbers, we use the `na_values = \"***\"` option to indicate that missing observations in the spreadsheet are coded as `\"***\"`.\n",
        "\n",
        "To check that the data has been imported correctly, you can use the head function to view the first five rows of the dataset, and confirm that they correspond to the columns in the csv file."
      ]
    },
    {
      "cell_type": "code",
      "metadata": {
        "id": "M3oOlcyluS4u",
        "colab": {
          "base_uri": "https://localhost:8080/",
          "height": 206
        },
        "outputId": "15c500e5-fa3d-4706-8631-1db4f6c3e9ba"
      },
      "source": [
        "tempdata.head()"
      ],
      "execution_count": null,
      "outputs": [
        {
          "output_type": "execute_result",
          "data": {
            "text/plain": [
              "   Year   Jan   Feb   Mar  Apr   May   Jun   Jul   Aug   Sep   Oct   Nov  \\\n",
              "0  1880 -0.36 -0.51 -0.23 -0.3 -0.06 -0.16 -0.19 -0.27 -0.24 -0.32 -0.43   \n",
              "1  1881 -0.31 -0.22 -0.04  0.0  0.03 -0.32  0.08 -0.04 -0.26 -0.44 -0.37   \n",
              "2  1882  0.26  0.21  0.02 -0.3 -0.23 -0.28 -0.28 -0.16 -0.26 -0.52 -0.34   \n",
              "3  1883 -0.58 -0.66 -0.15 -0.3 -0.25 -0.11 -0.05 -0.22 -0.34 -0.16 -0.45   \n",
              "4  1884 -0.17 -0.11 -0.64 -0.6 -0.36 -0.41 -0.41 -0.51 -0.45 -0.44 -0.57   \n",
              "\n",
              "    Dec   J-D   D-N   DJF   MAM   JJA   SON  \n",
              "0 -0.40 -0.29   NaN   NaN -0.20 -0.21 -0.33  \n",
              "1 -0.24 -0.18 -0.19 -0.31  0.00 -0.10 -0.36  \n",
              "2 -0.69 -0.21 -0.18  0.08 -0.17 -0.24 -0.37  \n",
              "3 -0.15 -0.29 -0.33 -0.64 -0.23 -0.13 -0.32  \n",
              "4 -0.47 -0.43 -0.40 -0.14 -0.53 -0.44 -0.49  "
            ],
            "text/html": [
              "\n",
              "  <div id=\"df-70267316-e801-4a48-8643-22e7c54e8ce5\">\n",
              "    <div class=\"colab-df-container\">\n",
              "      <div>\n",
              "<style scoped>\n",
              "    .dataframe tbody tr th:only-of-type {\n",
              "        vertical-align: middle;\n",
              "    }\n",
              "\n",
              "    .dataframe tbody tr th {\n",
              "        vertical-align: top;\n",
              "    }\n",
              "\n",
              "    .dataframe thead th {\n",
              "        text-align: right;\n",
              "    }\n",
              "</style>\n",
              "<table border=\"1\" class=\"dataframe\">\n",
              "  <thead>\n",
              "    <tr style=\"text-align: right;\">\n",
              "      <th></th>\n",
              "      <th>Year</th>\n",
              "      <th>Jan</th>\n",
              "      <th>Feb</th>\n",
              "      <th>Mar</th>\n",
              "      <th>Apr</th>\n",
              "      <th>May</th>\n",
              "      <th>Jun</th>\n",
              "      <th>Jul</th>\n",
              "      <th>Aug</th>\n",
              "      <th>Sep</th>\n",
              "      <th>Oct</th>\n",
              "      <th>Nov</th>\n",
              "      <th>Dec</th>\n",
              "      <th>J-D</th>\n",
              "      <th>D-N</th>\n",
              "      <th>DJF</th>\n",
              "      <th>MAM</th>\n",
              "      <th>JJA</th>\n",
              "      <th>SON</th>\n",
              "    </tr>\n",
              "  </thead>\n",
              "  <tbody>\n",
              "    <tr>\n",
              "      <th>0</th>\n",
              "      <td>1880</td>\n",
              "      <td>-0.36</td>\n",
              "      <td>-0.51</td>\n",
              "      <td>-0.23</td>\n",
              "      <td>-0.3</td>\n",
              "      <td>-0.06</td>\n",
              "      <td>-0.16</td>\n",
              "      <td>-0.19</td>\n",
              "      <td>-0.27</td>\n",
              "      <td>-0.24</td>\n",
              "      <td>-0.32</td>\n",
              "      <td>-0.43</td>\n",
              "      <td>-0.40</td>\n",
              "      <td>-0.29</td>\n",
              "      <td>NaN</td>\n",
              "      <td>NaN</td>\n",
              "      <td>-0.20</td>\n",
              "      <td>-0.21</td>\n",
              "      <td>-0.33</td>\n",
              "    </tr>\n",
              "    <tr>\n",
              "      <th>1</th>\n",
              "      <td>1881</td>\n",
              "      <td>-0.31</td>\n",
              "      <td>-0.22</td>\n",
              "      <td>-0.04</td>\n",
              "      <td>0.0</td>\n",
              "      <td>0.03</td>\n",
              "      <td>-0.32</td>\n",
              "      <td>0.08</td>\n",
              "      <td>-0.04</td>\n",
              "      <td>-0.26</td>\n",
              "      <td>-0.44</td>\n",
              "      <td>-0.37</td>\n",
              "      <td>-0.24</td>\n",
              "      <td>-0.18</td>\n",
              "      <td>-0.19</td>\n",
              "      <td>-0.31</td>\n",
              "      <td>0.00</td>\n",
              "      <td>-0.10</td>\n",
              "      <td>-0.36</td>\n",
              "    </tr>\n",
              "    <tr>\n",
              "      <th>2</th>\n",
              "      <td>1882</td>\n",
              "      <td>0.26</td>\n",
              "      <td>0.21</td>\n",
              "      <td>0.02</td>\n",
              "      <td>-0.3</td>\n",
              "      <td>-0.23</td>\n",
              "      <td>-0.28</td>\n",
              "      <td>-0.28</td>\n",
              "      <td>-0.16</td>\n",
              "      <td>-0.26</td>\n",
              "      <td>-0.52</td>\n",
              "      <td>-0.34</td>\n",
              "      <td>-0.69</td>\n",
              "      <td>-0.21</td>\n",
              "      <td>-0.18</td>\n",
              "      <td>0.08</td>\n",
              "      <td>-0.17</td>\n",
              "      <td>-0.24</td>\n",
              "      <td>-0.37</td>\n",
              "    </tr>\n",
              "    <tr>\n",
              "      <th>3</th>\n",
              "      <td>1883</td>\n",
              "      <td>-0.58</td>\n",
              "      <td>-0.66</td>\n",
              "      <td>-0.15</td>\n",
              "      <td>-0.3</td>\n",
              "      <td>-0.25</td>\n",
              "      <td>-0.11</td>\n",
              "      <td>-0.05</td>\n",
              "      <td>-0.22</td>\n",
              "      <td>-0.34</td>\n",
              "      <td>-0.16</td>\n",
              "      <td>-0.45</td>\n",
              "      <td>-0.15</td>\n",
              "      <td>-0.29</td>\n",
              "      <td>-0.33</td>\n",
              "      <td>-0.64</td>\n",
              "      <td>-0.23</td>\n",
              "      <td>-0.13</td>\n",
              "      <td>-0.32</td>\n",
              "    </tr>\n",
              "    <tr>\n",
              "      <th>4</th>\n",
              "      <td>1884</td>\n",
              "      <td>-0.17</td>\n",
              "      <td>-0.11</td>\n",
              "      <td>-0.64</td>\n",
              "      <td>-0.6</td>\n",
              "      <td>-0.36</td>\n",
              "      <td>-0.41</td>\n",
              "      <td>-0.41</td>\n",
              "      <td>-0.51</td>\n",
              "      <td>-0.45</td>\n",
              "      <td>-0.44</td>\n",
              "      <td>-0.57</td>\n",
              "      <td>-0.47</td>\n",
              "      <td>-0.43</td>\n",
              "      <td>-0.40</td>\n",
              "      <td>-0.14</td>\n",
              "      <td>-0.53</td>\n",
              "      <td>-0.44</td>\n",
              "      <td>-0.49</td>\n",
              "    </tr>\n",
              "  </tbody>\n",
              "</table>\n",
              "</div>\n",
              "      <button class=\"colab-df-convert\" onclick=\"convertToInteractive('df-70267316-e801-4a48-8643-22e7c54e8ce5')\"\n",
              "              title=\"Convert this dataframe to an interactive table.\"\n",
              "              style=\"display:none;\">\n",
              "        \n",
              "  <svg xmlns=\"http://www.w3.org/2000/svg\" height=\"24px\"viewBox=\"0 0 24 24\"\n",
              "       width=\"24px\">\n",
              "    <path d=\"M0 0h24v24H0V0z\" fill=\"none\"/>\n",
              "    <path d=\"M18.56 5.44l.94 2.06.94-2.06 2.06-.94-2.06-.94-.94-2.06-.94 2.06-2.06.94zm-11 1L8.5 8.5l.94-2.06 2.06-.94-2.06-.94L8.5 2.5l-.94 2.06-2.06.94zm10 10l.94 2.06.94-2.06 2.06-.94-2.06-.94-.94-2.06-.94 2.06-2.06.94z\"/><path d=\"M17.41 7.96l-1.37-1.37c-.4-.4-.92-.59-1.43-.59-.52 0-1.04.2-1.43.59L10.3 9.45l-7.72 7.72c-.78.78-.78 2.05 0 2.83L4 21.41c.39.39.9.59 1.41.59.51 0 1.02-.2 1.41-.59l7.78-7.78 2.81-2.81c.8-.78.8-2.07 0-2.86zM5.41 20L4 18.59l7.72-7.72 1.47 1.35L5.41 20z\"/>\n",
              "  </svg>\n",
              "      </button>\n",
              "      \n",
              "  <style>\n",
              "    .colab-df-container {\n",
              "      display:flex;\n",
              "      flex-wrap:wrap;\n",
              "      gap: 12px;\n",
              "    }\n",
              "\n",
              "    .colab-df-convert {\n",
              "      background-color: #E8F0FE;\n",
              "      border: none;\n",
              "      border-radius: 50%;\n",
              "      cursor: pointer;\n",
              "      display: none;\n",
              "      fill: #1967D2;\n",
              "      height: 32px;\n",
              "      padding: 0 0 0 0;\n",
              "      width: 32px;\n",
              "    }\n",
              "\n",
              "    .colab-df-convert:hover {\n",
              "      background-color: #E2EBFA;\n",
              "      box-shadow: 0px 1px 2px rgba(60, 64, 67, 0.3), 0px 1px 3px 1px rgba(60, 64, 67, 0.15);\n",
              "      fill: #174EA6;\n",
              "    }\n",
              "\n",
              "    [theme=dark] .colab-df-convert {\n",
              "      background-color: #3B4455;\n",
              "      fill: #D2E3FC;\n",
              "    }\n",
              "\n",
              "    [theme=dark] .colab-df-convert:hover {\n",
              "      background-color: #434B5C;\n",
              "      box-shadow: 0px 1px 3px 1px rgba(0, 0, 0, 0.15);\n",
              "      filter: drop-shadow(0px 1px 2px rgba(0, 0, 0, 0.3));\n",
              "      fill: #FFFFFF;\n",
              "    }\n",
              "  </style>\n",
              "\n",
              "      <script>\n",
              "        const buttonEl =\n",
              "          document.querySelector('#df-70267316-e801-4a48-8643-22e7c54e8ce5 button.colab-df-convert');\n",
              "        buttonEl.style.display =\n",
              "          google.colab.kernel.accessAllowed ? 'block' : 'none';\n",
              "\n",
              "        async function convertToInteractive(key) {\n",
              "          const element = document.querySelector('#df-70267316-e801-4a48-8643-22e7c54e8ce5');\n",
              "          const dataTable =\n",
              "            await google.colab.kernel.invokeFunction('convertToInteractive',\n",
              "                                                     [key], {});\n",
              "          if (!dataTable) return;\n",
              "\n",
              "          const docLinkHtml = 'Like what you see? Visit the ' +\n",
              "            '<a target=\"_blank\" href=https://colab.research.google.com/notebooks/data_table.ipynb>data table notebook</a>'\n",
              "            + ' to learn more about interactive tables.';\n",
              "          element.innerHTML = '';\n",
              "          dataTable['output_type'] = 'display_data';\n",
              "          await google.colab.output.renderOutput(dataTable, element);\n",
              "          const docLink = document.createElement('div');\n",
              "          docLink.innerHTML = docLinkHtml;\n",
              "          element.appendChild(docLink);\n",
              "        }\n",
              "      </script>\n",
              "    </div>\n",
              "  </div>\n",
              "  "
            ]
          },
          "metadata": {},
          "execution_count": 4
        }
      ]
    },
    {
      "cell_type": "code",
      "source": [
        "print(tempdata)"
      ],
      "metadata": {
        "id": "j1O_L85F4V_C",
        "colab": {
          "base_uri": "https://localhost:8080/"
        },
        "outputId": "c402166a-03bd-4cd0-e2d8-da96062d5ca6"
      },
      "execution_count": null,
      "outputs": [
        {
          "output_type": "stream",
          "name": "stdout",
          "text": [
            "     Year   Jan   Feb   Mar   Apr   May   Jun   Jul   Aug   Sep   Oct   Nov  \\\n",
            "0    1880 -0.36 -0.51 -0.23 -0.30 -0.06 -0.16 -0.19 -0.27 -0.24 -0.32 -0.43   \n",
            "1    1881 -0.31 -0.22 -0.04  0.00  0.03 -0.32  0.08 -0.04 -0.26 -0.44 -0.37   \n",
            "2    1882  0.26  0.21  0.02 -0.30 -0.23 -0.28 -0.28 -0.16 -0.26 -0.52 -0.34   \n",
            "3    1883 -0.58 -0.66 -0.15 -0.30 -0.25 -0.11 -0.05 -0.22 -0.34 -0.16 -0.45   \n",
            "4    1884 -0.17 -0.11 -0.64 -0.60 -0.36 -0.41 -0.41 -0.51 -0.45 -0.44 -0.57   \n",
            "..    ...   ...   ...   ...   ...   ...   ...   ...   ...   ...   ...   ...   \n",
            "138  2018  1.13  1.23  1.16  0.96  1.01  0.86  0.90  0.87  0.96  1.23  0.96   \n",
            "139  2019  1.19  1.12  1.54  1.24  0.98  1.19  1.03  1.08  1.21  1.30  1.19   \n",
            "140  2020  1.57  1.70  1.65  1.40  1.28  1.13  1.10  1.13  1.20  1.21  1.60   \n",
            "141  2021  1.26  0.95  1.20  1.12  1.03  1.20  1.06  1.02  1.05  1.30  1.30   \n",
            "142  2022  1.24  1.16  1.42  1.09  1.01  1.12  1.05  1.16  1.15  1.31  1.08   \n",
            "\n",
            "      Dec   J-D   D-N   DJF   MAM   JJA   SON  \n",
            "0   -0.40 -0.29   NaN   NaN -0.20 -0.21 -0.33  \n",
            "1   -0.24 -0.18 -0.19 -0.31  0.00 -0.10 -0.36  \n",
            "2   -0.69 -0.21 -0.18  0.08 -0.17 -0.24 -0.37  \n",
            "3   -0.15 -0.29 -0.33 -0.64 -0.23 -0.13 -0.32  \n",
            "4   -0.47 -0.43 -0.40 -0.14 -0.53 -0.44 -0.49  \n",
            "..    ...   ...   ...   ...   ...   ...   ...  \n",
            "138  1.10  1.03  1.06  1.25  1.04  0.87  1.05  \n",
            "139  1.39  1.21  1.18  1.14  1.25  1.10  1.23  \n",
            "140  1.23  1.35  1.36  1.55  1.44  1.12  1.34  \n",
            "141  1.17  1.14  1.14  1.14  1.12  1.09  1.22  \n",
            "142  1.08  1.16  1.16  1.19  1.17  1.11  1.18  \n",
            "\n",
            "[143 rows x 19 columns]\n"
          ]
        }
      ]
    },
    {
      "cell_type": "markdown",
      "source": [
        "In order to extract data from one column of the data table, simply use the syntax\n",
        "\n",
        "`DataTable[\"column's name\"]`"
      ],
      "metadata": {
        "id": "VjHTKvonYBLO"
      }
    },
    {
      "cell_type": "code",
      "source": [
        "tempdata[\"Year\"]"
      ],
      "metadata": {
        "id": "GN3eWnarX7QM",
        "colab": {
          "base_uri": "https://localhost:8080/"
        },
        "outputId": "f8468e07-5b6e-46a5-fcc9-cc925f0dfe42"
      },
      "execution_count": null,
      "outputs": [
        {
          "output_type": "execute_result",
          "data": {
            "text/plain": [
              "0      1880\n",
              "1      1881\n",
              "2      1882\n",
              "3      1883\n",
              "4      1884\n",
              "       ... \n",
              "138    2018\n",
              "139    2019\n",
              "140    2020\n",
              "141    2021\n",
              "142    2022\n",
              "Name: Year, Length: 143, dtype: int64"
            ]
          },
          "metadata": {},
          "execution_count": 6
        }
      ]
    },
    {
      "cell_type": "markdown",
      "metadata": {
        "id": "p6zGjoUtvHx-"
      },
      "source": [
        "## Drawing a line chart of temperature and time\n",
        "\n",
        "Now we will create some line charts using monthly, seasonal, and annual data, which help us look for general patterns over time.\n",
        "\n",
        "To do so, we will use another library called [Matplotlib](https://matplotlib.org) to help us to plot data and to visualize graphs. More specifically, we'll use a part of it called Pyplot, which we'll import with the nickname `plt`."
      ]
    },
    {
      "cell_type": "code",
      "metadata": {
        "id": "Y31LmMjwcKSX"
      },
      "source": [
        "import matplotlib.pyplot as plt"
      ],
      "execution_count": null,
      "outputs": []
    },
    {
      "cell_type": "markdown",
      "metadata": {
        "id": "gx1aVkI12dBQ"
      },
      "source": [
        "We can use the names of the columns of our data to draw line charts using the `plot` function. As an example, we will draw a line chart using data for January for the years 1880–2021. The `title` command adds a chart title, and the `axhline` command draws a horizontal line according to our specifications."
      ]
    },
    {
      "cell_type": "code",
      "metadata": {
        "id": "iVAUgIWBvHEu"
      },
      "source": [
        "f"
      ],
      "execution_count": null,
      "outputs": []
    },
    {
      "cell_type": "markdown",
      "metadata": {
        "id": "deawwlW7He0t"
      },
      "source": [
        "Try different values for `color` to figure out what these options do (some online research could help). `xlabel` and `ylabel` define the respective axis titles.\n",
        "\n",
        "It is important to remember that all axis and chart titles should be enclosed in quotation marks (`\"\"`), as well as any words that are not options (for example, colour names or filenames).\n",
        "\n",
        "**Exercise:** Choose one month and plot a line chart with average temperature anomaly on the vertical axis and time (from 1880 to the latest year available) on the horizontal axis. Label each axis appropriately and give your chart a suitable title.\n",
        "\n"
      ]
    },
    {
      "cell_type": "code",
      "source": [
        "from google.colab import files\n",
        "uploaded = files.upload()"
      ],
      "metadata": {
        "colab": {
          "base_uri": "https://localhost:8080/",
          "height": 73
        },
        "id": "0Rn9nx-tlTB1",
        "outputId": "0235675f-f0da-4e3c-a3b6-9492b881da22"
      },
      "execution_count": null,
      "outputs": [
        {
          "output_type": "display_data",
          "data": {
            "text/plain": [
              "<IPython.core.display.HTML object>"
            ],
            "text/html": [
              "\n",
              "     <input type=\"file\" id=\"files-d3a1c694-73a4-47fe-9f12-aed6be86c123\" name=\"files[]\" multiple disabled\n",
              "        style=\"border:none\" />\n",
              "     <output id=\"result-d3a1c694-73a4-47fe-9f12-aed6be86c123\">\n",
              "      Upload widget is only available when the cell has been executed in the\n",
              "      current browser session. Please rerun this cell to enable.\n",
              "      </output>\n",
              "      <script>// Copyright 2017 Google LLC\n",
              "//\n",
              "// Licensed under the Apache License, Version 2.0 (the \"License\");\n",
              "// you may not use this file except in compliance with the License.\n",
              "// You may obtain a copy of the License at\n",
              "//\n",
              "//      http://www.apache.org/licenses/LICENSE-2.0\n",
              "//\n",
              "// Unless required by applicable law or agreed to in writing, software\n",
              "// distributed under the License is distributed on an \"AS IS\" BASIS,\n",
              "// WITHOUT WARRANTIES OR CONDITIONS OF ANY KIND, either express or implied.\n",
              "// See the License for the specific language governing permissions and\n",
              "// limitations under the License.\n",
              "\n",
              "/**\n",
              " * @fileoverview Helpers for google.colab Python module.\n",
              " */\n",
              "(function(scope) {\n",
              "function span(text, styleAttributes = {}) {\n",
              "  const element = document.createElement('span');\n",
              "  element.textContent = text;\n",
              "  for (const key of Object.keys(styleAttributes)) {\n",
              "    element.style[key] = styleAttributes[key];\n",
              "  }\n",
              "  return element;\n",
              "}\n",
              "\n",
              "// Max number of bytes which will be uploaded at a time.\n",
              "const MAX_PAYLOAD_SIZE = 100 * 1024;\n",
              "\n",
              "function _uploadFiles(inputId, outputId) {\n",
              "  const steps = uploadFilesStep(inputId, outputId);\n",
              "  const outputElement = document.getElementById(outputId);\n",
              "  // Cache steps on the outputElement to make it available for the next call\n",
              "  // to uploadFilesContinue from Python.\n",
              "  outputElement.steps = steps;\n",
              "\n",
              "  return _uploadFilesContinue(outputId);\n",
              "}\n",
              "\n",
              "// This is roughly an async generator (not supported in the browser yet),\n",
              "// where there are multiple asynchronous steps and the Python side is going\n",
              "// to poll for completion of each step.\n",
              "// This uses a Promise to block the python side on completion of each step,\n",
              "// then passes the result of the previous step as the input to the next step.\n",
              "function _uploadFilesContinue(outputId) {\n",
              "  const outputElement = document.getElementById(outputId);\n",
              "  const steps = outputElement.steps;\n",
              "\n",
              "  const next = steps.next(outputElement.lastPromiseValue);\n",
              "  return Promise.resolve(next.value.promise).then((value) => {\n",
              "    // Cache the last promise value to make it available to the next\n",
              "    // step of the generator.\n",
              "    outputElement.lastPromiseValue = value;\n",
              "    return next.value.response;\n",
              "  });\n",
              "}\n",
              "\n",
              "/**\n",
              " * Generator function which is called between each async step of the upload\n",
              " * process.\n",
              " * @param {string} inputId Element ID of the input file picker element.\n",
              " * @param {string} outputId Element ID of the output display.\n",
              " * @return {!Iterable<!Object>} Iterable of next steps.\n",
              " */\n",
              "function* uploadFilesStep(inputId, outputId) {\n",
              "  const inputElement = document.getElementById(inputId);\n",
              "  inputElement.disabled = false;\n",
              "\n",
              "  const outputElement = document.getElementById(outputId);\n",
              "  outputElement.innerHTML = '';\n",
              "\n",
              "  const pickedPromise = new Promise((resolve) => {\n",
              "    inputElement.addEventListener('change', (e) => {\n",
              "      resolve(e.target.files);\n",
              "    });\n",
              "  });\n",
              "\n",
              "  const cancel = document.createElement('button');\n",
              "  inputElement.parentElement.appendChild(cancel);\n",
              "  cancel.textContent = 'Cancel upload';\n",
              "  const cancelPromise = new Promise((resolve) => {\n",
              "    cancel.onclick = () => {\n",
              "      resolve(null);\n",
              "    };\n",
              "  });\n",
              "\n",
              "  // Wait for the user to pick the files.\n",
              "  const files = yield {\n",
              "    promise: Promise.race([pickedPromise, cancelPromise]),\n",
              "    response: {\n",
              "      action: 'starting',\n",
              "    }\n",
              "  };\n",
              "\n",
              "  cancel.remove();\n",
              "\n",
              "  // Disable the input element since further picks are not allowed.\n",
              "  inputElement.disabled = true;\n",
              "\n",
              "  if (!files) {\n",
              "    return {\n",
              "      response: {\n",
              "        action: 'complete',\n",
              "      }\n",
              "    };\n",
              "  }\n",
              "\n",
              "  for (const file of files) {\n",
              "    const li = document.createElement('li');\n",
              "    li.append(span(file.name, {fontWeight: 'bold'}));\n",
              "    li.append(span(\n",
              "        `(${file.type || 'n/a'}) - ${file.size} bytes, ` +\n",
              "        `last modified: ${\n",
              "            file.lastModifiedDate ? file.lastModifiedDate.toLocaleDateString() :\n",
              "                                    'n/a'} - `));\n",
              "    const percent = span('0% done');\n",
              "    li.appendChild(percent);\n",
              "\n",
              "    outputElement.appendChild(li);\n",
              "\n",
              "    const fileDataPromise = new Promise((resolve) => {\n",
              "      const reader = new FileReader();\n",
              "      reader.onload = (e) => {\n",
              "        resolve(e.target.result);\n",
              "      };\n",
              "      reader.readAsArrayBuffer(file);\n",
              "    });\n",
              "    // Wait for the data to be ready.\n",
              "    let fileData = yield {\n",
              "      promise: fileDataPromise,\n",
              "      response: {\n",
              "        action: 'continue',\n",
              "      }\n",
              "    };\n",
              "\n",
              "    // Use a chunked sending to avoid message size limits. See b/62115660.\n",
              "    let position = 0;\n",
              "    do {\n",
              "      const length = Math.min(fileData.byteLength - position, MAX_PAYLOAD_SIZE);\n",
              "      const chunk = new Uint8Array(fileData, position, length);\n",
              "      position += length;\n",
              "\n",
              "      const base64 = btoa(String.fromCharCode.apply(null, chunk));\n",
              "      yield {\n",
              "        response: {\n",
              "          action: 'append',\n",
              "          file: file.name,\n",
              "          data: base64,\n",
              "        },\n",
              "      };\n",
              "\n",
              "      let percentDone = fileData.byteLength === 0 ?\n",
              "          100 :\n",
              "          Math.round((position / fileData.byteLength) * 100);\n",
              "      percent.textContent = `${percentDone}% done`;\n",
              "\n",
              "    } while (position < fileData.byteLength);\n",
              "  }\n",
              "\n",
              "  // All done.\n",
              "  yield {\n",
              "    response: {\n",
              "      action: 'complete',\n",
              "    }\n",
              "  };\n",
              "}\n",
              "\n",
              "scope.google = scope.google || {};\n",
              "scope.google.colab = scope.google.colab || {};\n",
              "scope.google.colab._files = {\n",
              "  _uploadFiles,\n",
              "  _uploadFilesContinue,\n",
              "};\n",
              "})(self);\n",
              "</script> "
            ]
          },
          "metadata": {}
        },
        {
          "output_type": "stream",
          "name": "stdout",
          "text": [
            "Saving NH.Ts+dSST.csv to NH.Ts+dSST.csv\n"
          ]
        }
      ]
    },
    {
      "cell_type": "code",
      "metadata": {
        "id": "pR43M5eUcoKc",
        "colab": {
          "base_uri": "https://localhost:8080/",
          "height": 312
        },
        "outputId": "2d9e5f4a-6bf6-49d4-caec-e9c902edc2ae"
      },
      "source": [
        "import pandas as pd\n",
        "import io\n",
        "import matplotlib.pyplot as plt\n",
        "tempdata = pd.read_csv(io.BytesIO(uploaded[\"NH.Ts+dSST.csv\"]), skiprows = 1, na_values = \"***\")\n",
        "# tempdata.head()\n",
        "# print(tempdata)\n",
        "\n",
        "# Add a horizontal line (at y = 0)\n",
        "plt.axhline(y=0, color=\"y\")\n",
        "\n",
        "# Add a label to the horizontal line\n",
        "plt.text(1890, 1.0, \"1951-1980 average\", color=\"b\") \n",
        "\n",
        "plt.xlabel(\"Year\")\n",
        "plt.ylabel(\"Annual temperature anomalies\")\n",
        "\n",
        "# Add a title\n",
        "plt.title(\"Average temperature anomaly in February in the northern hemisphere (1880-2021)\")\n",
        "\n",
        "plt.plot(tempdata[\"Year\"], tempdata[\"Feb\"], color = \"c\")"
      ],
      "execution_count": null,
      "outputs": [
        {
          "output_type": "execute_result",
          "data": {
            "text/plain": [
              "[<matplotlib.lines.Line2D at 0x7f78f77d3fa0>]"
            ]
          },
          "metadata": {},
          "execution_count": 3
        },
        {
          "output_type": "display_data",
          "data": {
            "text/plain": [
              "<Figure size 432x288 with 1 Axes>"
            ],
            "image/png": "[encoded data removed]"
          },
          "metadata": {
            "needs_background": "light"
          }
        }
      ]
    },
    {
      "cell_type": "markdown",
      "metadata": {
        "id": "iH8OdCwYHsTg"
      },
      "source": [
        "# Producing a line chart for the annual temperature anomalies\n",
        "\n",
        "The column labelled `J–D` contains the average temperature anomaly for each year.\n",
        "\n",
        "**Exercise:** Plot a line chart with annual average temperature anomaly on the vertical axis and time (from 1880 to the latest year available) on the horizontal axis. Your chart should look like the figure at the beginning of this notebook.\n",
        "\n",
        "**Extension:** Add a horizontal line that intersects the vertical axis at 0, and label it ‘1951–1980 average’."
      ]
    },
    {
      "cell_type": "code",
      "metadata": {
        "id": "AmLi73XIH603",
        "colab": {
          "base_uri": "https://localhost:8080/",
          "height": 312
        },
        "outputId": "cfbbf635-351f-4cd0-b15d-90a17576053d"
      },
      "source": [
        "plt.plot(tempdata[\"Year\"], tempdata[\"J-D\"], color = \"tab:blue\")\n",
        "\n",
        "plt.xlabel(\"Year\")\n",
        "plt.ylabel(\"Annual temperature anomalies\")\n",
        "\n",
        "# Add a horizontal line (at y = 0)\n",
        "plt.axhline(y=0, color=\"tab:orange\")\n",
        "\n",
        "# Add a label to the horizontal line\n",
        "plt.text(1980, -0.15, \"1951-1980 average\", color=\"tab:orange\") \n",
        "\n",
        "# Add a title\n",
        "plt.title(\"Average temperature anomaly in January in the northern hemisphere (1880-2021)\")"
      ],
      "execution_count": null,
      "outputs": [
        {
          "output_type": "execute_result",
          "data": {
            "text/plain": [
              "Text(0.5, 1.0, 'Average temperature anomaly in January in the northern hemisphere (1880-2021)')"
            ]
          },
          "metadata": {},
          "execution_count": 14
        },
        {
          "output_type": "display_data",
          "data": {
            "text/plain": [
              "<Figure size 432x288 with 1 Axes>"
            ],
            "image/png": "[encoded data removed]"
          },
          "metadata": {
            "needs_background": "light"
          }
        }
      ]
    },
    {
      "cell_type": "markdown",
      "metadata": {
        "id": "2suWLbTV6VYC"
      },
      "source": [
        "This is where the power of programming languages becomes evident: to produce the same line chart for a different variable, we simply take the code used in the example above and replace the variable name `Jan` with the name for the annual variable (`J–D`)."
      ]
    },
    {
      "cell_type": "markdown",
      "metadata": {
        "id": "iplhjcaxAC6i"
      },
      "source": [
        "## Optional: Data Smoothing\n",
        "\n",
        "The figure you just produced shows an upward trend in the data, however the data oscillates quite a bit. To aid with being able to see such patterns or trends in data, we need to find a way to remove, or at least dampen, these oscillations in our data. Data smoothing is a method in statistics that does precisely this!\n",
        "\n",
        "There are many different smoothing algorithms with each intending to solve a specific issue with approximating a function that best fits the data. The smoothing algorithm we are going to use is referred to as a moving (or rolling) average. A moving average, as the name suggests, involves taking a series of averages of a moving subset of our data.\n",
        "\n",
        "In Python, we will use the following commands to smooth and graph our data."
      ]
    },
    {
      "cell_type": "code",
      "metadata": {
        "id": "d0e3kca0DWI0",
        "colab": {
          "base_uri": "https://localhost:8080/"
        },
        "outputId": "1d88228d-d86e-4f49-dc6d-7f5a5f912def"
      },
      "source": [
        "tempdata[\"J-D\"].rolling(window = 10).mean()"
      ],
      "execution_count": null,
      "outputs": [
        {
          "output_type": "execute_result",
          "data": {
            "text/plain": [
              "0        NaN\n",
              "1        NaN\n",
              "2        NaN\n",
              "3        NaN\n",
              "4        NaN\n",
              "       ...  \n",
              "138    0.954\n",
              "139    1.003\n",
              "140    1.048\n",
              "141    1.088\n",
              "142    1.123\n",
              "Name: J-D, Length: 143, dtype: float64"
            ]
          },
          "metadata": {},
          "execution_count": 30
        }
      ]
    },
    {
      "cell_type": "markdown",
      "metadata": {
        "id": "U3gCOp4SDWmC"
      },
      "source": [
        "This takes the column with the average temperature anomaly for each year,  calculates moving subsets of the data, and then computes the mean for each subset. You can also use this command when creating a graph.\n",
        "\n",
        "**Exercise:** Create another line chart with the annual average temperature anomaly. This time, also plot the moving average for the data."
      ]
    },
    {
      "cell_type": "code",
      "metadata": {
        "id": "a-x2FfXRFpFk",
        "colab": {
          "base_uri": "https://localhost:8080/",
          "height": 312
        },
        "outputId": "db342de1-9d68-421b-a942-fe9752251df8"
      },
      "source": [
        "plt.plot(tempdata[\"Year\"], tempdata[\"J-D\"].rolling(window = 20).mean(), color = \"tab:blue\")\n",
        "\n",
        "plt.xlabel(\"Year\")\n",
        "plt.ylabel(\"Annual temperature anomalies\")\n",
        "\n",
        "# Add a horizontal line (at y = 0)\n",
        "plt.axhline(y=0, color=\"tab:orange\")\n",
        "\n",
        "# Add a label to the horizontal line\n",
        "plt.text(1980, -0.15, \"1951-1980 average\", color=\"tab:orange\") \n",
        "\n",
        "# Add a title\n",
        "plt.title(\"Average temperature anomaly in January in the northern hemisphere (1880-2021)\")"
      ],
      "execution_count": null,
      "outputs": [
        {
          "output_type": "execute_result",
          "data": {
            "text/plain": [
              "Text(0.5, 1.0, 'Average temperature anomaly in January in the northern hemisphere (1880-2021)')"
            ]
          },
          "metadata": {},
          "execution_count": 21
        },
        {
          "output_type": "display_data",
          "data": {
            "text/plain": [
              "<Figure size 432x288 with 1 Axes>"
            ],
            "image/png": "[encoded data removed]"
          },
          "metadata": {
            "needs_background": "light"
          }
        }
      ]
    },
    {
      "cell_type": "markdown",
      "metadata": {
        "id": "ufjJwvfVFqiP"
      },
      "source": [
        "One parameter we need to provide in the function calls is `window`. Above, we set this parameter to 20, but why? In the following questions, you will investigate what happens when you increase and decrease the value of `window` to better understand how this value is chosen.\n",
        "\n",
        "**Exercise:** Please answer the following questions.\n",
        "\n",
        "1. How does the smoothed curve change when you lower the value of `window`?\n",
        "2. How does the smoothed curve change when you raise the value of `window`?\n",
        "3. Based on your answers to the first and second questions, what is the trade-off in choosing the value of `window`?"
      ]
    },
    {
      "cell_type": "markdown",
      "source": [
        "**Answer:** \n",
        "  1. The smooth curve shows more oscillations when I lower the value of window.\n",
        "  2. The smooth curve shows less oscillations when I raise the value of window, specifically it makes the data trend line in the graph more smooth.\n",
        "  3. Based on my answers to the first and second questions, the trade-off in choosing the value of window is that if we lower the value of window, we will able to see more detail and specific oscillations of the data but in the other hand it will make the graph harder to observe when it comes to observing the pattern or the trend of the graph. When we increase the value of window, it will make it easier for us to observe the trend of the data but in constrast it is harder to see the specific data oscillations. \n"
      ],
      "metadata": {
        "id": "bzRX1eOsv-6U"
      }
    }
  ]
}
