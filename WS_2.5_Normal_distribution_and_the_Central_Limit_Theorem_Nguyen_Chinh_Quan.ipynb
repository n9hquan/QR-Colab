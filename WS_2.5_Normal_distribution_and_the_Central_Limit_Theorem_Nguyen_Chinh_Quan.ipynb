{
  "nbformat": 4,
  "nbformat_minor": 0,
  "metadata": {
    "colab": {
      "provenance": [],
      "include_colab_link": true
    },
    "kernelspec": {
      "name": "python3",
      "display_name": "Python 3"
    },
    "language_info": {
      "name": "python"
    }
  },
  "cells": [
    {
      "cell_type": "markdown",
      "metadata": {
        "id": "view-in-github",
        "colab_type": "text"
      },
      "source": [
        "<a href=\"https://colab.research.google.com/github/n9hquan/QR103/blob/main/WS_2.5_Normal_distribution_and_the_Central_Limit_Theorem_Nguyen_Chinh_Quan.ipynb\" target=\"_parent\"><img src=\"https://colab.research.google.com/assets/colab-badge.svg\" alt=\"Open In Colab\"/></a>"
      ]
    },
    {
      "cell_type": "markdown",
      "metadata": {
        "id": "LZmyEwrc3KiM"
      },
      "source": [
        "In this notebook we will convince ourself that the Central limit theorem is true by look at the distribution of the sample mean in some examples."
      ]
    },
    {
      "cell_type": "code",
      "metadata": {
        "id": "2OViG1nIv056"
      },
      "source": [
        "import pandas as pd\n",
        "import matplotlib.pyplot as plt\n",
        "import numpy as np\n",
        "from scipy.stats import norm"
      ],
      "execution_count": 1,
      "outputs": []
    },
    {
      "cell_type": "markdown",
      "source": [
        "Let's read the file 'datareg.xlsx' that we used in previous worksheets. I uploaded the file to my Github account for easier importing."
      ],
      "metadata": {
        "id": "_w8k7uwLd4qe"
      }
    },
    {
      "cell_type": "code",
      "metadata": {
        "id": "yVClL6mNVdHU"
      },
      "source": [
        "data_url = \"https://github.com/lhprime/MATH105/blob/main/datareg.xlsx?raw=true\"\n",
        "data = pd.read_excel(data_url)"
      ],
      "execution_count": 2,
      "outputs": []
    },
    {
      "cell_type": "code",
      "metadata": {
        "id": "ejFNPVWoePR9",
        "colab": {
          "base_uri": "https://localhost:8080/",
          "height": 423
        },
        "outputId": "34d44f82-e3f8-491c-fd3b-e26a421d255a"
      },
      "source": [
        "data"
      ],
      "execution_count": 28,
      "outputs": [
        {
          "output_type": "execute_result",
          "data": {
            "text/plain": [
              "       HHSEX  AGE  EDUC        INCOME  NETWORTH\n",
              "0          1   54    11  20290.628707    -400.0\n",
              "1          1   54    11  20290.628707    -400.0\n",
              "2          1   54    11  20290.628707    -400.0\n",
              "3          1   54    11  20290.628707    -400.0\n",
              "4          1   54    11  20290.628707    -400.0\n",
              "...      ...  ...   ...           ...       ...\n",
              "30070      1   76    13  38552.194543 -110400.0\n",
              "30071      1   76    13  36523.131673 -101700.0\n",
              "30072      1   76    13  35508.600237 -120600.0\n",
              "30073      1   76    13  43624.851720 -130300.0\n",
              "30074      1   76    13  41595.788849 -133900.0\n",
              "\n",
              "[30075 rows x 5 columns]"
            ],
            "text/html": [
              "\n",
              "  <div id=\"df-87f8acad-84ea-46e1-a65c-fe9e1d72b33f\">\n",
              "    <div class=\"colab-df-container\">\n",
              "      <div>\n",
              "<style scoped>\n",
              "    .dataframe tbody tr th:only-of-type {\n",
              "        vertical-align: middle;\n",
              "    }\n",
              "\n",
              "    .dataframe tbody tr th {\n",
              "        vertical-align: top;\n",
              "    }\n",
              "\n",
              "    .dataframe thead th {\n",
              "        text-align: right;\n",
              "    }\n",
              "</style>\n",
              "<table border=\"1\" class=\"dataframe\">\n",
              "  <thead>\n",
              "    <tr style=\"text-align: right;\">\n",
              "      <th></th>\n",
              "      <th>HHSEX</th>\n",
              "      <th>AGE</th>\n",
              "      <th>EDUC</th>\n",
              "      <th>INCOME</th>\n",
              "      <th>NETWORTH</th>\n",
              "    </tr>\n",
              "  </thead>\n",
              "  <tbody>\n",
              "    <tr>\n",
              "      <th>0</th>\n",
              "      <td>1</td>\n",
              "      <td>54</td>\n",
              "      <td>11</td>\n",
              "      <td>20290.628707</td>\n",
              "      <td>-400.0</td>\n",
              "    </tr>\n",
              "    <tr>\n",
              "      <th>1</th>\n",
              "      <td>1</td>\n",
              "      <td>54</td>\n",
              "      <td>11</td>\n",
              "      <td>20290.628707</td>\n",
              "      <td>-400.0</td>\n",
              "    </tr>\n",
              "    <tr>\n",
              "      <th>2</th>\n",
              "      <td>1</td>\n",
              "      <td>54</td>\n",
              "      <td>11</td>\n",
              "      <td>20290.628707</td>\n",
              "      <td>-400.0</td>\n",
              "    </tr>\n",
              "    <tr>\n",
              "      <th>3</th>\n",
              "      <td>1</td>\n",
              "      <td>54</td>\n",
              "      <td>11</td>\n",
              "      <td>20290.628707</td>\n",
              "      <td>-400.0</td>\n",
              "    </tr>\n",
              "    <tr>\n",
              "      <th>4</th>\n",
              "      <td>1</td>\n",
              "      <td>54</td>\n",
              "      <td>11</td>\n",
              "      <td>20290.628707</td>\n",
              "      <td>-400.0</td>\n",
              "    </tr>\n",
              "    <tr>\n",
              "      <th>...</th>\n",
              "      <td>...</td>\n",
              "      <td>...</td>\n",
              "      <td>...</td>\n",
              "      <td>...</td>\n",
              "      <td>...</td>\n",
              "    </tr>\n",
              "    <tr>\n",
              "      <th>30070</th>\n",
              "      <td>1</td>\n",
              "      <td>76</td>\n",
              "      <td>13</td>\n",
              "      <td>38552.194543</td>\n",
              "      <td>-110400.0</td>\n",
              "    </tr>\n",
              "    <tr>\n",
              "      <th>30071</th>\n",
              "      <td>1</td>\n",
              "      <td>76</td>\n",
              "      <td>13</td>\n",
              "      <td>36523.131673</td>\n",
              "      <td>-101700.0</td>\n",
              "    </tr>\n",
              "    <tr>\n",
              "      <th>30072</th>\n",
              "      <td>1</td>\n",
              "      <td>76</td>\n",
              "      <td>13</td>\n",
              "      <td>35508.600237</td>\n",
              "      <td>-120600.0</td>\n",
              "    </tr>\n",
              "    <tr>\n",
              "      <th>30073</th>\n",
              "      <td>1</td>\n",
              "      <td>76</td>\n",
              "      <td>13</td>\n",
              "      <td>43624.851720</td>\n",
              "      <td>-130300.0</td>\n",
              "    </tr>\n",
              "    <tr>\n",
              "      <th>30074</th>\n",
              "      <td>1</td>\n",
              "      <td>76</td>\n",
              "      <td>13</td>\n",
              "      <td>41595.788849</td>\n",
              "      <td>-133900.0</td>\n",
              "    </tr>\n",
              "  </tbody>\n",
              "</table>\n",
              "<p>30075 rows × 5 columns</p>\n",
              "</div>\n",
              "      <button class=\"colab-df-convert\" onclick=\"convertToInteractive('df-87f8acad-84ea-46e1-a65c-fe9e1d72b33f')\"\n",
              "              title=\"Convert this dataframe to an interactive table.\"\n",
              "              style=\"display:none;\">\n",
              "        \n",
              "  <svg xmlns=\"http://www.w3.org/2000/svg\" height=\"24px\"viewBox=\"0 0 24 24\"\n",
              "       width=\"24px\">\n",
              "    <path d=\"M0 0h24v24H0V0z\" fill=\"none\"/>\n",
              "    <path d=\"M18.56 5.44l.94 2.06.94-2.06 2.06-.94-2.06-.94-.94-2.06-.94 2.06-2.06.94zm-11 1L8.5 8.5l.94-2.06 2.06-.94-2.06-.94L8.5 2.5l-.94 2.06-2.06.94zm10 10l.94 2.06.94-2.06 2.06-.94-2.06-.94-.94-2.06-.94 2.06-2.06.94z\"/><path d=\"M17.41 7.96l-1.37-1.37c-.4-.4-.92-.59-1.43-.59-.52 0-1.04.2-1.43.59L10.3 9.45l-7.72 7.72c-.78.78-.78 2.05 0 2.83L4 21.41c.39.39.9.59 1.41.59.51 0 1.02-.2 1.41-.59l7.78-7.78 2.81-2.81c.8-.78.8-2.07 0-2.86zM5.41 20L4 18.59l7.72-7.72 1.47 1.35L5.41 20z\"/>\n",
              "  </svg>\n",
              "      </button>\n",
              "      \n",
              "  <style>\n",
              "    .colab-df-container {\n",
              "      display:flex;\n",
              "      flex-wrap:wrap;\n",
              "      gap: 12px;\n",
              "    }\n",
              "\n",
              "    .colab-df-convert {\n",
              "      background-color: #E8F0FE;\n",
              "      border: none;\n",
              "      border-radius: 50%;\n",
              "      cursor: pointer;\n",
              "      display: none;\n",
              "      fill: #1967D2;\n",
              "      height: 32px;\n",
              "      padding: 0 0 0 0;\n",
              "      width: 32px;\n",
              "    }\n",
              "\n",
              "    .colab-df-convert:hover {\n",
              "      background-color: #E2EBFA;\n",
              "      box-shadow: 0px 1px 2px rgba(60, 64, 67, 0.3), 0px 1px 3px 1px rgba(60, 64, 67, 0.15);\n",
              "      fill: #174EA6;\n",
              "    }\n",
              "\n",
              "    [theme=dark] .colab-df-convert {\n",
              "      background-color: #3B4455;\n",
              "      fill: #D2E3FC;\n",
              "    }\n",
              "\n",
              "    [theme=dark] .colab-df-convert:hover {\n",
              "      background-color: #434B5C;\n",
              "      box-shadow: 0px 1px 3px 1px rgba(0, 0, 0, 0.15);\n",
              "      filter: drop-shadow(0px 1px 2px rgba(0, 0, 0, 0.3));\n",
              "      fill: #FFFFFF;\n",
              "    }\n",
              "  </style>\n",
              "\n",
              "      <script>\n",
              "        const buttonEl =\n",
              "          document.querySelector('#df-87f8acad-84ea-46e1-a65c-fe9e1d72b33f button.colab-df-convert');\n",
              "        buttonEl.style.display =\n",
              "          google.colab.kernel.accessAllowed ? 'block' : 'none';\n",
              "\n",
              "        async function convertToInteractive(key) {\n",
              "          const element = document.querySelector('#df-87f8acad-84ea-46e1-a65c-fe9e1d72b33f');\n",
              "          const dataTable =\n",
              "            await google.colab.kernel.invokeFunction('convertToInteractive',\n",
              "                                                     [key], {});\n",
              "          if (!dataTable) return;\n",
              "\n",
              "          const docLinkHtml = 'Like what you see? Visit the ' +\n",
              "            '<a target=\"_blank\" href=https://colab.research.google.com/notebooks/data_table.ipynb>data table notebook</a>'\n",
              "            + ' to learn more about interactive tables.';\n",
              "          element.innerHTML = '';\n",
              "          dataTable['output_type'] = 'display_data';\n",
              "          await google.colab.output.renderOutput(dataTable, element);\n",
              "          const docLink = document.createElement('div');\n",
              "          docLink.innerHTML = docLinkHtml;\n",
              "          element.appendChild(docLink);\n",
              "        }\n",
              "      </script>\n",
              "    </div>\n",
              "  </div>\n",
              "  "
            ]
          },
          "metadata": {},
          "execution_count": 28
        }
      ]
    },
    {
      "cell_type": "markdown",
      "metadata": {
        "id": "O04oZJRFr35q"
      },
      "source": [
        "#Normal distribution fitting"
      ]
    },
    {
      "cell_type": "markdown",
      "metadata": {
        "id": "EoyW9aEqsp4y"
      },
      "source": [
        "The Normal distribution is quite simple and easy to be fitted to data. It only requires 2 parameters `loc` and `scale` and they are actually the mean and the standard deviation of the distribution. So if a data follows the normal distribution, we simply calculate the sample mean and sample standard deviation and feed the values to the parameters."
      ]
    },
    {
      "cell_type": "markdown",
      "metadata": {
        "id": "y81BlcNxHqWH"
      },
      "source": [
        "In this section we will try to fit the normal curve to the data 'INCOME'. First we look at the histogram."
      ]
    },
    {
      "cell_type": "code",
      "metadata": {
        "id": "33U8e-2AlUCF",
        "colab": {
          "base_uri": "https://localhost:8080/",
          "height": 556
        },
        "outputId": "7bd377e7-d256-4305-db34-d55add3a9ef2"
      },
      "source": [
        "plt.figure(figsize=(10,6))\n",
        "plt.hist(data.INCOME, bins = 100, density = True)\n",
        "plt.show()"
      ],
      "execution_count": 4,
      "outputs": [
        {
          "output_type": "display_data",
          "data": {
            "text/plain": [
              "<Figure size 1000x600 with 1 Axes>"
            ],
            "image/png": "[encoded data removed]"
          },
          "metadata": {}
        }
      ]
    },
    {
      "cell_type": "markdown",
      "metadata": {
        "id": "vv30b0mfH7nb"
      },
      "source": [
        "We can see that the histogram has a very long right tail and not  symmetric at all, so the normal distribution might be not suitble. To make sure we will check the boxplot"
      ]
    },
    {
      "cell_type": "code",
      "metadata": {
        "id": "dAYw-N7wllaD",
        "colab": {
          "base_uri": "https://localhost:8080/",
          "height": 540
        },
        "outputId": "541a7e7b-abe7-4422-b01a-9ceec0399ce7"
      },
      "source": [
        "plt.figure(figsize=(10,6))\n",
        "plt.boxplot(data.INCOME, vert = False)\n",
        "plt.show()"
      ],
      "execution_count": 5,
      "outputs": [
        {
          "output_type": "display_data",
          "data": {
            "text/plain": [
              "<Figure size 1000x600 with 1 Axes>"
            ],
            "image/png": "[encoded data removed]"
          },
          "metadata": {}
        }
      ]
    },
    {
      "cell_type": "markdown",
      "metadata": {
        "id": "WC1hPaAtIY7x"
      },
      "source": [
        "Look at the boxplot and we can see many outliers on the right which confirm the long right tail. We will eliminate some of the outliers by using the IQR. Note that because of the long right tail, we need to set the coefficient of IQR in the upper wisher to be larger than 1.5 (here is 2.5)"
      ]
    },
    {
      "cell_type": "code",
      "metadata": {
        "id": "nzZJjA15j7CD"
      },
      "source": [
        "q1, q3 = data.INCOME.quantile([0.25,0.75])\n",
        "low_whisker = q1 - 1.5*(q3 - q1)\n",
        "upp_whisker = q3 + 2.5*(q3 - q1)\n",
        "INCOME = data.INCOME[(data.INCOME<=upp_whisker)&(data.INCOME>=low_whisker)]"
      ],
      "execution_count": 6,
      "outputs": []
    },
    {
      "cell_type": "markdown",
      "metadata": {
        "id": "k6ZGn1mNI51j"
      },
      "source": [
        "The series `INCOME` now contains the clean data. We will look at the histogram one more time"
      ]
    },
    {
      "cell_type": "code",
      "metadata": {
        "id": "r700rOsOYCBn",
        "colab": {
          "base_uri": "https://localhost:8080/",
          "height": 537
        },
        "outputId": "50802f7c-9cd0-45ee-f18a-eadcf725ef9d"
      },
      "source": [
        "plt.figure(figsize=(10,6))\n",
        "plt.hist(INCOME, bins = 17, density = True)\n",
        "plt.show()"
      ],
      "execution_count": 7,
      "outputs": [
        {
          "output_type": "display_data",
          "data": {
            "text/plain": [
              "<Figure size 1000x600 with 1 Axes>"
            ],
            "image/png": "[encoded data removed]"
          },
          "metadata": {}
        }
      ]
    },
    {
      "cell_type": "markdown",
      "metadata": {
        "id": "OSMcudvWJCM8"
      },
      "source": [
        "Althought the asymmetric shape suggests a not normal distribution, let's try to fit the normal distribution to the histogram to see how bad it is. We start by calculating the sample mean and standard deviation of `INCOME`"
      ]
    },
    {
      "cell_type": "code",
      "metadata": {
        "id": "9n052cffYLgx"
      },
      "source": [
        "mean_INCOME = INCOME.mean()\n",
        "std_INCOME = INCOME.std()"
      ],
      "execution_count": 8,
      "outputs": []
    },
    {
      "cell_type": "markdown",
      "metadata": {
        "id": "CynC0h5oJdiY"
      },
      "source": [
        "To draw the graph of the pdf, we need to generate a set of value for the x-axis. The function `np.linspace` will do the job (it is similar to `range` but can take float values). We then create a plot of `norm.pdf` using the x values `x_INCOME`."
      ]
    },
    {
      "cell_type": "code",
      "metadata": {
        "id": "eFFcPNsJYZ9I",
        "colab": {
          "base_uri": "https://localhost:8080/",
          "height": 537
        },
        "outputId": "6cc4fc0a-d3e5-45ad-a1e9-f82d398c7d35"
      },
      "source": [
        "from scipy.stats import norm\n",
        "x_INCOME = np.linspace(INCOME.min(), INCOME.max(), 100)\n",
        "plt.figure(figsize=(10,6))\n",
        "plt.plot(x_INCOME, norm.pdf(x_INCOME, mean_INCOME, std_INCOME))\n",
        "plt.hist(INCOME, bins = 17, density = True)\n",
        "plt.show()"
      ],
      "execution_count": 9,
      "outputs": [
        {
          "output_type": "display_data",
          "data": {
            "text/plain": [
              "<Figure size 1000x600 with 1 Axes>"
            ],
            "image/png": "[encoded data removed]"
          },
          "metadata": {}
        }
      ]
    },
    {
      "cell_type": "markdown",
      "metadata": {
        "id": "ARc6wbvN5Xcp"
      },
      "source": [
        "#Central Limit Theorem"
      ]
    },
    {
      "cell_type": "markdown",
      "metadata": {
        "id": "s3dTcKddu16l"
      },
      "source": [
        "Now we clearly see that the Income data does not follow the normal distribution. However if the Central Limit Theorem is correct, then the sample mean should follow the normal distribution regardless of the main data. To see this effect, we will generate some random sample sets, calculate their means, and put together a new data set as follows: \n",
        "\n",
        "*We will take random samples of size 100 from the INCOME data. Each time we choose 100 INCOME values at random and calculate the sample mean. Repeat the process 1000 times and put all the 1000 sample means into a list, then convert the list into a data frame.*"
      ]
    },
    {
      "cell_type": "code",
      "metadata": {
        "id": "LA_UQlegf7KO"
      },
      "source": [
        "sample_mean_list = []\n",
        "for i in range(1000):\n",
        "  sample_INCOME = INCOME.sample(n=100)\n",
        "  sample_mean_list.append(sample_INCOME.mean())\n",
        "df = pd.DataFrame(sample_mean_list, columns=['sample_mean'])"
      ],
      "execution_count": 10,
      "outputs": []
    },
    {
      "cell_type": "code",
      "metadata": {
        "id": "e3qfn22nE8e3",
        "colab": {
          "base_uri": "https://localhost:8080/",
          "height": 423
        },
        "outputId": "2994335f-d6d7-4e0c-8cba-fcf4965225b4"
      },
      "source": [
        "df"
      ],
      "execution_count": 11,
      "outputs": [
        {
          "output_type": "execute_result",
          "data": {
            "text/plain": [
              "      sample_mean\n",
              "0    84753.956109\n",
              "1    70692.550415\n",
              "2    67797.077699\n",
              "3    78078.237811\n",
              "4    80477.706109\n",
              "..            ...\n",
              "995  75395.918149\n",
              "996  72232.609134\n",
              "997  90014.707414\n",
              "998  77240.843564\n",
              "999  83220.491845\n",
              "\n",
              "[1000 rows x 1 columns]"
            ],
            "text/html": [
              "\n",
              "  <div id=\"df-5cba3be6-e50d-423b-b218-d0c6124bcbb0\">\n",
              "    <div class=\"colab-df-container\">\n",
              "      <div>\n",
              "<style scoped>\n",
              "    .dataframe tbody tr th:only-of-type {\n",
              "        vertical-align: middle;\n",
              "    }\n",
              "\n",
              "    .dataframe tbody tr th {\n",
              "        vertical-align: top;\n",
              "    }\n",
              "\n",
              "    .dataframe thead th {\n",
              "        text-align: right;\n",
              "    }\n",
              "</style>\n",
              "<table border=\"1\" class=\"dataframe\">\n",
              "  <thead>\n",
              "    <tr style=\"text-align: right;\">\n",
              "      <th></th>\n",
              "      <th>sample_mean</th>\n",
              "    </tr>\n",
              "  </thead>\n",
              "  <tbody>\n",
              "    <tr>\n",
              "      <th>0</th>\n",
              "      <td>84753.956109</td>\n",
              "    </tr>\n",
              "    <tr>\n",
              "      <th>1</th>\n",
              "      <td>70692.550415</td>\n",
              "    </tr>\n",
              "    <tr>\n",
              "      <th>2</th>\n",
              "      <td>67797.077699</td>\n",
              "    </tr>\n",
              "    <tr>\n",
              "      <th>3</th>\n",
              "      <td>78078.237811</td>\n",
              "    </tr>\n",
              "    <tr>\n",
              "      <th>4</th>\n",
              "      <td>80477.706109</td>\n",
              "    </tr>\n",
              "    <tr>\n",
              "      <th>...</th>\n",
              "      <td>...</td>\n",
              "    </tr>\n",
              "    <tr>\n",
              "      <th>995</th>\n",
              "      <td>75395.918149</td>\n",
              "    </tr>\n",
              "    <tr>\n",
              "      <th>996</th>\n",
              "      <td>72232.609134</td>\n",
              "    </tr>\n",
              "    <tr>\n",
              "      <th>997</th>\n",
              "      <td>90014.707414</td>\n",
              "    </tr>\n",
              "    <tr>\n",
              "      <th>998</th>\n",
              "      <td>77240.843564</td>\n",
              "    </tr>\n",
              "    <tr>\n",
              "      <th>999</th>\n",
              "      <td>83220.491845</td>\n",
              "    </tr>\n",
              "  </tbody>\n",
              "</table>\n",
              "<p>1000 rows × 1 columns</p>\n",
              "</div>\n",
              "      <button class=\"colab-df-convert\" onclick=\"convertToInteractive('df-5cba3be6-e50d-423b-b218-d0c6124bcbb0')\"\n",
              "              title=\"Convert this dataframe to an interactive table.\"\n",
              "              style=\"display:none;\">\n",
              "        \n",
              "  <svg xmlns=\"http://www.w3.org/2000/svg\" height=\"24px\"viewBox=\"0 0 24 24\"\n",
              "       width=\"24px\">\n",
              "    <path d=\"M0 0h24v24H0V0z\" fill=\"none\"/>\n",
              "    <path d=\"M18.56 5.44l.94 2.06.94-2.06 2.06-.94-2.06-.94-.94-2.06-.94 2.06-2.06.94zm-11 1L8.5 8.5l.94-2.06 2.06-.94-2.06-.94L8.5 2.5l-.94 2.06-2.06.94zm10 10l.94 2.06.94-2.06 2.06-.94-2.06-.94-.94-2.06-.94 2.06-2.06.94z\"/><path d=\"M17.41 7.96l-1.37-1.37c-.4-.4-.92-.59-1.43-.59-.52 0-1.04.2-1.43.59L10.3 9.45l-7.72 7.72c-.78.78-.78 2.05 0 2.83L4 21.41c.39.39.9.59 1.41.59.51 0 1.02-.2 1.41-.59l7.78-7.78 2.81-2.81c.8-.78.8-2.07 0-2.86zM5.41 20L4 18.59l7.72-7.72 1.47 1.35L5.41 20z\"/>\n",
              "  </svg>\n",
              "      </button>\n",
              "      \n",
              "  <style>\n",
              "    .colab-df-container {\n",
              "      display:flex;\n",
              "      flex-wrap:wrap;\n",
              "      gap: 12px;\n",
              "    }\n",
              "\n",
              "    .colab-df-convert {\n",
              "      background-color: #E8F0FE;\n",
              "      border: none;\n",
              "      border-radius: 50%;\n",
              "      cursor: pointer;\n",
              "      display: none;\n",
              "      fill: #1967D2;\n",
              "      height: 32px;\n",
              "      padding: 0 0 0 0;\n",
              "      width: 32px;\n",
              "    }\n",
              "\n",
              "    .colab-df-convert:hover {\n",
              "      background-color: #E2EBFA;\n",
              "      box-shadow: 0px 1px 2px rgba(60, 64, 67, 0.3), 0px 1px 3px 1px rgba(60, 64, 67, 0.15);\n",
              "      fill: #174EA6;\n",
              "    }\n",
              "\n",
              "    [theme=dark] .colab-df-convert {\n",
              "      background-color: #3B4455;\n",
              "      fill: #D2E3FC;\n",
              "    }\n",
              "\n",
              "    [theme=dark] .colab-df-convert:hover {\n",
              "      background-color: #434B5C;\n",
              "      box-shadow: 0px 1px 3px 1px rgba(0, 0, 0, 0.15);\n",
              "      filter: drop-shadow(0px 1px 2px rgba(0, 0, 0, 0.3));\n",
              "      fill: #FFFFFF;\n",
              "    }\n",
              "  </style>\n",
              "\n",
              "      <script>\n",
              "        const buttonEl =\n",
              "          document.querySelector('#df-5cba3be6-e50d-423b-b218-d0c6124bcbb0 button.colab-df-convert');\n",
              "        buttonEl.style.display =\n",
              "          google.colab.kernel.accessAllowed ? 'block' : 'none';\n",
              "\n",
              "        async function convertToInteractive(key) {\n",
              "          const element = document.querySelector('#df-5cba3be6-e50d-423b-b218-d0c6124bcbb0');\n",
              "          const dataTable =\n",
              "            await google.colab.kernel.invokeFunction('convertToInteractive',\n",
              "                                                     [key], {});\n",
              "          if (!dataTable) return;\n",
              "\n",
              "          const docLinkHtml = 'Like what you see? Visit the ' +\n",
              "            '<a target=\"_blank\" href=https://colab.research.google.com/notebooks/data_table.ipynb>data table notebook</a>'\n",
              "            + ' to learn more about interactive tables.';\n",
              "          element.innerHTML = '';\n",
              "          dataTable['output_type'] = 'display_data';\n",
              "          await google.colab.output.renderOutput(dataTable, element);\n",
              "          const docLink = document.createElement('div');\n",
              "          docLink.innerHTML = docLinkHtml;\n",
              "          element.appendChild(docLink);\n",
              "        }\n",
              "      </script>\n",
              "    </div>\n",
              "  </div>\n",
              "  "
            ]
          },
          "metadata": {},
          "execution_count": 11
        }
      ]
    },
    {
      "cell_type": "markdown",
      "metadata": {
        "id": "W9l9sW0SvkP7"
      },
      "source": [
        "Now we have a data frame `df` with a column `sample_mean`. Let's look at the boxplot of `df.sample_mean` and see if there is any outlier."
      ]
    },
    {
      "cell_type": "markdown",
      "metadata": {
        "id": "q_krOBW_wKjM"
      },
      "source": [
        "**Exercise**: Create a boxplot of `df.sample_mean`. If there is outlier, remove them by using the IQR. Assign the cleaned data to a series named `sample_mean`."
      ]
    },
    {
      "cell_type": "code",
      "metadata": {
        "id": "7SIAJGJwg8c8",
        "colab": {
          "base_uri": "https://localhost:8080/",
          "height": 522
        },
        "outputId": "926433cf-c6d9-4ba7-d726-4c8625890355"
      },
      "source": [
        "# Solution goes here\n",
        "plt.figure(figsize=(10,6))\n",
        "plt.boxplot(df.sample_mean, vert = False)\n",
        "plt.show()"
      ],
      "execution_count": 20,
      "outputs": [
        {
          "output_type": "display_data",
          "data": {
            "text/plain": [
              "<Figure size 1000x600 with 1 Axes>"
            ],
            "image/png": "[encoded data removed]"
          },
          "metadata": {}
        }
      ]
    },
    {
      "cell_type": "code",
      "source": [
        "q1_sample, q3_sample = df.sample_mean.quantile([0.25,0.75])\n",
        "low_whisker_sample = q1_sample - 1.5*(q3_sample - q1_sample)\n",
        "upp_whisker_sample = q3_sample + 1.5*(q3_sample - q1_sample)\n",
        "sample_mean = df.sample_mean[(df.sample_mean<=upp_whisker_sample)&(df.sample_mean>=low_whisker_sample)]\n",
        "sample_mean"
      ],
      "metadata": {
        "colab": {
          "base_uri": "https://localhost:8080/"
        },
        "id": "Fl04mBdhF9jo",
        "outputId": "40653d37-2b79-4506-b64d-241f62c1639a"
      },
      "execution_count": 23,
      "outputs": [
        {
          "output_type": "execute_result",
          "data": {
            "text/plain": [
              "0      84753.956109\n",
              "1      70692.550415\n",
              "2      67797.077699\n",
              "3      78078.237811\n",
              "4      80477.706109\n",
              "           ...     \n",
              "995    75395.918149\n",
              "996    72232.609134\n",
              "997    90014.707414\n",
              "998    77240.843564\n",
              "999    83220.491845\n",
              "Name: sample_mean, Length: 996, dtype: float64"
            ]
          },
          "metadata": {},
          "execution_count": 23
        }
      ]
    },
    {
      "cell_type": "code",
      "source": [
        "plt.figure(figsize=(10,6))\n",
        "plt.boxplot(sample_mean, vert = False)\n",
        "plt.show()"
      ],
      "metadata": {
        "colab": {
          "base_uri": "https://localhost:8080/",
          "height": 522
        },
        "id": "9XIQZmkIGPsS",
        "outputId": "2c40c720-2ee9-465a-eeef-3c04c2775163"
      },
      "execution_count": 24,
      "outputs": [
        {
          "output_type": "display_data",
          "data": {
            "text/plain": [
              "<Figure size 1000x600 with 1 Axes>"
            ],
            "image/png": "[encoded data removed]"
          },
          "metadata": {}
        }
      ]
    },
    {
      "cell_type": "markdown",
      "metadata": {
        "id": "sL6CsQduwuYp"
      },
      "source": [
        "By the Central limit theorem, `sample_mean` should follow the normal distribution."
      ]
    },
    {
      "cell_type": "markdown",
      "metadata": {
        "id": "3fE_u2UcxUd7"
      },
      "source": [
        "**Exercise**: Repeat the steps in previous section to fit a normal density curve to the histogram of `sample_mean`."
      ]
    },
    {
      "cell_type": "code",
      "metadata": {
        "id": "2NpRrh82hl3K",
        "colab": {
          "base_uri": "https://localhost:8080/",
          "height": 537
        },
        "outputId": "289414e6-ce02-41dc-d625-4124d6cc2812"
      },
      "source": [
        "#Solution goes here\n",
        "mean_sample = sample_mean.mean()\n",
        "std_sample = sample_mean.std()\n",
        "x_sample_mean = np.linspace(sample_mean.min(), sample_mean.max(), 100)\n",
        "plt.figure(figsize=(10,6))\n",
        "plt.plot(x_sample_mean, norm.pdf(x_sample_mean, mean_sample, std_sample))\n",
        "plt.hist(sample_mean, bins = 17, density = True)\n",
        "plt.show()"
      ],
      "execution_count": 26,
      "outputs": [
        {
          "output_type": "display_data",
          "data": {
            "text/plain": [
              "<Figure size 1000x600 with 1 Axes>"
            ],
            "image/png": "[encoded data removed]"
          },
          "metadata": {}
        }
      ]
    },
    {
      "cell_type": "markdown",
      "metadata": {
        "id": "2HMXSzWAxz_p"
      },
      "source": [
        "**Question**: Compare the fitted curves of `sample_mean` and `weight`. Do you think that the Central Limit Theorem is correct?"
      ]
    },
    {
      "cell_type": "markdown",
      "metadata": {
        "id": "jbCY-9WpfKQC"
      },
      "source": [
        "**Question**: Try increase/decrease the sample size `n` and describe the effect of `n` on the CLT."
      ]
    },
    {
      "cell_type": "markdown",
      "metadata": {
        "id": "_xfW_MpzeEul"
      },
      "source": [
        "**Exercise**: Use the same method to test the CLT using the `HHSEX` column. The values of this column are only '1' or '2', then obviously the distribution is very different from the normal distribution. Follow the steps:\n",
        "\n",
        "\n",
        "*   Generate a data of sample means\n",
        "*   Fit the normal distribution to the data\n",
        "*   Does the distribution of sample mean look normal to you?\n",
        "\n"
      ]
    },
    {
      "cell_type": "code",
      "source": [
        "sample_mean_list_hhsex = []\n",
        "for i in range(1000):\n",
        "  sample_HHSEX = data.HHSEX.sample(n=100)\n",
        "  sample_mean_list_hhsex.append(sample_HHSEX.mean())\n",
        "df_hhsex = pd.DataFrame(sample_mean_list_hhsex, columns=['sample_mean_hhsex'])"
      ],
      "metadata": {
        "id": "pjXwToI3L4sB"
      },
      "execution_count": 45,
      "outputs": []
    },
    {
      "cell_type": "code",
      "source": [
        "df_hhsex"
      ],
      "metadata": {
        "colab": {
          "base_uri": "https://localhost:8080/",
          "height": 423
        },
        "id": "Wi5XnL2FL6hM",
        "outputId": "179ac427-0d76-4c3e-b0a3-bce28fba1b82"
      },
      "execution_count": 46,
      "outputs": [
        {
          "output_type": "execute_result",
          "data": {
            "text/plain": [
              "     sample_mean_hhsex\n",
              "0                 1.30\n",
              "1                 1.20\n",
              "2                 1.33\n",
              "3                 1.22\n",
              "4                 1.21\n",
              "..                 ...\n",
              "995               1.22\n",
              "996               1.24\n",
              "997               1.23\n",
              "998               1.29\n",
              "999               1.26\n",
              "\n",
              "[1000 rows x 1 columns]"
            ],
            "text/html": [
              "\n",
              "  <div id=\"df-54042ca9-7bd3-41b1-8988-7ef3a3bc3f6f\">\n",
              "    <div class=\"colab-df-container\">\n",
              "      <div>\n",
              "<style scoped>\n",
              "    .dataframe tbody tr th:only-of-type {\n",
              "        vertical-align: middle;\n",
              "    }\n",
              "\n",
              "    .dataframe tbody tr th {\n",
              "        vertical-align: top;\n",
              "    }\n",
              "\n",
              "    .dataframe thead th {\n",
              "        text-align: right;\n",
              "    }\n",
              "</style>\n",
              "<table border=\"1\" class=\"dataframe\">\n",
              "  <thead>\n",
              "    <tr style=\"text-align: right;\">\n",
              "      <th></th>\n",
              "      <th>sample_mean_hhsex</th>\n",
              "    </tr>\n",
              "  </thead>\n",
              "  <tbody>\n",
              "    <tr>\n",
              "      <th>0</th>\n",
              "      <td>1.30</td>\n",
              "    </tr>\n",
              "    <tr>\n",
              "      <th>1</th>\n",
              "      <td>1.20</td>\n",
              "    </tr>\n",
              "    <tr>\n",
              "      <th>2</th>\n",
              "      <td>1.33</td>\n",
              "    </tr>\n",
              "    <tr>\n",
              "      <th>3</th>\n",
              "      <td>1.22</td>\n",
              "    </tr>\n",
              "    <tr>\n",
              "      <th>4</th>\n",
              "      <td>1.21</td>\n",
              "    </tr>\n",
              "    <tr>\n",
              "      <th>...</th>\n",
              "      <td>...</td>\n",
              "    </tr>\n",
              "    <tr>\n",
              "      <th>995</th>\n",
              "      <td>1.22</td>\n",
              "    </tr>\n",
              "    <tr>\n",
              "      <th>996</th>\n",
              "      <td>1.24</td>\n",
              "    </tr>\n",
              "    <tr>\n",
              "      <th>997</th>\n",
              "      <td>1.23</td>\n",
              "    </tr>\n",
              "    <tr>\n",
              "      <th>998</th>\n",
              "      <td>1.29</td>\n",
              "    </tr>\n",
              "    <tr>\n",
              "      <th>999</th>\n",
              "      <td>1.26</td>\n",
              "    </tr>\n",
              "  </tbody>\n",
              "</table>\n",
              "<p>1000 rows × 1 columns</p>\n",
              "</div>\n",
              "      <button class=\"colab-df-convert\" onclick=\"convertToInteractive('df-54042ca9-7bd3-41b1-8988-7ef3a3bc3f6f')\"\n",
              "              title=\"Convert this dataframe to an interactive table.\"\n",
              "              style=\"display:none;\">\n",
              "        \n",
              "  <svg xmlns=\"http://www.w3.org/2000/svg\" height=\"24px\"viewBox=\"0 0 24 24\"\n",
              "       width=\"24px\">\n",
              "    <path d=\"M0 0h24v24H0V0z\" fill=\"none\"/>\n",
              "    <path d=\"M18.56 5.44l.94 2.06.94-2.06 2.06-.94-2.06-.94-.94-2.06-.94 2.06-2.06.94zm-11 1L8.5 8.5l.94-2.06 2.06-.94-2.06-.94L8.5 2.5l-.94 2.06-2.06.94zm10 10l.94 2.06.94-2.06 2.06-.94-2.06-.94-.94-2.06-.94 2.06-2.06.94z\"/><path d=\"M17.41 7.96l-1.37-1.37c-.4-.4-.92-.59-1.43-.59-.52 0-1.04.2-1.43.59L10.3 9.45l-7.72 7.72c-.78.78-.78 2.05 0 2.83L4 21.41c.39.39.9.59 1.41.59.51 0 1.02-.2 1.41-.59l7.78-7.78 2.81-2.81c.8-.78.8-2.07 0-2.86zM5.41 20L4 18.59l7.72-7.72 1.47 1.35L5.41 20z\"/>\n",
              "  </svg>\n",
              "      </button>\n",
              "      \n",
              "  <style>\n",
              "    .colab-df-container {\n",
              "      display:flex;\n",
              "      flex-wrap:wrap;\n",
              "      gap: 12px;\n",
              "    }\n",
              "\n",
              "    .colab-df-convert {\n",
              "      background-color: #E8F0FE;\n",
              "      border: none;\n",
              "      border-radius: 50%;\n",
              "      cursor: pointer;\n",
              "      display: none;\n",
              "      fill: #1967D2;\n",
              "      height: 32px;\n",
              "      padding: 0 0 0 0;\n",
              "      width: 32px;\n",
              "    }\n",
              "\n",
              "    .colab-df-convert:hover {\n",
              "      background-color: #E2EBFA;\n",
              "      box-shadow: 0px 1px 2px rgba(60, 64, 67, 0.3), 0px 1px 3px 1px rgba(60, 64, 67, 0.15);\n",
              "      fill: #174EA6;\n",
              "    }\n",
              "\n",
              "    [theme=dark] .colab-df-convert {\n",
              "      background-color: #3B4455;\n",
              "      fill: #D2E3FC;\n",
              "    }\n",
              "\n",
              "    [theme=dark] .colab-df-convert:hover {\n",
              "      background-color: #434B5C;\n",
              "      box-shadow: 0px 1px 3px 1px rgba(0, 0, 0, 0.15);\n",
              "      filter: drop-shadow(0px 1px 2px rgba(0, 0, 0, 0.3));\n",
              "      fill: #FFFFFF;\n",
              "    }\n",
              "  </style>\n",
              "\n",
              "      <script>\n",
              "        const buttonEl =\n",
              "          document.querySelector('#df-54042ca9-7bd3-41b1-8988-7ef3a3bc3f6f button.colab-df-convert');\n",
              "        buttonEl.style.display =\n",
              "          google.colab.kernel.accessAllowed ? 'block' : 'none';\n",
              "\n",
              "        async function convertToInteractive(key) {\n",
              "          const element = document.querySelector('#df-54042ca9-7bd3-41b1-8988-7ef3a3bc3f6f');\n",
              "          const dataTable =\n",
              "            await google.colab.kernel.invokeFunction('convertToInteractive',\n",
              "                                                     [key], {});\n",
              "          if (!dataTable) return;\n",
              "\n",
              "          const docLinkHtml = 'Like what you see? Visit the ' +\n",
              "            '<a target=\"_blank\" href=https://colab.research.google.com/notebooks/data_table.ipynb>data table notebook</a>'\n",
              "            + ' to learn more about interactive tables.';\n",
              "          element.innerHTML = '';\n",
              "          dataTable['output_type'] = 'display_data';\n",
              "          await google.colab.output.renderOutput(dataTable, element);\n",
              "          const docLink = document.createElement('div');\n",
              "          docLink.innerHTML = docLinkHtml;\n",
              "          element.appendChild(docLink);\n",
              "        }\n",
              "      </script>\n",
              "    </div>\n",
              "  </div>\n",
              "  "
            ]
          },
          "metadata": {},
          "execution_count": 46
        }
      ]
    },
    {
      "cell_type": "code",
      "source": [
        "mean_hhsex = df_hhsex.mean()\n",
        "std_hhsex = df_hhsex.std()"
      ],
      "metadata": {
        "id": "kkCE7LFvJZQH"
      },
      "execution_count": 47,
      "outputs": []
    },
    {
      "cell_type": "code",
      "source": [
        "x_hhsex = np.linspace(df_hhsex.min(), df_hhsex.max(), 100)\n",
        "plt.figure(figsize=(10,6))\n",
        "plt.plot(x_hhsex, norm.pdf(x_hhsex, mean_hhsex, std_hhsex))\n",
        "plt.hist(df_hhsex, bins = 17, density = True);\n",
        "plt.show()"
      ],
      "metadata": {
        "colab": {
          "base_uri": "https://localhost:8080/",
          "height": 522
        },
        "id": "uDyCS2JOJdlT",
        "outputId": "5ac35b43-ecf1-4614-bd1b-60344e298a35"
      },
      "execution_count": 48,
      "outputs": [
        {
          "output_type": "display_data",
          "data": {
            "text/plain": [
              "<Figure size 1000x600 with 1 Axes>"
            ],
            "image/png": "[encoded data removed]"
          },
          "metadata": {}
        }
      ]
    }
  ]
}