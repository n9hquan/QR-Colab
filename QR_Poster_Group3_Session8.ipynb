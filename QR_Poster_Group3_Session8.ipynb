{
  "cells": [
    {
      "cell_type": "markdown",
      "metadata": {
        "id": "view-in-github",
        "colab_type": "text"
      },
      "source": [
        "<a href=\"https://colab.research.google.com/github/n9hquan/QR103/blob/main/QR_Poster_Group3_Session8.ipynb\" target=\"_parent\"><img src=\"https://colab.research.google.com/assets/colab-badge.svg\" alt=\"Open In Colab\"/></a>"
      ]
    },
    {
      "cell_type": "code",
      "execution_count": 1577,
      "metadata": {
        "id": "0hE0j6NWfgfD"
      },
      "outputs": [],
      "source": [
        "import pandas as pd\n",
        "import matplotlib.pyplot as plt\n",
        "import numpy as np\n",
        "import scipy.stats as st\n",
        "\n",
        "from google.colab import files\n",
        "import io"
      ]
    },
    {
      "cell_type": "code",
      "execution_count": 1578,
      "metadata": {
        "id": "pXxDkbeefjbN"
      },
      "outputs": [],
      "source": [
        "data = pd.read_csv(\"https://raw.githubusercontent.com/quynh-anh-bang/You-live-and-learn/main/gender_inequality.csv\")"
      ]
    },
    {
      "cell_type": "code",
      "source": [
        "data1 = data.dropna()"
      ],
      "metadata": {
        "id": "0_lGBxKgz1Og"
      },
      "execution_count": 1662,
      "outputs": []
    },
    {
      "cell_type": "code",
      "source": [
        "gdp = pd.read_csv(\"https://raw.githubusercontent.com/n9hquan/QR103/main/GDP_Per_Capita.csv\", on_bad_lines='skip',skiprows=4)"
      ],
      "metadata": {
        "id": "xwo2Qtbqwhtt"
      },
      "execution_count": 1580,
      "outputs": []
    },
    {
      "cell_type": "code",
      "source": [
        "gdpnew = gdp.loc[:,['Country Name','2015']]"
      ],
      "metadata": {
        "id": "YncF88L10bkt"
      },
      "execution_count": 1581,
      "outputs": []
    },
    {
      "cell_type": "code",
      "source": [
        "gdpnew = gdpnew.dropna()"
      ],
      "metadata": {
        "id": "fft5Jm390eIR"
      },
      "execution_count": 1582,
      "outputs": []
    },
    {
      "cell_type": "code",
      "source": [
        "gdp_countries = gdpnew['Country Name']\n",
        "gdp_countries = gdp_countries.tolist()"
      ],
      "metadata": {
        "id": "bXqDyOtQ-5xy"
      },
      "execution_count": 1583,
      "outputs": []
    },
    {
      "cell_type": "code",
      "source": [
        "gdp_2015 = gdp['2015']"
      ],
      "metadata": {
        "id": "ylvR27C9w9uw"
      },
      "execution_count": 1584,
      "outputs": []
    },
    {
      "cell_type": "code",
      "source": [
        "q1 = gdp_2015.quantile(0.25)\n",
        "q3 = gdp_2015.quantile(0.75)\n",
        "low_whisk = q1 - 1.5*(q3-q1)\n",
        "upp_whisk = q3 + 2.5*(q3-q1)"
      ],
      "metadata": {
        "id": "hBZBX-HPRhoh"
      },
      "execution_count": 1585,
      "outputs": []
    },
    {
      "cell_type": "code",
      "source": [
        "plt.hist(gdp_2015)"
      ],
      "metadata": {
        "colab": {
          "base_uri": "https://localhost:8080/",
          "height": 517
        },
        "id": "hviVzOR_SHOv",
        "outputId": "5426807f-0cd8-408c-e7c4-ca49066209dc"
      },
      "execution_count": 1586,
      "outputs": [
        {
          "output_type": "execute_result",
          "data": {
            "text/plain": [
              "(array([189.,  29.,  21.,  10.,   5.,   1.,   1.,   0.,   0.,   2.]),\n",
              " array([   289.35963328,  17294.21611122,  34299.07258916,  51303.92906709,\n",
              "         68308.78554503,  85313.64202297, 102318.4985009 , 119323.35497884,\n",
              "        136328.21145678, 153333.06793471, 170337.92441265]),\n",
              " <BarContainer object of 10 artists>)"
            ]
          },
          "metadata": {},
          "execution_count": 1586
        },
        {
          "output_type": "display_data",
          "data": {
            "text/plain": [
              "<Figure size 640x480 with 1 Axes>"
            ],
            "image/png": "[encoded data removed]"
          },
          "metadata": {}
        }
      ]
    },
    {
      "cell_type": "code",
      "execution_count": 1663,
      "metadata": {
        "id": "9KFahDjGg_k5"
      },
      "outputs": [],
      "source": [
        "data2 = data1.dropna()"
      ]
    },
    {
      "cell_type": "code",
      "source": [
        "data2"
      ],
      "metadata": {
        "colab": {
          "base_uri": "https://localhost:8080/",
          "height": 554
        },
        "id": "9OB9sRKj0hU4",
        "outputId": "6c93f33c-5a1a-423a-ca67-9f89a829f938"
      },
      "execution_count": 1665,
      "outputs": [
        {
          "output_type": "execute_result",
          "data": {
            "text/plain": [
              "     GII Rank                   Country Gender Inequality Index (GII)  \\\n",
              "0         1.0                    Norway                         0.067   \n",
              "1         2.0                 Australia                          0.11   \n",
              "2         3.0               Switzerland                         0.028   \n",
              "3         4.0                   Denmark                         0.048   \n",
              "4         5.0               Netherlands                         0.062   \n",
              "..        ...                       ...                           ...   \n",
              "182     183.0              Burkina Faso                         0.631   \n",
              "183     184.0                   Burundi                         0.492   \n",
              "184     185.0                      Chad                         0.706   \n",
              "186     187.0  Central African Republic                         0.655   \n",
              "187     188.0                     Niger                         0.713   \n",
              "\n",
              "    Maternal Mortality Ratio Adolescent Birth Rate  \\\n",
              "0                          4                   7.8   \n",
              "1                          6                  12.1   \n",
              "2                          6                   1.9   \n",
              "3                          5                   5.1   \n",
              "4                          6                   6.2   \n",
              "..                       ...                   ...   \n",
              "182                      400                 115.4   \n",
              "183                      740                  30.3   \n",
              "184                      980                   152   \n",
              "186                      880                  98.3   \n",
              "187                      630                 204.8   \n",
              "\n",
              "    Percent Representation in Parliament  \\\n",
              "0                                   39.6   \n",
              "1                                   30.5   \n",
              "2                                   28.5   \n",
              "3                                     38   \n",
              "4                                   36.9   \n",
              "..                                   ...   \n",
              "182                                 13.3   \n",
              "183                                 34.9   \n",
              "184                                 14.9   \n",
              "186                                 12.5   \n",
              "187                                 13.3   \n",
              "\n",
              "    Population with Secondary Education (Female)  \\\n",
              "0                                           97.4   \n",
              "1                                           94.3   \n",
              "2                                             95   \n",
              "3                                           95.5   \n",
              "4                                           87.7   \n",
              "..                                           ...   \n",
              "182                                          0.9   \n",
              "183                                          5.3   \n",
              "184                                          1.7   \n",
              "186                                         10.1   \n",
              "187                                          2.4   \n",
              "\n",
              "    Population with Secondary Education (Male)  \\\n",
              "0                                         96.7   \n",
              "1                                         94.6   \n",
              "2                                         96.6   \n",
              "3                                         96.6   \n",
              "4                                         90.5   \n",
              "..                                         ...   \n",
              "182                                        3.2   \n",
              "183                                        8.3   \n",
              "184                                        9.9   \n",
              "186                                       26.7   \n",
              "187                                        7.8   \n",
              "\n",
              "    Labour Force Participation Rate (Female)  \\\n",
              "0                                       61.2   \n",
              "1                                       58.8   \n",
              "2                                       61.8   \n",
              "3                                       58.7   \n",
              "4                                       58.5   \n",
              "..                                       ...   \n",
              "182                                     77.1   \n",
              "183                                     83.3   \n",
              "184                                       64   \n",
              "186                                     72.6   \n",
              "187                                       40   \n",
              "\n",
              "    Labour Force Participation Rate (Male)  Gender gap (Secondary Education)  \\\n",
              "0                                     68.7                               0.7   \n",
              "1                                     71.8                              -0.3   \n",
              "2                                     74.9                              -1.6   \n",
              "3                                     66.4                              -1.1   \n",
              "4                                     70.6                              -2.8   \n",
              "..                                     ...                               ...   \n",
              "182                                     90                              -2.3   \n",
              "183                                     82                              -3.0   \n",
              "184                                   79.2                              -8.2   \n",
              "186                                   85.1                             -16.6   \n",
              "187                                   89.7                              -5.4   \n",
              "\n",
              "     Gender gap (Labour participation)  \n",
              "0                                 -7.5  \n",
              "1                                -13.0  \n",
              "2                                -13.1  \n",
              "3                                 -7.7  \n",
              "4                                -12.1  \n",
              "..                                 ...  \n",
              "182                              -12.9  \n",
              "183                                1.3  \n",
              "184                              -15.2  \n",
              "186                              -12.5  \n",
              "187                              -49.7  \n",
              "\n",
              "[159 rows x 12 columns]"
            ],
            "text/html": [
              "\n",
              "  <div id=\"df-78a43746-3060-430c-9123-59e15549379a\">\n",
              "    <div class=\"colab-df-container\">\n",
              "      <div>\n",
              "<style scoped>\n",
              "    .dataframe tbody tr th:only-of-type {\n",
              "        vertical-align: middle;\n",
              "    }\n",
              "\n",
              "    .dataframe tbody tr th {\n",
              "        vertical-align: top;\n",
              "    }\n",
              "\n",
              "    .dataframe thead th {\n",
              "        text-align: right;\n",
              "    }\n",
              "</style>\n",
              "<table border=\"1\" class=\"dataframe\">\n",
              "  <thead>\n",
              "    <tr style=\"text-align: right;\">\n",
              "      <th></th>\n",
              "      <th>GII Rank</th>\n",
              "      <th>Country</th>\n",
              "      <th>Gender Inequality Index (GII)</th>\n",
              "      <th>Maternal Mortality Ratio</th>\n",
              "      <th>Adolescent Birth Rate</th>\n",
              "      <th>Percent Representation in Parliament</th>\n",
              "      <th>Population with Secondary Education (Female)</th>\n",
              "      <th>Population with Secondary Education (Male)</th>\n",
              "      <th>Labour Force Participation Rate (Female)</th>\n",
              "      <th>Labour Force Participation Rate (Male)</th>\n",
              "      <th>Gender gap (Secondary Education)</th>\n",
              "      <th>Gender gap (Labour participation)</th>\n",
              "    </tr>\n",
              "  </thead>\n",
              "  <tbody>\n",
              "    <tr>\n",
              "      <th>0</th>\n",
              "      <td>1.0</td>\n",
              "      <td>Norway</td>\n",
              "      <td>0.067</td>\n",
              "      <td>4</td>\n",
              "      <td>7.8</td>\n",
              "      <td>39.6</td>\n",
              "      <td>97.4</td>\n",
              "      <td>96.7</td>\n",
              "      <td>61.2</td>\n",
              "      <td>68.7</td>\n",
              "      <td>0.7</td>\n",
              "      <td>-7.5</td>\n",
              "    </tr>\n",
              "    <tr>\n",
              "      <th>1</th>\n",
              "      <td>2.0</td>\n",
              "      <td>Australia</td>\n",
              "      <td>0.11</td>\n",
              "      <td>6</td>\n",
              "      <td>12.1</td>\n",
              "      <td>30.5</td>\n",
              "      <td>94.3</td>\n",
              "      <td>94.6</td>\n",
              "      <td>58.8</td>\n",
              "      <td>71.8</td>\n",
              "      <td>-0.3</td>\n",
              "      <td>-13.0</td>\n",
              "    </tr>\n",
              "    <tr>\n",
              "      <th>2</th>\n",
              "      <td>3.0</td>\n",
              "      <td>Switzerland</td>\n",
              "      <td>0.028</td>\n",
              "      <td>6</td>\n",
              "      <td>1.9</td>\n",
              "      <td>28.5</td>\n",
              "      <td>95</td>\n",
              "      <td>96.6</td>\n",
              "      <td>61.8</td>\n",
              "      <td>74.9</td>\n",
              "      <td>-1.6</td>\n",
              "      <td>-13.1</td>\n",
              "    </tr>\n",
              "    <tr>\n",
              "      <th>3</th>\n",
              "      <td>4.0</td>\n",
              "      <td>Denmark</td>\n",
              "      <td>0.048</td>\n",
              "      <td>5</td>\n",
              "      <td>5.1</td>\n",
              "      <td>38</td>\n",
              "      <td>95.5</td>\n",
              "      <td>96.6</td>\n",
              "      <td>58.7</td>\n",
              "      <td>66.4</td>\n",
              "      <td>-1.1</td>\n",
              "      <td>-7.7</td>\n",
              "    </tr>\n",
              "    <tr>\n",
              "      <th>4</th>\n",
              "      <td>5.0</td>\n",
              "      <td>Netherlands</td>\n",
              "      <td>0.062</td>\n",
              "      <td>6</td>\n",
              "      <td>6.2</td>\n",
              "      <td>36.9</td>\n",
              "      <td>87.7</td>\n",
              "      <td>90.5</td>\n",
              "      <td>58.5</td>\n",
              "      <td>70.6</td>\n",
              "      <td>-2.8</td>\n",
              "      <td>-12.1</td>\n",
              "    </tr>\n",
              "    <tr>\n",
              "      <th>...</th>\n",
              "      <td>...</td>\n",
              "      <td>...</td>\n",
              "      <td>...</td>\n",
              "      <td>...</td>\n",
              "      <td>...</td>\n",
              "      <td>...</td>\n",
              "      <td>...</td>\n",
              "      <td>...</td>\n",
              "      <td>...</td>\n",
              "      <td>...</td>\n",
              "      <td>...</td>\n",
              "      <td>...</td>\n",
              "    </tr>\n",
              "    <tr>\n",
              "      <th>182</th>\n",
              "      <td>183.0</td>\n",
              "      <td>Burkina Faso</td>\n",
              "      <td>0.631</td>\n",
              "      <td>400</td>\n",
              "      <td>115.4</td>\n",
              "      <td>13.3</td>\n",
              "      <td>0.9</td>\n",
              "      <td>3.2</td>\n",
              "      <td>77.1</td>\n",
              "      <td>90</td>\n",
              "      <td>-2.3</td>\n",
              "      <td>-12.9</td>\n",
              "    </tr>\n",
              "    <tr>\n",
              "      <th>183</th>\n",
              "      <td>184.0</td>\n",
              "      <td>Burundi</td>\n",
              "      <td>0.492</td>\n",
              "      <td>740</td>\n",
              "      <td>30.3</td>\n",
              "      <td>34.9</td>\n",
              "      <td>5.3</td>\n",
              "      <td>8.3</td>\n",
              "      <td>83.3</td>\n",
              "      <td>82</td>\n",
              "      <td>-3.0</td>\n",
              "      <td>1.3</td>\n",
              "    </tr>\n",
              "    <tr>\n",
              "      <th>184</th>\n",
              "      <td>185.0</td>\n",
              "      <td>Chad</td>\n",
              "      <td>0.706</td>\n",
              "      <td>980</td>\n",
              "      <td>152</td>\n",
              "      <td>14.9</td>\n",
              "      <td>1.7</td>\n",
              "      <td>9.9</td>\n",
              "      <td>64</td>\n",
              "      <td>79.2</td>\n",
              "      <td>-8.2</td>\n",
              "      <td>-15.2</td>\n",
              "    </tr>\n",
              "    <tr>\n",
              "      <th>186</th>\n",
              "      <td>187.0</td>\n",
              "      <td>Central African Republic</td>\n",
              "      <td>0.655</td>\n",
              "      <td>880</td>\n",
              "      <td>98.3</td>\n",
              "      <td>12.5</td>\n",
              "      <td>10.1</td>\n",
              "      <td>26.7</td>\n",
              "      <td>72.6</td>\n",
              "      <td>85.1</td>\n",
              "      <td>-16.6</td>\n",
              "      <td>-12.5</td>\n",
              "    </tr>\n",
              "    <tr>\n",
              "      <th>187</th>\n",
              "      <td>188.0</td>\n",
              "      <td>Niger</td>\n",
              "      <td>0.713</td>\n",
              "      <td>630</td>\n",
              "      <td>204.8</td>\n",
              "      <td>13.3</td>\n",
              "      <td>2.4</td>\n",
              "      <td>7.8</td>\n",
              "      <td>40</td>\n",
              "      <td>89.7</td>\n",
              "      <td>-5.4</td>\n",
              "      <td>-49.7</td>\n",
              "    </tr>\n",
              "  </tbody>\n",
              "</table>\n",
              "<p>159 rows × 12 columns</p>\n",
              "</div>\n",
              "      <button class=\"colab-df-convert\" onclick=\"convertToInteractive('df-78a43746-3060-430c-9123-59e15549379a')\"\n",
              "              title=\"Convert this dataframe to an interactive table.\"\n",
              "              style=\"display:none;\">\n",
              "        \n",
              "  <svg xmlns=\"http://www.w3.org/2000/svg\" height=\"24px\"viewBox=\"0 0 24 24\"\n",
              "       width=\"24px\">\n",
              "    <path d=\"M0 0h24v24H0V0z\" fill=\"none\"/>\n",
              "    <path d=\"M18.56 5.44l.94 2.06.94-2.06 2.06-.94-2.06-.94-.94-2.06-.94 2.06-2.06.94zm-11 1L8.5 8.5l.94-2.06 2.06-.94-2.06-.94L8.5 2.5l-.94 2.06-2.06.94zm10 10l.94 2.06.94-2.06 2.06-.94-2.06-.94-.94-2.06-.94 2.06-2.06.94z\"/><path d=\"M17.41 7.96l-1.37-1.37c-.4-.4-.92-.59-1.43-.59-.52 0-1.04.2-1.43.59L10.3 9.45l-7.72 7.72c-.78.78-.78 2.05 0 2.83L4 21.41c.39.39.9.59 1.41.59.51 0 1.02-.2 1.41-.59l7.78-7.78 2.81-2.81c.8-.78.8-2.07 0-2.86zM5.41 20L4 18.59l7.72-7.72 1.47 1.35L5.41 20z\"/>\n",
              "  </svg>\n",
              "      </button>\n",
              "      \n",
              "  <style>\n",
              "    .colab-df-container {\n",
              "      display:flex;\n",
              "      flex-wrap:wrap;\n",
              "      gap: 12px;\n",
              "    }\n",
              "\n",
              "    .colab-df-convert {\n",
              "      background-color: #E8F0FE;\n",
              "      border: none;\n",
              "      border-radius: 50%;\n",
              "      cursor: pointer;\n",
              "      display: none;\n",
              "      fill: #1967D2;\n",
              "      height: 32px;\n",
              "      padding: 0 0 0 0;\n",
              "      width: 32px;\n",
              "    }\n",
              "\n",
              "    .colab-df-convert:hover {\n",
              "      background-color: #E2EBFA;\n",
              "      box-shadow: 0px 1px 2px rgba(60, 64, 67, 0.3), 0px 1px 3px 1px rgba(60, 64, 67, 0.15);\n",
              "      fill: #174EA6;\n",
              "    }\n",
              "\n",
              "    [theme=dark] .colab-df-convert {\n",
              "      background-color: #3B4455;\n",
              "      fill: #D2E3FC;\n",
              "    }\n",
              "\n",
              "    [theme=dark] .colab-df-convert:hover {\n",
              "      background-color: #434B5C;\n",
              "      box-shadow: 0px 1px 3px 1px rgba(0, 0, 0, 0.15);\n",
              "      filter: drop-shadow(0px 1px 2px rgba(0, 0, 0, 0.3));\n",
              "      fill: #FFFFFF;\n",
              "    }\n",
              "  </style>\n",
              "\n",
              "      <script>\n",
              "        const buttonEl =\n",
              "          document.querySelector('#df-78a43746-3060-430c-9123-59e15549379a button.colab-df-convert');\n",
              "        buttonEl.style.display =\n",
              "          google.colab.kernel.accessAllowed ? 'block' : 'none';\n",
              "\n",
              "        async function convertToInteractive(key) {\n",
              "          const element = document.querySelector('#df-78a43746-3060-430c-9123-59e15549379a');\n",
              "          const dataTable =\n",
              "            await google.colab.kernel.invokeFunction('convertToInteractive',\n",
              "                                                     [key], {});\n",
              "          if (!dataTable) return;\n",
              "\n",
              "          const docLinkHtml = 'Like what you see? Visit the ' +\n",
              "            '<a target=\"_blank\" href=https://colab.research.google.com/notebooks/data_table.ipynb>data table notebook</a>'\n",
              "            + ' to learn more about interactive tables.';\n",
              "          element.innerHTML = '';\n",
              "          dataTable['output_type'] = 'display_data';\n",
              "          await google.colab.output.renderOutput(dataTable, element);\n",
              "          const docLink = document.createElement('div');\n",
              "          docLink.innerHTML = docLinkHtml;\n",
              "          element.appendChild(docLink);\n",
              "        }\n",
              "      </script>\n",
              "    </div>\n",
              "  </div>\n",
              "  "
            ]
          },
          "metadata": {},
          "execution_count": 1665
        }
      ]
    },
    {
      "cell_type": "markdown",
      "source": [
        "#Edu"
      ],
      "metadata": {
        "id": "KuFK-nvoKOYe"
      }
    },
    {
      "cell_type": "code",
      "execution_count": 1666,
      "metadata": {
        "colab": {
          "base_uri": "https://localhost:8080/"
        },
        "id": "Ouku65jkkv0p",
        "outputId": "f6e75712-c72c-415e-b888-affd724a7e92"
      },
      "outputs": [
        {
          "output_type": "execute_result",
          "data": {
            "text/plain": [
              "0      97.4\n",
              "1      94.3\n",
              "2        95\n",
              "3      95.5\n",
              "4      87.7\n",
              "       ... \n",
              "182     0.9\n",
              "183     5.3\n",
              "184     1.7\n",
              "186    10.1\n",
              "187     2.4\n",
              "Name: Population with Secondary Education (Female), Length: 159, dtype: object"
            ]
          },
          "metadata": {},
          "execution_count": 1666
        }
      ],
      "source": [
        "# female_edu_US = data[data['Country'] == 'United States']['Population with Secondary Education (Female)']\n",
        "female_edu_world = data['Population with Secondary Education (Female)']\n",
        "female_edu_world"
      ]
    },
    {
      "cell_type": "code",
      "execution_count": 1667,
      "metadata": {
        "colab": {
          "base_uri": "https://localhost:8080/"
        },
        "id": "fIeB8TpSnfhq",
        "outputId": "3f4f9f1a-d6c4-47fb-ef1f-ebe9efa71405"
      },
      "outputs": [
        {
          "output_type": "execute_result",
          "data": {
            "text/plain": [
              "0      96.7\n",
              "1      94.6\n",
              "2      96.6\n",
              "3      96.6\n",
              "4      90.5\n",
              "       ... \n",
              "182     3.2\n",
              "183     8.3\n",
              "184     9.9\n",
              "186    26.7\n",
              "187     7.8\n",
              "Name: Population with Secondary Education (Male), Length: 159, dtype: object"
            ]
          },
          "metadata": {},
          "execution_count": 1667
        }
      ],
      "source": [
        "# male_edu_US = data[data['Country'] == 'United States']['Population with Secondary Education (Male)']\n",
        "male_edu_world = data['Population with Secondary Education (Male)']\n",
        "male_edu_world"
      ]
    },
    {
      "cell_type": "code",
      "source": [
        "female_edu_1 = data.loc[:,['Country','Population with Secondary Education (Female)']]\n",
        "female_edu_1 = female_edu_1.dropna()"
      ],
      "metadata": {
        "id": "VVuX6J399eM8"
      },
      "execution_count": 1668,
      "outputs": []
    },
    {
      "cell_type": "code",
      "source": [
        "female_edu_1"
      ],
      "metadata": {
        "colab": {
          "base_uri": "https://localhost:8080/",
          "height": 424
        },
        "id": "jcmZT9U7pSN8",
        "outputId": "ca5a9d5c-8284-4fcb-cce2-addcaa849537"
      },
      "execution_count": 1669,
      "outputs": [
        {
          "output_type": "execute_result",
          "data": {
            "text/plain": [
              "                      Country Population with Secondary Education (Female)\n",
              "0                      Norway                                         97.4\n",
              "1                   Australia                                         94.3\n",
              "2                 Switzerland                                           95\n",
              "3                     Denmark                                         95.5\n",
              "4                 Netherlands                                         87.7\n",
              "..                        ...                                          ...\n",
              "182              Burkina Faso                                          0.9\n",
              "183                   Burundi                                          5.3\n",
              "184                      Chad                                          1.7\n",
              "186  Central African Republic                                         10.1\n",
              "187                     Niger                                          2.4\n",
              "\n",
              "[159 rows x 2 columns]"
            ],
            "text/html": [
              "\n",
              "  <div id=\"df-d66d4af2-b430-4b06-8b2d-83e5f82564cf\">\n",
              "    <div class=\"colab-df-container\">\n",
              "      <div>\n",
              "<style scoped>\n",
              "    .dataframe tbody tr th:only-of-type {\n",
              "        vertical-align: middle;\n",
              "    }\n",
              "\n",
              "    .dataframe tbody tr th {\n",
              "        vertical-align: top;\n",
              "    }\n",
              "\n",
              "    .dataframe thead th {\n",
              "        text-align: right;\n",
              "    }\n",
              "</style>\n",
              "<table border=\"1\" class=\"dataframe\">\n",
              "  <thead>\n",
              "    <tr style=\"text-align: right;\">\n",
              "      <th></th>\n",
              "      <th>Country</th>\n",
              "      <th>Population with Secondary Education (Female)</th>\n",
              "    </tr>\n",
              "  </thead>\n",
              "  <tbody>\n",
              "    <tr>\n",
              "      <th>0</th>\n",
              "      <td>Norway</td>\n",
              "      <td>97.4</td>\n",
              "    </tr>\n",
              "    <tr>\n",
              "      <th>1</th>\n",
              "      <td>Australia</td>\n",
              "      <td>94.3</td>\n",
              "    </tr>\n",
              "    <tr>\n",
              "      <th>2</th>\n",
              "      <td>Switzerland</td>\n",
              "      <td>95</td>\n",
              "    </tr>\n",
              "    <tr>\n",
              "      <th>3</th>\n",
              "      <td>Denmark</td>\n",
              "      <td>95.5</td>\n",
              "    </tr>\n",
              "    <tr>\n",
              "      <th>4</th>\n",
              "      <td>Netherlands</td>\n",
              "      <td>87.7</td>\n",
              "    </tr>\n",
              "    <tr>\n",
              "      <th>...</th>\n",
              "      <td>...</td>\n",
              "      <td>...</td>\n",
              "    </tr>\n",
              "    <tr>\n",
              "      <th>182</th>\n",
              "      <td>Burkina Faso</td>\n",
              "      <td>0.9</td>\n",
              "    </tr>\n",
              "    <tr>\n",
              "      <th>183</th>\n",
              "      <td>Burundi</td>\n",
              "      <td>5.3</td>\n",
              "    </tr>\n",
              "    <tr>\n",
              "      <th>184</th>\n",
              "      <td>Chad</td>\n",
              "      <td>1.7</td>\n",
              "    </tr>\n",
              "    <tr>\n",
              "      <th>186</th>\n",
              "      <td>Central African Republic</td>\n",
              "      <td>10.1</td>\n",
              "    </tr>\n",
              "    <tr>\n",
              "      <th>187</th>\n",
              "      <td>Niger</td>\n",
              "      <td>2.4</td>\n",
              "    </tr>\n",
              "  </tbody>\n",
              "</table>\n",
              "<p>159 rows × 2 columns</p>\n",
              "</div>\n",
              "      <button class=\"colab-df-convert\" onclick=\"convertToInteractive('df-d66d4af2-b430-4b06-8b2d-83e5f82564cf')\"\n",
              "              title=\"Convert this dataframe to an interactive table.\"\n",
              "              style=\"display:none;\">\n",
              "        \n",
              "  <svg xmlns=\"http://www.w3.org/2000/svg\" height=\"24px\"viewBox=\"0 0 24 24\"\n",
              "       width=\"24px\">\n",
              "    <path d=\"M0 0h24v24H0V0z\" fill=\"none\"/>\n",
              "    <path d=\"M18.56 5.44l.94 2.06.94-2.06 2.06-.94-2.06-.94-.94-2.06-.94 2.06-2.06.94zm-11 1L8.5 8.5l.94-2.06 2.06-.94-2.06-.94L8.5 2.5l-.94 2.06-2.06.94zm10 10l.94 2.06.94-2.06 2.06-.94-2.06-.94-.94-2.06-.94 2.06-2.06.94z\"/><path d=\"M17.41 7.96l-1.37-1.37c-.4-.4-.92-.59-1.43-.59-.52 0-1.04.2-1.43.59L10.3 9.45l-7.72 7.72c-.78.78-.78 2.05 0 2.83L4 21.41c.39.39.9.59 1.41.59.51 0 1.02-.2 1.41-.59l7.78-7.78 2.81-2.81c.8-.78.8-2.07 0-2.86zM5.41 20L4 18.59l7.72-7.72 1.47 1.35L5.41 20z\"/>\n",
              "  </svg>\n",
              "      </button>\n",
              "      \n",
              "  <style>\n",
              "    .colab-df-container {\n",
              "      display:flex;\n",
              "      flex-wrap:wrap;\n",
              "      gap: 12px;\n",
              "    }\n",
              "\n",
              "    .colab-df-convert {\n",
              "      background-color: #E8F0FE;\n",
              "      border: none;\n",
              "      border-radius: 50%;\n",
              "      cursor: pointer;\n",
              "      display: none;\n",
              "      fill: #1967D2;\n",
              "      height: 32px;\n",
              "      padding: 0 0 0 0;\n",
              "      width: 32px;\n",
              "    }\n",
              "\n",
              "    .colab-df-convert:hover {\n",
              "      background-color: #E2EBFA;\n",
              "      box-shadow: 0px 1px 2px rgba(60, 64, 67, 0.3), 0px 1px 3px 1px rgba(60, 64, 67, 0.15);\n",
              "      fill: #174EA6;\n",
              "    }\n",
              "\n",
              "    [theme=dark] .colab-df-convert {\n",
              "      background-color: #3B4455;\n",
              "      fill: #D2E3FC;\n",
              "    }\n",
              "\n",
              "    [theme=dark] .colab-df-convert:hover {\n",
              "      background-color: #434B5C;\n",
              "      box-shadow: 0px 1px 3px 1px rgba(0, 0, 0, 0.15);\n",
              "      filter: drop-shadow(0px 1px 2px rgba(0, 0, 0, 0.3));\n",
              "      fill: #FFFFFF;\n",
              "    }\n",
              "  </style>\n",
              "\n",
              "      <script>\n",
              "        const buttonEl =\n",
              "          document.querySelector('#df-d66d4af2-b430-4b06-8b2d-83e5f82564cf button.colab-df-convert');\n",
              "        buttonEl.style.display =\n",
              "          google.colab.kernel.accessAllowed ? 'block' : 'none';\n",
              "\n",
              "        async function convertToInteractive(key) {\n",
              "          const element = document.querySelector('#df-d66d4af2-b430-4b06-8b2d-83e5f82564cf');\n",
              "          const dataTable =\n",
              "            await google.colab.kernel.invokeFunction('convertToInteractive',\n",
              "                                                     [key], {});\n",
              "          if (!dataTable) return;\n",
              "\n",
              "          const docLinkHtml = 'Like what you see? Visit the ' +\n",
              "            '<a target=\"_blank\" href=https://colab.research.google.com/notebooks/data_table.ipynb>data table notebook</a>'\n",
              "            + ' to learn more about interactive tables.';\n",
              "          element.innerHTML = '';\n",
              "          dataTable['output_type'] = 'display_data';\n",
              "          await google.colab.output.renderOutput(dataTable, element);\n",
              "          const docLink = document.createElement('div');\n",
              "          docLink.innerHTML = docLinkHtml;\n",
              "          element.appendChild(docLink);\n",
              "        }\n",
              "      </script>\n",
              "    </div>\n",
              "  </div>\n",
              "  "
            ]
          },
          "metadata": {},
          "execution_count": 1669
        }
      ]
    },
    {
      "cell_type": "code",
      "source": [
        "male_edu_1 = data.loc[:,['Country','Population with Secondary Education (Male)']]\n",
        "male_edu_1 = male_edu_1.dropna()"
      ],
      "metadata": {
        "id": "OSZc2KfpTkkw"
      },
      "execution_count": 1670,
      "outputs": []
    },
    {
      "cell_type": "code",
      "source": [
        "female_edu_val=female_edu_1['Population with Secondary Education (Female)']\n",
        "female_edu_val = pd.to_numeric(female_edu_val,errors ='coerce')\n",
        "male_edu_val=male_edu_1['Population with Secondary Education (Male)']\n",
        "male_edu_val = pd.to_numeric(male_edu_val,errors ='coerce')"
      ],
      "metadata": {
        "id": "5Rh1adN0EzBJ"
      },
      "execution_count": 1671,
      "outputs": []
    },
    {
      "cell_type": "code",
      "source": [
        "female_edu_val"
      ],
      "metadata": {
        "colab": {
          "base_uri": "https://localhost:8080/"
        },
        "id": "83NJxI7USiYf",
        "outputId": "8d87a66c-4005-4320-f256-a962e023e8f6"
      },
      "execution_count": 1672,
      "outputs": [
        {
          "output_type": "execute_result",
          "data": {
            "text/plain": [
              "0      97.4\n",
              "1      94.3\n",
              "2      95.0\n",
              "3      95.5\n",
              "4      87.7\n",
              "       ... \n",
              "182     0.9\n",
              "183     5.3\n",
              "184     1.7\n",
              "186    10.1\n",
              "187     2.4\n",
              "Name: Population with Secondary Education (Female), Length: 159, dtype: float64"
            ]
          },
          "metadata": {},
          "execution_count": 1672
        }
      ]
    },
    {
      "cell_type": "code",
      "source": [
        "male_edu_val"
      ],
      "metadata": {
        "colab": {
          "base_uri": "https://localhost:8080/"
        },
        "id": "VcOYiFca_z2W",
        "outputId": "429024d5-1c53-4420-c52a-b322ea5279ee"
      },
      "execution_count": 1673,
      "outputs": [
        {
          "output_type": "execute_result",
          "data": {
            "text/plain": [
              "0      96.7\n",
              "1      94.6\n",
              "2      96.6\n",
              "3      96.6\n",
              "4      90.5\n",
              "       ... \n",
              "182     3.2\n",
              "183     8.3\n",
              "184     9.9\n",
              "186    26.7\n",
              "187     7.8\n",
              "Name: Population with Secondary Education (Male), Length: 159, dtype: float64"
            ]
          },
          "metadata": {},
          "execution_count": 1673
        }
      ]
    },
    {
      "cell_type": "code",
      "source": [
        "female_countries = female_edu_1['Country']\n",
        "female_countries = female_countries.tolist()"
      ],
      "metadata": {
        "id": "yLR6BAJ6-FcK"
      },
      "execution_count": 1674,
      "outputs": []
    },
    {
      "cell_type": "code",
      "source": [
        "female_edu_world = data['Population with Secondary Education (Female)']\n",
        "male_edu_world = data['Population with Secondary Education (Male)']\n",
        "female_edu_dropna = pd.to_numeric(female_edu_world, errors ='coerce')\n",
        "male_edu_dropna = pd.to_numeric(male_edu_world, errors ='coerce')\n",
        "female_edu = female_edu_dropna.dropna()\n",
        "male_edu = male_edu_dropna.dropna()\n",
        "st.ttest_ind(female_edu, male_edu)"
      ],
      "metadata": {
        "colab": {
          "base_uri": "https://localhost:8080/"
        },
        "id": "543iP5B1WDov",
        "outputId": "6ca48af4-e43d-4267-ca9a-e93254fb2588"
      },
      "execution_count": 1675,
      "outputs": [
        {
          "output_type": "execute_result",
          "data": {
            "text/plain": [
              "Ttest_indResult(statistic=-1.6312325579385671, pvalue=0.10383744245451487)"
            ]
          },
          "metadata": {},
          "execution_count": 1675
        }
      ]
    },
    {
      "cell_type": "code",
      "execution_count": 1676,
      "metadata": {
        "id": "kiw5LiOQo0-Q",
        "colab": {
          "base_uri": "https://localhost:8080/"
        },
        "outputId": "1124c9f5-5282-42ae-fc3e-30531f15369d"
      },
      "outputs": [
        {
          "output_type": "stream",
          "name": "stderr",
          "text": [
            "<ipython-input-1676-30cbc04de68c>:1: SettingWithCopyWarning: \n",
            "A value is trying to be set on a copy of a slice from a DataFrame.\n",
            "Try using .loc[row_indexer,col_indexer] = value instead\n",
            "\n",
            "See the caveats in the documentation: https://pandas.pydata.org/pandas-docs/stable/user_guide/indexing.html#returning-a-view-versus-a-copy\n",
            "  data['Gender gap (Secondary Education)'] = female_edu_val - male_edu_val\n"
          ]
        }
      ],
      "source": [
        "data['Gender gap (Secondary Education)'] = female_edu_val - male_edu_val"
      ]
    },
    {
      "cell_type": "code",
      "execution_count": 1677,
      "metadata": {
        "id": "MfXE4ArqqoxB",
        "colab": {
          "base_uri": "https://localhost:8080/",
          "height": 1000
        },
        "outputId": "0c363d6a-8aca-4d06-99e2-7d9416cf1729"
      },
      "outputs": [
        {
          "output_type": "execute_result",
          "data": {
            "text/plain": [
              "     GII Rank                             Country  \\\n",
              "0         1.0                              Norway   \n",
              "6         6.0                             Ireland   \n",
              "7         8.0                       United States   \n",
              "19       20.0                               Japan   \n",
              "27       28.0                      Czech Republic   \n",
              "32       32.0                               Qatar   \n",
              "40       41.0                United Arab Emirates   \n",
              "44       45.0                             Bahrain   \n",
              "53       52.0                             Uruguay   \n",
              "54       55.0                             Bahamas   \n",
              "56       57.0                            Barbados   \n",
              "60       60.0                              Panama   \n",
              "68       69.0                          Costa Rica   \n",
              "70       71.0  Venezuela (Bolivarian Republic of)   \n",
              "74       75.0                              Brazil   \n",
              "87       88.0                             Ecuador   \n",
              "91       90.0                            Mongolia   \n",
              "94       94.0                               Libya   \n",
              "96       97.0                            Colombia   \n",
              "98       99.0                             Jamaica   \n",
              "100     101.0                              Belize   \n",
              "101     101.0                  Dominican Republic   \n",
              "104     105.0                               Samoa   \n",
              "109     110.0                               Gabon   \n",
              "114     115.0                         Philippines   \n",
              "123     124.0                              Guyana   \n",
              "124     125.0                           Nicaragua   \n",
              "128     129.0                          Tajikistan   \n",
              "130     131.0                            Honduras   \n",
              "147     148.0                             Myanmar   \n",
              "160     161.0                             Lesotho   \n",
              "\n",
              "    Gender Inequality Index (GII) Maternal Mortality Ratio  \\\n",
              "0                           0.067                        4   \n",
              "6                           0.113                        9   \n",
              "7                            0.28                       28   \n",
              "19                          0.133                        6   \n",
              "27                          0.091                        5   \n",
              "32                          0.524                        6   \n",
              "40                          0.232                        8   \n",
              "44                          0.265                       22   \n",
              "53                          0.313                       14   \n",
              "54                          0.298                       37   \n",
              "56                          0.357                       52   \n",
              "60                          0.454                       85   \n",
              "68                          0.349                       38   \n",
              "70                          0.476                      110   \n",
              "74                          0.457                       69   \n",
              "87                          0.407                       87   \n",
              "91                          0.325                       68   \n",
              "94                          0.134                       15   \n",
              "96                          0.429                       83   \n",
              "98                           0.43                       80   \n",
              "100                         0.426                       45   \n",
              "101                         0.477                      100   \n",
              "104                         0.457                       58   \n",
              "109                         0.514                      240   \n",
              "114                          0.42                      120   \n",
              "123                         0.515                      250   \n",
              "124                         0.449                      100   \n",
              "128                         0.357                       44   \n",
              "130                          0.48                      120   \n",
              "147                         0.413                      200   \n",
              "160                         0.541                      490   \n",
              "\n",
              "    Adolescent Birth Rate Percent Representation in Parliament  \\\n",
              "0                     7.8                                 39.6   \n",
              "6                     8.2                                 19.9   \n",
              "7                      31                                 19.4   \n",
              "19                    5.4                                 11.6   \n",
              "27                    4.9                                 18.9   \n",
              "32                    9.5                                    0   \n",
              "40                   27.6                                 17.5   \n",
              "44                   13.8                                   15   \n",
              "53                   58.3                                 11.5   \n",
              "54                   28.5                                 16.7   \n",
              "56                   48.4                                 19.6   \n",
              "60                   78.5                                 19.3   \n",
              "68                   60.8                                 33.3   \n",
              "70                   83.2                                   17   \n",
              "74                   70.8                                  9.6   \n",
              "87                     77                                 41.6   \n",
              "91                   18.7                                 14.9   \n",
              "94                    2.5                                   16   \n",
              "96                   68.5                                 20.9   \n",
              "98                   70.1                                 16.7   \n",
              "100                  71.4                                 13.3   \n",
              "101                  99.6                                 19.1   \n",
              "104                  28.3                                  6.1   \n",
              "109                   103                                 16.2   \n",
              "114                  46.8                                 27.1   \n",
              "123                  88.5                                 31.3   \n",
              "124                 100.8                                 39.1   \n",
              "128                  42.8                                 15.2   \n",
              "130                    84                                 25.8   \n",
              "147                  12.1                                  4.7   \n",
              "160                  89.4                                 26.8   \n",
              "\n",
              "    Population with Secondary Education (Female)  \\\n",
              "0                                           97.4   \n",
              "6                                           80.5   \n",
              "7                                           95.1   \n",
              "19                                            87   \n",
              "27                                          99.9   \n",
              "32                                          66.7   \n",
              "40                                          73.1   \n",
              "44                                          56.7   \n",
              "53                                          54.4   \n",
              "54                                          91.2   \n",
              "56                                          89.5   \n",
              "60                                            54   \n",
              "68                                          50.7   \n",
              "70                                          56.6   \n",
              "74                                          54.6   \n",
              "87                                          40.1   \n",
              "91                                          85.3   \n",
              "94                                          55.5   \n",
              "96                                          56.9   \n",
              "98                                            74   \n",
              "100                                         76.4   \n",
              "101                                         55.6   \n",
              "104                                         64.3   \n",
              "109                                         53.9   \n",
              "114                                         65.9   \n",
              "123                                         60.3   \n",
              "124                                         39.4   \n",
              "128                                         95.1   \n",
              "130                                           28   \n",
              "147                                         22.9   \n",
              "160                                         21.9   \n",
              "\n",
              "    Population with Secondary Education (Male)  \\\n",
              "0                                         96.7   \n",
              "6                                         78.6   \n",
              "7                                         94.8   \n",
              "19                                        85.8   \n",
              "27                                        99.7   \n",
              "32                                          59   \n",
              "40                                        61.2   \n",
              "44                                        51.4   \n",
              "53                                        50.3   \n",
              "54                                        87.6   \n",
              "56                                        87.7   \n",
              "60                                        49.9   \n",
              "68                                        50.5   \n",
              "70                                        50.8   \n",
              "74                                        52.4   \n",
              "87                                        39.4   \n",
              "91                                        84.1   \n",
              "94                                        41.9   \n",
              "96                                        55.6   \n",
              "98                                        70.2   \n",
              "100                                       75.8   \n",
              "101                                       53.1   \n",
              "104                                         60   \n",
              "109                                       36.1   \n",
              "114                                       63.7   \n",
              "123                                       47.8   \n",
              "124                                       38.3   \n",
              "128                                       91.2   \n",
              "130                                       25.8   \n",
              "147                                       15.3   \n",
              "160                                         19   \n",
              "\n",
              "    Labour Force Participation Rate (Female)  \\\n",
              "0                                       61.2   \n",
              "6                                       53.1   \n",
              "7                                       56.3   \n",
              "19                                      48.8   \n",
              "27                                      51.1   \n",
              "32                                      50.8   \n",
              "40                                      46.5   \n",
              "44                                      39.2   \n",
              "53                                      55.6   \n",
              "54                                      69.3   \n",
              "56                                      65.9   \n",
              "60                                        49   \n",
              "68                                      46.6   \n",
              "70                                      51.1   \n",
              "74                                      59.4   \n",
              "87                                      54.7   \n",
              "91                                      56.6   \n",
              "94                                        30   \n",
              "96                                      55.8   \n",
              "98                                      56.1   \n",
              "100                                     49.2   \n",
              "101                                     51.3   \n",
              "104                                     23.5   \n",
              "109                                     56.2   \n",
              "114                                     51.1   \n",
              "123                                     42.6   \n",
              "124                                     47.4   \n",
              "128                                     58.9   \n",
              "130                                     42.8   \n",
              "147                                     75.2   \n",
              "160                                       59   \n",
              "\n",
              "    Labour Force Participation Rate (Male)  Gender gap (Secondary Education)  \\\n",
              "0                                     68.7                               0.7   \n",
              "6                                     68.1                               1.9   \n",
              "7                                     68.9                               0.3   \n",
              "19                                    70.4                               1.2   \n",
              "27                                    68.3                               0.2   \n",
              "32                                    95.5                               7.7   \n",
              "40                                      92                              11.9   \n",
              "44                                    86.9                               5.3   \n",
              "53                                    76.8                               4.1   \n",
              "54                                    79.3                               3.6   \n",
              "56                                    76.6                               1.8   \n",
              "60                                    81.8                               4.1   \n",
              "68                                      79                               0.2   \n",
              "70                                    79.2                               5.8   \n",
              "74                                    80.8                               2.2   \n",
              "87                                    82.7                               0.7   \n",
              "91                                    69.3                               1.2   \n",
              "94                                    76.4                              13.6   \n",
              "96                                    79.7                               1.3   \n",
              "98                                    70.9                               3.8   \n",
              "100                                   82.3                               0.6   \n",
              "101                                   78.6                               2.5   \n",
              "104                                   58.4                               4.3   \n",
              "109                                   65.4                              17.8   \n",
              "114                                   79.7                               2.2   \n",
              "123                                   80.5                              12.5   \n",
              "124                                   80.3                               1.1   \n",
              "128                                   77.1                               3.9   \n",
              "130                                   82.9                               2.2   \n",
              "147                                   82.3                               7.6   \n",
              "160                                   73.5                               2.9   \n",
              "\n",
              "     Gender gap (Labour participation)  \n",
              "0                                 -7.5  \n",
              "6                                -15.0  \n",
              "7                                -12.6  \n",
              "19                               -21.6  \n",
              "27                               -17.2  \n",
              "32                               -44.7  \n",
              "40                               -45.5  \n",
              "44                               -47.7  \n",
              "53                               -21.2  \n",
              "54                               -10.0  \n",
              "56                               -10.7  \n",
              "60                               -32.8  \n",
              "68                               -32.4  \n",
              "70                               -28.1  \n",
              "74                               -21.4  \n",
              "87                               -28.0  \n",
              "91                               -12.7  \n",
              "94                               -46.4  \n",
              "96                               -23.9  \n",
              "98                               -14.8  \n",
              "100                              -33.1  \n",
              "101                              -27.3  \n",
              "104                              -34.9  \n",
              "109                               -9.2  \n",
              "114                              -28.6  \n",
              "123                              -37.9  \n",
              "124                              -32.9  \n",
              "128                              -18.2  \n",
              "130                              -40.1  \n",
              "147                               -7.1  \n",
              "160                              -14.5  "
            ],
            "text/html": [
              "\n",
              "  <div id=\"df-87ad1f6b-1802-41d3-a94f-31c2e9f3d4ab\">\n",
              "    <div class=\"colab-df-container\">\n",
              "      <div>\n",
              "<style scoped>\n",
              "    .dataframe tbody tr th:only-of-type {\n",
              "        vertical-align: middle;\n",
              "    }\n",
              "\n",
              "    .dataframe tbody tr th {\n",
              "        vertical-align: top;\n",
              "    }\n",
              "\n",
              "    .dataframe thead th {\n",
              "        text-align: right;\n",
              "    }\n",
              "</style>\n",
              "<table border=\"1\" class=\"dataframe\">\n",
              "  <thead>\n",
              "    <tr style=\"text-align: right;\">\n",
              "      <th></th>\n",
              "      <th>GII Rank</th>\n",
              "      <th>Country</th>\n",
              "      <th>Gender Inequality Index (GII)</th>\n",
              "      <th>Maternal Mortality Ratio</th>\n",
              "      <th>Adolescent Birth Rate</th>\n",
              "      <th>Percent Representation in Parliament</th>\n",
              "      <th>Population with Secondary Education (Female)</th>\n",
              "      <th>Population with Secondary Education (Male)</th>\n",
              "      <th>Labour Force Participation Rate (Female)</th>\n",
              "      <th>Labour Force Participation Rate (Male)</th>\n",
              "      <th>Gender gap (Secondary Education)</th>\n",
              "      <th>Gender gap (Labour participation)</th>\n",
              "    </tr>\n",
              "  </thead>\n",
              "  <tbody>\n",
              "    <tr>\n",
              "      <th>0</th>\n",
              "      <td>1.0</td>\n",
              "      <td>Norway</td>\n",
              "      <td>0.067</td>\n",
              "      <td>4</td>\n",
              "      <td>7.8</td>\n",
              "      <td>39.6</td>\n",
              "      <td>97.4</td>\n",
              "      <td>96.7</td>\n",
              "      <td>61.2</td>\n",
              "      <td>68.7</td>\n",
              "      <td>0.7</td>\n",
              "      <td>-7.5</td>\n",
              "    </tr>\n",
              "    <tr>\n",
              "      <th>6</th>\n",
              "      <td>6.0</td>\n",
              "      <td>Ireland</td>\n",
              "      <td>0.113</td>\n",
              "      <td>9</td>\n",
              "      <td>8.2</td>\n",
              "      <td>19.9</td>\n",
              "      <td>80.5</td>\n",
              "      <td>78.6</td>\n",
              "      <td>53.1</td>\n",
              "      <td>68.1</td>\n",
              "      <td>1.9</td>\n",
              "      <td>-15.0</td>\n",
              "    </tr>\n",
              "    <tr>\n",
              "      <th>7</th>\n",
              "      <td>8.0</td>\n",
              "      <td>United States</td>\n",
              "      <td>0.28</td>\n",
              "      <td>28</td>\n",
              "      <td>31</td>\n",
              "      <td>19.4</td>\n",
              "      <td>95.1</td>\n",
              "      <td>94.8</td>\n",
              "      <td>56.3</td>\n",
              "      <td>68.9</td>\n",
              "      <td>0.3</td>\n",
              "      <td>-12.6</td>\n",
              "    </tr>\n",
              "    <tr>\n",
              "      <th>19</th>\n",
              "      <td>20.0</td>\n",
              "      <td>Japan</td>\n",
              "      <td>0.133</td>\n",
              "      <td>6</td>\n",
              "      <td>5.4</td>\n",
              "      <td>11.6</td>\n",
              "      <td>87</td>\n",
              "      <td>85.8</td>\n",
              "      <td>48.8</td>\n",
              "      <td>70.4</td>\n",
              "      <td>1.2</td>\n",
              "      <td>-21.6</td>\n",
              "    </tr>\n",
              "    <tr>\n",
              "      <th>27</th>\n",
              "      <td>28.0</td>\n",
              "      <td>Czech Republic</td>\n",
              "      <td>0.091</td>\n",
              "      <td>5</td>\n",
              "      <td>4.9</td>\n",
              "      <td>18.9</td>\n",
              "      <td>99.9</td>\n",
              "      <td>99.7</td>\n",
              "      <td>51.1</td>\n",
              "      <td>68.3</td>\n",
              "      <td>0.2</td>\n",
              "      <td>-17.2</td>\n",
              "    </tr>\n",
              "    <tr>\n",
              "      <th>32</th>\n",
              "      <td>32.0</td>\n",
              "      <td>Qatar</td>\n",
              "      <td>0.524</td>\n",
              "      <td>6</td>\n",
              "      <td>9.5</td>\n",
              "      <td>0</td>\n",
              "      <td>66.7</td>\n",
              "      <td>59</td>\n",
              "      <td>50.8</td>\n",
              "      <td>95.5</td>\n",
              "      <td>7.7</td>\n",
              "      <td>-44.7</td>\n",
              "    </tr>\n",
              "    <tr>\n",
              "      <th>40</th>\n",
              "      <td>41.0</td>\n",
              "      <td>United Arab Emirates</td>\n",
              "      <td>0.232</td>\n",
              "      <td>8</td>\n",
              "      <td>27.6</td>\n",
              "      <td>17.5</td>\n",
              "      <td>73.1</td>\n",
              "      <td>61.2</td>\n",
              "      <td>46.5</td>\n",
              "      <td>92</td>\n",
              "      <td>11.9</td>\n",
              "      <td>-45.5</td>\n",
              "    </tr>\n",
              "    <tr>\n",
              "      <th>44</th>\n",
              "      <td>45.0</td>\n",
              "      <td>Bahrain</td>\n",
              "      <td>0.265</td>\n",
              "      <td>22</td>\n",
              "      <td>13.8</td>\n",
              "      <td>15</td>\n",
              "      <td>56.7</td>\n",
              "      <td>51.4</td>\n",
              "      <td>39.2</td>\n",
              "      <td>86.9</td>\n",
              "      <td>5.3</td>\n",
              "      <td>-47.7</td>\n",
              "    </tr>\n",
              "    <tr>\n",
              "      <th>53</th>\n",
              "      <td>52.0</td>\n",
              "      <td>Uruguay</td>\n",
              "      <td>0.313</td>\n",
              "      <td>14</td>\n",
              "      <td>58.3</td>\n",
              "      <td>11.5</td>\n",
              "      <td>54.4</td>\n",
              "      <td>50.3</td>\n",
              "      <td>55.6</td>\n",
              "      <td>76.8</td>\n",
              "      <td>4.1</td>\n",
              "      <td>-21.2</td>\n",
              "    </tr>\n",
              "    <tr>\n",
              "      <th>54</th>\n",
              "      <td>55.0</td>\n",
              "      <td>Bahamas</td>\n",
              "      <td>0.298</td>\n",
              "      <td>37</td>\n",
              "      <td>28.5</td>\n",
              "      <td>16.7</td>\n",
              "      <td>91.2</td>\n",
              "      <td>87.6</td>\n",
              "      <td>69.3</td>\n",
              "      <td>79.3</td>\n",
              "      <td>3.6</td>\n",
              "      <td>-10.0</td>\n",
              "    </tr>\n",
              "    <tr>\n",
              "      <th>56</th>\n",
              "      <td>57.0</td>\n",
              "      <td>Barbados</td>\n",
              "      <td>0.357</td>\n",
              "      <td>52</td>\n",
              "      <td>48.4</td>\n",
              "      <td>19.6</td>\n",
              "      <td>89.5</td>\n",
              "      <td>87.7</td>\n",
              "      <td>65.9</td>\n",
              "      <td>76.6</td>\n",
              "      <td>1.8</td>\n",
              "      <td>-10.7</td>\n",
              "    </tr>\n",
              "    <tr>\n",
              "      <th>60</th>\n",
              "      <td>60.0</td>\n",
              "      <td>Panama</td>\n",
              "      <td>0.454</td>\n",
              "      <td>85</td>\n",
              "      <td>78.5</td>\n",
              "      <td>19.3</td>\n",
              "      <td>54</td>\n",
              "      <td>49.9</td>\n",
              "      <td>49</td>\n",
              "      <td>81.8</td>\n",
              "      <td>4.1</td>\n",
              "      <td>-32.8</td>\n",
              "    </tr>\n",
              "    <tr>\n",
              "      <th>68</th>\n",
              "      <td>69.0</td>\n",
              "      <td>Costa Rica</td>\n",
              "      <td>0.349</td>\n",
              "      <td>38</td>\n",
              "      <td>60.8</td>\n",
              "      <td>33.3</td>\n",
              "      <td>50.7</td>\n",
              "      <td>50.5</td>\n",
              "      <td>46.6</td>\n",
              "      <td>79</td>\n",
              "      <td>0.2</td>\n",
              "      <td>-32.4</td>\n",
              "    </tr>\n",
              "    <tr>\n",
              "      <th>70</th>\n",
              "      <td>71.0</td>\n",
              "      <td>Venezuela (Bolivarian Republic of)</td>\n",
              "      <td>0.476</td>\n",
              "      <td>110</td>\n",
              "      <td>83.2</td>\n",
              "      <td>17</td>\n",
              "      <td>56.6</td>\n",
              "      <td>50.8</td>\n",
              "      <td>51.1</td>\n",
              "      <td>79.2</td>\n",
              "      <td>5.8</td>\n",
              "      <td>-28.1</td>\n",
              "    </tr>\n",
              "    <tr>\n",
              "      <th>74</th>\n",
              "      <td>75.0</td>\n",
              "      <td>Brazil</td>\n",
              "      <td>0.457</td>\n",
              "      <td>69</td>\n",
              "      <td>70.8</td>\n",
              "      <td>9.6</td>\n",
              "      <td>54.6</td>\n",
              "      <td>52.4</td>\n",
              "      <td>59.4</td>\n",
              "      <td>80.8</td>\n",
              "      <td>2.2</td>\n",
              "      <td>-21.4</td>\n",
              "    </tr>\n",
              "    <tr>\n",
              "      <th>87</th>\n",
              "      <td>88.0</td>\n",
              "      <td>Ecuador</td>\n",
              "      <td>0.407</td>\n",
              "      <td>87</td>\n",
              "      <td>77</td>\n",
              "      <td>41.6</td>\n",
              "      <td>40.1</td>\n",
              "      <td>39.4</td>\n",
              "      <td>54.7</td>\n",
              "      <td>82.7</td>\n",
              "      <td>0.7</td>\n",
              "      <td>-28.0</td>\n",
              "    </tr>\n",
              "    <tr>\n",
              "      <th>91</th>\n",
              "      <td>90.0</td>\n",
              "      <td>Mongolia</td>\n",
              "      <td>0.325</td>\n",
              "      <td>68</td>\n",
              "      <td>18.7</td>\n",
              "      <td>14.9</td>\n",
              "      <td>85.3</td>\n",
              "      <td>84.1</td>\n",
              "      <td>56.6</td>\n",
              "      <td>69.3</td>\n",
              "      <td>1.2</td>\n",
              "      <td>-12.7</td>\n",
              "    </tr>\n",
              "    <tr>\n",
              "      <th>94</th>\n",
              "      <td>94.0</td>\n",
              "      <td>Libya</td>\n",
              "      <td>0.134</td>\n",
              "      <td>15</td>\n",
              "      <td>2.5</td>\n",
              "      <td>16</td>\n",
              "      <td>55.5</td>\n",
              "      <td>41.9</td>\n",
              "      <td>30</td>\n",
              "      <td>76.4</td>\n",
              "      <td>13.6</td>\n",
              "      <td>-46.4</td>\n",
              "    </tr>\n",
              "    <tr>\n",
              "      <th>96</th>\n",
              "      <td>97.0</td>\n",
              "      <td>Colombia</td>\n",
              "      <td>0.429</td>\n",
              "      <td>83</td>\n",
              "      <td>68.5</td>\n",
              "      <td>20.9</td>\n",
              "      <td>56.9</td>\n",
              "      <td>55.6</td>\n",
              "      <td>55.8</td>\n",
              "      <td>79.7</td>\n",
              "      <td>1.3</td>\n",
              "      <td>-23.9</td>\n",
              "    </tr>\n",
              "    <tr>\n",
              "      <th>98</th>\n",
              "      <td>99.0</td>\n",
              "      <td>Jamaica</td>\n",
              "      <td>0.43</td>\n",
              "      <td>80</td>\n",
              "      <td>70.1</td>\n",
              "      <td>16.7</td>\n",
              "      <td>74</td>\n",
              "      <td>70.2</td>\n",
              "      <td>56.1</td>\n",
              "      <td>70.9</td>\n",
              "      <td>3.8</td>\n",
              "      <td>-14.8</td>\n",
              "    </tr>\n",
              "    <tr>\n",
              "      <th>100</th>\n",
              "      <td>101.0</td>\n",
              "      <td>Belize</td>\n",
              "      <td>0.426</td>\n",
              "      <td>45</td>\n",
              "      <td>71.4</td>\n",
              "      <td>13.3</td>\n",
              "      <td>76.4</td>\n",
              "      <td>75.8</td>\n",
              "      <td>49.2</td>\n",
              "      <td>82.3</td>\n",
              "      <td>0.6</td>\n",
              "      <td>-33.1</td>\n",
              "    </tr>\n",
              "    <tr>\n",
              "      <th>101</th>\n",
              "      <td>101.0</td>\n",
              "      <td>Dominican Republic</td>\n",
              "      <td>0.477</td>\n",
              "      <td>100</td>\n",
              "      <td>99.6</td>\n",
              "      <td>19.1</td>\n",
              "      <td>55.6</td>\n",
              "      <td>53.1</td>\n",
              "      <td>51.3</td>\n",
              "      <td>78.6</td>\n",
              "      <td>2.5</td>\n",
              "      <td>-27.3</td>\n",
              "    </tr>\n",
              "    <tr>\n",
              "      <th>104</th>\n",
              "      <td>105.0</td>\n",
              "      <td>Samoa</td>\n",
              "      <td>0.457</td>\n",
              "      <td>58</td>\n",
              "      <td>28.3</td>\n",
              "      <td>6.1</td>\n",
              "      <td>64.3</td>\n",
              "      <td>60</td>\n",
              "      <td>23.5</td>\n",
              "      <td>58.4</td>\n",
              "      <td>4.3</td>\n",
              "      <td>-34.9</td>\n",
              "    </tr>\n",
              "    <tr>\n",
              "      <th>109</th>\n",
              "      <td>110.0</td>\n",
              "      <td>Gabon</td>\n",
              "      <td>0.514</td>\n",
              "      <td>240</td>\n",
              "      <td>103</td>\n",
              "      <td>16.2</td>\n",
              "      <td>53.9</td>\n",
              "      <td>36.1</td>\n",
              "      <td>56.2</td>\n",
              "      <td>65.4</td>\n",
              "      <td>17.8</td>\n",
              "      <td>-9.2</td>\n",
              "    </tr>\n",
              "    <tr>\n",
              "      <th>114</th>\n",
              "      <td>115.0</td>\n",
              "      <td>Philippines</td>\n",
              "      <td>0.42</td>\n",
              "      <td>120</td>\n",
              "      <td>46.8</td>\n",
              "      <td>27.1</td>\n",
              "      <td>65.9</td>\n",
              "      <td>63.7</td>\n",
              "      <td>51.1</td>\n",
              "      <td>79.7</td>\n",
              "      <td>2.2</td>\n",
              "      <td>-28.6</td>\n",
              "    </tr>\n",
              "    <tr>\n",
              "      <th>123</th>\n",
              "      <td>124.0</td>\n",
              "      <td>Guyana</td>\n",
              "      <td>0.515</td>\n",
              "      <td>250</td>\n",
              "      <td>88.5</td>\n",
              "      <td>31.3</td>\n",
              "      <td>60.3</td>\n",
              "      <td>47.8</td>\n",
              "      <td>42.6</td>\n",
              "      <td>80.5</td>\n",
              "      <td>12.5</td>\n",
              "      <td>-37.9</td>\n",
              "    </tr>\n",
              "    <tr>\n",
              "      <th>124</th>\n",
              "      <td>125.0</td>\n",
              "      <td>Nicaragua</td>\n",
              "      <td>0.449</td>\n",
              "      <td>100</td>\n",
              "      <td>100.8</td>\n",
              "      <td>39.1</td>\n",
              "      <td>39.4</td>\n",
              "      <td>38.3</td>\n",
              "      <td>47.4</td>\n",
              "      <td>80.3</td>\n",
              "      <td>1.1</td>\n",
              "      <td>-32.9</td>\n",
              "    </tr>\n",
              "    <tr>\n",
              "      <th>128</th>\n",
              "      <td>129.0</td>\n",
              "      <td>Tajikistan</td>\n",
              "      <td>0.357</td>\n",
              "      <td>44</td>\n",
              "      <td>42.8</td>\n",
              "      <td>15.2</td>\n",
              "      <td>95.1</td>\n",
              "      <td>91.2</td>\n",
              "      <td>58.9</td>\n",
              "      <td>77.1</td>\n",
              "      <td>3.9</td>\n",
              "      <td>-18.2</td>\n",
              "    </tr>\n",
              "    <tr>\n",
              "      <th>130</th>\n",
              "      <td>131.0</td>\n",
              "      <td>Honduras</td>\n",
              "      <td>0.48</td>\n",
              "      <td>120</td>\n",
              "      <td>84</td>\n",
              "      <td>25.8</td>\n",
              "      <td>28</td>\n",
              "      <td>25.8</td>\n",
              "      <td>42.8</td>\n",
              "      <td>82.9</td>\n",
              "      <td>2.2</td>\n",
              "      <td>-40.1</td>\n",
              "    </tr>\n",
              "    <tr>\n",
              "      <th>147</th>\n",
              "      <td>148.0</td>\n",
              "      <td>Myanmar</td>\n",
              "      <td>0.413</td>\n",
              "      <td>200</td>\n",
              "      <td>12.1</td>\n",
              "      <td>4.7</td>\n",
              "      <td>22.9</td>\n",
              "      <td>15.3</td>\n",
              "      <td>75.2</td>\n",
              "      <td>82.3</td>\n",
              "      <td>7.6</td>\n",
              "      <td>-7.1</td>\n",
              "    </tr>\n",
              "    <tr>\n",
              "      <th>160</th>\n",
              "      <td>161.0</td>\n",
              "      <td>Lesotho</td>\n",
              "      <td>0.541</td>\n",
              "      <td>490</td>\n",
              "      <td>89.4</td>\n",
              "      <td>26.8</td>\n",
              "      <td>21.9</td>\n",
              "      <td>19</td>\n",
              "      <td>59</td>\n",
              "      <td>73.5</td>\n",
              "      <td>2.9</td>\n",
              "      <td>-14.5</td>\n",
              "    </tr>\n",
              "  </tbody>\n",
              "</table>\n",
              "</div>\n",
              "      <button class=\"colab-df-convert\" onclick=\"convertToInteractive('df-87ad1f6b-1802-41d3-a94f-31c2e9f3d4ab')\"\n",
              "              title=\"Convert this dataframe to an interactive table.\"\n",
              "              style=\"display:none;\">\n",
              "        \n",
              "  <svg xmlns=\"http://www.w3.org/2000/svg\" height=\"24px\"viewBox=\"0 0 24 24\"\n",
              "       width=\"24px\">\n",
              "    <path d=\"M0 0h24v24H0V0z\" fill=\"none\"/>\n",
              "    <path d=\"M18.56 5.44l.94 2.06.94-2.06 2.06-.94-2.06-.94-.94-2.06-.94 2.06-2.06.94zm-11 1L8.5 8.5l.94-2.06 2.06-.94-2.06-.94L8.5 2.5l-.94 2.06-2.06.94zm10 10l.94 2.06.94-2.06 2.06-.94-2.06-.94-.94-2.06-.94 2.06-2.06.94z\"/><path d=\"M17.41 7.96l-1.37-1.37c-.4-.4-.92-.59-1.43-.59-.52 0-1.04.2-1.43.59L10.3 9.45l-7.72 7.72c-.78.78-.78 2.05 0 2.83L4 21.41c.39.39.9.59 1.41.59.51 0 1.02-.2 1.41-.59l7.78-7.78 2.81-2.81c.8-.78.8-2.07 0-2.86zM5.41 20L4 18.59l7.72-7.72 1.47 1.35L5.41 20z\"/>\n",
              "  </svg>\n",
              "      </button>\n",
              "      \n",
              "  <style>\n",
              "    .colab-df-container {\n",
              "      display:flex;\n",
              "      flex-wrap:wrap;\n",
              "      gap: 12px;\n",
              "    }\n",
              "\n",
              "    .colab-df-convert {\n",
              "      background-color: #E8F0FE;\n",
              "      border: none;\n",
              "      border-radius: 50%;\n",
              "      cursor: pointer;\n",
              "      display: none;\n",
              "      fill: #1967D2;\n",
              "      height: 32px;\n",
              "      padding: 0 0 0 0;\n",
              "      width: 32px;\n",
              "    }\n",
              "\n",
              "    .colab-df-convert:hover {\n",
              "      background-color: #E2EBFA;\n",
              "      box-shadow: 0px 1px 2px rgba(60, 64, 67, 0.3), 0px 1px 3px 1px rgba(60, 64, 67, 0.15);\n",
              "      fill: #174EA6;\n",
              "    }\n",
              "\n",
              "    [theme=dark] .colab-df-convert {\n",
              "      background-color: #3B4455;\n",
              "      fill: #D2E3FC;\n",
              "    }\n",
              "\n",
              "    [theme=dark] .colab-df-convert:hover {\n",
              "      background-color: #434B5C;\n",
              "      box-shadow: 0px 1px 3px 1px rgba(0, 0, 0, 0.15);\n",
              "      filter: drop-shadow(0px 1px 2px rgba(0, 0, 0, 0.3));\n",
              "      fill: #FFFFFF;\n",
              "    }\n",
              "  </style>\n",
              "\n",
              "      <script>\n",
              "        const buttonEl =\n",
              "          document.querySelector('#df-87ad1f6b-1802-41d3-a94f-31c2e9f3d4ab button.colab-df-convert');\n",
              "        buttonEl.style.display =\n",
              "          google.colab.kernel.accessAllowed ? 'block' : 'none';\n",
              "\n",
              "        async function convertToInteractive(key) {\n",
              "          const element = document.querySelector('#df-87ad1f6b-1802-41d3-a94f-31c2e9f3d4ab');\n",
              "          const dataTable =\n",
              "            await google.colab.kernel.invokeFunction('convertToInteractive',\n",
              "                                                     [key], {});\n",
              "          if (!dataTable) return;\n",
              "\n",
              "          const docLinkHtml = 'Like what you see? Visit the ' +\n",
              "            '<a target=\"_blank\" href=https://colab.research.google.com/notebooks/data_table.ipynb>data table notebook</a>'\n",
              "            + ' to learn more about interactive tables.';\n",
              "          element.innerHTML = '';\n",
              "          dataTable['output_type'] = 'display_data';\n",
              "          await google.colab.output.renderOutput(dataTable, element);\n",
              "          const docLink = document.createElement('div');\n",
              "          docLink.innerHTML = docLinkHtml;\n",
              "          element.appendChild(docLink);\n",
              "        }\n",
              "      </script>\n",
              "    </div>\n",
              "  </div>\n",
              "  "
            ]
          },
          "metadata": {},
          "execution_count": 1677
        }
      ],
      "source": [
        "data[data['Gender gap (Secondary Education)']>0] #n=34"
      ]
    },
    {
      "cell_type": "code",
      "execution_count": 1678,
      "metadata": {
        "id": "AJ7eqfL2rNEa",
        "colab": {
          "base_uri": "https://localhost:8080/",
          "height": 554
        },
        "outputId": "376d5762-b475-4cce-bb37-d93f170cc6f3"
      },
      "outputs": [
        {
          "output_type": "execute_result",
          "data": {
            "text/plain": [
              "     GII Rank                   Country Gender Inequality Index (GII)  \\\n",
              "1         2.0                 Australia                          0.11   \n",
              "2         3.0               Switzerland                         0.028   \n",
              "3         4.0                   Denmark                         0.048   \n",
              "4         5.0               Netherlands                         0.062   \n",
              "5         6.0                   Germany                         0.041   \n",
              "..        ...                       ...                           ...   \n",
              "182     183.0              Burkina Faso                         0.631   \n",
              "183     184.0                   Burundi                         0.492   \n",
              "184     185.0                      Chad                         0.706   \n",
              "186     187.0  Central African Republic                         0.655   \n",
              "187     188.0                     Niger                         0.713   \n",
              "\n",
              "    Maternal Mortality Ratio Adolescent Birth Rate  \\\n",
              "1                          6                  12.1   \n",
              "2                          6                   1.9   \n",
              "3                          5                   5.1   \n",
              "4                          6                   6.2   \n",
              "5                          7                   3.8   \n",
              "..                       ...                   ...   \n",
              "182                      400                 115.4   \n",
              "183                      740                  30.3   \n",
              "184                      980                   152   \n",
              "186                      880                  98.3   \n",
              "187                      630                 204.8   \n",
              "\n",
              "    Percent Representation in Parliament  \\\n",
              "1                                   30.5   \n",
              "2                                   28.5   \n",
              "3                                     38   \n",
              "4                                   36.9   \n",
              "5                                   36.9   \n",
              "..                                   ...   \n",
              "182                                 13.3   \n",
              "183                                 34.9   \n",
              "184                                 14.9   \n",
              "186                                 12.5   \n",
              "187                                 13.3   \n",
              "\n",
              "    Population with Secondary Education (Female)  \\\n",
              "1                                           94.3   \n",
              "2                                             95   \n",
              "3                                           95.5   \n",
              "4                                           87.7   \n",
              "5                                           96.3   \n",
              "..                                           ...   \n",
              "182                                          0.9   \n",
              "183                                          5.3   \n",
              "184                                          1.7   \n",
              "186                                         10.1   \n",
              "187                                          2.4   \n",
              "\n",
              "    Population with Secondary Education (Male)  \\\n",
              "1                                         94.6   \n",
              "2                                         96.6   \n",
              "3                                         96.6   \n",
              "4                                         90.5   \n",
              "5                                           97   \n",
              "..                                         ...   \n",
              "182                                        3.2   \n",
              "183                                        8.3   \n",
              "184                                        9.9   \n",
              "186                                       26.7   \n",
              "187                                        7.8   \n",
              "\n",
              "    Labour Force Participation Rate (Female)  \\\n",
              "1                                       58.8   \n",
              "2                                       61.8   \n",
              "3                                       58.7   \n",
              "4                                       58.5   \n",
              "5                                       53.6   \n",
              "..                                       ...   \n",
              "182                                     77.1   \n",
              "183                                     83.3   \n",
              "184                                       64   \n",
              "186                                     72.6   \n",
              "187                                       40   \n",
              "\n",
              "    Labour Force Participation Rate (Male)  Gender gap (Secondary Education)  \\\n",
              "1                                     71.8                              -0.3   \n",
              "2                                     74.9                              -1.6   \n",
              "3                                     66.4                              -1.1   \n",
              "4                                     70.6                              -2.8   \n",
              "5                                     66.4                              -0.7   \n",
              "..                                     ...                               ...   \n",
              "182                                     90                              -2.3   \n",
              "183                                     82                              -3.0   \n",
              "184                                   79.2                              -8.2   \n",
              "186                                   85.1                             -16.6   \n",
              "187                                   89.7                              -5.4   \n",
              "\n",
              "     Gender gap (Labour participation)  \n",
              "1                                -13.0  \n",
              "2                                -13.1  \n",
              "3                                 -7.7  \n",
              "4                                -12.1  \n",
              "5                                -12.8  \n",
              "..                                 ...  \n",
              "182                              -12.9  \n",
              "183                                1.3  \n",
              "184                              -15.2  \n",
              "186                              -12.5  \n",
              "187                              -49.7  \n",
              "\n",
              "[123 rows x 12 columns]"
            ],
            "text/html": [
              "\n",
              "  <div id=\"df-b3d4eb14-664f-494d-aa31-06643dd23db5\">\n",
              "    <div class=\"colab-df-container\">\n",
              "      <div>\n",
              "<style scoped>\n",
              "    .dataframe tbody tr th:only-of-type {\n",
              "        vertical-align: middle;\n",
              "    }\n",
              "\n",
              "    .dataframe tbody tr th {\n",
              "        vertical-align: top;\n",
              "    }\n",
              "\n",
              "    .dataframe thead th {\n",
              "        text-align: right;\n",
              "    }\n",
              "</style>\n",
              "<table border=\"1\" class=\"dataframe\">\n",
              "  <thead>\n",
              "    <tr style=\"text-align: right;\">\n",
              "      <th></th>\n",
              "      <th>GII Rank</th>\n",
              "      <th>Country</th>\n",
              "      <th>Gender Inequality Index (GII)</th>\n",
              "      <th>Maternal Mortality Ratio</th>\n",
              "      <th>Adolescent Birth Rate</th>\n",
              "      <th>Percent Representation in Parliament</th>\n",
              "      <th>Population with Secondary Education (Female)</th>\n",
              "      <th>Population with Secondary Education (Male)</th>\n",
              "      <th>Labour Force Participation Rate (Female)</th>\n",
              "      <th>Labour Force Participation Rate (Male)</th>\n",
              "      <th>Gender gap (Secondary Education)</th>\n",
              "      <th>Gender gap (Labour participation)</th>\n",
              "    </tr>\n",
              "  </thead>\n",
              "  <tbody>\n",
              "    <tr>\n",
              "      <th>1</th>\n",
              "      <td>2.0</td>\n",
              "      <td>Australia</td>\n",
              "      <td>0.11</td>\n",
              "      <td>6</td>\n",
              "      <td>12.1</td>\n",
              "      <td>30.5</td>\n",
              "      <td>94.3</td>\n",
              "      <td>94.6</td>\n",
              "      <td>58.8</td>\n",
              "      <td>71.8</td>\n",
              "      <td>-0.3</td>\n",
              "      <td>-13.0</td>\n",
              "    </tr>\n",
              "    <tr>\n",
              "      <th>2</th>\n",
              "      <td>3.0</td>\n",
              "      <td>Switzerland</td>\n",
              "      <td>0.028</td>\n",
              "      <td>6</td>\n",
              "      <td>1.9</td>\n",
              "      <td>28.5</td>\n",
              "      <td>95</td>\n",
              "      <td>96.6</td>\n",
              "      <td>61.8</td>\n",
              "      <td>74.9</td>\n",
              "      <td>-1.6</td>\n",
              "      <td>-13.1</td>\n",
              "    </tr>\n",
              "    <tr>\n",
              "      <th>3</th>\n",
              "      <td>4.0</td>\n",
              "      <td>Denmark</td>\n",
              "      <td>0.048</td>\n",
              "      <td>5</td>\n",
              "      <td>5.1</td>\n",
              "      <td>38</td>\n",
              "      <td>95.5</td>\n",
              "      <td>96.6</td>\n",
              "      <td>58.7</td>\n",
              "      <td>66.4</td>\n",
              "      <td>-1.1</td>\n",
              "      <td>-7.7</td>\n",
              "    </tr>\n",
              "    <tr>\n",
              "      <th>4</th>\n",
              "      <td>5.0</td>\n",
              "      <td>Netherlands</td>\n",
              "      <td>0.062</td>\n",
              "      <td>6</td>\n",
              "      <td>6.2</td>\n",
              "      <td>36.9</td>\n",
              "      <td>87.7</td>\n",
              "      <td>90.5</td>\n",
              "      <td>58.5</td>\n",
              "      <td>70.6</td>\n",
              "      <td>-2.8</td>\n",
              "      <td>-12.1</td>\n",
              "    </tr>\n",
              "    <tr>\n",
              "      <th>5</th>\n",
              "      <td>6.0</td>\n",
              "      <td>Germany</td>\n",
              "      <td>0.041</td>\n",
              "      <td>7</td>\n",
              "      <td>3.8</td>\n",
              "      <td>36.9</td>\n",
              "      <td>96.3</td>\n",
              "      <td>97</td>\n",
              "      <td>53.6</td>\n",
              "      <td>66.4</td>\n",
              "      <td>-0.7</td>\n",
              "      <td>-12.8</td>\n",
              "    </tr>\n",
              "    <tr>\n",
              "      <th>...</th>\n",
              "      <td>...</td>\n",
              "      <td>...</td>\n",
              "      <td>...</td>\n",
              "      <td>...</td>\n",
              "      <td>...</td>\n",
              "      <td>...</td>\n",
              "      <td>...</td>\n",
              "      <td>...</td>\n",
              "      <td>...</td>\n",
              "      <td>...</td>\n",
              "      <td>...</td>\n",
              "      <td>...</td>\n",
              "    </tr>\n",
              "    <tr>\n",
              "      <th>182</th>\n",
              "      <td>183.0</td>\n",
              "      <td>Burkina Faso</td>\n",
              "      <td>0.631</td>\n",
              "      <td>400</td>\n",
              "      <td>115.4</td>\n",
              "      <td>13.3</td>\n",
              "      <td>0.9</td>\n",
              "      <td>3.2</td>\n",
              "      <td>77.1</td>\n",
              "      <td>90</td>\n",
              "      <td>-2.3</td>\n",
              "      <td>-12.9</td>\n",
              "    </tr>\n",
              "    <tr>\n",
              "      <th>183</th>\n",
              "      <td>184.0</td>\n",
              "      <td>Burundi</td>\n",
              "      <td>0.492</td>\n",
              "      <td>740</td>\n",
              "      <td>30.3</td>\n",
              "      <td>34.9</td>\n",
              "      <td>5.3</td>\n",
              "      <td>8.3</td>\n",
              "      <td>83.3</td>\n",
              "      <td>82</td>\n",
              "      <td>-3.0</td>\n",
              "      <td>1.3</td>\n",
              "    </tr>\n",
              "    <tr>\n",
              "      <th>184</th>\n",
              "      <td>185.0</td>\n",
              "      <td>Chad</td>\n",
              "      <td>0.706</td>\n",
              "      <td>980</td>\n",
              "      <td>152</td>\n",
              "      <td>14.9</td>\n",
              "      <td>1.7</td>\n",
              "      <td>9.9</td>\n",
              "      <td>64</td>\n",
              "      <td>79.2</td>\n",
              "      <td>-8.2</td>\n",
              "      <td>-15.2</td>\n",
              "    </tr>\n",
              "    <tr>\n",
              "      <th>186</th>\n",
              "      <td>187.0</td>\n",
              "      <td>Central African Republic</td>\n",
              "      <td>0.655</td>\n",
              "      <td>880</td>\n",
              "      <td>98.3</td>\n",
              "      <td>12.5</td>\n",
              "      <td>10.1</td>\n",
              "      <td>26.7</td>\n",
              "      <td>72.6</td>\n",
              "      <td>85.1</td>\n",
              "      <td>-16.6</td>\n",
              "      <td>-12.5</td>\n",
              "    </tr>\n",
              "    <tr>\n",
              "      <th>187</th>\n",
              "      <td>188.0</td>\n",
              "      <td>Niger</td>\n",
              "      <td>0.713</td>\n",
              "      <td>630</td>\n",
              "      <td>204.8</td>\n",
              "      <td>13.3</td>\n",
              "      <td>2.4</td>\n",
              "      <td>7.8</td>\n",
              "      <td>40</td>\n",
              "      <td>89.7</td>\n",
              "      <td>-5.4</td>\n",
              "      <td>-49.7</td>\n",
              "    </tr>\n",
              "  </tbody>\n",
              "</table>\n",
              "<p>123 rows × 12 columns</p>\n",
              "</div>\n",
              "      <button class=\"colab-df-convert\" onclick=\"convertToInteractive('df-b3d4eb14-664f-494d-aa31-06643dd23db5')\"\n",
              "              title=\"Convert this dataframe to an interactive table.\"\n",
              "              style=\"display:none;\">\n",
              "        \n",
              "  <svg xmlns=\"http://www.w3.org/2000/svg\" height=\"24px\"viewBox=\"0 0 24 24\"\n",
              "       width=\"24px\">\n",
              "    <path d=\"M0 0h24v24H0V0z\" fill=\"none\"/>\n",
              "    <path d=\"M18.56 5.44l.94 2.06.94-2.06 2.06-.94-2.06-.94-.94-2.06-.94 2.06-2.06.94zm-11 1L8.5 8.5l.94-2.06 2.06-.94-2.06-.94L8.5 2.5l-.94 2.06-2.06.94zm10 10l.94 2.06.94-2.06 2.06-.94-2.06-.94-.94-2.06-.94 2.06-2.06.94z\"/><path d=\"M17.41 7.96l-1.37-1.37c-.4-.4-.92-.59-1.43-.59-.52 0-1.04.2-1.43.59L10.3 9.45l-7.72 7.72c-.78.78-.78 2.05 0 2.83L4 21.41c.39.39.9.59 1.41.59.51 0 1.02-.2 1.41-.59l7.78-7.78 2.81-2.81c.8-.78.8-2.07 0-2.86zM5.41 20L4 18.59l7.72-7.72 1.47 1.35L5.41 20z\"/>\n",
              "  </svg>\n",
              "      </button>\n",
              "      \n",
              "  <style>\n",
              "    .colab-df-container {\n",
              "      display:flex;\n",
              "      flex-wrap:wrap;\n",
              "      gap: 12px;\n",
              "    }\n",
              "\n",
              "    .colab-df-convert {\n",
              "      background-color: #E8F0FE;\n",
              "      border: none;\n",
              "      border-radius: 50%;\n",
              "      cursor: pointer;\n",
              "      display: none;\n",
              "      fill: #1967D2;\n",
              "      height: 32px;\n",
              "      padding: 0 0 0 0;\n",
              "      width: 32px;\n",
              "    }\n",
              "\n",
              "    .colab-df-convert:hover {\n",
              "      background-color: #E2EBFA;\n",
              "      box-shadow: 0px 1px 2px rgba(60, 64, 67, 0.3), 0px 1px 3px 1px rgba(60, 64, 67, 0.15);\n",
              "      fill: #174EA6;\n",
              "    }\n",
              "\n",
              "    [theme=dark] .colab-df-convert {\n",
              "      background-color: #3B4455;\n",
              "      fill: #D2E3FC;\n",
              "    }\n",
              "\n",
              "    [theme=dark] .colab-df-convert:hover {\n",
              "      background-color: #434B5C;\n",
              "      box-shadow: 0px 1px 3px 1px rgba(0, 0, 0, 0.15);\n",
              "      filter: drop-shadow(0px 1px 2px rgba(0, 0, 0, 0.3));\n",
              "      fill: #FFFFFF;\n",
              "    }\n",
              "  </style>\n",
              "\n",
              "      <script>\n",
              "        const buttonEl =\n",
              "          document.querySelector('#df-b3d4eb14-664f-494d-aa31-06643dd23db5 button.colab-df-convert');\n",
              "        buttonEl.style.display =\n",
              "          google.colab.kernel.accessAllowed ? 'block' : 'none';\n",
              "\n",
              "        async function convertToInteractive(key) {\n",
              "          const element = document.querySelector('#df-b3d4eb14-664f-494d-aa31-06643dd23db5');\n",
              "          const dataTable =\n",
              "            await google.colab.kernel.invokeFunction('convertToInteractive',\n",
              "                                                     [key], {});\n",
              "          if (!dataTable) return;\n",
              "\n",
              "          const docLinkHtml = 'Like what you see? Visit the ' +\n",
              "            '<a target=\"_blank\" href=https://colab.research.google.com/notebooks/data_table.ipynb>data table notebook</a>'\n",
              "            + ' to learn more about interactive tables.';\n",
              "          element.innerHTML = '';\n",
              "          dataTable['output_type'] = 'display_data';\n",
              "          await google.colab.output.renderOutput(dataTable, element);\n",
              "          const docLink = document.createElement('div');\n",
              "          docLink.innerHTML = docLinkHtml;\n",
              "          element.appendChild(docLink);\n",
              "        }\n",
              "      </script>\n",
              "    </div>\n",
              "  </div>\n",
              "  "
            ]
          },
          "metadata": {},
          "execution_count": 1678
        }
      ],
      "source": [
        "data[data['Gender gap (Secondary Education)']<0] #n=130"
      ]
    },
    {
      "cell_type": "code",
      "execution_count": 1679,
      "metadata": {
        "id": "ciikvqGIpp3f",
        "colab": {
          "base_uri": "https://localhost:8080/",
          "height": 554
        },
        "outputId": "acc41f21-db84-42ef-e16f-a003ecd0163c"
      },
      "outputs": [
        {
          "output_type": "execute_result",
          "data": {
            "text/plain": [
              "     GII Rank                   Country Gender Inequality Index (GII)  \\\n",
              "0         1.0                    Norway                         0.067   \n",
              "1         2.0                 Australia                          0.11   \n",
              "2         3.0               Switzerland                         0.028   \n",
              "3         4.0                   Denmark                         0.048   \n",
              "4         5.0               Netherlands                         0.062   \n",
              "..        ...                       ...                           ...   \n",
              "182     183.0              Burkina Faso                         0.631   \n",
              "183     184.0                   Burundi                         0.492   \n",
              "184     185.0                      Chad                         0.706   \n",
              "186     187.0  Central African Republic                         0.655   \n",
              "187     188.0                     Niger                         0.713   \n",
              "\n",
              "    Maternal Mortality Ratio Adolescent Birth Rate  \\\n",
              "0                          4                   7.8   \n",
              "1                          6                  12.1   \n",
              "2                          6                   1.9   \n",
              "3                          5                   5.1   \n",
              "4                          6                   6.2   \n",
              "..                       ...                   ...   \n",
              "182                      400                 115.4   \n",
              "183                      740                  30.3   \n",
              "184                      980                   152   \n",
              "186                      880                  98.3   \n",
              "187                      630                 204.8   \n",
              "\n",
              "    Percent Representation in Parliament  \\\n",
              "0                                   39.6   \n",
              "1                                   30.5   \n",
              "2                                   28.5   \n",
              "3                                     38   \n",
              "4                                   36.9   \n",
              "..                                   ...   \n",
              "182                                 13.3   \n",
              "183                                 34.9   \n",
              "184                                 14.9   \n",
              "186                                 12.5   \n",
              "187                                 13.3   \n",
              "\n",
              "    Population with Secondary Education (Female)  \\\n",
              "0                                           97.4   \n",
              "1                                           94.3   \n",
              "2                                             95   \n",
              "3                                           95.5   \n",
              "4                                           87.7   \n",
              "..                                           ...   \n",
              "182                                          0.9   \n",
              "183                                          5.3   \n",
              "184                                          1.7   \n",
              "186                                         10.1   \n",
              "187                                          2.4   \n",
              "\n",
              "    Population with Secondary Education (Male)  \\\n",
              "0                                         96.7   \n",
              "1                                         94.6   \n",
              "2                                         96.6   \n",
              "3                                         96.6   \n",
              "4                                         90.5   \n",
              "..                                         ...   \n",
              "182                                        3.2   \n",
              "183                                        8.3   \n",
              "184                                        9.9   \n",
              "186                                       26.7   \n",
              "187                                        7.8   \n",
              "\n",
              "    Labour Force Participation Rate (Female)  \\\n",
              "0                                       61.2   \n",
              "1                                       58.8   \n",
              "2                                       61.8   \n",
              "3                                       58.7   \n",
              "4                                       58.5   \n",
              "..                                       ...   \n",
              "182                                     77.1   \n",
              "183                                     83.3   \n",
              "184                                       64   \n",
              "186                                     72.6   \n",
              "187                                       40   \n",
              "\n",
              "    Labour Force Participation Rate (Male)  Gender gap (Secondary Education)  \\\n",
              "0                                     68.7                               0.7   \n",
              "1                                     71.8                              -0.3   \n",
              "2                                     74.9                              -1.6   \n",
              "3                                     66.4                              -1.1   \n",
              "4                                     70.6                              -2.8   \n",
              "..                                     ...                               ...   \n",
              "182                                     90                              -2.3   \n",
              "183                                     82                              -3.0   \n",
              "184                                   79.2                              -8.2   \n",
              "186                                   85.1                             -16.6   \n",
              "187                                   89.7                              -5.4   \n",
              "\n",
              "     Gender gap (Labour participation)  \n",
              "0                                 -7.5  \n",
              "1                                -13.0  \n",
              "2                                -13.1  \n",
              "3                                 -7.7  \n",
              "4                                -12.1  \n",
              "..                                 ...  \n",
              "182                              -12.9  \n",
              "183                                1.3  \n",
              "184                              -15.2  \n",
              "186                              -12.5  \n",
              "187                              -49.7  \n",
              "\n",
              "[159 rows x 12 columns]"
            ],
            "text/html": [
              "\n",
              "  <div id=\"df-904cd8b5-99bf-4868-838b-eae05aafe742\">\n",
              "    <div class=\"colab-df-container\">\n",
              "      <div>\n",
              "<style scoped>\n",
              "    .dataframe tbody tr th:only-of-type {\n",
              "        vertical-align: middle;\n",
              "    }\n",
              "\n",
              "    .dataframe tbody tr th {\n",
              "        vertical-align: top;\n",
              "    }\n",
              "\n",
              "    .dataframe thead th {\n",
              "        text-align: right;\n",
              "    }\n",
              "</style>\n",
              "<table border=\"1\" class=\"dataframe\">\n",
              "  <thead>\n",
              "    <tr style=\"text-align: right;\">\n",
              "      <th></th>\n",
              "      <th>GII Rank</th>\n",
              "      <th>Country</th>\n",
              "      <th>Gender Inequality Index (GII)</th>\n",
              "      <th>Maternal Mortality Ratio</th>\n",
              "      <th>Adolescent Birth Rate</th>\n",
              "      <th>Percent Representation in Parliament</th>\n",
              "      <th>Population with Secondary Education (Female)</th>\n",
              "      <th>Population with Secondary Education (Male)</th>\n",
              "      <th>Labour Force Participation Rate (Female)</th>\n",
              "      <th>Labour Force Participation Rate (Male)</th>\n",
              "      <th>Gender gap (Secondary Education)</th>\n",
              "      <th>Gender gap (Labour participation)</th>\n",
              "    </tr>\n",
              "  </thead>\n",
              "  <tbody>\n",
              "    <tr>\n",
              "      <th>0</th>\n",
              "      <td>1.0</td>\n",
              "      <td>Norway</td>\n",
              "      <td>0.067</td>\n",
              "      <td>4</td>\n",
              "      <td>7.8</td>\n",
              "      <td>39.6</td>\n",
              "      <td>97.4</td>\n",
              "      <td>96.7</td>\n",
              "      <td>61.2</td>\n",
              "      <td>68.7</td>\n",
              "      <td>0.7</td>\n",
              "      <td>-7.5</td>\n",
              "    </tr>\n",
              "    <tr>\n",
              "      <th>1</th>\n",
              "      <td>2.0</td>\n",
              "      <td>Australia</td>\n",
              "      <td>0.11</td>\n",
              "      <td>6</td>\n",
              "      <td>12.1</td>\n",
              "      <td>30.5</td>\n",
              "      <td>94.3</td>\n",
              "      <td>94.6</td>\n",
              "      <td>58.8</td>\n",
              "      <td>71.8</td>\n",
              "      <td>-0.3</td>\n",
              "      <td>-13.0</td>\n",
              "    </tr>\n",
              "    <tr>\n",
              "      <th>2</th>\n",
              "      <td>3.0</td>\n",
              "      <td>Switzerland</td>\n",
              "      <td>0.028</td>\n",
              "      <td>6</td>\n",
              "      <td>1.9</td>\n",
              "      <td>28.5</td>\n",
              "      <td>95</td>\n",
              "      <td>96.6</td>\n",
              "      <td>61.8</td>\n",
              "      <td>74.9</td>\n",
              "      <td>-1.6</td>\n",
              "      <td>-13.1</td>\n",
              "    </tr>\n",
              "    <tr>\n",
              "      <th>3</th>\n",
              "      <td>4.0</td>\n",
              "      <td>Denmark</td>\n",
              "      <td>0.048</td>\n",
              "      <td>5</td>\n",
              "      <td>5.1</td>\n",
              "      <td>38</td>\n",
              "      <td>95.5</td>\n",
              "      <td>96.6</td>\n",
              "      <td>58.7</td>\n",
              "      <td>66.4</td>\n",
              "      <td>-1.1</td>\n",
              "      <td>-7.7</td>\n",
              "    </tr>\n",
              "    <tr>\n",
              "      <th>4</th>\n",
              "      <td>5.0</td>\n",
              "      <td>Netherlands</td>\n",
              "      <td>0.062</td>\n",
              "      <td>6</td>\n",
              "      <td>6.2</td>\n",
              "      <td>36.9</td>\n",
              "      <td>87.7</td>\n",
              "      <td>90.5</td>\n",
              "      <td>58.5</td>\n",
              "      <td>70.6</td>\n",
              "      <td>-2.8</td>\n",
              "      <td>-12.1</td>\n",
              "    </tr>\n",
              "    <tr>\n",
              "      <th>...</th>\n",
              "      <td>...</td>\n",
              "      <td>...</td>\n",
              "      <td>...</td>\n",
              "      <td>...</td>\n",
              "      <td>...</td>\n",
              "      <td>...</td>\n",
              "      <td>...</td>\n",
              "      <td>...</td>\n",
              "      <td>...</td>\n",
              "      <td>...</td>\n",
              "      <td>...</td>\n",
              "      <td>...</td>\n",
              "    </tr>\n",
              "    <tr>\n",
              "      <th>182</th>\n",
              "      <td>183.0</td>\n",
              "      <td>Burkina Faso</td>\n",
              "      <td>0.631</td>\n",
              "      <td>400</td>\n",
              "      <td>115.4</td>\n",
              "      <td>13.3</td>\n",
              "      <td>0.9</td>\n",
              "      <td>3.2</td>\n",
              "      <td>77.1</td>\n",
              "      <td>90</td>\n",
              "      <td>-2.3</td>\n",
              "      <td>-12.9</td>\n",
              "    </tr>\n",
              "    <tr>\n",
              "      <th>183</th>\n",
              "      <td>184.0</td>\n",
              "      <td>Burundi</td>\n",
              "      <td>0.492</td>\n",
              "      <td>740</td>\n",
              "      <td>30.3</td>\n",
              "      <td>34.9</td>\n",
              "      <td>5.3</td>\n",
              "      <td>8.3</td>\n",
              "      <td>83.3</td>\n",
              "      <td>82</td>\n",
              "      <td>-3.0</td>\n",
              "      <td>1.3</td>\n",
              "    </tr>\n",
              "    <tr>\n",
              "      <th>184</th>\n",
              "      <td>185.0</td>\n",
              "      <td>Chad</td>\n",
              "      <td>0.706</td>\n",
              "      <td>980</td>\n",
              "      <td>152</td>\n",
              "      <td>14.9</td>\n",
              "      <td>1.7</td>\n",
              "      <td>9.9</td>\n",
              "      <td>64</td>\n",
              "      <td>79.2</td>\n",
              "      <td>-8.2</td>\n",
              "      <td>-15.2</td>\n",
              "    </tr>\n",
              "    <tr>\n",
              "      <th>186</th>\n",
              "      <td>187.0</td>\n",
              "      <td>Central African Republic</td>\n",
              "      <td>0.655</td>\n",
              "      <td>880</td>\n",
              "      <td>98.3</td>\n",
              "      <td>12.5</td>\n",
              "      <td>10.1</td>\n",
              "      <td>26.7</td>\n",
              "      <td>72.6</td>\n",
              "      <td>85.1</td>\n",
              "      <td>-16.6</td>\n",
              "      <td>-12.5</td>\n",
              "    </tr>\n",
              "    <tr>\n",
              "      <th>187</th>\n",
              "      <td>188.0</td>\n",
              "      <td>Niger</td>\n",
              "      <td>0.713</td>\n",
              "      <td>630</td>\n",
              "      <td>204.8</td>\n",
              "      <td>13.3</td>\n",
              "      <td>2.4</td>\n",
              "      <td>7.8</td>\n",
              "      <td>40</td>\n",
              "      <td>89.7</td>\n",
              "      <td>-5.4</td>\n",
              "      <td>-49.7</td>\n",
              "    </tr>\n",
              "  </tbody>\n",
              "</table>\n",
              "<p>159 rows × 12 columns</p>\n",
              "</div>\n",
              "      <button class=\"colab-df-convert\" onclick=\"convertToInteractive('df-904cd8b5-99bf-4868-838b-eae05aafe742')\"\n",
              "              title=\"Convert this dataframe to an interactive table.\"\n",
              "              style=\"display:none;\">\n",
              "        \n",
              "  <svg xmlns=\"http://www.w3.org/2000/svg\" height=\"24px\"viewBox=\"0 0 24 24\"\n",
              "       width=\"24px\">\n",
              "    <path d=\"M0 0h24v24H0V0z\" fill=\"none\"/>\n",
              "    <path d=\"M18.56 5.44l.94 2.06.94-2.06 2.06-.94-2.06-.94-.94-2.06-.94 2.06-2.06.94zm-11 1L8.5 8.5l.94-2.06 2.06-.94-2.06-.94L8.5 2.5l-.94 2.06-2.06.94zm10 10l.94 2.06.94-2.06 2.06-.94-2.06-.94-.94-2.06-.94 2.06-2.06.94z\"/><path d=\"M17.41 7.96l-1.37-1.37c-.4-.4-.92-.59-1.43-.59-.52 0-1.04.2-1.43.59L10.3 9.45l-7.72 7.72c-.78.78-.78 2.05 0 2.83L4 21.41c.39.39.9.59 1.41.59.51 0 1.02-.2 1.41-.59l7.78-7.78 2.81-2.81c.8-.78.8-2.07 0-2.86zM5.41 20L4 18.59l7.72-7.72 1.47 1.35L5.41 20z\"/>\n",
              "  </svg>\n",
              "      </button>\n",
              "      \n",
              "  <style>\n",
              "    .colab-df-container {\n",
              "      display:flex;\n",
              "      flex-wrap:wrap;\n",
              "      gap: 12px;\n",
              "    }\n",
              "\n",
              "    .colab-df-convert {\n",
              "      background-color: #E8F0FE;\n",
              "      border: none;\n",
              "      border-radius: 50%;\n",
              "      cursor: pointer;\n",
              "      display: none;\n",
              "      fill: #1967D2;\n",
              "      height: 32px;\n",
              "      padding: 0 0 0 0;\n",
              "      width: 32px;\n",
              "    }\n",
              "\n",
              "    .colab-df-convert:hover {\n",
              "      background-color: #E2EBFA;\n",
              "      box-shadow: 0px 1px 2px rgba(60, 64, 67, 0.3), 0px 1px 3px 1px rgba(60, 64, 67, 0.15);\n",
              "      fill: #174EA6;\n",
              "    }\n",
              "\n",
              "    [theme=dark] .colab-df-convert {\n",
              "      background-color: #3B4455;\n",
              "      fill: #D2E3FC;\n",
              "    }\n",
              "\n",
              "    [theme=dark] .colab-df-convert:hover {\n",
              "      background-color: #434B5C;\n",
              "      box-shadow: 0px 1px 3px 1px rgba(0, 0, 0, 0.15);\n",
              "      filter: drop-shadow(0px 1px 2px rgba(0, 0, 0, 0.3));\n",
              "      fill: #FFFFFF;\n",
              "    }\n",
              "  </style>\n",
              "\n",
              "      <script>\n",
              "        const buttonEl =\n",
              "          document.querySelector('#df-904cd8b5-99bf-4868-838b-eae05aafe742 button.colab-df-convert');\n",
              "        buttonEl.style.display =\n",
              "          google.colab.kernel.accessAllowed ? 'block' : 'none';\n",
              "\n",
              "        async function convertToInteractive(key) {\n",
              "          const element = document.querySelector('#df-904cd8b5-99bf-4868-838b-eae05aafe742');\n",
              "          const dataTable =\n",
              "            await google.colab.kernel.invokeFunction('convertToInteractive',\n",
              "                                                     [key], {});\n",
              "          if (!dataTable) return;\n",
              "\n",
              "          const docLinkHtml = 'Like what you see? Visit the ' +\n",
              "            '<a target=\"_blank\" href=https://colab.research.google.com/notebooks/data_table.ipynb>data table notebook</a>'\n",
              "            + ' to learn more about interactive tables.';\n",
              "          element.innerHTML = '';\n",
              "          dataTable['output_type'] = 'display_data';\n",
              "          await google.colab.output.renderOutput(dataTable, element);\n",
              "          const docLink = document.createElement('div');\n",
              "          docLink.innerHTML = docLinkHtml;\n",
              "          element.appendChild(docLink);\n",
              "        }\n",
              "      </script>\n",
              "    </div>\n",
              "  </div>\n",
              "  "
            ]
          },
          "metadata": {},
          "execution_count": 1679
        }
      ],
      "source": [
        "data"
      ]
    },
    {
      "cell_type": "markdown",
      "metadata": {
        "id": "pwPpSNcns8XN"
      },
      "source": [
        "#Labour"
      ]
    },
    {
      "cell_type": "code",
      "execution_count": 1680,
      "metadata": {
        "id": "BxOkj3cEPszq",
        "colab": {
          "base_uri": "https://localhost:8080/"
        },
        "outputId": "b3c675b8-31f9-43a4-975f-fae0df9d7a5c"
      },
      "outputs": [
        {
          "output_type": "execute_result",
          "data": {
            "text/plain": [
              "0      61.2\n",
              "1      58.8\n",
              "2      61.8\n",
              "3      58.7\n",
              "4      58.5\n",
              "       ... \n",
              "182    77.1\n",
              "183    83.3\n",
              "184      64\n",
              "186    72.6\n",
              "187      40\n",
              "Name: Labour Force Participation Rate (Female), Length: 159, dtype: object"
            ]
          },
          "metadata": {},
          "execution_count": 1680
        }
      ],
      "source": [
        "female_labour_world = data['Labour Force Participation Rate (Female)']\n",
        "female_labour_world"
      ]
    },
    {
      "cell_type": "code",
      "execution_count": 1681,
      "metadata": {
        "id": "eOm1e27nPyef",
        "colab": {
          "base_uri": "https://localhost:8080/"
        },
        "outputId": "5c072057-ad96-42d4-c81c-2c3dbd173d15"
      },
      "outputs": [
        {
          "output_type": "execute_result",
          "data": {
            "text/plain": [
              "0      68.7\n",
              "1      71.8\n",
              "2      74.9\n",
              "3      66.4\n",
              "4      70.6\n",
              "       ... \n",
              "182      90\n",
              "183      82\n",
              "184    79.2\n",
              "186    85.1\n",
              "187    89.7\n",
              "Name: Labour Force Participation Rate (Male), Length: 159, dtype: object"
            ]
          },
          "metadata": {},
          "execution_count": 1681
        }
      ],
      "source": [
        "male_labour_world = data['Labour Force Participation Rate (Male)']\n",
        "male_labour_world"
      ]
    },
    {
      "cell_type": "code",
      "execution_count": 1682,
      "metadata": {
        "id": "DP4C304kP9ZV"
      },
      "outputs": [],
      "source": [
        "female_labour_dropna = pd.to_numeric(female_labour_world, errors ='coerce')"
      ]
    },
    {
      "cell_type": "code",
      "execution_count": 1683,
      "metadata": {
        "id": "sfzr5CnvQAXP"
      },
      "outputs": [],
      "source": [
        "male_labour_dropna = pd.to_numeric(male_labour_world, errors ='coerce')"
      ]
    },
    {
      "cell_type": "code",
      "execution_count": 1684,
      "metadata": {
        "id": "WfcnmCS5QIM5"
      },
      "outputs": [],
      "source": [
        "female_labour = female_labour_dropna.dropna()"
      ]
    },
    {
      "cell_type": "code",
      "execution_count": 1685,
      "metadata": {
        "id": "mzvi7RZbQNeN"
      },
      "outputs": [],
      "source": [
        "male_labour = male_labour_dropna.dropna()"
      ]
    },
    {
      "cell_type": "markdown",
      "source": [
        "##T-test & Mann-Whitney U test"
      ],
      "metadata": {
        "id": "jvlcYxGzZdJT"
      }
    },
    {
      "cell_type": "code",
      "source": [
        "st.shapiro(female_labour)"
      ],
      "metadata": {
        "colab": {
          "base_uri": "https://localhost:8080/"
        },
        "id": "alvOxnqicHNm",
        "outputId": "00d4f498-4c8f-4e8a-a844-2e1b2f24e7f1"
      },
      "execution_count": 1686,
      "outputs": [
        {
          "output_type": "execute_result",
          "data": {
            "text/plain": [
              "ShapiroResult(statistic=0.9750053882598877, pvalue=0.0055217985063791275)"
            ]
          },
          "metadata": {},
          "execution_count": 1686
        }
      ]
    },
    {
      "cell_type": "code",
      "source": [
        "st.shapiro(male_labour)"
      ],
      "metadata": {
        "colab": {
          "base_uri": "https://localhost:8080/"
        },
        "id": "f6sZedhBcYa9",
        "outputId": "f667cde2-cb65-4012-cbe9-ef64d6d6737c"
      },
      "execution_count": 1687,
      "outputs": [
        {
          "output_type": "execute_result",
          "data": {
            "text/plain": [
              "ShapiroResult(statistic=0.991295576095581, pvalue=0.4432721436023712)"
            ]
          },
          "metadata": {},
          "execution_count": 1687
        }
      ]
    },
    {
      "cell_type": "code",
      "execution_count": 1688,
      "metadata": {
        "id": "JkCzPwIYQSxt",
        "colab": {
          "base_uri": "https://localhost:8080/"
        },
        "outputId": "108f2a70-5229-4a2f-af1b-dba5f228a829"
      },
      "outputs": [
        {
          "output_type": "execute_result",
          "data": {
            "text/plain": [
              "Ttest_indResult(statistic=-15.100509334519545, pvalue=3.642752783881433e-39)"
            ]
          },
          "metadata": {},
          "execution_count": 1688
        }
      ],
      "source": [
        "st.ttest_ind(female_labour, male_labour)"
      ]
    },
    {
      "cell_type": "code",
      "source": [
        "st.mannwhitneyu(female_labour, male_labour)"
      ],
      "metadata": {
        "colab": {
          "base_uri": "https://localhost:8080/"
        },
        "id": "KH2gPK1pZjiC",
        "outputId": "9f80c3db-1172-482b-94cd-4d320b7706bc"
      },
      "execution_count": 1689,
      "outputs": [
        {
          "output_type": "execute_result",
          "data": {
            "text/plain": [
              "MannwhitneyuResult(statistic=2775.0, pvalue=2.3634687307850188e-33)"
            ]
          },
          "metadata": {},
          "execution_count": 1689
        }
      ]
    },
    {
      "cell_type": "code",
      "execution_count": 1690,
      "metadata": {
        "id": "DTdzKOEhtS2W",
        "colab": {
          "base_uri": "https://localhost:8080/"
        },
        "outputId": "0ef31ca1-ebb8-4953-b46e-dd8a6536b71b"
      },
      "outputs": [
        {
          "output_type": "stream",
          "name": "stderr",
          "text": [
            "<ipython-input-1690-52644ad28f49>:1: SettingWithCopyWarning: \n",
            "A value is trying to be set on a copy of a slice from a DataFrame.\n",
            "Try using .loc[row_indexer,col_indexer] = value instead\n",
            "\n",
            "See the caveats in the documentation: https://pandas.pydata.org/pandas-docs/stable/user_guide/indexing.html#returning-a-view-versus-a-copy\n",
            "  data['Gender gap (Labour participation)'] = female_labour_dropna - male_labour_dropna\n"
          ]
        }
      ],
      "source": [
        "data['Gender gap (Labour participation)'] = female_labour_dropna - male_labour_dropna"
      ]
    },
    {
      "cell_type": "code",
      "execution_count": 1691,
      "metadata": {
        "id": "V_78_m9nreNC",
        "colab": {
          "base_uri": "https://localhost:8080/",
          "height": 554
        },
        "outputId": "57c2c233-be05-4c72-f371-ddde235b9a8c"
      },
      "outputs": [
        {
          "output_type": "execute_result",
          "data": {
            "text/plain": [
              "     GII Rank                   Country Gender Inequality Index (GII)  \\\n",
              "0         1.0                    Norway                         0.067   \n",
              "1         2.0                 Australia                          0.11   \n",
              "2         3.0               Switzerland                         0.028   \n",
              "3         4.0                   Denmark                         0.048   \n",
              "4         5.0               Netherlands                         0.062   \n",
              "..        ...                       ...                           ...   \n",
              "182     183.0              Burkina Faso                         0.631   \n",
              "183     184.0                   Burundi                         0.492   \n",
              "184     185.0                      Chad                         0.706   \n",
              "186     187.0  Central African Republic                         0.655   \n",
              "187     188.0                     Niger                         0.713   \n",
              "\n",
              "    Maternal Mortality Ratio Adolescent Birth Rate  \\\n",
              "0                          4                   7.8   \n",
              "1                          6                  12.1   \n",
              "2                          6                   1.9   \n",
              "3                          5                   5.1   \n",
              "4                          6                   6.2   \n",
              "..                       ...                   ...   \n",
              "182                      400                 115.4   \n",
              "183                      740                  30.3   \n",
              "184                      980                   152   \n",
              "186                      880                  98.3   \n",
              "187                      630                 204.8   \n",
              "\n",
              "    Percent Representation in Parliament  \\\n",
              "0                                   39.6   \n",
              "1                                   30.5   \n",
              "2                                   28.5   \n",
              "3                                     38   \n",
              "4                                   36.9   \n",
              "..                                   ...   \n",
              "182                                 13.3   \n",
              "183                                 34.9   \n",
              "184                                 14.9   \n",
              "186                                 12.5   \n",
              "187                                 13.3   \n",
              "\n",
              "    Population with Secondary Education (Female)  \\\n",
              "0                                           97.4   \n",
              "1                                           94.3   \n",
              "2                                             95   \n",
              "3                                           95.5   \n",
              "4                                           87.7   \n",
              "..                                           ...   \n",
              "182                                          0.9   \n",
              "183                                          5.3   \n",
              "184                                          1.7   \n",
              "186                                         10.1   \n",
              "187                                          2.4   \n",
              "\n",
              "    Population with Secondary Education (Male)  \\\n",
              "0                                         96.7   \n",
              "1                                         94.6   \n",
              "2                                         96.6   \n",
              "3                                         96.6   \n",
              "4                                         90.5   \n",
              "..                                         ...   \n",
              "182                                        3.2   \n",
              "183                                        8.3   \n",
              "184                                        9.9   \n",
              "186                                       26.7   \n",
              "187                                        7.8   \n",
              "\n",
              "    Labour Force Participation Rate (Female)  \\\n",
              "0                                       61.2   \n",
              "1                                       58.8   \n",
              "2                                       61.8   \n",
              "3                                       58.7   \n",
              "4                                       58.5   \n",
              "..                                       ...   \n",
              "182                                     77.1   \n",
              "183                                     83.3   \n",
              "184                                       64   \n",
              "186                                     72.6   \n",
              "187                                       40   \n",
              "\n",
              "    Labour Force Participation Rate (Male)  Gender gap (Secondary Education)  \\\n",
              "0                                     68.7                               0.7   \n",
              "1                                     71.8                              -0.3   \n",
              "2                                     74.9                              -1.6   \n",
              "3                                     66.4                              -1.1   \n",
              "4                                     70.6                              -2.8   \n",
              "..                                     ...                               ...   \n",
              "182                                     90                              -2.3   \n",
              "183                                     82                              -3.0   \n",
              "184                                   79.2                              -8.2   \n",
              "186                                   85.1                             -16.6   \n",
              "187                                   89.7                              -5.4   \n",
              "\n",
              "     Gender gap (Labour participation)  \n",
              "0                                 -7.5  \n",
              "1                                -13.0  \n",
              "2                                -13.1  \n",
              "3                                 -7.7  \n",
              "4                                -12.1  \n",
              "..                                 ...  \n",
              "182                              -12.9  \n",
              "183                                1.3  \n",
              "184                              -15.2  \n",
              "186                              -12.5  \n",
              "187                              -49.7  \n",
              "\n",
              "[159 rows x 12 columns]"
            ],
            "text/html": [
              "\n",
              "  <div id=\"df-b5fb43c6-68dc-4d1e-a1b3-393739dad776\">\n",
              "    <div class=\"colab-df-container\">\n",
              "      <div>\n",
              "<style scoped>\n",
              "    .dataframe tbody tr th:only-of-type {\n",
              "        vertical-align: middle;\n",
              "    }\n",
              "\n",
              "    .dataframe tbody tr th {\n",
              "        vertical-align: top;\n",
              "    }\n",
              "\n",
              "    .dataframe thead th {\n",
              "        text-align: right;\n",
              "    }\n",
              "</style>\n",
              "<table border=\"1\" class=\"dataframe\">\n",
              "  <thead>\n",
              "    <tr style=\"text-align: right;\">\n",
              "      <th></th>\n",
              "      <th>GII Rank</th>\n",
              "      <th>Country</th>\n",
              "      <th>Gender Inequality Index (GII)</th>\n",
              "      <th>Maternal Mortality Ratio</th>\n",
              "      <th>Adolescent Birth Rate</th>\n",
              "      <th>Percent Representation in Parliament</th>\n",
              "      <th>Population with Secondary Education (Female)</th>\n",
              "      <th>Population with Secondary Education (Male)</th>\n",
              "      <th>Labour Force Participation Rate (Female)</th>\n",
              "      <th>Labour Force Participation Rate (Male)</th>\n",
              "      <th>Gender gap (Secondary Education)</th>\n",
              "      <th>Gender gap (Labour participation)</th>\n",
              "    </tr>\n",
              "  </thead>\n",
              "  <tbody>\n",
              "    <tr>\n",
              "      <th>0</th>\n",
              "      <td>1.0</td>\n",
              "      <td>Norway</td>\n",
              "      <td>0.067</td>\n",
              "      <td>4</td>\n",
              "      <td>7.8</td>\n",
              "      <td>39.6</td>\n",
              "      <td>97.4</td>\n",
              "      <td>96.7</td>\n",
              "      <td>61.2</td>\n",
              "      <td>68.7</td>\n",
              "      <td>0.7</td>\n",
              "      <td>-7.5</td>\n",
              "    </tr>\n",
              "    <tr>\n",
              "      <th>1</th>\n",
              "      <td>2.0</td>\n",
              "      <td>Australia</td>\n",
              "      <td>0.11</td>\n",
              "      <td>6</td>\n",
              "      <td>12.1</td>\n",
              "      <td>30.5</td>\n",
              "      <td>94.3</td>\n",
              "      <td>94.6</td>\n",
              "      <td>58.8</td>\n",
              "      <td>71.8</td>\n",
              "      <td>-0.3</td>\n",
              "      <td>-13.0</td>\n",
              "    </tr>\n",
              "    <tr>\n",
              "      <th>2</th>\n",
              "      <td>3.0</td>\n",
              "      <td>Switzerland</td>\n",
              "      <td>0.028</td>\n",
              "      <td>6</td>\n",
              "      <td>1.9</td>\n",
              "      <td>28.5</td>\n",
              "      <td>95</td>\n",
              "      <td>96.6</td>\n",
              "      <td>61.8</td>\n",
              "      <td>74.9</td>\n",
              "      <td>-1.6</td>\n",
              "      <td>-13.1</td>\n",
              "    </tr>\n",
              "    <tr>\n",
              "      <th>3</th>\n",
              "      <td>4.0</td>\n",
              "      <td>Denmark</td>\n",
              "      <td>0.048</td>\n",
              "      <td>5</td>\n",
              "      <td>5.1</td>\n",
              "      <td>38</td>\n",
              "      <td>95.5</td>\n",
              "      <td>96.6</td>\n",
              "      <td>58.7</td>\n",
              "      <td>66.4</td>\n",
              "      <td>-1.1</td>\n",
              "      <td>-7.7</td>\n",
              "    </tr>\n",
              "    <tr>\n",
              "      <th>4</th>\n",
              "      <td>5.0</td>\n",
              "      <td>Netherlands</td>\n",
              "      <td>0.062</td>\n",
              "      <td>6</td>\n",
              "      <td>6.2</td>\n",
              "      <td>36.9</td>\n",
              "      <td>87.7</td>\n",
              "      <td>90.5</td>\n",
              "      <td>58.5</td>\n",
              "      <td>70.6</td>\n",
              "      <td>-2.8</td>\n",
              "      <td>-12.1</td>\n",
              "    </tr>\n",
              "    <tr>\n",
              "      <th>...</th>\n",
              "      <td>...</td>\n",
              "      <td>...</td>\n",
              "      <td>...</td>\n",
              "      <td>...</td>\n",
              "      <td>...</td>\n",
              "      <td>...</td>\n",
              "      <td>...</td>\n",
              "      <td>...</td>\n",
              "      <td>...</td>\n",
              "      <td>...</td>\n",
              "      <td>...</td>\n",
              "      <td>...</td>\n",
              "    </tr>\n",
              "    <tr>\n",
              "      <th>182</th>\n",
              "      <td>183.0</td>\n",
              "      <td>Burkina Faso</td>\n",
              "      <td>0.631</td>\n",
              "      <td>400</td>\n",
              "      <td>115.4</td>\n",
              "      <td>13.3</td>\n",
              "      <td>0.9</td>\n",
              "      <td>3.2</td>\n",
              "      <td>77.1</td>\n",
              "      <td>90</td>\n",
              "      <td>-2.3</td>\n",
              "      <td>-12.9</td>\n",
              "    </tr>\n",
              "    <tr>\n",
              "      <th>183</th>\n",
              "      <td>184.0</td>\n",
              "      <td>Burundi</td>\n",
              "      <td>0.492</td>\n",
              "      <td>740</td>\n",
              "      <td>30.3</td>\n",
              "      <td>34.9</td>\n",
              "      <td>5.3</td>\n",
              "      <td>8.3</td>\n",
              "      <td>83.3</td>\n",
              "      <td>82</td>\n",
              "      <td>-3.0</td>\n",
              "      <td>1.3</td>\n",
              "    </tr>\n",
              "    <tr>\n",
              "      <th>184</th>\n",
              "      <td>185.0</td>\n",
              "      <td>Chad</td>\n",
              "      <td>0.706</td>\n",
              "      <td>980</td>\n",
              "      <td>152</td>\n",
              "      <td>14.9</td>\n",
              "      <td>1.7</td>\n",
              "      <td>9.9</td>\n",
              "      <td>64</td>\n",
              "      <td>79.2</td>\n",
              "      <td>-8.2</td>\n",
              "      <td>-15.2</td>\n",
              "    </tr>\n",
              "    <tr>\n",
              "      <th>186</th>\n",
              "      <td>187.0</td>\n",
              "      <td>Central African Republic</td>\n",
              "      <td>0.655</td>\n",
              "      <td>880</td>\n",
              "      <td>98.3</td>\n",
              "      <td>12.5</td>\n",
              "      <td>10.1</td>\n",
              "      <td>26.7</td>\n",
              "      <td>72.6</td>\n",
              "      <td>85.1</td>\n",
              "      <td>-16.6</td>\n",
              "      <td>-12.5</td>\n",
              "    </tr>\n",
              "    <tr>\n",
              "      <th>187</th>\n",
              "      <td>188.0</td>\n",
              "      <td>Niger</td>\n",
              "      <td>0.713</td>\n",
              "      <td>630</td>\n",
              "      <td>204.8</td>\n",
              "      <td>13.3</td>\n",
              "      <td>2.4</td>\n",
              "      <td>7.8</td>\n",
              "      <td>40</td>\n",
              "      <td>89.7</td>\n",
              "      <td>-5.4</td>\n",
              "      <td>-49.7</td>\n",
              "    </tr>\n",
              "  </tbody>\n",
              "</table>\n",
              "<p>159 rows × 12 columns</p>\n",
              "</div>\n",
              "      <button class=\"colab-df-convert\" onclick=\"convertToInteractive('df-b5fb43c6-68dc-4d1e-a1b3-393739dad776')\"\n",
              "              title=\"Convert this dataframe to an interactive table.\"\n",
              "              style=\"display:none;\">\n",
              "        \n",
              "  <svg xmlns=\"http://www.w3.org/2000/svg\" height=\"24px\"viewBox=\"0 0 24 24\"\n",
              "       width=\"24px\">\n",
              "    <path d=\"M0 0h24v24H0V0z\" fill=\"none\"/>\n",
              "    <path d=\"M18.56 5.44l.94 2.06.94-2.06 2.06-.94-2.06-.94-.94-2.06-.94 2.06-2.06.94zm-11 1L8.5 8.5l.94-2.06 2.06-.94-2.06-.94L8.5 2.5l-.94 2.06-2.06.94zm10 10l.94 2.06.94-2.06 2.06-.94-2.06-.94-.94-2.06-.94 2.06-2.06.94z\"/><path d=\"M17.41 7.96l-1.37-1.37c-.4-.4-.92-.59-1.43-.59-.52 0-1.04.2-1.43.59L10.3 9.45l-7.72 7.72c-.78.78-.78 2.05 0 2.83L4 21.41c.39.39.9.59 1.41.59.51 0 1.02-.2 1.41-.59l7.78-7.78 2.81-2.81c.8-.78.8-2.07 0-2.86zM5.41 20L4 18.59l7.72-7.72 1.47 1.35L5.41 20z\"/>\n",
              "  </svg>\n",
              "      </button>\n",
              "      \n",
              "  <style>\n",
              "    .colab-df-container {\n",
              "      display:flex;\n",
              "      flex-wrap:wrap;\n",
              "      gap: 12px;\n",
              "    }\n",
              "\n",
              "    .colab-df-convert {\n",
              "      background-color: #E8F0FE;\n",
              "      border: none;\n",
              "      border-radius: 50%;\n",
              "      cursor: pointer;\n",
              "      display: none;\n",
              "      fill: #1967D2;\n",
              "      height: 32px;\n",
              "      padding: 0 0 0 0;\n",
              "      width: 32px;\n",
              "    }\n",
              "\n",
              "    .colab-df-convert:hover {\n",
              "      background-color: #E2EBFA;\n",
              "      box-shadow: 0px 1px 2px rgba(60, 64, 67, 0.3), 0px 1px 3px 1px rgba(60, 64, 67, 0.15);\n",
              "      fill: #174EA6;\n",
              "    }\n",
              "\n",
              "    [theme=dark] .colab-df-convert {\n",
              "      background-color: #3B4455;\n",
              "      fill: #D2E3FC;\n",
              "    }\n",
              "\n",
              "    [theme=dark] .colab-df-convert:hover {\n",
              "      background-color: #434B5C;\n",
              "      box-shadow: 0px 1px 3px 1px rgba(0, 0, 0, 0.15);\n",
              "      filter: drop-shadow(0px 1px 2px rgba(0, 0, 0, 0.3));\n",
              "      fill: #FFFFFF;\n",
              "    }\n",
              "  </style>\n",
              "\n",
              "      <script>\n",
              "        const buttonEl =\n",
              "          document.querySelector('#df-b5fb43c6-68dc-4d1e-a1b3-393739dad776 button.colab-df-convert');\n",
              "        buttonEl.style.display =\n",
              "          google.colab.kernel.accessAllowed ? 'block' : 'none';\n",
              "\n",
              "        async function convertToInteractive(key) {\n",
              "          const element = document.querySelector('#df-b5fb43c6-68dc-4d1e-a1b3-393739dad776');\n",
              "          const dataTable =\n",
              "            await google.colab.kernel.invokeFunction('convertToInteractive',\n",
              "                                                     [key], {});\n",
              "          if (!dataTable) return;\n",
              "\n",
              "          const docLinkHtml = 'Like what you see? Visit the ' +\n",
              "            '<a target=\"_blank\" href=https://colab.research.google.com/notebooks/data_table.ipynb>data table notebook</a>'\n",
              "            + ' to learn more about interactive tables.';\n",
              "          element.innerHTML = '';\n",
              "          dataTable['output_type'] = 'display_data';\n",
              "          await google.colab.output.renderOutput(dataTable, element);\n",
              "          const docLink = document.createElement('div');\n",
              "          docLink.innerHTML = docLinkHtml;\n",
              "          element.appendChild(docLink);\n",
              "        }\n",
              "      </script>\n",
              "    </div>\n",
              "  </div>\n",
              "  "
            ]
          },
          "metadata": {},
          "execution_count": 1691
        }
      ],
      "source": [
        "data"
      ]
    },
    {
      "cell_type": "code",
      "execution_count": 1692,
      "metadata": {
        "id": "O5gzfq2vvimK",
        "colab": {
          "base_uri": "https://localhost:8080/",
          "height": 466
        },
        "outputId": "e4f88c4e-fc42-47ee-f076-da34396f2eae"
      },
      "outputs": [
        {
          "output_type": "execute_result",
          "data": {
            "text/plain": [
              "Text(0, 0.5, 'Gender gap (Labour participation)')"
            ]
          },
          "metadata": {},
          "execution_count": 1692
        },
        {
          "output_type": "display_data",
          "data": {
            "text/plain": [
              "<Figure size 640x480 with 1 Axes>"
            ],
            "image/png": "[encoded data removed]"
          },
          "metadata": {}
        }
      ],
      "source": [
        "plt.scatter(data['Gender gap (Secondary Education)'],data['Gender gap (Labour participation)'])\n",
        "plt.xlabel('Gender gap (Secondary Education)')\n",
        "plt.ylabel('Gender gap (Labour participation)')"
      ]
    },
    {
      "cell_type": "code",
      "execution_count": 1693,
      "metadata": {
        "id": "gc9gUjekoTt5"
      },
      "outputs": [],
      "source": [
        "data=data.dropna()"
      ]
    },
    {
      "cell_type": "code",
      "execution_count": 1694,
      "metadata": {
        "id": "OVps_s-qor3B",
        "colab": {
          "base_uri": "https://localhost:8080/"
        },
        "outputId": "65002a83-daf2-463f-bf96-85bdecf1b0b0"
      },
      "outputs": [
        {
          "output_type": "execute_result",
          "data": {
            "text/plain": [
              "array([[1.        , 0.08381528],\n",
              "       [0.08381528, 1.        ]])"
            ]
          },
          "metadata": {},
          "execution_count": 1694
        }
      ],
      "source": [
        "edu_gap = data['Gender gap (Secondary Education)']\n",
        "edu_gap = edu_gap.to_numpy()\n",
        "labor_gap = data['Gender gap (Labour participation)']\n",
        "labor_gap = labor_gap.to_numpy()\n",
        "np.corrcoef(edu_gap,labor_gap)"
      ]
    },
    {
      "cell_type": "code",
      "execution_count": 1695,
      "metadata": {
        "id": "cVUuPHawwVEa",
        "colab": {
          "base_uri": "https://localhost:8080/"
        },
        "outputId": "bc01db6a-c5bf-4187-a318-bf64f3a0457d"
      },
      "outputs": [
        {
          "output_type": "execute_result",
          "data": {
            "text/plain": [
              "array([  0.7,  -0.3,  -1.6,  -1.1,  -2.8,  -0.7,   1.9,   0.3,   0. ,\n",
              "        -0.3,  -6.9,  -7. ,  -0.8,  -0.1,  -0.6, -12.1,  -2.9,   0. ,\n",
              "         1.2,  -5.4,  -5.2,   0. ,   0. ,  -2.2,  -6.3,  -9.3,   0.2,\n",
              "        -7.5,   0. ,  -3.9,  -5.7,   7.7,  -0.4,  -6.1,  -5.2,  -9.6,\n",
              "        -9.8,  -1.3,  11.9,  -3.1,  -0.5,  -0.8,   5.3,  -0.1,  -8.6,\n",
              "        -0.7, -10.5,  -5.2,  -2.9,  -9.9,  -5.9,   4.1,   3.6,  -3.5,\n",
              "         1.8,  -2.7,   4.1,  -6.2,  -8.6,  -1.2, -15.2,  -4.5,  -2.4,\n",
              "         0.2,  -5.4,   5.8, -21. ,  -3.7,  -4.9,   2.2,  -3. ,  -3.7,\n",
              "        -9. , -15.4,  -4.2,  -4.3,  -9.8,  -6.1,  -1. , -24.9,   0.7,\n",
              "       -13.2,  -0.3,   1.2,  -5.1,  13.6, -13.3,   1.3,   3.8,  -0.8,\n",
              "         0.6,   2.5,  -2.5,  -5.4,   4.3,  -4.3,  -3. , -16.7,  17.8,\n",
              "        -9.3,  -6.2,  -5.5,   2.2,  -6.8,  -3.2, -11.8, -11.5,  -2.3,\n",
              "       -22.4,  12.5,   1.1,  -9.5,  -1.1,  -1.3,   3.9, -29.6,   2.2,\n",
              "        -0.5, -11. ,  -7.3, -18.2, -19.5, -14.1,  -7.2, -13. ,  -6.1,\n",
              "       -20.5, -26.8,   7.6,  -4.1,  -3.9, -13.6, -13.3, -12.6,  -6.9,\n",
              "       -18.1,   2.9, -24.2, -12.8,  -0.8, -10.6, -15.7,  -6.1,  -8.2,\n",
              "       -23.9, -16.1, -10.5, -10.4, -14.1, -19.6, -23.9,  -7.4,  -4.8,\n",
              "       -11.7,  -2.3,  -3. ,  -8.2, -16.6,  -5.4])"
            ]
          },
          "metadata": {},
          "execution_count": 1695
        }
      ],
      "source": [
        "edu_gap"
      ]
    },
    {
      "cell_type": "code",
      "execution_count": 1696,
      "metadata": {
        "id": "BHalZBGLt0Jd"
      },
      "outputs": [],
      "source": [
        "#for running regression\n",
        "\n",
        "# edu_gap = data['Gender gap (Secondary Education)']\n",
        "# labor_gap = data['Gender gap (Labour participation)']\n",
        "# import statsmodels.formula.api as smf\n",
        "# reg = smf.ols(formula='')"
      ]
    },
    {
      "cell_type": "code",
      "execution_count": 1697,
      "metadata": {
        "id": "VoTKhCLVGph5",
        "colab": {
          "base_uri": "https://localhost:8080/"
        },
        "outputId": "511f7143-50e1-4337-e481-f31c973648d7"
      },
      "outputs": [
        {
          "output_type": "stream",
          "name": "stderr",
          "text": [
            "<ipython-input-1697-de8782c786b1>:6: RuntimeWarning: Precision loss occurred in moment calculation due to catastrophic cancellation. This occurs when the data are nearly identical. Results may be unreliable.\n",
            "  st.ttest_ind(female_labour_Saudi,male_labour_Saudi)\n",
            "/usr/local/lib/python3.10/dist-packages/scipy/stats/_stats_py.py:1214: RuntimeWarning: divide by zero encountered in true_divide\n",
            "  var *= np.divide(n, n-ddof)  # to avoid error on division by zero\n",
            "/usr/local/lib/python3.10/dist-packages/scipy/stats/_stats_py.py:1214: RuntimeWarning: invalid value encountered in double_scalars\n",
            "  var *= np.divide(n, n-ddof)  # to avoid error on division by zero\n"
          ]
        },
        {
          "output_type": "execute_result",
          "data": {
            "text/plain": [
              "Ttest_indResult(statistic=nan, pvalue=nan)"
            ]
          },
          "metadata": {},
          "execution_count": 1697
        }
      ],
      "source": [
        "female_labour_Saudi = data[data['Country'] == 'Saudi Arabia']['Labour Force Participation Rate (Female)']\n",
        "female_labour_Saudi = pd.to_numeric(female_labour_Saudi, errors='coerce')\n",
        "\n",
        "male_labour_Saudi = data[data['Country'] == 'Saudi Arabia']['Labour Force Participation Rate (Male)']\n",
        "male_labour_Saudi = pd.to_numeric(male_labour_Saudi, errors='coerce')\n",
        "st.ttest_ind(female_labour_Saudi,male_labour_Saudi)"
      ]
    },
    {
      "cell_type": "markdown",
      "source": [
        "##The graph we will show"
      ],
      "metadata": {
        "id": "V57nbOMrchK5"
      }
    },
    {
      "cell_type": "code",
      "source": [
        "ci1 = st.norm.interval(0.95, loc=female_labour_dropna.mean(),scale=female_labour_dropna.sem())\n",
        "ci1\n",
        "ci2 = st.norm.interval(0.95, loc=male_labour_dropna.mean(),scale=male_labour_dropna.sem())\n",
        "ci2\n",
        "plt.figure(figsize=(6,6))\n",
        "plt.bar(1, female_labour_dropna.mean(), width = 0.1, capsize=10, yerr = (ci1[1]-ci1[0])/2)\n",
        "plt.bar(1.15, male_labour_dropna.mean(), width = 0.1, capsize=10, yerr = (ci2[1]-ci2[0])/2)\n",
        "plt.xticks([1,1.15],['Female labour participation rate','Male labour participation rate'])\n",
        "plt.show()"
      ],
      "metadata": {
        "id": "YqrGNF8RuvGY",
        "colab": {
          "base_uri": "https://localhost:8080/",
          "height": 522
        },
        "outputId": "72191a81-5b3f-4344-8000-bc9f39aa97ac"
      },
      "execution_count": 1698,
      "outputs": [
        {
          "output_type": "display_data",
          "data": {
            "text/plain": [
              "<Figure size 600x600 with 1 Axes>"
            ],
            "image/png": "[encoded data removed]"
          },
          "metadata": {}
        }
      ]
    },
    {
      "cell_type": "markdown",
      "metadata": {
        "id": "9-DjsaY409VC"
      },
      "source": [
        "#Regression"
      ]
    },
    {
      "cell_type": "markdown",
      "source": [
        "##GDP -> common"
      ],
      "metadata": {
        "id": "zf_6WiTQAf__"
      }
    },
    {
      "cell_type": "code",
      "source": [
        "common_countries = []"
      ],
      "metadata": {
        "id": "1fqBsnUaAHZi"
      },
      "execution_count": 1699,
      "outputs": []
    },
    {
      "cell_type": "code",
      "source": [
        "for i in range(len(female_countries)):\n",
        "  if female_countries[i] in gdp_countries:\n",
        "     common_countries.append(female_countries[i])"
      ],
      "metadata": {
        "id": "HLprwJ149Eje"
      },
      "execution_count": 1700,
      "outputs": []
    },
    {
      "cell_type": "code",
      "source": [
        "common_countries_gdp = []\n",
        "gdp_15=gdpnew['2015'].tolist()"
      ],
      "metadata": {
        "id": "Gm8DID_KAmtN"
      },
      "execution_count": 1701,
      "outputs": []
    },
    {
      "cell_type": "code",
      "source": [
        "for i in range(len(common_countries)):\n",
        "  if common_countries[i] in gdp_countries:\n",
        "     common_countries_gdp.append(gdp_15[i])"
      ],
      "metadata": {
        "id": "PIPTYZGAAg4W"
      },
      "execution_count": 1702,
      "outputs": []
    },
    {
      "cell_type": "code",
      "source": [
        "common_countries_gdp"
      ],
      "metadata": {
        "id": "9LQUFOHKBXqJ",
        "colab": {
          "base_uri": "https://localhost:8080/"
        },
        "outputId": "ca1f7642-5e30-41d6-c399-936fcae863e3"
      },
      "execution_count": 1703,
      "outputs": [
        {
          "output_type": "execute_result",
          "data": {
            "text/plain": [
              "[28421.3864931862,\n",
              " 1538.55226805656,\n",
              " 592.476537451681,\n",
              " 1876.62348318848,\n",
              " 3100.83068530533,\n",
              " 3952.80253807527,\n",
              " 38885.3760140905,\n",
              " 6245.78778494805,\n",
              " 41525.1389031283,\n",
              " 13789.060424772,\n",
              " 3666.1418758065,\n",
              " 13101.5418159165,\n",
              " 14861.8827074704,\n",
              " 56710.4457244504,\n",
              " 44195.8175947748,\n",
              " 5500.31038244408,\n",
              " 289.359633280865,\n",
              " 41008.296719472,\n",
              " 1041.65252315983,\n",
              " 632.12668368394,\n",
              " 1236.00506049059,\n",
              " 7074.68102325059,\n",
              " 22795.4488576612,\n",
              " 30206.2404347372,\n",
              " 4599.90102879933,\n",
              " 5967.05220384914,\n",
              " 6142.47883269283,\n",
              " 102005.62564189,\n",
              " 2975.64881137847,\n",
              " 8783.22598387817,\n",
              " 16990.2194668498,\n",
              " 30681.6794391894,\n",
              " 2695.63877250025,\n",
              " 5869.73294292043,\n",
              " 351.879753579186,\n",
              " 43596.1355365546,\n",
              " 12520.3364891967,\n",
              " 83806.4476003837,\n",
              " 13569.9478008231,\n",
              " 8016.43143498352,\n",
              " 1941.56633627815,\n",
              " 1399.67533119236,\n",
              " 482.0645483336,\n",
              " 2347.81849884859,\n",
              " 6228.4262990412,\n",
              " 1322.93669549676,\n",
              " 2891.88448249992,\n",
              " 11529.9545258398,\n",
              " 10473.834450072,\n",
              " 7683.75789050585,\n",
              " 19260.269845345,\n",
              " 77298.6280551844,\n",
              " 23487.125,\n",
              " 17829.6983223668,\n",
              " 41103.2564363768,\n",
              " 2409.31190224284,\n",
              " 7724.04241057376,\n",
              " 53254.8563700916,\n",
              " 6838.93659408348,\n",
              " 4197.42136055142,\n",
              " 6501.86882881589,\n",
              " 3199.51964624213,\n",
              " 9586.90102723108,\n",
              " 7458.33504588883,\n",
              " 22556.5736435145,\n",
              " 6130.58667556768,\n",
              " 3370.38244716015,\n",
              " 34388.8100100187,\n",
              " 25754.36102944,\n",
              " 17402.0376128079,\n",
              " 630.31268211446,\n",
              " 30484.5278875559,\n",
              " 1891.18227274028,\n",
              " 42801.9081167285,\n",
              " 5105.26262664449,\n",
              " 36652.9223052178,\n",
              " 52726.7422373484,\n",
              " 2891.32210264749,\n",
              " 7090.45460996325,\n",
              " 45071.0743234873,\n",
              " 4014.18594419329,\n",
              " 1711.29066611485,\n",
              " 756.425594058563,\n",
              " 611.671334233568,\n",
              " 585.957010585942,\n",
              " 9788.98377058219,\n",
              " 18083.8779056547,\n",
              " 8379.62184743156,\n",
              " 44536.4013080999,\n",
              " 3994.63691288475,\n",
              " 34522.3779304433,\n",
              " 5668.42976474423,\n",
              " 39819.1878688144,\n",
              " 42431.8882817277,\n",
              " 2257.2227122596,\n",
              " 953.176760946949,\n",
              " 11952.3111753908,\n",
              " 1404.15521407257,\n",
              " 12717.038597002,\n",
              " 5523.81403262613,\n",
              " 4471.99644993102,\n",
              " 1358.21791178905,\n",
              " 1930.46018693705,\n",
              " 3322.58168813599,\n",
              " 1070.69025990807,\n",
              " 84759.345951354,\n",
              " 1590.17391842781,\n",
              " 62053.9844381587,\n",
              " 4990.93679760475,\n",
              " 4416.94304894546,\n",
              " 52951.6815110898,\n",
              " 36206.5222171621,\n",
              " 30242.3861352184,\n",
              " 5077.55062188355,\n",
              " 4064.25301644124,\n",
              " 34960.6393843385,\n",
              " 10510.7718884149,\n",
              " 1496.65285612239,\n",
              " 1121.08283510739,\n",
              " 1170.74281578324,\n",
              " 1459.13302105094,\n",
              " 20025.9623507165,\n",
              " 28732.2310762599,\n",
              " 29310.522105363,\n",
              " 8223.39454971266,\n",
              " 2125.45905698314,\n",
              " 7802.75136773923,\n",
              " 699.662946853965,\n",
              " 7867.57189285698,\n",
              " 10290.3789108118,\n",
              " 8645.27095252049,\n",
              " 997.132283890389,\n",
              " 775.673373499387,\n",
              " 167805.956932057,\n",
              " 4060.13178524716,\n",
              " 2088.22078732738]"
            ]
          },
          "metadata": {},
          "execution_count": 1703
        }
      ]
    },
    {
      "cell_type": "code",
      "source": [
        "common_countries_gdp=pd.Series(common_countries_gdp)"
      ],
      "metadata": {
        "id": "6DZ2uVXkDRih"
      },
      "execution_count": 1704,
      "outputs": []
    },
    {
      "cell_type": "code",
      "source": [
        "len(common_countries_gdp)"
      ],
      "metadata": {
        "id": "KeuRR3_2F00o",
        "colab": {
          "base_uri": "https://localhost:8080/"
        },
        "outputId": "1bd52bb0-5bdc-4a6b-ca4a-93a12cbf8ade"
      },
      "execution_count": 1705,
      "outputs": [
        {
          "output_type": "execute_result",
          "data": {
            "text/plain": [
              "136"
            ]
          },
          "metadata": {},
          "execution_count": 1705
        }
      ]
    },
    {
      "cell_type": "markdown",
      "source": [
        "##Female -> common"
      ],
      "metadata": {
        "id": "MVSsQyHqAnvN"
      }
    },
    {
      "cell_type": "code",
      "source": [
        "common_female_edu_countries = []"
      ],
      "metadata": {
        "id": "TIZ_3WdzHH1T"
      },
      "execution_count": 1706,
      "outputs": []
    },
    {
      "cell_type": "code",
      "source": [
        "for i in range(len(female_countries)):\n",
        "  if female_countries[i] in common_countries:\n",
        "     common_female_edu_countries.append(female_countries[i])"
      ],
      "metadata": {
        "id": "lPX92kLKHHVn"
      },
      "execution_count": 1707,
      "outputs": []
    },
    {
      "cell_type": "code",
      "source": [
        "female_edu_1_dropna = female_edu_1.dropna()"
      ],
      "metadata": {
        "id": "nb-JaNyTikbY"
      },
      "execution_count": 1708,
      "outputs": []
    },
    {
      "cell_type": "code",
      "source": [
        "female_edu_1_dropna"
      ],
      "metadata": {
        "colab": {
          "base_uri": "https://localhost:8080/",
          "height": 424
        },
        "id": "h3AM8cmVjCDM",
        "outputId": "b8bab62a-56fd-4984-c162-b7bb3b2a358d"
      },
      "execution_count": 1709,
      "outputs": [
        {
          "output_type": "execute_result",
          "data": {
            "text/plain": [
              "                      Country Population with Secondary Education (Female)\n",
              "0                      Norway                                         97.4\n",
              "1                   Australia                                         94.3\n",
              "2                 Switzerland                                           95\n",
              "3                     Denmark                                         95.5\n",
              "4                 Netherlands                                         87.7\n",
              "..                        ...                                          ...\n",
              "182              Burkina Faso                                          0.9\n",
              "183                   Burundi                                          5.3\n",
              "184                      Chad                                          1.7\n",
              "186  Central African Republic                                         10.1\n",
              "187                     Niger                                          2.4\n",
              "\n",
              "[159 rows x 2 columns]"
            ],
            "text/html": [
              "\n",
              "  <div id=\"df-e6d9a9e3-7f49-46a6-9ab8-f0f0f2502065\">\n",
              "    <div class=\"colab-df-container\">\n",
              "      <div>\n",
              "<style scoped>\n",
              "    .dataframe tbody tr th:only-of-type {\n",
              "        vertical-align: middle;\n",
              "    }\n",
              "\n",
              "    .dataframe tbody tr th {\n",
              "        vertical-align: top;\n",
              "    }\n",
              "\n",
              "    .dataframe thead th {\n",
              "        text-align: right;\n",
              "    }\n",
              "</style>\n",
              "<table border=\"1\" class=\"dataframe\">\n",
              "  <thead>\n",
              "    <tr style=\"text-align: right;\">\n",
              "      <th></th>\n",
              "      <th>Country</th>\n",
              "      <th>Population with Secondary Education (Female)</th>\n",
              "    </tr>\n",
              "  </thead>\n",
              "  <tbody>\n",
              "    <tr>\n",
              "      <th>0</th>\n",
              "      <td>Norway</td>\n",
              "      <td>97.4</td>\n",
              "    </tr>\n",
              "    <tr>\n",
              "      <th>1</th>\n",
              "      <td>Australia</td>\n",
              "      <td>94.3</td>\n",
              "    </tr>\n",
              "    <tr>\n",
              "      <th>2</th>\n",
              "      <td>Switzerland</td>\n",
              "      <td>95</td>\n",
              "    </tr>\n",
              "    <tr>\n",
              "      <th>3</th>\n",
              "      <td>Denmark</td>\n",
              "      <td>95.5</td>\n",
              "    </tr>\n",
              "    <tr>\n",
              "      <th>4</th>\n",
              "      <td>Netherlands</td>\n",
              "      <td>87.7</td>\n",
              "    </tr>\n",
              "    <tr>\n",
              "      <th>...</th>\n",
              "      <td>...</td>\n",
              "      <td>...</td>\n",
              "    </tr>\n",
              "    <tr>\n",
              "      <th>182</th>\n",
              "      <td>Burkina Faso</td>\n",
              "      <td>0.9</td>\n",
              "    </tr>\n",
              "    <tr>\n",
              "      <th>183</th>\n",
              "      <td>Burundi</td>\n",
              "      <td>5.3</td>\n",
              "    </tr>\n",
              "    <tr>\n",
              "      <th>184</th>\n",
              "      <td>Chad</td>\n",
              "      <td>1.7</td>\n",
              "    </tr>\n",
              "    <tr>\n",
              "      <th>186</th>\n",
              "      <td>Central African Republic</td>\n",
              "      <td>10.1</td>\n",
              "    </tr>\n",
              "    <tr>\n",
              "      <th>187</th>\n",
              "      <td>Niger</td>\n",
              "      <td>2.4</td>\n",
              "    </tr>\n",
              "  </tbody>\n",
              "</table>\n",
              "<p>159 rows × 2 columns</p>\n",
              "</div>\n",
              "      <button class=\"colab-df-convert\" onclick=\"convertToInteractive('df-e6d9a9e3-7f49-46a6-9ab8-f0f0f2502065')\"\n",
              "              title=\"Convert this dataframe to an interactive table.\"\n",
              "              style=\"display:none;\">\n",
              "        \n",
              "  <svg xmlns=\"http://www.w3.org/2000/svg\" height=\"24px\"viewBox=\"0 0 24 24\"\n",
              "       width=\"24px\">\n",
              "    <path d=\"M0 0h24v24H0V0z\" fill=\"none\"/>\n",
              "    <path d=\"M18.56 5.44l.94 2.06.94-2.06 2.06-.94-2.06-.94-.94-2.06-.94 2.06-2.06.94zm-11 1L8.5 8.5l.94-2.06 2.06-.94-2.06-.94L8.5 2.5l-.94 2.06-2.06.94zm10 10l.94 2.06.94-2.06 2.06-.94-2.06-.94-.94-2.06-.94 2.06-2.06.94z\"/><path d=\"M17.41 7.96l-1.37-1.37c-.4-.4-.92-.59-1.43-.59-.52 0-1.04.2-1.43.59L10.3 9.45l-7.72 7.72c-.78.78-.78 2.05 0 2.83L4 21.41c.39.39.9.59 1.41.59.51 0 1.02-.2 1.41-.59l7.78-7.78 2.81-2.81c.8-.78.8-2.07 0-2.86zM5.41 20L4 18.59l7.72-7.72 1.47 1.35L5.41 20z\"/>\n",
              "  </svg>\n",
              "      </button>\n",
              "      \n",
              "  <style>\n",
              "    .colab-df-container {\n",
              "      display:flex;\n",
              "      flex-wrap:wrap;\n",
              "      gap: 12px;\n",
              "    }\n",
              "\n",
              "    .colab-df-convert {\n",
              "      background-color: #E8F0FE;\n",
              "      border: none;\n",
              "      border-radius: 50%;\n",
              "      cursor: pointer;\n",
              "      display: none;\n",
              "      fill: #1967D2;\n",
              "      height: 32px;\n",
              "      padding: 0 0 0 0;\n",
              "      width: 32px;\n",
              "    }\n",
              "\n",
              "    .colab-df-convert:hover {\n",
              "      background-color: #E2EBFA;\n",
              "      box-shadow: 0px 1px 2px rgba(60, 64, 67, 0.3), 0px 1px 3px 1px rgba(60, 64, 67, 0.15);\n",
              "      fill: #174EA6;\n",
              "    }\n",
              "\n",
              "    [theme=dark] .colab-df-convert {\n",
              "      background-color: #3B4455;\n",
              "      fill: #D2E3FC;\n",
              "    }\n",
              "\n",
              "    [theme=dark] .colab-df-convert:hover {\n",
              "      background-color: #434B5C;\n",
              "      box-shadow: 0px 1px 3px 1px rgba(0, 0, 0, 0.15);\n",
              "      filter: drop-shadow(0px 1px 2px rgba(0, 0, 0, 0.3));\n",
              "      fill: #FFFFFF;\n",
              "    }\n",
              "  </style>\n",
              "\n",
              "      <script>\n",
              "        const buttonEl =\n",
              "          document.querySelector('#df-e6d9a9e3-7f49-46a6-9ab8-f0f0f2502065 button.colab-df-convert');\n",
              "        buttonEl.style.display =\n",
              "          google.colab.kernel.accessAllowed ? 'block' : 'none';\n",
              "\n",
              "        async function convertToInteractive(key) {\n",
              "          const element = document.querySelector('#df-e6d9a9e3-7f49-46a6-9ab8-f0f0f2502065');\n",
              "          const dataTable =\n",
              "            await google.colab.kernel.invokeFunction('convertToInteractive',\n",
              "                                                     [key], {});\n",
              "          if (!dataTable) return;\n",
              "\n",
              "          const docLinkHtml = 'Like what you see? Visit the ' +\n",
              "            '<a target=\"_blank\" href=https://colab.research.google.com/notebooks/data_table.ipynb>data table notebook</a>'\n",
              "            + ' to learn more about interactive tables.';\n",
              "          element.innerHTML = '';\n",
              "          dataTable['output_type'] = 'display_data';\n",
              "          await google.colab.output.renderOutput(dataTable, element);\n",
              "          const docLink = document.createElement('div');\n",
              "          docLink.innerHTML = docLinkHtml;\n",
              "          element.appendChild(docLink);\n",
              "        }\n",
              "      </script>\n",
              "    </div>\n",
              "  </div>\n",
              "  "
            ]
          },
          "metadata": {},
          "execution_count": 1709
        }
      ]
    },
    {
      "cell_type": "code",
      "source": [
        "common_female_edu_values = []\n",
        "common_female_edu_values1 = pd.to_numeric(female_edu_1['Population with Secondary Education (Female)'],errors ='coerce')\n",
        "common_female_edu_values1 = common_female_edu_values1.tolist()"
      ],
      "metadata": {
        "id": "VTXodrdCHqVC"
      },
      "execution_count": 1710,
      "outputs": []
    },
    {
      "cell_type": "code",
      "source": [
        "type(common_female_edu_values1)"
      ],
      "metadata": {
        "id": "dX-1dwhxNAQe",
        "colab": {
          "base_uri": "https://localhost:8080/"
        },
        "outputId": "1d32b1e1-ba41-4e03-e1f8-eeb3a9e755b6"
      },
      "execution_count": 1711,
      "outputs": [
        {
          "output_type": "execute_result",
          "data": {
            "text/plain": [
              "list"
            ]
          },
          "metadata": {},
          "execution_count": 1711
        }
      ]
    },
    {
      "cell_type": "code",
      "source": [
        "len(common_female_edu_values1)"
      ],
      "metadata": {
        "colab": {
          "base_uri": "https://localhost:8080/"
        },
        "id": "wSwSEcFZivB8",
        "outputId": "83fd3414-6708-44e3-fea0-3143eb475f5c"
      },
      "execution_count": 1712,
      "outputs": [
        {
          "output_type": "execute_result",
          "data": {
            "text/plain": [
              "159"
            ]
          },
          "metadata": {},
          "execution_count": 1712
        }
      ]
    },
    {
      "cell_type": "code",
      "source": [
        "female_edu_1_countries = female_edu_1['Country']\n",
        "female_edu_1_countries = female_edu_1_countries.tolist()"
      ],
      "metadata": {
        "id": "J275iIsYF_p-"
      },
      "execution_count": 1713,
      "outputs": []
    },
    {
      "cell_type": "code",
      "source": [
        "for i in range(len(common_female_edu_countries)):\n",
        "  if common_female_edu_countries[i] in female_edu_1_countries:\n",
        "    common_female_edu_values.append(common_female_edu_values1[i])"
      ],
      "metadata": {
        "id": "_tXcsc2JHsUc"
      },
      "execution_count": 1714,
      "outputs": []
    },
    {
      "cell_type": "code",
      "source": [
        "len(common_female_edu_values)"
      ],
      "metadata": {
        "id": "n8UAtzpdI8qF",
        "colab": {
          "base_uri": "https://localhost:8080/"
        },
        "outputId": "5cc37fcc-0a7e-4822-fb9a-a4a9d384d043"
      },
      "execution_count": 1715,
      "outputs": [
        {
          "output_type": "execute_result",
          "data": {
            "text/plain": [
              "136"
            ]
          },
          "metadata": {},
          "execution_count": 1715
        }
      ]
    },
    {
      "cell_type": "code",
      "source": [
        "loggdp = np.log(common_countries_gdp)"
      ],
      "metadata": {
        "id": "_mks-vLQTXik"
      },
      "execution_count": 1716,
      "outputs": []
    },
    {
      "cell_type": "markdown",
      "source": [
        "We can see from the histogram that GDP per capita is highly right-skewed, so we use log GDP per capita to make it follow the normal distribution (We ran the Shapiro test on log GDP per capita and got a p-value greater than 0.05)."
      ],
      "metadata": {
        "id": "-zL5PWgHSoJy"
      }
    },
    {
      "cell_type": "code",
      "source": [
        "plt.hist(loggdp)"
      ],
      "metadata": {
        "id": "lbZaPM_PTOpf",
        "colab": {
          "base_uri": "https://localhost:8080/",
          "height": 519
        },
        "outputId": "22d82e93-6100-4a1e-b48c-ed43daca326c"
      },
      "execution_count": 1717,
      "outputs": [
        {
          "output_type": "execute_result",
          "data": {
            "text/plain": [
              "(array([ 3., 10., 18., 14., 23., 22., 12., 24.,  8.,  2.]),\n",
              " array([ 5.66767032,  6.30395965,  6.94024897,  7.5765383 ,  8.21282762,\n",
              "         8.84911695,  9.48540627, 10.1216956 , 10.75798492, 11.39427425,\n",
              "        12.03056357]),\n",
              " <BarContainer object of 10 artists>)"
            ]
          },
          "metadata": {},
          "execution_count": 1717
        },
        {
          "output_type": "display_data",
          "data": {
            "text/plain": [
              "<Figure size 640x480 with 1 Axes>"
            ],
            "image/png": "[encoded data removed]"
          },
          "metadata": {}
        }
      ]
    },
    {
      "cell_type": "code",
      "source": [
        "st.shapiro(loggdp)"
      ],
      "metadata": {
        "id": "jK_8sC1dTfKq",
        "colab": {
          "base_uri": "https://localhost:8080/"
        },
        "outputId": "cb528df6-3302-4b48-8f01-dfb922e9cd79"
      },
      "execution_count": 1718,
      "outputs": [
        {
          "output_type": "execute_result",
          "data": {
            "text/plain": [
              "ShapiroResult(statistic=0.980697751045227, pvalue=0.05091463774442673)"
            ]
          },
          "metadata": {},
          "execution_count": 1718
        }
      ]
    },
    {
      "cell_type": "code",
      "source": [
        "# female_labour_new = female_labour.replace([np.inf, -np.inf], np.nan)\n",
        "# female_labour_new.dropna(inplace=True)"
      ],
      "metadata": {
        "id": "YNfRfzCPHBNB"
      },
      "execution_count": 1719,
      "outputs": []
    },
    {
      "cell_type": "code",
      "source": [
        "female_labour_1 = data.loc[:,['Country','Labour Force Participation Rate (Female)']]\n",
        "female_labour_1 = female_labour_1.dropna()"
      ],
      "metadata": {
        "id": "dpZci-kUJPog"
      },
      "execution_count": 1720,
      "outputs": []
    },
    {
      "cell_type": "code",
      "source": [
        "female_labour_countries = female_labour_1['Country']\n",
        "female_labour_countries = female_labour_countries.tolist()"
      ],
      "metadata": {
        "id": "3J00UkqmLhsv"
      },
      "execution_count": 1721,
      "outputs": []
    },
    {
      "cell_type": "code",
      "source": [
        "common_female_labour_countries = []"
      ],
      "metadata": {
        "id": "Xct8m_rEJjx9"
      },
      "execution_count": 1722,
      "outputs": []
    },
    {
      "cell_type": "code",
      "source": [
        "for i in range(len(female_labour_countries)):\n",
        "  if female_labour_countries[i] in common_countries:\n",
        "     common_female_labour_countries.append(female_labour_countries[i])"
      ],
      "metadata": {
        "id": "Xu1-pG-9JqXp"
      },
      "execution_count": 1723,
      "outputs": []
    },
    {
      "cell_type": "code",
      "source": [
        "common_female_labour_values = []\n",
        "common_female_labour_values1 = pd.to_numeric(female_labour_1['Labour Force Participation Rate (Female)'],errors ='coerce')\n",
        "common_female_labour_values1 = common_female_labour_values1.tolist()"
      ],
      "metadata": {
        "id": "_9JsvkpbJymh"
      },
      "execution_count": 1724,
      "outputs": []
    },
    {
      "cell_type": "code",
      "source": [
        "female_labour_1_countries = female_labour_1['Country']\n",
        "female_labour_1_countries = female_labour_1_countries.tolist()"
      ],
      "metadata": {
        "id": "-Dj7H4IoKLhU"
      },
      "execution_count": 1725,
      "outputs": []
    },
    {
      "cell_type": "code",
      "source": [
        "for i in range(len(common_female_labour_countries)):\n",
        "  if common_female_labour_countries[i] in female_labour_1_countries:\n",
        "    common_female_labour_values.append(common_female_labour_values1[i])"
      ],
      "metadata": {
        "id": "V7tda_oDKfQ1"
      },
      "execution_count": 1726,
      "outputs": []
    },
    {
      "cell_type": "code",
      "source": [
        "len(common_female_labour_values)"
      ],
      "metadata": {
        "colab": {
          "base_uri": "https://localhost:8080/"
        },
        "id": "phgSy_NEL41n",
        "outputId": "bbe34113-a7c8-494c-d95a-e8a4502c8180"
      },
      "execution_count": 1727,
      "outputs": [
        {
          "output_type": "execute_result",
          "data": {
            "text/plain": [
              "136"
            ]
          },
          "metadata": {},
          "execution_count": 1727
        }
      ]
    },
    {
      "cell_type": "code",
      "source": [
        "# for i in range(len(common_female_edu_values)):\n",
        "#   if str(common_female_edu_values[i]) == \"nan\":\n",
        "#     common_female_edu_values[i] = 0"
      ],
      "metadata": {
        "id": "cT1S8r-XsJIJ"
      },
      "execution_count": 1729,
      "outputs": []
    },
    {
      "cell_type": "code",
      "source": [
        "# count = 0"
      ],
      "metadata": {
        "id": "AvFc9j4kv2k-"
      },
      "execution_count": 1730,
      "outputs": []
    },
    {
      "cell_type": "code",
      "source": [
        "# for i in range(len(common_female_edu_values)):\n",
        "#   if common_female_edu_values[i] == 0:\n",
        "#     count += 1"
      ],
      "metadata": {
        "id": "mMe6uBLLv3dr"
      },
      "execution_count": 1731,
      "outputs": []
    },
    {
      "cell_type": "code",
      "source": [
        "len(common_female_edu_values)"
      ],
      "metadata": {
        "colab": {
          "base_uri": "https://localhost:8080/"
        },
        "id": "yFz8LFIMv60O",
        "outputId": "124e09ca-80b6-48b8-8da3-4c6f914750cc"
      },
      "execution_count": 1732,
      "outputs": [
        {
          "output_type": "execute_result",
          "data": {
            "text/plain": [
              "136"
            ]
          },
          "metadata": {},
          "execution_count": 1732
        }
      ]
    },
    {
      "cell_type": "code",
      "source": [
        "# dem =0\n",
        "# i = 0"
      ],
      "metadata": {
        "id": "0bz69ai0wgwo"
      },
      "execution_count": 1733,
      "outputs": []
    },
    {
      "cell_type": "code",
      "source": [
        "# while dem < 21:\n",
        "#   if common_female_edu_values[i] == 0:\n",
        "#     common_female_edu_values.remove(common_female_edu_values[i])\n",
        "#     dem += 1\n",
        "#   else:\n",
        "#     i += 1"
      ],
      "metadata": {
        "id": "qlS6NKwWwRhO"
      },
      "execution_count": 1734,
      "outputs": []
    },
    {
      "cell_type": "code",
      "execution_count": 1738,
      "metadata": {
        "id": "8Z7e27Hr1AbO",
        "colab": {
          "base_uri": "https://localhost:8080/"
        },
        "outputId": "5fd7c6ec-be68-4f87-c7b7-1c1f3ead984b"
      },
      "outputs": [
        {
          "output_type": "stream",
          "name": "stdout",
          "text": [
            "                    Robust linear Model Regression Results                    \n",
            "==============================================================================\n",
            "Dep. Variable:                      y   No. Observations:                  136\n",
            "Model:                            RLM   Df Residuals:                      132\n",
            "Method:                          IRLS   Df Model:                            3\n",
            "Norm:                          HuberT                                         \n",
            "Scale Est.:                       mad                                         \n",
            "Cov Type:                          H1                                         \n",
            "Date:                Fri, 19 May 2023                                         \n",
            "Time:                        07:05:08                                         \n",
            "No. Iterations:                    24                                         \n",
            "==============================================================================\n",
            "                 coef    std err          z      P>|z|      [0.025      0.975]\n",
            "------------------------------------------------------------------------------\n",
            "const         54.8276     42.733      1.283      0.199     -28.927     138.582\n",
            "x1             0.0966      0.046      2.101      0.036       0.006       0.187\n",
            "x2            -2.1353      9.822     -0.217      0.828     -21.386      17.115\n",
            "x3             0.1068      0.556      0.192      0.848      -0.982       1.196\n",
            "==============================================================================\n",
            "\n",
            "If the model instance has been used for another fit with different fit parameters, then the fit options might not be the correct ones anymore .\n"
          ]
        }
      ],
      "source": [
        "import statsmodels.api as sm\n",
        "loggdp = np.log(common_countries_gdp)\n",
        "X = np.column_stack((common_female_edu_values, loggdp, loggdp**2))\n",
        "X = sm.add_constant(X)\n",
        "model1 = sm.RLM(common_female_labour_values,X) # model1 = sm.RLM(logincome,X) # robust model\n",
        "reg1 = model1.fit()\n",
        "print(reg1.summary())"
      ]
    },
    {
      "cell_type": "code",
      "source": [
        "x1 = np.linspace(5, 13, 1)\n",
        "plt.plot(reg1.fittedvalues)"
      ],
      "metadata": {
        "colab": {
          "base_uri": "https://localhost:8080/",
          "height": 447
        },
        "id": "FW9DU9fa2hcm",
        "outputId": "55420018-7ccd-4efa-fc50-654d8def3119"
      },
      "execution_count": 1747,
      "outputs": [
        {
          "output_type": "execute_result",
          "data": {
            "text/plain": [
              "[<matplotlib.lines.Line2D at 0x7f023406b280>]"
            ]
          },
          "metadata": {},
          "execution_count": 1747
        },
        {
          "output_type": "display_data",
          "data": {
            "text/plain": [
              "<Figure size 640x480 with 1 Axes>"
            ],
            "image/png": "[encoded data removed]"
          },
          "metadata": {}
        }
      ]
    },
    {
      "cell_type": "code",
      "source": [
        "# np.any(~np.isfinite(common_female_labour_values),axis=0)"
      ],
      "metadata": {
        "id": "4CLhAcf3LI8M"
      },
      "execution_count": 1739,
      "outputs": []
    },
    {
      "cell_type": "markdown",
      "source": [
        "#References"
      ],
      "metadata": {
        "id": "wCtqXecKmU-e"
      }
    },
    {
      "cell_type": "markdown",
      "source": [
        "GDP per capita (current US$). World Bank Open Data. (n.d.). https://data.worldbank.org/indicator/NY.GDP.PCAP.CD \n",
        "\n",
        "Mammen, K., & Paxson, C. (2000). Women's work and economic development. Journal of economic perspectives, 14(4), 141-164.\n",
        "\n",
        "Program, U. N. D. (2017, January 25). Human development report 2015. Kaggle. https://www.kaggle.com/datasets/undp/human-development?select=gender_development.csv"
      ],
      "metadata": {
        "id": "BmrwZE4rpDhm"
      }
    }
  ],
  "metadata": {
    "colab": {
      "provenance": [],
      "toc_visible": true,
      "include_colab_link": true
    },
    "kernelspec": {
      "display_name": "Python 3",
      "name": "python3"
    },
    "language_info": {
      "name": "python"
    }
  },
  "nbformat": 4,
  "nbformat_minor": 0
}