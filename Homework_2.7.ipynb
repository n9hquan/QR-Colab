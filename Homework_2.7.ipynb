{
  "nbformat": 4,
  "nbformat_minor": 0,
  "metadata": {
    "colab": {
      "provenance": [],
      "authorship_tag": "ABX9TyMozi5BamsN3deR5yLSPE/w",
      "include_colab_link": true
    },
    "kernelspec": {
      "name": "python3",
      "display_name": "Python 3"
    },
    "language_info": {
      "name": "python"
    }
  },
  "cells": [
    {
      "cell_type": "markdown",
      "metadata": {
        "id": "view-in-github",
        "colab_type": "text"
      },
      "source": [
        "<a href=\"https://colab.research.google.com/github/n9hquan/QR103/blob/main/Homework_2.7.ipynb\" target=\"_parent\"><img src=\"https://colab.research.google.com/assets/colab-badge.svg\" alt=\"Open In Colab\"/></a>"
      ]
    },
    {
      "cell_type": "code",
      "execution_count": 1,
      "metadata": {
        "id": "0hE0j6NWfgfD"
      },
      "outputs": [],
      "source": [
        "import pandas as pd\n",
        "import matplotlib.pyplot as plt\n",
        "import numpy as np\n",
        "import scipy.stats as st\n",
        "\n",
        "from google.colab import files\n",
        "import io"
      ]
    },
    {
      "cell_type": "code",
      "source": [
        "uploaded = files.upload()\n",
        "data = pd.read_csv(io.BytesIO(uploaded[\"gender_inequality.csv\"]))"
      ],
      "metadata": {
        "colab": {
          "base_uri": "https://localhost:8080/",
          "height": 73
        },
        "id": "pXxDkbeefjbN",
        "outputId": "dbd1ebc9-1f74-4653-bc1c-c0a07640e9b6"
      },
      "execution_count": 28,
      "outputs": [
        {
          "output_type": "display_data",
          "data": {
            "text/plain": [
              "<IPython.core.display.HTML object>"
            ],
            "text/html": [
              "\n",
              "     <input type=\"file\" id=\"files-ba47285d-55de-47b3-ba98-e02d05ba8927\" name=\"files[]\" multiple disabled\n",
              "        style=\"border:none\" />\n",
              "     <output id=\"result-ba47285d-55de-47b3-ba98-e02d05ba8927\">\n",
              "      Upload widget is only available when the cell has been executed in the\n",
              "      current browser session. Please rerun this cell to enable.\n",
              "      </output>\n",
              "      <script>// Copyright 2017 Google LLC\n",
              "//\n",
              "// Licensed under the Apache License, Version 2.0 (the \"License\");\n",
              "// you may not use this file except in compliance with the License.\n",
              "// You may obtain a copy of the License at\n",
              "//\n",
              "//      http://www.apache.org/licenses/LICENSE-2.0\n",
              "//\n",
              "// Unless required by applicable law or agreed to in writing, software\n",
              "// distributed under the License is distributed on an \"AS IS\" BASIS,\n",
              "// WITHOUT WARRANTIES OR CONDITIONS OF ANY KIND, either express or implied.\n",
              "// See the License for the specific language governing permissions and\n",
              "// limitations under the License.\n",
              "\n",
              "/**\n",
              " * @fileoverview Helpers for google.colab Python module.\n",
              " */\n",
              "(function(scope) {\n",
              "function span(text, styleAttributes = {}) {\n",
              "  const element = document.createElement('span');\n",
              "  element.textContent = text;\n",
              "  for (const key of Object.keys(styleAttributes)) {\n",
              "    element.style[key] = styleAttributes[key];\n",
              "  }\n",
              "  return element;\n",
              "}\n",
              "\n",
              "// Max number of bytes which will be uploaded at a time.\n",
              "const MAX_PAYLOAD_SIZE = 100 * 1024;\n",
              "\n",
              "function _uploadFiles(inputId, outputId) {\n",
              "  const steps = uploadFilesStep(inputId, outputId);\n",
              "  const outputElement = document.getElementById(outputId);\n",
              "  // Cache steps on the outputElement to make it available for the next call\n",
              "  // to uploadFilesContinue from Python.\n",
              "  outputElement.steps = steps;\n",
              "\n",
              "  return _uploadFilesContinue(outputId);\n",
              "}\n",
              "\n",
              "// This is roughly an async generator (not supported in the browser yet),\n",
              "// where there are multiple asynchronous steps and the Python side is going\n",
              "// to poll for completion of each step.\n",
              "// This uses a Promise to block the python side on completion of each step,\n",
              "// then passes the result of the previous step as the input to the next step.\n",
              "function _uploadFilesContinue(outputId) {\n",
              "  const outputElement = document.getElementById(outputId);\n",
              "  const steps = outputElement.steps;\n",
              "\n",
              "  const next = steps.next(outputElement.lastPromiseValue);\n",
              "  return Promise.resolve(next.value.promise).then((value) => {\n",
              "    // Cache the last promise value to make it available to the next\n",
              "    // step of the generator.\n",
              "    outputElement.lastPromiseValue = value;\n",
              "    return next.value.response;\n",
              "  });\n",
              "}\n",
              "\n",
              "/**\n",
              " * Generator function which is called between each async step of the upload\n",
              " * process.\n",
              " * @param {string} inputId Element ID of the input file picker element.\n",
              " * @param {string} outputId Element ID of the output display.\n",
              " * @return {!Iterable<!Object>} Iterable of next steps.\n",
              " */\n",
              "function* uploadFilesStep(inputId, outputId) {\n",
              "  const inputElement = document.getElementById(inputId);\n",
              "  inputElement.disabled = false;\n",
              "\n",
              "  const outputElement = document.getElementById(outputId);\n",
              "  outputElement.innerHTML = '';\n",
              "\n",
              "  const pickedPromise = new Promise((resolve) => {\n",
              "    inputElement.addEventListener('change', (e) => {\n",
              "      resolve(e.target.files);\n",
              "    });\n",
              "  });\n",
              "\n",
              "  const cancel = document.createElement('button');\n",
              "  inputElement.parentElement.appendChild(cancel);\n",
              "  cancel.textContent = 'Cancel upload';\n",
              "  const cancelPromise = new Promise((resolve) => {\n",
              "    cancel.onclick = () => {\n",
              "      resolve(null);\n",
              "    };\n",
              "  });\n",
              "\n",
              "  // Wait for the user to pick the files.\n",
              "  const files = yield {\n",
              "    promise: Promise.race([pickedPromise, cancelPromise]),\n",
              "    response: {\n",
              "      action: 'starting',\n",
              "    }\n",
              "  };\n",
              "\n",
              "  cancel.remove();\n",
              "\n",
              "  // Disable the input element since further picks are not allowed.\n",
              "  inputElement.disabled = true;\n",
              "\n",
              "  if (!files) {\n",
              "    return {\n",
              "      response: {\n",
              "        action: 'complete',\n",
              "      }\n",
              "    };\n",
              "  }\n",
              "\n",
              "  for (const file of files) {\n",
              "    const li = document.createElement('li');\n",
              "    li.append(span(file.name, {fontWeight: 'bold'}));\n",
              "    li.append(span(\n",
              "        `(${file.type || 'n/a'}) - ${file.size} bytes, ` +\n",
              "        `last modified: ${\n",
              "            file.lastModifiedDate ? file.lastModifiedDate.toLocaleDateString() :\n",
              "                                    'n/a'} - `));\n",
              "    const percent = span('0% done');\n",
              "    li.appendChild(percent);\n",
              "\n",
              "    outputElement.appendChild(li);\n",
              "\n",
              "    const fileDataPromise = new Promise((resolve) => {\n",
              "      const reader = new FileReader();\n",
              "      reader.onload = (e) => {\n",
              "        resolve(e.target.result);\n",
              "      };\n",
              "      reader.readAsArrayBuffer(file);\n",
              "    });\n",
              "    // Wait for the data to be ready.\n",
              "    let fileData = yield {\n",
              "      promise: fileDataPromise,\n",
              "      response: {\n",
              "        action: 'continue',\n",
              "      }\n",
              "    };\n",
              "\n",
              "    // Use a chunked sending to avoid message size limits. See b/62115660.\n",
              "    let position = 0;\n",
              "    do {\n",
              "      const length = Math.min(fileData.byteLength - position, MAX_PAYLOAD_SIZE);\n",
              "      const chunk = new Uint8Array(fileData, position, length);\n",
              "      position += length;\n",
              "\n",
              "      const base64 = btoa(String.fromCharCode.apply(null, chunk));\n",
              "      yield {\n",
              "        response: {\n",
              "          action: 'append',\n",
              "          file: file.name,\n",
              "          data: base64,\n",
              "        },\n",
              "      };\n",
              "\n",
              "      let percentDone = fileData.byteLength === 0 ?\n",
              "          100 :\n",
              "          Math.round((position / fileData.byteLength) * 100);\n",
              "      percent.textContent = `${percentDone}% done`;\n",
              "\n",
              "    } while (position < fileData.byteLength);\n",
              "  }\n",
              "\n",
              "  // All done.\n",
              "  yield {\n",
              "    response: {\n",
              "      action: 'complete',\n",
              "    }\n",
              "  };\n",
              "}\n",
              "\n",
              "scope.google = scope.google || {};\n",
              "scope.google.colab = scope.google.colab || {};\n",
              "scope.google.colab._files = {\n",
              "  _uploadFiles,\n",
              "  _uploadFilesContinue,\n",
              "};\n",
              "})(self);\n",
              "</script> "
            ]
          },
          "metadata": {}
        },
        {
          "output_type": "stream",
          "name": "stdout",
          "text": [
            "Saving gender_inequality.csv to gender_inequality (1).csv\n"
          ]
        }
      ]
    },
    {
      "cell_type": "code",
      "source": [
        "data"
      ],
      "metadata": {
        "colab": {
          "base_uri": "https://localhost:8080/",
          "height": 589
        },
        "id": "9KFahDjGg_k5",
        "outputId": "37129ca6-c0bb-4b71-f345-667a79b7bbb6"
      },
      "execution_count": 29,
      "outputs": [
        {
          "output_type": "execute_result",
          "data": {
            "text/plain": [
              "     GII Rank                          Country Gender Inequality Index (GII)  \\\n",
              "0         1.0                           Norway                         0.067   \n",
              "1         2.0                        Australia                          0.11   \n",
              "2         3.0                      Switzerland                         0.028   \n",
              "3         4.0                          Denmark                         0.048   \n",
              "4         5.0                      Netherlands                         0.062   \n",
              "..        ...                              ...                           ...   \n",
              "190       NaN          Europe and Central Asia                           0.3   \n",
              "191       NaN  Latin America and the Caribbean                         0.415   \n",
              "192       NaN                       South Asia                         0.536   \n",
              "193       NaN               Sub-Saharan Africa                         0.575   \n",
              "194       NaN                            World                         0.449   \n",
              "\n",
              "    Maternal Mortality Ratio Adolescent Birth Rate  \\\n",
              "0                          4                   7.8   \n",
              "1                          6                  12.1   \n",
              "2                          6                   1.9   \n",
              "3                          5                   5.1   \n",
              "4                          6                   6.2   \n",
              "..                       ...                   ...   \n",
              "190                       28                  30.8   \n",
              "191                       85                  68.3   \n",
              "192                      183                  38.7   \n",
              "193                      506                 109.7   \n",
              "194                      210                  47.4   \n",
              "\n",
              "    Percent Representation in Parliament  \\\n",
              "0                                   39.6   \n",
              "1                                   30.5   \n",
              "2                                   28.5   \n",
              "3                                     38   \n",
              "4                                   36.9   \n",
              "..                                   ...   \n",
              "190                                   19   \n",
              "191                                   27   \n",
              "192                                 17.5   \n",
              "193                                 22.5   \n",
              "194                                 21.8   \n",
              "\n",
              "    Population with Secondary Education (Female)  \\\n",
              "0                                           97.4   \n",
              "1                                           94.3   \n",
              "2                                             95   \n",
              "3                                           95.5   \n",
              "4                                           87.7   \n",
              "..                                           ...   \n",
              "190                                         70.8   \n",
              "191                                         54.3   \n",
              "192                                         29.1   \n",
              "193                                         22.1   \n",
              "194                                         54.5   \n",
              "\n",
              "    Population with Secondary Education (Male)  \\\n",
              "0                                         96.7   \n",
              "1                                         94.6   \n",
              "2                                         96.6   \n",
              "3                                         96.6   \n",
              "4                                         90.5   \n",
              "..                                         ...   \n",
              "190                                       80.6   \n",
              "191                                       55.2   \n",
              "192                                       54.6   \n",
              "193                                       31.5   \n",
              "194                                       65.4   \n",
              "\n",
              "    Labour Force Participation Rate (Female)  \\\n",
              "0                                       61.2   \n",
              "1                                       58.8   \n",
              "2                                       61.8   \n",
              "3                                       58.7   \n",
              "4                                       58.5   \n",
              "..                                       ...   \n",
              "190                                     45.6   \n",
              "191                                     53.7   \n",
              "192                                     29.8   \n",
              "193                                     65.4   \n",
              "194                                     50.3   \n",
              "\n",
              "    Labour Force Participation Rate (Male)  \n",
              "0                                     68.7  \n",
              "1                                     71.8  \n",
              "2                                     74.9  \n",
              "3                                     66.4  \n",
              "4                                     70.6  \n",
              "..                                     ...  \n",
              "190                                     70  \n",
              "191                                   79.8  \n",
              "192                                   80.3  \n",
              "193                                   76.6  \n",
              "194                                   76.7  \n",
              "\n",
              "[195 rows x 10 columns]"
            ],
            "text/html": [
              "\n",
              "  <div id=\"df-166192c9-8470-42e5-af99-d877418b339d\">\n",
              "    <div class=\"colab-df-container\">\n",
              "      <div>\n",
              "<style scoped>\n",
              "    .dataframe tbody tr th:only-of-type {\n",
              "        vertical-align: middle;\n",
              "    }\n",
              "\n",
              "    .dataframe tbody tr th {\n",
              "        vertical-align: top;\n",
              "    }\n",
              "\n",
              "    .dataframe thead th {\n",
              "        text-align: right;\n",
              "    }\n",
              "</style>\n",
              "<table border=\"1\" class=\"dataframe\">\n",
              "  <thead>\n",
              "    <tr style=\"text-align: right;\">\n",
              "      <th></th>\n",
              "      <th>GII Rank</th>\n",
              "      <th>Country</th>\n",
              "      <th>Gender Inequality Index (GII)</th>\n",
              "      <th>Maternal Mortality Ratio</th>\n",
              "      <th>Adolescent Birth Rate</th>\n",
              "      <th>Percent Representation in Parliament</th>\n",
              "      <th>Population with Secondary Education (Female)</th>\n",
              "      <th>Population with Secondary Education (Male)</th>\n",
              "      <th>Labour Force Participation Rate (Female)</th>\n",
              "      <th>Labour Force Participation Rate (Male)</th>\n",
              "    </tr>\n",
              "  </thead>\n",
              "  <tbody>\n",
              "    <tr>\n",
              "      <th>0</th>\n",
              "      <td>1.0</td>\n",
              "      <td>Norway</td>\n",
              "      <td>0.067</td>\n",
              "      <td>4</td>\n",
              "      <td>7.8</td>\n",
              "      <td>39.6</td>\n",
              "      <td>97.4</td>\n",
              "      <td>96.7</td>\n",
              "      <td>61.2</td>\n",
              "      <td>68.7</td>\n",
              "    </tr>\n",
              "    <tr>\n",
              "      <th>1</th>\n",
              "      <td>2.0</td>\n",
              "      <td>Australia</td>\n",
              "      <td>0.11</td>\n",
              "      <td>6</td>\n",
              "      <td>12.1</td>\n",
              "      <td>30.5</td>\n",
              "      <td>94.3</td>\n",
              "      <td>94.6</td>\n",
              "      <td>58.8</td>\n",
              "      <td>71.8</td>\n",
              "    </tr>\n",
              "    <tr>\n",
              "      <th>2</th>\n",
              "      <td>3.0</td>\n",
              "      <td>Switzerland</td>\n",
              "      <td>0.028</td>\n",
              "      <td>6</td>\n",
              "      <td>1.9</td>\n",
              "      <td>28.5</td>\n",
              "      <td>95</td>\n",
              "      <td>96.6</td>\n",
              "      <td>61.8</td>\n",
              "      <td>74.9</td>\n",
              "    </tr>\n",
              "    <tr>\n",
              "      <th>3</th>\n",
              "      <td>4.0</td>\n",
              "      <td>Denmark</td>\n",
              "      <td>0.048</td>\n",
              "      <td>5</td>\n",
              "      <td>5.1</td>\n",
              "      <td>38</td>\n",
              "      <td>95.5</td>\n",
              "      <td>96.6</td>\n",
              "      <td>58.7</td>\n",
              "      <td>66.4</td>\n",
              "    </tr>\n",
              "    <tr>\n",
              "      <th>4</th>\n",
              "      <td>5.0</td>\n",
              "      <td>Netherlands</td>\n",
              "      <td>0.062</td>\n",
              "      <td>6</td>\n",
              "      <td>6.2</td>\n",
              "      <td>36.9</td>\n",
              "      <td>87.7</td>\n",
              "      <td>90.5</td>\n",
              "      <td>58.5</td>\n",
              "      <td>70.6</td>\n",
              "    </tr>\n",
              "    <tr>\n",
              "      <th>...</th>\n",
              "      <td>...</td>\n",
              "      <td>...</td>\n",
              "      <td>...</td>\n",
              "      <td>...</td>\n",
              "      <td>...</td>\n",
              "      <td>...</td>\n",
              "      <td>...</td>\n",
              "      <td>...</td>\n",
              "      <td>...</td>\n",
              "      <td>...</td>\n",
              "    </tr>\n",
              "    <tr>\n",
              "      <th>190</th>\n",
              "      <td>NaN</td>\n",
              "      <td>Europe and Central Asia</td>\n",
              "      <td>0.3</td>\n",
              "      <td>28</td>\n",
              "      <td>30.8</td>\n",
              "      <td>19</td>\n",
              "      <td>70.8</td>\n",
              "      <td>80.6</td>\n",
              "      <td>45.6</td>\n",
              "      <td>70</td>\n",
              "    </tr>\n",
              "    <tr>\n",
              "      <th>191</th>\n",
              "      <td>NaN</td>\n",
              "      <td>Latin America and the Caribbean</td>\n",
              "      <td>0.415</td>\n",
              "      <td>85</td>\n",
              "      <td>68.3</td>\n",
              "      <td>27</td>\n",
              "      <td>54.3</td>\n",
              "      <td>55.2</td>\n",
              "      <td>53.7</td>\n",
              "      <td>79.8</td>\n",
              "    </tr>\n",
              "    <tr>\n",
              "      <th>192</th>\n",
              "      <td>NaN</td>\n",
              "      <td>South Asia</td>\n",
              "      <td>0.536</td>\n",
              "      <td>183</td>\n",
              "      <td>38.7</td>\n",
              "      <td>17.5</td>\n",
              "      <td>29.1</td>\n",
              "      <td>54.6</td>\n",
              "      <td>29.8</td>\n",
              "      <td>80.3</td>\n",
              "    </tr>\n",
              "    <tr>\n",
              "      <th>193</th>\n",
              "      <td>NaN</td>\n",
              "      <td>Sub-Saharan Africa</td>\n",
              "      <td>0.575</td>\n",
              "      <td>506</td>\n",
              "      <td>109.7</td>\n",
              "      <td>22.5</td>\n",
              "      <td>22.1</td>\n",
              "      <td>31.5</td>\n",
              "      <td>65.4</td>\n",
              "      <td>76.6</td>\n",
              "    </tr>\n",
              "    <tr>\n",
              "      <th>194</th>\n",
              "      <td>NaN</td>\n",
              "      <td>World</td>\n",
              "      <td>0.449</td>\n",
              "      <td>210</td>\n",
              "      <td>47.4</td>\n",
              "      <td>21.8</td>\n",
              "      <td>54.5</td>\n",
              "      <td>65.4</td>\n",
              "      <td>50.3</td>\n",
              "      <td>76.7</td>\n",
              "    </tr>\n",
              "  </tbody>\n",
              "</table>\n",
              "<p>195 rows × 10 columns</p>\n",
              "</div>\n",
              "      <button class=\"colab-df-convert\" onclick=\"convertToInteractive('df-166192c9-8470-42e5-af99-d877418b339d')\"\n",
              "              title=\"Convert this dataframe to an interactive table.\"\n",
              "              style=\"display:none;\">\n",
              "        \n",
              "  <svg xmlns=\"http://www.w3.org/2000/svg\" height=\"24px\"viewBox=\"0 0 24 24\"\n",
              "       width=\"24px\">\n",
              "    <path d=\"M0 0h24v24H0V0z\" fill=\"none\"/>\n",
              "    <path d=\"M18.56 5.44l.94 2.06.94-2.06 2.06-.94-2.06-.94-.94-2.06-.94 2.06-2.06.94zm-11 1L8.5 8.5l.94-2.06 2.06-.94-2.06-.94L8.5 2.5l-.94 2.06-2.06.94zm10 10l.94 2.06.94-2.06 2.06-.94-2.06-.94-.94-2.06-.94 2.06-2.06.94z\"/><path d=\"M17.41 7.96l-1.37-1.37c-.4-.4-.92-.59-1.43-.59-.52 0-1.04.2-1.43.59L10.3 9.45l-7.72 7.72c-.78.78-.78 2.05 0 2.83L4 21.41c.39.39.9.59 1.41.59.51 0 1.02-.2 1.41-.59l7.78-7.78 2.81-2.81c.8-.78.8-2.07 0-2.86zM5.41 20L4 18.59l7.72-7.72 1.47 1.35L5.41 20z\"/>\n",
              "  </svg>\n",
              "      </button>\n",
              "      \n",
              "  <style>\n",
              "    .colab-df-container {\n",
              "      display:flex;\n",
              "      flex-wrap:wrap;\n",
              "      gap: 12px;\n",
              "    }\n",
              "\n",
              "    .colab-df-convert {\n",
              "      background-color: #E8F0FE;\n",
              "      border: none;\n",
              "      border-radius: 50%;\n",
              "      cursor: pointer;\n",
              "      display: none;\n",
              "      fill: #1967D2;\n",
              "      height: 32px;\n",
              "      padding: 0 0 0 0;\n",
              "      width: 32px;\n",
              "    }\n",
              "\n",
              "    .colab-df-convert:hover {\n",
              "      background-color: #E2EBFA;\n",
              "      box-shadow: 0px 1px 2px rgba(60, 64, 67, 0.3), 0px 1px 3px 1px rgba(60, 64, 67, 0.15);\n",
              "      fill: #174EA6;\n",
              "    }\n",
              "\n",
              "    [theme=dark] .colab-df-convert {\n",
              "      background-color: #3B4455;\n",
              "      fill: #D2E3FC;\n",
              "    }\n",
              "\n",
              "    [theme=dark] .colab-df-convert:hover {\n",
              "      background-color: #434B5C;\n",
              "      box-shadow: 0px 1px 3px 1px rgba(0, 0, 0, 0.15);\n",
              "      filter: drop-shadow(0px 1px 2px rgba(0, 0, 0, 0.3));\n",
              "      fill: #FFFFFF;\n",
              "    }\n",
              "  </style>\n",
              "\n",
              "      <script>\n",
              "        const buttonEl =\n",
              "          document.querySelector('#df-166192c9-8470-42e5-af99-d877418b339d button.colab-df-convert');\n",
              "        buttonEl.style.display =\n",
              "          google.colab.kernel.accessAllowed ? 'block' : 'none';\n",
              "\n",
              "        async function convertToInteractive(key) {\n",
              "          const element = document.querySelector('#df-166192c9-8470-42e5-af99-d877418b339d');\n",
              "          const dataTable =\n",
              "            await google.colab.kernel.invokeFunction('convertToInteractive',\n",
              "                                                     [key], {});\n",
              "          if (!dataTable) return;\n",
              "\n",
              "          const docLinkHtml = 'Like what you see? Visit the ' +\n",
              "            '<a target=\"_blank\" href=https://colab.research.google.com/notebooks/data_table.ipynb>data table notebook</a>'\n",
              "            + ' to learn more about interactive tables.';\n",
              "          element.innerHTML = '';\n",
              "          dataTable['output_type'] = 'display_data';\n",
              "          await google.colab.output.renderOutput(dataTable, element);\n",
              "          const docLink = document.createElement('div');\n",
              "          docLink.innerHTML = docLinkHtml;\n",
              "          element.appendChild(docLink);\n",
              "        }\n",
              "      </script>\n",
              "    </div>\n",
              "  </div>\n",
              "  "
            ]
          },
          "metadata": {},
          "execution_count": 29
        }
      ]
    },
    {
      "cell_type": "code",
      "source": [
        "data.columns"
      ],
      "metadata": {
        "colab": {
          "base_uri": "https://localhost:8080/"
        },
        "id": "qcZr8I75hcef",
        "outputId": "ac42dcfb-5c57-4d09-a1b9-69da8f82070e"
      },
      "execution_count": 30,
      "outputs": [
        {
          "output_type": "execute_result",
          "data": {
            "text/plain": [
              "Index(['GII Rank', 'Country', 'Gender Inequality Index (GII)',\n",
              "       'Maternal Mortality Ratio', 'Adolescent Birth Rate',\n",
              "       'Percent Representation in Parliament',\n",
              "       'Population with Secondary Education (Female)',\n",
              "       'Population with Secondary Education (Male)',\n",
              "       'Labour Force Participation Rate (Female)',\n",
              "       'Labour Force Participation Rate (Male)'],\n",
              "      dtype='object')"
            ]
          },
          "metadata": {},
          "execution_count": 30
        }
      ]
    },
    {
      "cell_type": "code",
      "source": [
        "# female_edu_US = data[data['Country'] == 'United States']['Population with Secondary Education (Female)']\n",
        "female_edu_world = data['Population with Secondary Education (Female)']\n",
        "female_edu_world"
      ],
      "metadata": {
        "colab": {
          "base_uri": "https://localhost:8080/"
        },
        "id": "Ouku65jkkv0p",
        "outputId": "ef3ab2a4-adae-40d5-ac46-b13199f9873d"
      },
      "execution_count": 44,
      "outputs": [
        {
          "output_type": "execute_result",
          "data": {
            "text/plain": [
              "0      97.4\n",
              "1      94.3\n",
              "2        95\n",
              "3      95.5\n",
              "4      87.7\n",
              "       ... \n",
              "190    70.8\n",
              "191    54.3\n",
              "192    29.1\n",
              "193    22.1\n",
              "194    54.5\n",
              "Name: Population with Secondary Education (Female), Length: 195, dtype: object"
            ]
          },
          "metadata": {},
          "execution_count": 44
        }
      ]
    },
    {
      "cell_type": "code",
      "source": [
        "# male_edu_US = data[data['Country'] == 'United States']['Population with Secondary Education (Male)']\n",
        "male_edu_world = data['Population with Secondary Education (Male)']\n",
        "male_edu_world"
      ],
      "metadata": {
        "colab": {
          "base_uri": "https://localhost:8080/"
        },
        "id": "fIeB8TpSnfhq",
        "outputId": "0eeecb05-4eaf-4b19-d9f2-830faac88e31"
      },
      "execution_count": 45,
      "outputs": [
        {
          "output_type": "execute_result",
          "data": {
            "text/plain": [
              "0      96.7\n",
              "1      94.6\n",
              "2      96.6\n",
              "3      96.6\n",
              "4      90.5\n",
              "       ... \n",
              "190    80.6\n",
              "191    55.2\n",
              "192    54.6\n",
              "193    31.5\n",
              "194    65.4\n",
              "Name: Population with Secondary Education (Male), Length: 195, dtype: object"
            ]
          },
          "metadata": {},
          "execution_count": 45
        }
      ]
    },
    {
      "cell_type": "code",
      "source": [
        "female_edu_dropna = pd.to_numeric(female_edu_world, errors ='coerce')"
      ],
      "metadata": {
        "id": "IAbwoqB0MxGP"
      },
      "execution_count": 46,
      "outputs": []
    },
    {
      "cell_type": "code",
      "source": [
        "male_edu_dropna = pd.to_numeric(male_edu_world, errors ='coerce')"
      ],
      "metadata": {
        "id": "L_TKJI90M9Ef"
      },
      "execution_count": 47,
      "outputs": []
    },
    {
      "cell_type": "code",
      "source": [
        "female_edu = female_edu_dropna.dropna()"
      ],
      "metadata": {
        "id": "NhBE7yarNl08"
      },
      "execution_count": 48,
      "outputs": []
    },
    {
      "cell_type": "code",
      "source": [
        "male_edu = male_edu_dropna.dropna()"
      ],
      "metadata": {
        "id": "E_5m7FWHNn1Z"
      },
      "execution_count": 56,
      "outputs": []
    },
    {
      "cell_type": "code",
      "source": [
        "st.ttest_ind(female_edu, male_edu)"
      ],
      "metadata": {
        "colab": {
          "base_uri": "https://localhost:8080/"
        },
        "id": "xdVKk9EkL9Z8",
        "outputId": "2f0136fe-e97a-4edf-82c1-e2810f36656f"
      },
      "execution_count": 50,
      "outputs": [
        {
          "output_type": "execute_result",
          "data": {
            "text/plain": [
              "Ttest_indResult(statistic=-1.7528190527753038, pvalue=0.08054508091477776)"
            ]
          },
          "metadata": {},
          "execution_count": 50
        }
      ]
    },
    {
      "cell_type": "code",
      "source": [
        "female_labour_world = data['Labour Force Participation Rate (Female)']\n",
        "female_labour_world"
      ],
      "metadata": {
        "colab": {
          "base_uri": "https://localhost:8080/"
        },
        "id": "BxOkj3cEPszq",
        "outputId": "21c184bb-8437-4565-b23b-89b7dbfec637"
      },
      "execution_count": 52,
      "outputs": [
        {
          "output_type": "execute_result",
          "data": {
            "text/plain": [
              "0      61.2\n",
              "1      58.8\n",
              "2      61.8\n",
              "3      58.7\n",
              "4      58.5\n",
              "       ... \n",
              "190    45.6\n",
              "191    53.7\n",
              "192    29.8\n",
              "193    65.4\n",
              "194    50.3\n",
              "Name: Labour Force Participation Rate (Female), Length: 195, dtype: object"
            ]
          },
          "metadata": {},
          "execution_count": 52
        }
      ]
    },
    {
      "cell_type": "code",
      "source": [
        "male_labour_world = data['Labour Force Participation Rate (Male)']\n",
        "male_labour_world"
      ],
      "metadata": {
        "colab": {
          "base_uri": "https://localhost:8080/"
        },
        "id": "eOm1e27nPyef",
        "outputId": "3e60a26a-cdbe-4d38-833e-0dda6d1c704d"
      },
      "execution_count": 53,
      "outputs": [
        {
          "output_type": "execute_result",
          "data": {
            "text/plain": [
              "0      68.7\n",
              "1      71.8\n",
              "2      74.9\n",
              "3      66.4\n",
              "4      70.6\n",
              "       ... \n",
              "190      70\n",
              "191    79.8\n",
              "192    80.3\n",
              "193    76.6\n",
              "194    76.7\n",
              "Name: Labour Force Participation Rate (Male), Length: 195, dtype: object"
            ]
          },
          "metadata": {},
          "execution_count": 53
        }
      ]
    },
    {
      "cell_type": "code",
      "source": [
        "female_labour_dropna = pd.to_numeric(female_labour_world, errors ='coerce')"
      ],
      "metadata": {
        "id": "DP4C304kP9ZV"
      },
      "execution_count": 54,
      "outputs": []
    },
    {
      "cell_type": "code",
      "source": [
        "male_labour_dropna = pd.to_numeric(male_labour_world, errors ='coerce')"
      ],
      "metadata": {
        "id": "sfzr5CnvQAXP"
      },
      "execution_count": 55,
      "outputs": []
    },
    {
      "cell_type": "code",
      "source": [
        "female_labour = female_labour_dropna.dropna()"
      ],
      "metadata": {
        "id": "WfcnmCS5QIM5"
      },
      "execution_count": 57,
      "outputs": []
    },
    {
      "cell_type": "code",
      "source": [
        "male_labour = male_labour_dropna.dropna()"
      ],
      "metadata": {
        "id": "mzvi7RZbQNeN"
      },
      "execution_count": 58,
      "outputs": []
    },
    {
      "cell_type": "code",
      "source": [
        "st.ttest_ind(female_labour, male_labour)"
      ],
      "metadata": {
        "colab": {
          "base_uri": "https://localhost:8080/"
        },
        "id": "JkCzPwIYQSxt",
        "outputId": "b43fde15-bdec-4021-d16a-00b0cf5f3aa0"
      },
      "execution_count": 59,
      "outputs": [
        {
          "output_type": "execute_result",
          "data": {
            "text/plain": [
              "Ttest_indResult(statistic=-16.39782875838054, pvalue=1.0671876028950652e-45)"
            ]
          },
          "metadata": {},
          "execution_count": 59
        }
      ]
    }
  ]
}