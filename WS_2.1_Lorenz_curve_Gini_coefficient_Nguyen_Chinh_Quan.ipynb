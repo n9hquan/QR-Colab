{
  "nbformat": 4,
  "nbformat_minor": 0,
  "metadata": {
    "colab": {
      "provenance": [],
      "include_colab_link": true
    },
    "kernelspec": {
      "name": "python3",
      "display_name": "Python 3"
    },
    "language_info": {
      "name": "python"
    }
  },
  "cells": [
    {
      "cell_type": "markdown",
      "metadata": {
        "id": "view-in-github",
        "colab_type": "text"
      },
      "source": [
        "<a href=\"https://colab.research.google.com/github/n9quan/QR_Colab/blob/main/WS_2.1_Lorenz_curve_Gini_coefficient_Nguyen_Chinh_Quan.ipynb\" target=\"_parent\"><img src=\"https://colab.research.google.com/assets/colab-badge.svg\" alt=\"Open In Colab\"/></a>"
      ]
    },
    {
      "cell_type": "markdown",
      "metadata": {
        "id": "YIa0hg4wA_LV"
      },
      "source": [
        "# Measuring income inequality\n",
        "\n",
        "One way to visualize the income distribution in a population is to draw a Lorenz curve. This curve shows the entire population lined up along the horizontal axis from the poorest to the richest. The height of the curve at any point on the vertical axis indicates the fraction of total income received by the fraction of the population given by that point on the horizontal axis.\n",
        "\n",
        "We will start by using income decile data from the Global Consumption and Income Project to draw Lorenz curves and compare changes in the income distribution of a country over time. Note that income here refers to market income, which does not take into account taxes or government transfers.\n",
        "\n",
        "To answer the questions below:\n",
        "\n",
        "* Go to the [Globalinc website](https://tinyco.re/9553483) and download the Excel file containing the data by clicking ‘xlsx’.\n",
        "* Save it in an easily accessible location, such as a folder on your Desktop or in your personal folder.\n",
        "* Import the data into Python as explained below.\n",
        "\n",
        "## Importing an Excel file into Python\n",
        "\n",
        "As we are importing an Excel file, we use the `read_excel` function from the `pandas` package. The file is called `GCIPrawdata.xlsx`. Before you import the file into Python, open the datafile in Excel to understand its structure. You will see that the data is all in one worksheet (which is convenient), and that the headings for the variables are in the third row. Hence we will use the `skiprows = 2` option in the `read_excel` function to skip the first two rows.\n"
      ]
    },
    {
      "cell_type": "code",
      "metadata": {
        "id": "pMzjhRfrhU4H"
      },
      "source": [
        "#@title\n",
        "import numpy as np\n",
        "import pandas as pd\n",
        "import matplotlib.pyplot as plt\n",
        "from google.colab import files\n",
        "import io"
      ],
      "execution_count": null,
      "outputs": []
    },
    {
      "cell_type": "markdown",
      "source": [
        "In this worksheet, we will use another way of uploading files that works in all web browsers. To do so, click on the files icon on the left side of your screen. (It is the bottom icon among the four icons on the left.) Next, upload the file you have just downloaded and be sure not to change its name."
      ],
      "metadata": {
        "id": "Y6jI3VngDpBl"
      }
    },
    {
      "cell_type": "code",
      "metadata": {
        "id": "noAq4OXWiI_S",
        "colab": {
          "base_uri": "https://localhost:8080/",
          "height": 73
        },
        "outputId": "33ed16ea-c541-4ed9-9a25-d09d175ae176"
      },
      "source": [
        "uploaded = files.upload()\n",
        "decile_data = pd.read_excel(\"GCIPrawdata.xlsx\", skiprows = 2)"
      ],
      "execution_count": null,
      "outputs": [
        {
          "output_type": "display_data",
          "data": {
            "text/plain": [
              "<IPython.core.display.HTML object>"
            ],
            "text/html": [
              "\n",
              "     <input type=\"file\" id=\"files-618d1f2e-aa67-4694-be9b-77e315f92133\" name=\"files[]\" multiple disabled\n",
              "        style=\"border:none\" />\n",
              "     <output id=\"result-618d1f2e-aa67-4694-be9b-77e315f92133\">\n",
              "      Upload widget is only available when the cell has been executed in the\n",
              "      current browser session. Please rerun this cell to enable.\n",
              "      </output>\n",
              "      <script>// Copyright 2017 Google LLC\n",
              "//\n",
              "// Licensed under the Apache License, Version 2.0 (the \"License\");\n",
              "// you may not use this file except in compliance with the License.\n",
              "// You may obtain a copy of the License at\n",
              "//\n",
              "//      http://www.apache.org/licenses/LICENSE-2.0\n",
              "//\n",
              "// Unless required by applicable law or agreed to in writing, software\n",
              "// distributed under the License is distributed on an \"AS IS\" BASIS,\n",
              "// WITHOUT WARRANTIES OR CONDITIONS OF ANY KIND, either express or implied.\n",
              "// See the License for the specific language governing permissions and\n",
              "// limitations under the License.\n",
              "\n",
              "/**\n",
              " * @fileoverview Helpers for google.colab Python module.\n",
              " */\n",
              "(function(scope) {\n",
              "function span(text, styleAttributes = {}) {\n",
              "  const element = document.createElement('span');\n",
              "  element.textContent = text;\n",
              "  for (const key of Object.keys(styleAttributes)) {\n",
              "    element.style[key] = styleAttributes[key];\n",
              "  }\n",
              "  return element;\n",
              "}\n",
              "\n",
              "// Max number of bytes which will be uploaded at a time.\n",
              "const MAX_PAYLOAD_SIZE = 100 * 1024;\n",
              "\n",
              "function _uploadFiles(inputId, outputId) {\n",
              "  const steps = uploadFilesStep(inputId, outputId);\n",
              "  const outputElement = document.getElementById(outputId);\n",
              "  // Cache steps on the outputElement to make it available for the next call\n",
              "  // to uploadFilesContinue from Python.\n",
              "  outputElement.steps = steps;\n",
              "\n",
              "  return _uploadFilesContinue(outputId);\n",
              "}\n",
              "\n",
              "// This is roughly an async generator (not supported in the browser yet),\n",
              "// where there are multiple asynchronous steps and the Python side is going\n",
              "// to poll for completion of each step.\n",
              "// This uses a Promise to block the python side on completion of each step,\n",
              "// then passes the result of the previous step as the input to the next step.\n",
              "function _uploadFilesContinue(outputId) {\n",
              "  const outputElement = document.getElementById(outputId);\n",
              "  const steps = outputElement.steps;\n",
              "\n",
              "  const next = steps.next(outputElement.lastPromiseValue);\n",
              "  return Promise.resolve(next.value.promise).then((value) => {\n",
              "    // Cache the last promise value to make it available to the next\n",
              "    // step of the generator.\n",
              "    outputElement.lastPromiseValue = value;\n",
              "    return next.value.response;\n",
              "  });\n",
              "}\n",
              "\n",
              "/**\n",
              " * Generator function which is called between each async step of the upload\n",
              " * process.\n",
              " * @param {string} inputId Element ID of the input file picker element.\n",
              " * @param {string} outputId Element ID of the output display.\n",
              " * @return {!Iterable<!Object>} Iterable of next steps.\n",
              " */\n",
              "function* uploadFilesStep(inputId, outputId) {\n",
              "  const inputElement = document.getElementById(inputId);\n",
              "  inputElement.disabled = false;\n",
              "\n",
              "  const outputElement = document.getElementById(outputId);\n",
              "  outputElement.innerHTML = '';\n",
              "\n",
              "  const pickedPromise = new Promise((resolve) => {\n",
              "    inputElement.addEventListener('change', (e) => {\n",
              "      resolve(e.target.files);\n",
              "    });\n",
              "  });\n",
              "\n",
              "  const cancel = document.createElement('button');\n",
              "  inputElement.parentElement.appendChild(cancel);\n",
              "  cancel.textContent = 'Cancel upload';\n",
              "  const cancelPromise = new Promise((resolve) => {\n",
              "    cancel.onclick = () => {\n",
              "      resolve(null);\n",
              "    };\n",
              "  });\n",
              "\n",
              "  // Wait for the user to pick the files.\n",
              "  const files = yield {\n",
              "    promise: Promise.race([pickedPromise, cancelPromise]),\n",
              "    response: {\n",
              "      action: 'starting',\n",
              "    }\n",
              "  };\n",
              "\n",
              "  cancel.remove();\n",
              "\n",
              "  // Disable the input element since further picks are not allowed.\n",
              "  inputElement.disabled = true;\n",
              "\n",
              "  if (!files) {\n",
              "    return {\n",
              "      response: {\n",
              "        action: 'complete',\n",
              "      }\n",
              "    };\n",
              "  }\n",
              "\n",
              "  for (const file of files) {\n",
              "    const li = document.createElement('li');\n",
              "    li.append(span(file.name, {fontWeight: 'bold'}));\n",
              "    li.append(span(\n",
              "        `(${file.type || 'n/a'}) - ${file.size} bytes, ` +\n",
              "        `last modified: ${\n",
              "            file.lastModifiedDate ? file.lastModifiedDate.toLocaleDateString() :\n",
              "                                    'n/a'} - `));\n",
              "    const percent = span('0% done');\n",
              "    li.appendChild(percent);\n",
              "\n",
              "    outputElement.appendChild(li);\n",
              "\n",
              "    const fileDataPromise = new Promise((resolve) => {\n",
              "      const reader = new FileReader();\n",
              "      reader.onload = (e) => {\n",
              "        resolve(e.target.result);\n",
              "      };\n",
              "      reader.readAsArrayBuffer(file);\n",
              "    });\n",
              "    // Wait for the data to be ready.\n",
              "    let fileData = yield {\n",
              "      promise: fileDataPromise,\n",
              "      response: {\n",
              "        action: 'continue',\n",
              "      }\n",
              "    };\n",
              "\n",
              "    // Use a chunked sending to avoid message size limits. See b/62115660.\n",
              "    let position = 0;\n",
              "    do {\n",
              "      const length = Math.min(fileData.byteLength - position, MAX_PAYLOAD_SIZE);\n",
              "      const chunk = new Uint8Array(fileData, position, length);\n",
              "      position += length;\n",
              "\n",
              "      const base64 = btoa(String.fromCharCode.apply(null, chunk));\n",
              "      yield {\n",
              "        response: {\n",
              "          action: 'append',\n",
              "          file: file.name,\n",
              "          data: base64,\n",
              "        },\n",
              "      };\n",
              "\n",
              "      let percentDone = fileData.byteLength === 0 ?\n",
              "          100 :\n",
              "          Math.round((position / fileData.byteLength) * 100);\n",
              "      percent.textContent = `${percentDone}% done`;\n",
              "\n",
              "    } while (position < fileData.byteLength);\n",
              "  }\n",
              "\n",
              "  // All done.\n",
              "  yield {\n",
              "    response: {\n",
              "      action: 'complete',\n",
              "    }\n",
              "  };\n",
              "}\n",
              "\n",
              "scope.google = scope.google || {};\n",
              "scope.google.colab = scope.google.colab || {};\n",
              "scope.google.colab._files = {\n",
              "  _uploadFiles,\n",
              "  _uploadFilesContinue,\n",
              "};\n",
              "})(self);\n",
              "</script> "
            ]
          },
          "metadata": {}
        },
        {
          "output_type": "stream",
          "name": "stdout",
          "text": [
            "Saving GCIPrawdata.xlsx to GCIPrawdata.xlsx\n"
          ]
        }
      ]
    },
    {
      "cell_type": "markdown",
      "metadata": {
        "id": "PSv72kadDGWO"
      },
      "source": [
        "**Exercise:** Print the `decile_data` variable to convince yourself that you have successfully imported the datafile into Python."
      ]
    },
    {
      "cell_type": "code",
      "metadata": {
        "id": "aU4QeIvUDNBw",
        "colab": {
          "base_uri": "https://localhost:8080/",
          "height": 485
        },
        "outputId": "d62fbafe-c73e-464c-dbe0-5baf3f9f6c7c"
      },
      "source": [
        "# Solution goes here\n",
        "decile_data"
      ],
      "execution_count": null,
      "outputs": [
        {
          "output_type": "execute_result",
          "data": {
            "text/plain": [
              "          Country  Year  Decile 1 Income  Decile 2 Income  Decile 3 Income  \\\n",
              "0     Afghanistan  1980              206              350              455   \n",
              "1     Afghanistan  1981              212              361              469   \n",
              "2     Afghanistan  1982              221              377              490   \n",
              "3     Afghanistan  1983              238              405              527   \n",
              "4     Afghanistan  1984              249              424              551   \n",
              "...           ...   ...              ...              ...              ...   \n",
              "4794       Zambia  2010               35               88              139   \n",
              "4795       Zambia  2011               37               90              143   \n",
              "4796       Zambia  2012               38               94              149   \n",
              "4797       Zambia  2013               39               97              154   \n",
              "4798       Zambia  2014               40              100              158   \n",
              "\n",
              "      Decile 4 Income  Decile 5 Income  Decile 6 Income  Decile 7 Income  \\\n",
              "0                 556              665              793              955   \n",
              "1                 574              686              818              986   \n",
              "2                 599              716              854             1029   \n",
              "3                 644              771              919             1107   \n",
              "4                 674              806              961             1157   \n",
              "...               ...              ...              ...              ...   \n",
              "4794              197              267              357              482   \n",
              "4795              203              275              368              497   \n",
              "4796              210              285              381              515   \n",
              "4797              218              295              394              533   \n",
              "4798              224              303              405              548   \n",
              "\n",
              "      Decile 8 Income  Decile 9 Income  Decile 10 Income  Mean Income  \\\n",
              "0                1187             1594              3542         1030   \n",
              "1                1225             1645              3655         1063   \n",
              "2                1278             1717              3814         1109   \n",
              "3                1376             1848              4105         1194   \n",
              "4                1438             1932              4291         1248   \n",
              "...               ...              ...               ...          ...   \n",
              "4794              680             1070              3860          717   \n",
              "4795              701             1104              3983          740   \n",
              "4796              726             1143              4123          766   \n",
              "4797              751             1183              4268          793   \n",
              "4798              772             1216              4387          815   \n",
              "\n",
              "      Population  \n",
              "0       13211412  \n",
              "1       12996923  \n",
              "2       12667001  \n",
              "3       12279095  \n",
              "4       11912510  \n",
              "...          ...  \n",
              "4794    13917439  \n",
              "4795    14343526  \n",
              "4796    14786581  \n",
              "4797    15246086  \n",
              "4798    15721343  \n",
              "\n",
              "[4799 rows x 14 columns]"
            ],
            "text/html": [
              "\n",
              "  <div id=\"df-ad8ee5c6-e3b1-4a86-92a2-181a9da26dfd\">\n",
              "    <div class=\"colab-df-container\">\n",
              "      <div>\n",
              "<style scoped>\n",
              "    .dataframe tbody tr th:only-of-type {\n",
              "        vertical-align: middle;\n",
              "    }\n",
              "\n",
              "    .dataframe tbody tr th {\n",
              "        vertical-align: top;\n",
              "    }\n",
              "\n",
              "    .dataframe thead th {\n",
              "        text-align: right;\n",
              "    }\n",
              "</style>\n",
              "<table border=\"1\" class=\"dataframe\">\n",
              "  <thead>\n",
              "    <tr style=\"text-align: right;\">\n",
              "      <th></th>\n",
              "      <th>Country</th>\n",
              "      <th>Year</th>\n",
              "      <th>Decile 1 Income</th>\n",
              "      <th>Decile 2 Income</th>\n",
              "      <th>Decile 3 Income</th>\n",
              "      <th>Decile 4 Income</th>\n",
              "      <th>Decile 5 Income</th>\n",
              "      <th>Decile 6 Income</th>\n",
              "      <th>Decile 7 Income</th>\n",
              "      <th>Decile 8 Income</th>\n",
              "      <th>Decile 9 Income</th>\n",
              "      <th>Decile 10 Income</th>\n",
              "      <th>Mean Income</th>\n",
              "      <th>Population</th>\n",
              "    </tr>\n",
              "  </thead>\n",
              "  <tbody>\n",
              "    <tr>\n",
              "      <th>0</th>\n",
              "      <td>Afghanistan</td>\n",
              "      <td>1980</td>\n",
              "      <td>206</td>\n",
              "      <td>350</td>\n",
              "      <td>455</td>\n",
              "      <td>556</td>\n",
              "      <td>665</td>\n",
              "      <td>793</td>\n",
              "      <td>955</td>\n",
              "      <td>1187</td>\n",
              "      <td>1594</td>\n",
              "      <td>3542</td>\n",
              "      <td>1030</td>\n",
              "      <td>13211412</td>\n",
              "    </tr>\n",
              "    <tr>\n",
              "      <th>1</th>\n",
              "      <td>Afghanistan</td>\n",
              "      <td>1981</td>\n",
              "      <td>212</td>\n",
              "      <td>361</td>\n",
              "      <td>469</td>\n",
              "      <td>574</td>\n",
              "      <td>686</td>\n",
              "      <td>818</td>\n",
              "      <td>986</td>\n",
              "      <td>1225</td>\n",
              "      <td>1645</td>\n",
              "      <td>3655</td>\n",
              "      <td>1063</td>\n",
              "      <td>12996923</td>\n",
              "    </tr>\n",
              "    <tr>\n",
              "      <th>2</th>\n",
              "      <td>Afghanistan</td>\n",
              "      <td>1982</td>\n",
              "      <td>221</td>\n",
              "      <td>377</td>\n",
              "      <td>490</td>\n",
              "      <td>599</td>\n",
              "      <td>716</td>\n",
              "      <td>854</td>\n",
              "      <td>1029</td>\n",
              "      <td>1278</td>\n",
              "      <td>1717</td>\n",
              "      <td>3814</td>\n",
              "      <td>1109</td>\n",
              "      <td>12667001</td>\n",
              "    </tr>\n",
              "    <tr>\n",
              "      <th>3</th>\n",
              "      <td>Afghanistan</td>\n",
              "      <td>1983</td>\n",
              "      <td>238</td>\n",
              "      <td>405</td>\n",
              "      <td>527</td>\n",
              "      <td>644</td>\n",
              "      <td>771</td>\n",
              "      <td>919</td>\n",
              "      <td>1107</td>\n",
              "      <td>1376</td>\n",
              "      <td>1848</td>\n",
              "      <td>4105</td>\n",
              "      <td>1194</td>\n",
              "      <td>12279095</td>\n",
              "    </tr>\n",
              "    <tr>\n",
              "      <th>4</th>\n",
              "      <td>Afghanistan</td>\n",
              "      <td>1984</td>\n",
              "      <td>249</td>\n",
              "      <td>424</td>\n",
              "      <td>551</td>\n",
              "      <td>674</td>\n",
              "      <td>806</td>\n",
              "      <td>961</td>\n",
              "      <td>1157</td>\n",
              "      <td>1438</td>\n",
              "      <td>1932</td>\n",
              "      <td>4291</td>\n",
              "      <td>1248</td>\n",
              "      <td>11912510</td>\n",
              "    </tr>\n",
              "    <tr>\n",
              "      <th>...</th>\n",
              "      <td>...</td>\n",
              "      <td>...</td>\n",
              "      <td>...</td>\n",
              "      <td>...</td>\n",
              "      <td>...</td>\n",
              "      <td>...</td>\n",
              "      <td>...</td>\n",
              "      <td>...</td>\n",
              "      <td>...</td>\n",
              "      <td>...</td>\n",
              "      <td>...</td>\n",
              "      <td>...</td>\n",
              "      <td>...</td>\n",
              "      <td>...</td>\n",
              "    </tr>\n",
              "    <tr>\n",
              "      <th>4794</th>\n",
              "      <td>Zambia</td>\n",
              "      <td>2010</td>\n",
              "      <td>35</td>\n",
              "      <td>88</td>\n",
              "      <td>139</td>\n",
              "      <td>197</td>\n",
              "      <td>267</td>\n",
              "      <td>357</td>\n",
              "      <td>482</td>\n",
              "      <td>680</td>\n",
              "      <td>1070</td>\n",
              "      <td>3860</td>\n",
              "      <td>717</td>\n",
              "      <td>13917439</td>\n",
              "    </tr>\n",
              "    <tr>\n",
              "      <th>4795</th>\n",
              "      <td>Zambia</td>\n",
              "      <td>2011</td>\n",
              "      <td>37</td>\n",
              "      <td>90</td>\n",
              "      <td>143</td>\n",
              "      <td>203</td>\n",
              "      <td>275</td>\n",
              "      <td>368</td>\n",
              "      <td>497</td>\n",
              "      <td>701</td>\n",
              "      <td>1104</td>\n",
              "      <td>3983</td>\n",
              "      <td>740</td>\n",
              "      <td>14343526</td>\n",
              "    </tr>\n",
              "    <tr>\n",
              "      <th>4796</th>\n",
              "      <td>Zambia</td>\n",
              "      <td>2012</td>\n",
              "      <td>38</td>\n",
              "      <td>94</td>\n",
              "      <td>149</td>\n",
              "      <td>210</td>\n",
              "      <td>285</td>\n",
              "      <td>381</td>\n",
              "      <td>515</td>\n",
              "      <td>726</td>\n",
              "      <td>1143</td>\n",
              "      <td>4123</td>\n",
              "      <td>766</td>\n",
              "      <td>14786581</td>\n",
              "    </tr>\n",
              "    <tr>\n",
              "      <th>4797</th>\n",
              "      <td>Zambia</td>\n",
              "      <td>2013</td>\n",
              "      <td>39</td>\n",
              "      <td>97</td>\n",
              "      <td>154</td>\n",
              "      <td>218</td>\n",
              "      <td>295</td>\n",
              "      <td>394</td>\n",
              "      <td>533</td>\n",
              "      <td>751</td>\n",
              "      <td>1183</td>\n",
              "      <td>4268</td>\n",
              "      <td>793</td>\n",
              "      <td>15246086</td>\n",
              "    </tr>\n",
              "    <tr>\n",
              "      <th>4798</th>\n",
              "      <td>Zambia</td>\n",
              "      <td>2014</td>\n",
              "      <td>40</td>\n",
              "      <td>100</td>\n",
              "      <td>158</td>\n",
              "      <td>224</td>\n",
              "      <td>303</td>\n",
              "      <td>405</td>\n",
              "      <td>548</td>\n",
              "      <td>772</td>\n",
              "      <td>1216</td>\n",
              "      <td>4387</td>\n",
              "      <td>815</td>\n",
              "      <td>15721343</td>\n",
              "    </tr>\n",
              "  </tbody>\n",
              "</table>\n",
              "<p>4799 rows × 14 columns</p>\n",
              "</div>\n",
              "      <button class=\"colab-df-convert\" onclick=\"convertToInteractive('df-ad8ee5c6-e3b1-4a86-92a2-181a9da26dfd')\"\n",
              "              title=\"Convert this dataframe to an interactive table.\"\n",
              "              style=\"display:none;\">\n",
              "        \n",
              "  <svg xmlns=\"http://www.w3.org/2000/svg\" height=\"24px\"viewBox=\"0 0 24 24\"\n",
              "       width=\"24px\">\n",
              "    <path d=\"M0 0h24v24H0V0z\" fill=\"none\"/>\n",
              "    <path d=\"M18.56 5.44l.94 2.06.94-2.06 2.06-.94-2.06-.94-.94-2.06-.94 2.06-2.06.94zm-11 1L8.5 8.5l.94-2.06 2.06-.94-2.06-.94L8.5 2.5l-.94 2.06-2.06.94zm10 10l.94 2.06.94-2.06 2.06-.94-2.06-.94-.94-2.06-.94 2.06-2.06.94z\"/><path d=\"M17.41 7.96l-1.37-1.37c-.4-.4-.92-.59-1.43-.59-.52 0-1.04.2-1.43.59L10.3 9.45l-7.72 7.72c-.78.78-.78 2.05 0 2.83L4 21.41c.39.39.9.59 1.41.59.51 0 1.02-.2 1.41-.59l7.78-7.78 2.81-2.81c.8-.78.8-2.07 0-2.86zM5.41 20L4 18.59l7.72-7.72 1.47 1.35L5.41 20z\"/>\n",
              "  </svg>\n",
              "      </button>\n",
              "      \n",
              "  <style>\n",
              "    .colab-df-container {\n",
              "      display:flex;\n",
              "      flex-wrap:wrap;\n",
              "      gap: 12px;\n",
              "    }\n",
              "\n",
              "    .colab-df-convert {\n",
              "      background-color: #E8F0FE;\n",
              "      border: none;\n",
              "      border-radius: 50%;\n",
              "      cursor: pointer;\n",
              "      display: none;\n",
              "      fill: #1967D2;\n",
              "      height: 32px;\n",
              "      padding: 0 0 0 0;\n",
              "      width: 32px;\n",
              "    }\n",
              "\n",
              "    .colab-df-convert:hover {\n",
              "      background-color: #E2EBFA;\n",
              "      box-shadow: 0px 1px 2px rgba(60, 64, 67, 0.3), 0px 1px 3px 1px rgba(60, 64, 67, 0.15);\n",
              "      fill: #174EA6;\n",
              "    }\n",
              "\n",
              "    [theme=dark] .colab-df-convert {\n",
              "      background-color: #3B4455;\n",
              "      fill: #D2E3FC;\n",
              "    }\n",
              "\n",
              "    [theme=dark] .colab-df-convert:hover {\n",
              "      background-color: #434B5C;\n",
              "      box-shadow: 0px 1px 3px 1px rgba(0, 0, 0, 0.15);\n",
              "      filter: drop-shadow(0px 1px 2px rgba(0, 0, 0, 0.3));\n",
              "      fill: #FFFFFF;\n",
              "    }\n",
              "  </style>\n",
              "\n",
              "      <script>\n",
              "        const buttonEl =\n",
              "          document.querySelector('#df-ad8ee5c6-e3b1-4a86-92a2-181a9da26dfd button.colab-df-convert');\n",
              "        buttonEl.style.display =\n",
              "          google.colab.kernel.accessAllowed ? 'block' : 'none';\n",
              "\n",
              "        async function convertToInteractive(key) {\n",
              "          const element = document.querySelector('#df-ad8ee5c6-e3b1-4a86-92a2-181a9da26dfd');\n",
              "          const dataTable =\n",
              "            await google.colab.kernel.invokeFunction('convertToInteractive',\n",
              "                                                     [key], {});\n",
              "          if (!dataTable) return;\n",
              "\n",
              "          const docLinkHtml = 'Like what you see? Visit the ' +\n",
              "            '<a target=\"_blank\" href=https://colab.research.google.com/notebooks/data_table.ipynb>data table notebook</a>'\n",
              "            + ' to learn more about interactive tables.';\n",
              "          element.innerHTML = '';\n",
              "          dataTable['output_type'] = 'display_data';\n",
              "          await google.colab.output.renderOutput(dataTable, element);\n",
              "          const docLink = document.createElement('div');\n",
              "          docLink.innerHTML = docLinkHtml;\n",
              "          element.appendChild(docLink);\n",
              "        }\n",
              "      </script>\n",
              "    </div>\n",
              "  </div>\n",
              "  "
            ]
          },
          "metadata": {},
          "execution_count": 3
        }
      ]
    },
    {
      "cell_type": "markdown",
      "metadata": {
        "id": "qWN82BL9DOCO"
      },
      "source": [
        "As you can see, each row shows data for a different country-year combination. The first row is for Afghanistan in 1980, and the first value (in the third column) is 206, for the column `Decile 1 Income`. This value indicates that the mean annual income of the poorest 10% in Afghanistan was the equivalent of 206 USD (in 1980, adjusted using purchasing power parity). Looking at the next column, you can see that the mean income of the next richest 10% (those in the 11th to 20th percentiles for income) was 350.\n",
        "\n",
        "In addition to the country, year, and the ten income deciles, we have mean income and the population.\n",
        "\n",
        "## Calculating cumulative shares using the `cumsum` function\n",
        "\n",
        "To draw Lorenz curves, we need to calculate the cumulative share of total income owned by each decile (these will be the vertical axis values). The cumulative income share of a particular decile is the proportion of total income held by that decile and all the deciles below it. For example, if Decile 1 has 1/10 of total income and Decile 2 has 2/10 of total income, the cumulative income share of Decile 2 is 3/10 (or 0.3).\n",
        "\n",
        "In the following, we will be using the data for China (a country that recently underwent enormous economic changes) and the United States (a developed country) for 1980 and 2014 as the basis for our Lorenz curves. We will calculate the cumulative income share of each decile. Remember that each decile represents 10% of the population.\n",
        "\n",
        "**Exercise:** Use the techniques from the previous worksheets to select only the data for the years 1980 and 2014 in China and the United States. Assign the result to a variable called `temp`. (Hint: You may need to take two steps for this.)"
      ]
    },
    {
      "cell_type": "code",
      "metadata": {
        "id": "ciCFgtiNNfsl"
      },
      "source": [
        "# Solution goes here\n",
        "time = decile_data[(decile_data[\"Year\"]==1980) | (decile_data[\"Year\"]==2014)]\n",
        "temp = time[(time[\"Country\"]==\"China\") | (time[\"Country\"]==\"United States\")]"
      ],
      "execution_count": null,
      "outputs": []
    },
    {
      "cell_type": "markdown",
      "metadata": {
        "id": "qtZ3ZbocNzsc"
      },
      "source": [
        "As always, you should convince yourself that this operation was successful."
      ]
    },
    {
      "cell_type": "code",
      "metadata": {
        "id": "T8y0QjcUN0XD",
        "colab": {
          "base_uri": "https://localhost:8080/",
          "height": 271
        },
        "outputId": "53714511-3bfa-4d1e-99bd-573c7af18815"
      },
      "source": [
        "temp"
      ],
      "execution_count": null,
      "outputs": [
        {
          "output_type": "execute_result",
          "data": {
            "text/plain": [
              "            Country  Year  Decile 1 Income  Decile 2 Income  Decile 3 Income  \\\n",
              "893           China  1980               79              113              146   \n",
              "927           China  2014              448              927             1440   \n",
              "4554  United States  1980             3392             5820             7855   \n",
              "4588  United States  2014             3778             6534             9069   \n",
              "\n",
              "      Decile 4 Income  Decile 5 Income  Decile 6 Income  Decile 7 Income  \\\n",
              "893               177              210              245              286   \n",
              "927              2008             2659             3445             4457   \n",
              "4554             9724            11574            13549            15843   \n",
              "4588            11552            14132            16993            20429   \n",
              "\n",
              "      Decile 8 Income  Decile 9 Income  Decile 10 Income  Mean Income  \\\n",
              "893               336              404               520          252   \n",
              "927              5911             8473             18689         4846   \n",
              "4554            18839            23622             37949        14817   \n",
              "4588            25061            32763             60418        20073   \n",
              "\n",
              "      Population  \n",
              "893    981200000  \n",
              "927   1364000000  \n",
              "4554   227200000  \n",
              "4588   318900000  "
            ],
            "text/html": [
              "\n",
              "  <div id=\"df-e46d9647-7757-427e-8891-8b046576988f\">\n",
              "    <div class=\"colab-df-container\">\n",
              "      <div>\n",
              "<style scoped>\n",
              "    .dataframe tbody tr th:only-of-type {\n",
              "        vertical-align: middle;\n",
              "    }\n",
              "\n",
              "    .dataframe tbody tr th {\n",
              "        vertical-align: top;\n",
              "    }\n",
              "\n",
              "    .dataframe thead th {\n",
              "        text-align: right;\n",
              "    }\n",
              "</style>\n",
              "<table border=\"1\" class=\"dataframe\">\n",
              "  <thead>\n",
              "    <tr style=\"text-align: right;\">\n",
              "      <th></th>\n",
              "      <th>Country</th>\n",
              "      <th>Year</th>\n",
              "      <th>Decile 1 Income</th>\n",
              "      <th>Decile 2 Income</th>\n",
              "      <th>Decile 3 Income</th>\n",
              "      <th>Decile 4 Income</th>\n",
              "      <th>Decile 5 Income</th>\n",
              "      <th>Decile 6 Income</th>\n",
              "      <th>Decile 7 Income</th>\n",
              "      <th>Decile 8 Income</th>\n",
              "      <th>Decile 9 Income</th>\n",
              "      <th>Decile 10 Income</th>\n",
              "      <th>Mean Income</th>\n",
              "      <th>Population</th>\n",
              "    </tr>\n",
              "  </thead>\n",
              "  <tbody>\n",
              "    <tr>\n",
              "      <th>893</th>\n",
              "      <td>China</td>\n",
              "      <td>1980</td>\n",
              "      <td>79</td>\n",
              "      <td>113</td>\n",
              "      <td>146</td>\n",
              "      <td>177</td>\n",
              "      <td>210</td>\n",
              "      <td>245</td>\n",
              "      <td>286</td>\n",
              "      <td>336</td>\n",
              "      <td>404</td>\n",
              "      <td>520</td>\n",
              "      <td>252</td>\n",
              "      <td>981200000</td>\n",
              "    </tr>\n",
              "    <tr>\n",
              "      <th>927</th>\n",
              "      <td>China</td>\n",
              "      <td>2014</td>\n",
              "      <td>448</td>\n",
              "      <td>927</td>\n",
              "      <td>1440</td>\n",
              "      <td>2008</td>\n",
              "      <td>2659</td>\n",
              "      <td>3445</td>\n",
              "      <td>4457</td>\n",
              "      <td>5911</td>\n",
              "      <td>8473</td>\n",
              "      <td>18689</td>\n",
              "      <td>4846</td>\n",
              "      <td>1364000000</td>\n",
              "    </tr>\n",
              "    <tr>\n",
              "      <th>4554</th>\n",
              "      <td>United States</td>\n",
              "      <td>1980</td>\n",
              "      <td>3392</td>\n",
              "      <td>5820</td>\n",
              "      <td>7855</td>\n",
              "      <td>9724</td>\n",
              "      <td>11574</td>\n",
              "      <td>13549</td>\n",
              "      <td>15843</td>\n",
              "      <td>18839</td>\n",
              "      <td>23622</td>\n",
              "      <td>37949</td>\n",
              "      <td>14817</td>\n",
              "      <td>227200000</td>\n",
              "    </tr>\n",
              "    <tr>\n",
              "      <th>4588</th>\n",
              "      <td>United States</td>\n",
              "      <td>2014</td>\n",
              "      <td>3778</td>\n",
              "      <td>6534</td>\n",
              "      <td>9069</td>\n",
              "      <td>11552</td>\n",
              "      <td>14132</td>\n",
              "      <td>16993</td>\n",
              "      <td>20429</td>\n",
              "      <td>25061</td>\n",
              "      <td>32763</td>\n",
              "      <td>60418</td>\n",
              "      <td>20073</td>\n",
              "      <td>318900000</td>\n",
              "    </tr>\n",
              "  </tbody>\n",
              "</table>\n",
              "</div>\n",
              "      <button class=\"colab-df-convert\" onclick=\"convertToInteractive('df-e46d9647-7757-427e-8891-8b046576988f')\"\n",
              "              title=\"Convert this dataframe to an interactive table.\"\n",
              "              style=\"display:none;\">\n",
              "        \n",
              "  <svg xmlns=\"http://www.w3.org/2000/svg\" height=\"24px\"viewBox=\"0 0 24 24\"\n",
              "       width=\"24px\">\n",
              "    <path d=\"M0 0h24v24H0V0z\" fill=\"none\"/>\n",
              "    <path d=\"M18.56 5.44l.94 2.06.94-2.06 2.06-.94-2.06-.94-.94-2.06-.94 2.06-2.06.94zm-11 1L8.5 8.5l.94-2.06 2.06-.94-2.06-.94L8.5 2.5l-.94 2.06-2.06.94zm10 10l.94 2.06.94-2.06 2.06-.94-2.06-.94-.94-2.06-.94 2.06-2.06.94z\"/><path d=\"M17.41 7.96l-1.37-1.37c-.4-.4-.92-.59-1.43-.59-.52 0-1.04.2-1.43.59L10.3 9.45l-7.72 7.72c-.78.78-.78 2.05 0 2.83L4 21.41c.39.39.9.59 1.41.59.51 0 1.02-.2 1.41-.59l7.78-7.78 2.81-2.81c.8-.78.8-2.07 0-2.86zM5.41 20L4 18.59l7.72-7.72 1.47 1.35L5.41 20z\"/>\n",
              "  </svg>\n",
              "      </button>\n",
              "      \n",
              "  <style>\n",
              "    .colab-df-container {\n",
              "      display:flex;\n",
              "      flex-wrap:wrap;\n",
              "      gap: 12px;\n",
              "    }\n",
              "\n",
              "    .colab-df-convert {\n",
              "      background-color: #E8F0FE;\n",
              "      border: none;\n",
              "      border-radius: 50%;\n",
              "      cursor: pointer;\n",
              "      display: none;\n",
              "      fill: #1967D2;\n",
              "      height: 32px;\n",
              "      padding: 0 0 0 0;\n",
              "      width: 32px;\n",
              "    }\n",
              "\n",
              "    .colab-df-convert:hover {\n",
              "      background-color: #E2EBFA;\n",
              "      box-shadow: 0px 1px 2px rgba(60, 64, 67, 0.3), 0px 1px 3px 1px rgba(60, 64, 67, 0.15);\n",
              "      fill: #174EA6;\n",
              "    }\n",
              "\n",
              "    [theme=dark] .colab-df-convert {\n",
              "      background-color: #3B4455;\n",
              "      fill: #D2E3FC;\n",
              "    }\n",
              "\n",
              "    [theme=dark] .colab-df-convert:hover {\n",
              "      background-color: #434B5C;\n",
              "      box-shadow: 0px 1px 3px 1px rgba(0, 0, 0, 0.15);\n",
              "      filter: drop-shadow(0px 1px 2px rgba(0, 0, 0, 0.3));\n",
              "      fill: #FFFFFF;\n",
              "    }\n",
              "  </style>\n",
              "\n",
              "      <script>\n",
              "        const buttonEl =\n",
              "          document.querySelector('#df-e46d9647-7757-427e-8891-8b046576988f button.colab-df-convert');\n",
              "        buttonEl.style.display =\n",
              "          google.colab.kernel.accessAllowed ? 'block' : 'none';\n",
              "\n",
              "        async function convertToInteractive(key) {\n",
              "          const element = document.querySelector('#df-e46d9647-7757-427e-8891-8b046576988f');\n",
              "          const dataTable =\n",
              "            await google.colab.kernel.invokeFunction('convertToInteractive',\n",
              "                                                     [key], {});\n",
              "          if (!dataTable) return;\n",
              "\n",
              "          const docLinkHtml = 'Like what you see? Visit the ' +\n",
              "            '<a target=\"_blank\" href=https://colab.research.google.com/notebooks/data_table.ipynb>data table notebook</a>'\n",
              "            + ' to learn more about interactive tables.';\n",
              "          element.innerHTML = '';\n",
              "          dataTable['output_type'] = 'display_data';\n",
              "          await google.colab.output.renderOutput(dataTable, element);\n",
              "          const docLink = document.createElement('div');\n",
              "          docLink.innerHTML = docLinkHtml;\n",
              "          element.appendChild(docLink);\n",
              "        }\n",
              "      </script>\n",
              "    </div>\n",
              "  </div>\n",
              "  "
            ]
          },
          "metadata": {},
          "execution_count": 5
        }
      ]
    },
    {
      "cell_type": "markdown",
      "metadata": {
        "id": "w4OWEVVHQKVa"
      },
      "source": [
        "Before we calculate cumulative income shares, we need to calculate the total income for each country-year combination using the mean income and the population size."
      ]
    },
    {
      "cell_type": "code",
      "metadata": {
        "id": "6WuL8MtoQaAX",
        "colab": {
          "base_uri": "https://localhost:8080/"
        },
        "outputId": "846c201b-e4e3-489f-9a76-6607a1c9ec3e"
      },
      "source": [
        "temp[\"total_income\"] = temp[\"Mean Income\"] * temp[\"Population\"]"
      ],
      "execution_count": null,
      "outputs": [
        {
          "output_type": "stream",
          "name": "stderr",
          "text": [
            "<ipython-input-6-91ad8dac0134>:1: SettingWithCopyWarning: \n",
            "A value is trying to be set on a copy of a slice from a DataFrame.\n",
            "Try using .loc[row_indexer,col_indexer] = value instead\n",
            "\n",
            "See the caveats in the documentation: https://pandas.pydata.org/pandas-docs/stable/user_guide/indexing.html#returning-a-view-versus-a-copy\n",
            "  temp[\"total_income\"] = temp[\"Mean Income\"] * temp[\"Population\"]\n"
          ]
        }
      ]
    },
    {
      "cell_type": "markdown",
      "metadata": {
        "id": "aEeMUD7uQfND"
      },
      "source": [
        "Here, we are creating a new column called `total_income` that, for each row, is calculated by multiplying the respective mean income and population values. You should be able to see the result by printing the data again."
      ]
    },
    {
      "cell_type": "code",
      "metadata": {
        "id": "9cG1a2gtSFMO",
        "colab": {
          "base_uri": "https://localhost:8080/",
          "height": 271
        },
        "outputId": "ca449b08-8586-4c5a-ff43-0030b0a89518"
      },
      "source": [
        "temp"
      ],
      "execution_count": null,
      "outputs": [
        {
          "output_type": "execute_result",
          "data": {
            "text/plain": [
              "            Country  Year  Decile 1 Income  Decile 2 Income  Decile 3 Income  \\\n",
              "893           China  1980               79              113              146   \n",
              "927           China  2014              448              927             1440   \n",
              "4554  United States  1980             3392             5820             7855   \n",
              "4588  United States  2014             3778             6534             9069   \n",
              "\n",
              "      Decile 4 Income  Decile 5 Income  Decile 6 Income  Decile 7 Income  \\\n",
              "893               177              210              245              286   \n",
              "927              2008             2659             3445             4457   \n",
              "4554             9724            11574            13549            15843   \n",
              "4588            11552            14132            16993            20429   \n",
              "\n",
              "      Decile 8 Income  Decile 9 Income  Decile 10 Income  Mean Income  \\\n",
              "893               336              404               520          252   \n",
              "927              5911             8473             18689         4846   \n",
              "4554            18839            23622             37949        14817   \n",
              "4588            25061            32763             60418        20073   \n",
              "\n",
              "      Population   total_income  \n",
              "893    981200000   247262400000  \n",
              "927   1364000000  6609944000000  \n",
              "4554   227200000  3366422400000  \n",
              "4588   318900000  6401279700000  "
            ],
            "text/html": [
              "\n",
              "  <div id=\"df-1940c2fe-4d9c-40ac-97e0-2c355335f3ab\">\n",
              "    <div class=\"colab-df-container\">\n",
              "      <div>\n",
              "<style scoped>\n",
              "    .dataframe tbody tr th:only-of-type {\n",
              "        vertical-align: middle;\n",
              "    }\n",
              "\n",
              "    .dataframe tbody tr th {\n",
              "        vertical-align: top;\n",
              "    }\n",
              "\n",
              "    .dataframe thead th {\n",
              "        text-align: right;\n",
              "    }\n",
              "</style>\n",
              "<table border=\"1\" class=\"dataframe\">\n",
              "  <thead>\n",
              "    <tr style=\"text-align: right;\">\n",
              "      <th></th>\n",
              "      <th>Country</th>\n",
              "      <th>Year</th>\n",
              "      <th>Decile 1 Income</th>\n",
              "      <th>Decile 2 Income</th>\n",
              "      <th>Decile 3 Income</th>\n",
              "      <th>Decile 4 Income</th>\n",
              "      <th>Decile 5 Income</th>\n",
              "      <th>Decile 6 Income</th>\n",
              "      <th>Decile 7 Income</th>\n",
              "      <th>Decile 8 Income</th>\n",
              "      <th>Decile 9 Income</th>\n",
              "      <th>Decile 10 Income</th>\n",
              "      <th>Mean Income</th>\n",
              "      <th>Population</th>\n",
              "      <th>total_income</th>\n",
              "    </tr>\n",
              "  </thead>\n",
              "  <tbody>\n",
              "    <tr>\n",
              "      <th>893</th>\n",
              "      <td>China</td>\n",
              "      <td>1980</td>\n",
              "      <td>79</td>\n",
              "      <td>113</td>\n",
              "      <td>146</td>\n",
              "      <td>177</td>\n",
              "      <td>210</td>\n",
              "      <td>245</td>\n",
              "      <td>286</td>\n",
              "      <td>336</td>\n",
              "      <td>404</td>\n",
              "      <td>520</td>\n",
              "      <td>252</td>\n",
              "      <td>981200000</td>\n",
              "      <td>247262400000</td>\n",
              "    </tr>\n",
              "    <tr>\n",
              "      <th>927</th>\n",
              "      <td>China</td>\n",
              "      <td>2014</td>\n",
              "      <td>448</td>\n",
              "      <td>927</td>\n",
              "      <td>1440</td>\n",
              "      <td>2008</td>\n",
              "      <td>2659</td>\n",
              "      <td>3445</td>\n",
              "      <td>4457</td>\n",
              "      <td>5911</td>\n",
              "      <td>8473</td>\n",
              "      <td>18689</td>\n",
              "      <td>4846</td>\n",
              "      <td>1364000000</td>\n",
              "      <td>6609944000000</td>\n",
              "    </tr>\n",
              "    <tr>\n",
              "      <th>4554</th>\n",
              "      <td>United States</td>\n",
              "      <td>1980</td>\n",
              "      <td>3392</td>\n",
              "      <td>5820</td>\n",
              "      <td>7855</td>\n",
              "      <td>9724</td>\n",
              "      <td>11574</td>\n",
              "      <td>13549</td>\n",
              "      <td>15843</td>\n",
              "      <td>18839</td>\n",
              "      <td>23622</td>\n",
              "      <td>37949</td>\n",
              "      <td>14817</td>\n",
              "      <td>227200000</td>\n",
              "      <td>3366422400000</td>\n",
              "    </tr>\n",
              "    <tr>\n",
              "      <th>4588</th>\n",
              "      <td>United States</td>\n",
              "      <td>2014</td>\n",
              "      <td>3778</td>\n",
              "      <td>6534</td>\n",
              "      <td>9069</td>\n",
              "      <td>11552</td>\n",
              "      <td>14132</td>\n",
              "      <td>16993</td>\n",
              "      <td>20429</td>\n",
              "      <td>25061</td>\n",
              "      <td>32763</td>\n",
              "      <td>60418</td>\n",
              "      <td>20073</td>\n",
              "      <td>318900000</td>\n",
              "      <td>6401279700000</td>\n",
              "    </tr>\n",
              "  </tbody>\n",
              "</table>\n",
              "</div>\n",
              "      <button class=\"colab-df-convert\" onclick=\"convertToInteractive('df-1940c2fe-4d9c-40ac-97e0-2c355335f3ab')\"\n",
              "              title=\"Convert this dataframe to an interactive table.\"\n",
              "              style=\"display:none;\">\n",
              "        \n",
              "  <svg xmlns=\"http://www.w3.org/2000/svg\" height=\"24px\"viewBox=\"0 0 24 24\"\n",
              "       width=\"24px\">\n",
              "    <path d=\"M0 0h24v24H0V0z\" fill=\"none\"/>\n",
              "    <path d=\"M18.56 5.44l.94 2.06.94-2.06 2.06-.94-2.06-.94-.94-2.06-.94 2.06-2.06.94zm-11 1L8.5 8.5l.94-2.06 2.06-.94-2.06-.94L8.5 2.5l-.94 2.06-2.06.94zm10 10l.94 2.06.94-2.06 2.06-.94-2.06-.94-.94-2.06-.94 2.06-2.06.94z\"/><path d=\"M17.41 7.96l-1.37-1.37c-.4-.4-.92-.59-1.43-.59-.52 0-1.04.2-1.43.59L10.3 9.45l-7.72 7.72c-.78.78-.78 2.05 0 2.83L4 21.41c.39.39.9.59 1.41.59.51 0 1.02-.2 1.41-.59l7.78-7.78 2.81-2.81c.8-.78.8-2.07 0-2.86zM5.41 20L4 18.59l7.72-7.72 1.47 1.35L5.41 20z\"/>\n",
              "  </svg>\n",
              "      </button>\n",
              "      \n",
              "  <style>\n",
              "    .colab-df-container {\n",
              "      display:flex;\n",
              "      flex-wrap:wrap;\n",
              "      gap: 12px;\n",
              "    }\n",
              "\n",
              "    .colab-df-convert {\n",
              "      background-color: #E8F0FE;\n",
              "      border: none;\n",
              "      border-radius: 50%;\n",
              "      cursor: pointer;\n",
              "      display: none;\n",
              "      fill: #1967D2;\n",
              "      height: 32px;\n",
              "      padding: 0 0 0 0;\n",
              "      width: 32px;\n",
              "    }\n",
              "\n",
              "    .colab-df-convert:hover {\n",
              "      background-color: #E2EBFA;\n",
              "      box-shadow: 0px 1px 2px rgba(60, 64, 67, 0.3), 0px 1px 3px 1px rgba(60, 64, 67, 0.15);\n",
              "      fill: #174EA6;\n",
              "    }\n",
              "\n",
              "    [theme=dark] .colab-df-convert {\n",
              "      background-color: #3B4455;\n",
              "      fill: #D2E3FC;\n",
              "    }\n",
              "\n",
              "    [theme=dark] .colab-df-convert:hover {\n",
              "      background-color: #434B5C;\n",
              "      box-shadow: 0px 1px 3px 1px rgba(0, 0, 0, 0.15);\n",
              "      filter: drop-shadow(0px 1px 2px rgba(0, 0, 0, 0.3));\n",
              "      fill: #FFFFFF;\n",
              "    }\n",
              "  </style>\n",
              "\n",
              "      <script>\n",
              "        const buttonEl =\n",
              "          document.querySelector('#df-1940c2fe-4d9c-40ac-97e0-2c355335f3ab button.colab-df-convert');\n",
              "        buttonEl.style.display =\n",
              "          google.colab.kernel.accessAllowed ? 'block' : 'none';\n",
              "\n",
              "        async function convertToInteractive(key) {\n",
              "          const element = document.querySelector('#df-1940c2fe-4d9c-40ac-97e0-2c355335f3ab');\n",
              "          const dataTable =\n",
              "            await google.colab.kernel.invokeFunction('convertToInteractive',\n",
              "                                                     [key], {});\n",
              "          if (!dataTable) return;\n",
              "\n",
              "          const docLinkHtml = 'Like what you see? Visit the ' +\n",
              "            '<a target=\"_blank\" href=https://colab.research.google.com/notebooks/data_table.ipynb>data table notebook</a>'\n",
              "            + ' to learn more about interactive tables.';\n",
              "          element.innerHTML = '';\n",
              "          dataTable['output_type'] = 'display_data';\n",
              "          await google.colab.output.renderOutput(dataTable, element);\n",
              "          const docLink = document.createElement('div');\n",
              "          docLink.innerHTML = docLinkHtml;\n",
              "          element.appendChild(docLink);\n",
              "        }\n",
              "      </script>\n",
              "    </div>\n",
              "  </div>\n",
              "  "
            ]
          },
          "metadata": {},
          "execution_count": 7
        }
      ]
    },
    {
      "cell_type": "markdown",
      "metadata": {
        "id": "xNynGEGSSErW"
      },
      "source": [
        "These numbers are very large, so for our purpose it is easier to assume that there is only one person in each decile, in other words the total income is 10 times the mean income. This simplification works because, by definition, each decile has exactly the same number of people (10% of the population).\n",
        "\n",
        "We will be using the very useful `cumsum` function (short for ‘cumulative sum’) to calculate the cumulative income. To see what this function does, look at the following example: For the numbers 2, 4, 10, 22 the cumulative sum would be 2, 6, 16, 38. You can see that each number in the sequence is the sum of all the preceding numbers (including itself). For example, we got the third number, 16, by adding 2, 4, and 10.\n",
        "\n",
        "We now apply this function to calculate the cumulative income shares for China (1980) and save them as `cum_inc_share_c80`. \n",
        "\n",
        "First, we have to pick the deciles (in columns 3 to 12) in row 1 (China, 1980) and assign the result to a variable called `decs_c80`. We can use the `iloc` command to select rows and columns without typing the name of each column."
      ]
    },
    {
      "cell_type": "code",
      "metadata": {
        "id": "TuUBwAi6UVT2"
      },
      "source": [
        "decs_c80 = temp.iloc[0, 2:12]\n",
        "decs_c14 = temp.iloc[1, 2:12]\n",
        "decs_us80 = temp.iloc[2, 2:12]\n",
        "decs_us14 = temp.iloc[3, 2:12]"
      ],
      "execution_count": null,
      "outputs": []
    },
    {
      "cell_type": "markdown",
      "metadata": {
        "id": "kk7cduURUW96"
      },
      "source": [
        "There are two slightly tricky aspects here. The first is that Python starts counting at 0. That is to say, what we have referred to as \"row 1\" is actually \"row 0\" to Python. The second is that when specifying a slice (such as `2:12`), it does not include the element at the end. In this case, it means that we are asking Python to select all columns from column 2 up until (but not including) the column 12.\n",
        "\n",
        "Given the assumption we made above (assuming a population of 10), we now calculate the total income."
      ]
    },
    {
      "cell_type": "code",
      "metadata": {
        "id": "QhknGlaXVWHe"
      },
      "source": [
        "total_inc = 10 * temp.iloc[0][\"Mean Income\"]"
      ],
      "execution_count": null,
      "outputs": []
    },
    {
      "cell_type": "code",
      "source": [
        "temp.iloc[0]"
      ],
      "metadata": {
        "colab": {
          "base_uri": "https://localhost:8080/"
        },
        "id": "u9va8KdOKtJN",
        "outputId": "b2dd460c-74ae-4c5e-deee-4f82852cea9b"
      },
      "execution_count": null,
      "outputs": [
        {
          "output_type": "execute_result",
          "data": {
            "text/plain": [
              "Country                    China\n",
              "Year                        1980\n",
              "Decile 1 Income               79\n",
              "Decile 2 Income              113\n",
              "Decile 3 Income              146\n",
              "Decile 4 Income              177\n",
              "Decile 5 Income              210\n",
              "Decile 6 Income              245\n",
              "Decile 7 Income              286\n",
              "Decile 8 Income              336\n",
              "Decile 9 Income              404\n",
              "Decile 10 Income             520\n",
              "Mean Income                  252\n",
              "Population             981200000\n",
              "total_income        247262400000\n",
              "Name: 893, dtype: object"
            ]
          },
          "metadata": {},
          "execution_count": 10
        }
      ]
    },
    {
      "cell_type": "markdown",
      "metadata": {
        "id": "3Pud1daZWEjf"
      },
      "source": [
        "**Exercise:** Explain what `temp.iloc[0][\"Mean Income\"]` represents in the codeblock abbove.\n",
        "\n",
        "Finally, we can calculate the cumulative sum of income shares of China in 1980."
      ]
    },
    {
      "cell_type": "code",
      "metadata": {
        "id": "x8cSRy2MWdA2"
      },
      "source": [
        "cum_inc_share_c80 = decs_c80.cumsum() / total_inc"
      ],
      "execution_count": null,
      "outputs": []
    },
    {
      "cell_type": "markdown",
      "metadata": {
        "id": "evEQV7KkWkUL"
      },
      "source": [
        "**Exercise:** As usual, print the result to confirm."
      ]
    },
    {
      "cell_type": "code",
      "metadata": {
        "id": "FonxnW_pWtIl",
        "colab": {
          "base_uri": "https://localhost:8080/"
        },
        "outputId": "886ef022-bc86-48c7-e25e-ae05646467d8"
      },
      "source": [
        "# Solution goes here\n",
        "cum_inc_share_c80"
      ],
      "execution_count": null,
      "outputs": [
        {
          "output_type": "execute_result",
          "data": {
            "text/plain": [
              "Decile 1 Income     0.031349\n",
              "Decile 2 Income      0.07619\n",
              "Decile 3 Income     0.134127\n",
              "Decile 4 Income     0.204365\n",
              "Decile 5 Income     0.287698\n",
              "Decile 6 Income     0.384921\n",
              "Decile 7 Income     0.498413\n",
              "Decile 8 Income     0.631746\n",
              "Decile 9 Income     0.792063\n",
              "Decile 10 Income    0.998413\n",
              "Name: 893, dtype: object"
            ]
          },
          "metadata": {},
          "execution_count": 12
        }
      ]
    },
    {
      "cell_type": "markdown",
      "metadata": {
        "id": "Hqwo63VcWt8R"
      },
      "source": [
        "**Exercise:** Repeat the same process for China in 2014 (`cum_inc_share_c14`) and for the US in 1980 and 2014 (`cum_inc_share_us80` and `cum_inc_share_us14` respectively)."
      ]
    },
    {
      "cell_type": "code",
      "metadata": {
        "id": "RImIsJNiWurR"
      },
      "source": [
        "# Solution goes here\n",
        "total_inc1 = 10 * temp.iloc[1][\"Mean Income\"]\n",
        "total_inc2 = 10 * temp.iloc[2][\"Mean Income\"]\n",
        "total_inc3 = 10 * temp.iloc[3][\"Mean Income\"]\n",
        "cum_inc_share_c14 = temp.iloc[1, 2:12].cumsum() / total_inc1\n",
        "cum_inc_share_us80 = temp.iloc[2, 2:12].cumsum() / total_inc2\n",
        "cum_inc_share_us14 = temp.iloc[3, 2:12].cumsum() / total_inc3"
      ],
      "execution_count": null,
      "outputs": []
    },
    {
      "cell_type": "markdown",
      "metadata": {
        "id": "DwTPXvLnPpei"
      },
      "source": [
        "## Drawing Lorenz curves\n",
        "\n",
        "We can now work with this data.\n",
        "\n",
        "**Exercise:** Plot the cumulative income shares for China (1980), which we previously stored in the variable `cum_inc_share_c80`. As before, the `plot` function from the `pyplot` package (which we refer to as `plt`) makes the basic chart. You should also specify `color = \"blue\"`, `linestyle = \"dashed\"`, and `label = \"China, 1980\"`. Also make sure to label your axes and chart appropriately."
      ]
    },
    {
      "cell_type": "code",
      "metadata": {
        "id": "xOGBdSR8P0mj",
        "colab": {
          "base_uri": "https://localhost:8080/",
          "height": 489
        },
        "outputId": "ab77fce0-f079-4a80-ac89-199ab49a393e"
      },
      "source": [
        "# Solution goes here\n",
        "\n",
        "plt.xlabel(\"Deciles\")\n",
        "plt.ylabel(\"Percentage of cumulative income\")\n",
        "\n",
        "\n",
        "plt.title(\"Cumulative income shares for China (1980)\")\n",
        "x =  np.arange(0, 1, 0.1)\n",
        "plt.plot(x, cum_inc_share_c80, color = \"c\", linestyle = \"dashed\", label = \"China, 1980\")\n",
        "plt.plot([0, 9], [0.1, 1])"
      ],
      "execution_count": null,
      "outputs": [
        {
          "output_type": "execute_result",
          "data": {
            "text/plain": [
              "[<matplotlib.lines.Line2D at 0x7f637afebc10>]"
            ]
          },
          "metadata": {},
          "execution_count": 17
        },
        {
          "output_type": "display_data",
          "data": {
            "text/plain": [
              "<Figure size 640x480 with 1 Axes>"
            ],
            "image/png": "[encoded data removed]"
          },
          "metadata": {}
        }
      ]
    },
    {
      "cell_type": "markdown",
      "metadata": {
        "id": "p7eT9NyLcRHd"
      },
      "source": [
        "This is the Lorenz curve. You can also add the perfect equality line by adding the following code to the code block above: `plt.plot([0, 9], [0.1, 1])`\n",
        "\n",
        "**Exercise:** Add the other Lorenz curves to the chart. Use the dashed style for the data from 1980, add an appropriate label, and choose a different color for each curve. You can read more about the different colors available in the [matplotlib documentation](https://matplotlib.org/stable/api/_as_gen/matplotlib.pyplot.plot.html)."
      ]
    },
    {
      "cell_type": "code",
      "metadata": {
        "id": "YpYjAuDLeR5w"
      },
      "source": [
        "# Solution goes here\n"
      ],
      "execution_count": null,
      "outputs": []
    },
    {
      "cell_type": "markdown",
      "metadata": {
        "id": "BCxSwKVCzPPb"
      },
      "source": [
        "As the chart shows, the income distribution has changed more clearly for China than for the US.\n",
        "\n",
        "Finally, it is good practice to add a legend to your graph. We use the `legend` function from the `pyplot` package to do so. You can also specify the desired location of your legend. In this case, we choose `loc = \"upper left\"`. You can read more about the different locations available in the [matplotlib documentation](https://matplotlib.org/stable/api/_as_gen/matplotlib.pyplot.legend.html).\n",
        "\n",
        "**Exercise:** Add the legend to the previous codeblock above.\n",
        "\n",
        "## Calculating Gini coefficients\n",
        "\n",
        "A rough way to compare income distributions is to use a summary measure such as the Gini coefficient. The Gini coefficient ranges from 0 (complete equality) to 1 (complete inequality). It is calculated by dividing the area between the Lorenz curve and the perfect equality line, by the total area underneath the perfect equality line. \n",
        "\n",
        "For the perfect equality line, if income was shared equally across the population, the bottom 10% of people would have 10% of the total income, the bottom 20% would have 20% of the total income, and so on. Intuitively, the further away the Lorenz curve is from the perfect equality line, the more unequal the income distribution is, and the higher the Gini coefficient will be.\n",
        "\n",
        "We will now calculate the Gini coefficient for each of the Lorenz curves. In the end, you should have four coefficients in total.\n",
        "\n",
        "You could calculate the Gini coefficient manually (by decomposing the area under the Lorenz curve into rectangles and triangles), but as with so many problems, someone else has already figured out how to do that and has provided Python users with a package (called `inequalipy`, although we will abbreviate it as `ineq`) that does this task for you. The function that calculates Gini coefficients is called `gini`, and we apply it to the income deciles from before (`decs_c80`, `decs_c14`, `decs_us80`, and `decs_us14`)."
      ]
    },
    {
      "cell_type": "code",
      "metadata": {
        "id": "hLXDPsRjzOH7",
        "colab": {
          "base_uri": "https://localhost:8080/"
        },
        "outputId": "fd8331a3-2eee-4bfd-fa9a-a98de01ff8d0"
      },
      "source": [
        "!pip install inequalipy\n",
        "import inequalipy as ineq"
      ],
      "execution_count": null,
      "outputs": [
        {
          "output_type": "stream",
          "name": "stdout",
          "text": [
            "Looking in indexes: https://pypi.org/simple, https://us-python.pkg.dev/colab-wheels/public/simple/\n",
            "Collecting inequalipy\n",
            "  Downloading inequalipy-1.0.5-py3-none-any.whl (22 kB)\n",
            "Requirement already satisfied: numpy in /usr/local/lib/python3.9/dist-packages (from inequalipy) (1.22.4)\n",
            "Installing collected packages: inequalipy\n",
            "Successfully installed inequalipy-1.0.5\n"
          ]
        }
      ]
    },
    {
      "cell_type": "markdown",
      "metadata": {
        "id": "7Kh9-tgE3e33"
      },
      "source": [
        "The first command in the codeblock above is needed to install `inequalipy` as Google Colab does not include it (unlike, for instance, `matplotlib` or `pandas`) by default.\n",
        "\n",
        "We can now calculate the Gini coefficent as follows:"
      ]
    },
    {
      "cell_type": "code",
      "metadata": {
        "id": "sgxbK50h3o3p",
        "colab": {
          "base_uri": "https://localhost:8080/"
        },
        "outputId": "7663b2e4-cd06-4fe4-ff49-d7faccf63b15"
      },
      "source": [
        "ineq.gini(decs_c80)"
      ],
      "execution_count": null,
      "outputs": [
        {
          "output_type": "execute_result",
          "data": {
            "text/plain": [
              "0.2908585055643879"
            ]
          },
          "metadata": {},
          "execution_count": 19
        }
      ]
    },
    {
      "cell_type": "markdown",
      "metadata": {
        "id": "XS9new4y3uyw"
      },
      "source": [
        "**Exercise:** Calculate the Gini coefficients for the remaining income deciles (`decs_c14`, `decs_us80`, and `decs_us14`). Check that the coefficients are consistent with what you see in your charts."
      ]
    },
    {
      "cell_type": "code",
      "metadata": {
        "id": "wN8dd4AS4MeS",
        "colab": {
          "base_uri": "https://localhost:8080/"
        },
        "outputId": "7005f1ac-1a15-438a-b189-63925470bc27"
      },
      "source": [
        "# Solution goes here\n",
        "ineq.gini(decs_c14)"
      ],
      "execution_count": null,
      "outputs": [
        {
          "output_type": "execute_result",
          "data": {
            "text/plain": [
              "0.5107187816001816"
            ]
          },
          "metadata": {},
          "execution_count": 22
        }
      ]
    },
    {
      "cell_type": "code",
      "source": [
        "ineq.gini(decs_us80)\n"
      ],
      "metadata": {
        "colab": {
          "base_uri": "https://localhost:8080/"
        },
        "id": "i0-tBR2XI3J8",
        "outputId": "690888a2-f7f7-4a37-e98a-674636ca1d40"
      },
      "execution_count": null,
      "outputs": [
        {
          "output_type": "execute_result",
          "data": {
            "text/plain": [
              "0.34479944927008044"
            ]
          },
          "metadata": {},
          "execution_count": 23
        }
      ]
    },
    {
      "cell_type": "code",
      "source": [
        "ineq.gini(decs_us14)"
      ],
      "metadata": {
        "id": "KCtl4Y3AI4so",
        "outputId": "614f8a8a-e0c5-487f-faeb-f980e6aba0fc",
        "colab": {
          "base_uri": "https://localhost:8080/"
        }
      },
      "execution_count": null,
      "outputs": [
        {
          "output_type": "execute_result",
          "data": {
            "text/plain": [
              "0.3999496834039925"
            ]
          },
          "metadata": {},
          "execution_count": 24
        }
      ]
    },
    {
      "cell_type": "markdown",
      "metadata": {
        "id": "sMXib4Yc4N3_"
      },
      "source": [
        "As we can see, the Gini coefficients for both countries have increased, confirming what we already saw from the Lorenz curves that in both countries the income distribution has become more unequal."
      ]
    }
  ]
}